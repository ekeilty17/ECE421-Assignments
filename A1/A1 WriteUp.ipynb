{
 "cells": [
  {
   "cell_type": "code",
   "execution_count": 11,
   "metadata": {},
   "outputs": [],
   "source": [
    "# ignore all future warnings\n",
    "from warnings import simplefilter\n",
    "simplefilter(action='ignore', category=FutureWarning)"
   ]
  },
  {
   "cell_type": "code",
   "execution_count": 12,
   "metadata": {},
   "outputs": [],
   "source": [
    "# imports\n",
    "import tensorflow as tf\n",
    "import numpy as np\n",
    "import matplotlib.pyplot as plt"
   ]
  },
  {
   "cell_type": "code",
   "execution_count": 13,
   "metadata": {},
   "outputs": [],
   "source": [
    "# given by the assignment\n",
    "def loadData():\n",
    "    with np.load('notMNIST.npz') as data :\n",
    "        Data, Target = data['images'], data['labels']\n",
    "        posClass = 2\n",
    "        negClass = 9\n",
    "        dataIndx = (Target==posClass) + (Target==negClass)\n",
    "        Data = Data[dataIndx]/255.\n",
    "        Target = Target[dataIndx].reshape(-1, 1)\n",
    "        Target[Target==posClass] = 1\n",
    "        Target[Target==negClass] = 0\n",
    "        np.random.seed(421)\n",
    "        randIndx = np.arange(len(Data))\n",
    "        np.random.shuffle(randIndx)\n",
    "        Data, Target = Data[randIndx], Target[randIndx]\n",
    "        trainData, trainTarget = Data[:3500], Target[:3500]\n",
    "        validData, validTarget = Data[3500:3600], Target[3500:3600]\n",
    "        testData, testTarget = Data[3600:], Target[3600:]\n",
    "    return trainData, validData, testData, trainTarget, validTarget, testTarget"
   ]
  },
  {
   "cell_type": "markdown",
   "metadata": {},
   "source": [
    "# 0 Visualizing Dataset\n",
    "\n",
    "It's always important to visualize the dataset to gain and understanding of what the model is trying to accomplish. This can help in the debugging phase. The shape of each data set is printed out as well as a random sample of the training data is plotted."
   ]
  },
  {
   "cell_type": "code",
   "execution_count": 14,
   "metadata": {},
   "outputs": [
    {
     "name": "stdout",
     "output_type": "stream",
     "text": "Training Data: (3500, 28, 28)\tTraining tagets: (3500, 1)\nValidation Data: (100, 28, 28)\tValidation tagets: (100, 1)\nTesting Data: (145, 28, 28)\tTesting tagets:(145, 1)\n"
    }
   ],
   "source": [
    "trainData, validData, testData, trainTarget, validTarget, testTarget = loadData()\n",
    "print(f\"Training Data: {trainData.shape}\\tTraining tagets: {trainTarget.shape}\")\n",
    "print(f\"Validation Data: {validData.shape}\\tValidation tagets: {validTarget.shape}\")\n",
    "print(f\"Testing Data: {testData.shape}\\tTesting tagets:{testTarget.shape}\")"
   ]
  },
  {
   "cell_type": "code",
   "execution_count": 15,
   "metadata": {},
   "outputs": [],
   "source": [
    "def plot(image, target, ax=None):\n",
    "    ax = plt.gca() if ax == None else ax\n",
    "    ax.imshow(image, cmap=\"hot\")\n",
    "    ax.set_title('J' if target == 0 else 'C')\n",
    "    # targets are binary encoded 0 == 'J' and 1 == 'C'"
   ]
  },
  {
   "cell_type": "code",
   "execution_count": 16,
   "metadata": {},
   "outputs": [
    {
     "data": {
      "image/png": "[encoded data removed]",
      "image/svg+xml": "<?xml version=\"1.0\" encoding=\"utf-8\" standalone=\"no\"?>\n<!DOCTYPE svg PUBLIC \"-//W3C//DTD SVG 1.1//EN\"\n  \"http://www.w3.org/Graphics/SVG/1.1/DTD/svg11.dtd\">\n<!-- Created with matplotlib (https://matplotlib.org/) -->\n<svg height=\"317.99625pt\" version=\"1.1\" viewBox=\"0 0 896.53942 317.99625\" width=\"896.53942pt\" xmlns=\"http://www.w3.org/2000/svg\" xmlns:xlink=\"http://www.w3.org/1999/xlink\">\n <defs>\n  <style type=\"text/css\">\n*{stroke-linecap:butt;stroke-linejoin:round;}\n  </style>\n </defs>\n <g id=\"figure_1\">\n  <g id=\"patch_1\">\n   <path d=\"M 0 317.99625 \nL 896.53942 317.99625 \nL 896.53942 0 \nL 0 0 \nz\n\" style=\"fill:none;\"/>\n  </g>\n  <g id=\"axes_1\">\n   <g id=\"patch_2\">\n    <path d=\"M 26.925 145.86358 \nL 150.470455 145.86358 \nL 150.470455 22.318125 \nL 26.925 22.318125 \nz\n\" style=\"fill:#ffffff;\"/>\n   </g>\n   <g clip-path=\"url(#pfc89e85f78)\">\n    <image height=\"124\" id=\"image3d5c91c810\" transform=\"scale(1 -1)translate(0 -124)\" width=\"124\" x=\"26.925\" xlink:href=\"data:image/png;base64,\niVBORw0KGgoAAAANSUhEUgAAAHwAAAB8CAYAAACrHtS+AAAABHNCSVQICAgIfAhkiAAAA2NJREFUeJztnb1rFFEUR2c0gZDVWhshgqCohTaWFmJjERAbESuNlhYqCBY2YicG9A8ICCJ2opW1vRDRRmwsLEUsFEI+HFvnzoUdZOdtzDmn+03ufO3Zx7u8mbD1oapqqr84U3VZDnl0Lym6EvLBU0nR1ZCPhbyQ7LMn5I9JzbuQ73dLVr634pel9p8vJEf9FPLupGZXyBtJzXYiXq/scBQOQ+Ew6uZ1ew6vFpukbDPkmcEuaDjG3cOd7i4HHrbi6Gu3JJvXI1s9akrhCIehcBgKh6FwGPXLsPByvrmblO0L+UdSMxdyn8Yu1mT7LIR8uEdNdpy1kGMTF68/Oc5q3ak4cbKdPydHiY3dNJs4RzgMhcNQOIx6Pszh2UzWZ3FhEmTfviMhH01qzoW8+CgpuvUsbLgccpzjq6rbq+zvlrxoz+ujS92ScZ9fyTndEQ5D4TAUDkPhMOq9oWnbTk92+jIbcvbWycWQV5obYcuTZK+fPc7efiPned1dnLkecp/rHQpHOAyFw1A4jM7CS6lFln8l+4bGa84Wj+ISyq84ka5nb/pEsjk9vFW73J3DR7fb2TlciqFwGAqHoXAYnaZtJ5A1nnFB6WzIr5oPyV7HQ+7RtG0mTVvo0mJTmT2nGwpHOAyFw1A4jP/xf4bG0ucB0PvOlj4PSnowczrZ+HYyx54AjnAYCoehcBg7cg7vw3APLLb34ydHOAyFw1A4DIXDUDgMhcNQOAyFw1A4DIXDUDgMhcNQOAyFw1A4DIXDUDgMhcNQOAyFw1A4DIXDUDgMhcNQOAyFw1A4DIXDUDgMhcNQOAyFw1A4DIXDUDgMhcNQOAyFw1A4DIXDUDgMhcNQOAyFw1A4DIXDUDgMhcNQOAyFw1A4DIXDUDgMhcNQOAyFw1A4DIXDUDgMhcNQOIyp/rpwyd/h3Qp5mt/0eN8lPwdHOAyFw1A4DIXDmGrTFhupkvye4rnjfZf8HBzhMBQOQ+Ewis7hcYFhruC510OeL3juSDy3Cy8yGAqHoXAYCodRz1dVM4kDzYa8kdRcC/lx8yZsWU32Gqq1i/3q0oTO/S3Z9nTMucvhCIehcBgKh1F0Dr8Z8oMmnnot2avk8szOxxEOQ+EwFA5D4TCKrgCMf7Mja9pKMWRzOM37auMIh6FwGAqH8QcKRFuWnBn4qwAAAABJRU5ErkJggg==\" y=\"-21.86358\"/>\n   </g>\n   <g id=\"matplotlib.axis_1\">\n    <g id=\"xtick_1\">\n     <g id=\"line2d_1\">\n      <defs>\n       <path d=\"M 0 0 \nL 0 3.5 \n\" id=\"m8e1c1ebfed\" style=\"stroke:#000000;stroke-width:0.8;\"/>\n      </defs>\n      <g>\n       <use style=\"stroke:#000000;stroke-width:0.8;\" x=\"29.131169\" xlink:href=\"#m8e1c1ebfed\" y=\"145.86358\"/>\n      </g>\n     </g>\n     <g id=\"text_1\">\n      <!-- 0 -->\n      <defs>\n       <path d=\"M 31.78125 66.40625 \nQ 24.171875 66.40625 20.328125 58.90625 \nQ 16.5 51.421875 16.5 36.375 \nQ 16.5 21.390625 20.328125 13.890625 \nQ 24.171875 6.390625 31.78125 6.390625 \nQ 39.453125 6.390625 43.28125 13.890625 \nQ 47.125 21.390625 47.125 36.375 \nQ 47.125 51.421875 43.28125 58.90625 \nQ 39.453125 66.40625 31.78125 66.40625 \nz\nM 31.78125 74.21875 \nQ 44.046875 74.21875 50.515625 64.515625 \nQ 56.984375 54.828125 56.984375 36.375 \nQ 56.984375 17.96875 50.515625 8.265625 \nQ 44.046875 -1.421875 31.78125 -1.421875 \nQ 19.53125 -1.421875 13.0625 8.265625 \nQ 6.59375 17.96875 6.59375 36.375 \nQ 6.59375 54.828125 13.0625 64.515625 \nQ 19.53125 74.21875 31.78125 74.21875 \nz\n\" id=\"DejaVuSans-48\"/>\n      </defs>\n      <g transform=\"translate(25.949919 160.462017)scale(0.1 -0.1)\">\n       <use xlink:href=\"#DejaVuSans-48\"/>\n      </g>\n     </g>\n    </g>\n    <g id=\"xtick_2\">\n     <g id=\"line2d_2\">\n      <g>\n       <use style=\"stroke:#000000;stroke-width:0.8;\" x=\"73.254545\" xlink:href=\"#m8e1c1ebfed\" y=\"145.86358\"/>\n      </g>\n     </g>\n     <g id=\"text_2\">\n      <!-- 10 -->\n      <defs>\n       <path d=\"M 12.40625 8.296875 \nL 28.515625 8.296875 \nL 28.515625 63.921875 \nL 10.984375 60.40625 \nL 10.984375 69.390625 \nL 28.421875 72.90625 \nL 38.28125 72.90625 \nL 38.28125 8.296875 \nL 54.390625 8.296875 \nL 54.390625 0 \nL 12.40625 0 \nz\n\" id=\"DejaVuSans-49\"/>\n      </defs>\n      <g transform=\"translate(66.892045 160.462017)scale(0.1 -0.1)\">\n       <use xlink:href=\"#DejaVuSans-49\"/>\n       <use x=\"63.623047\" xlink:href=\"#DejaVuSans-48\"/>\n      </g>\n     </g>\n    </g>\n    <g id=\"xtick_3\">\n     <g id=\"line2d_3\">\n      <g>\n       <use style=\"stroke:#000000;stroke-width:0.8;\" x=\"117.377922\" xlink:href=\"#m8e1c1ebfed\" y=\"145.86358\"/>\n      </g>\n     </g>\n     <g id=\"text_3\">\n      <!-- 20 -->\n      <defs>\n       <path d=\"M 19.1875 8.296875 \nL 53.609375 8.296875 \nL 53.609375 0 \nL 7.328125 0 \nL 7.328125 8.296875 \nQ 12.9375 14.109375 22.625 23.890625 \nQ 32.328125 33.6875 34.8125 36.53125 \nQ 39.546875 41.84375 41.421875 45.53125 \nQ 43.3125 49.21875 43.3125 52.78125 \nQ 43.3125 58.59375 39.234375 62.25 \nQ 35.15625 65.921875 28.609375 65.921875 \nQ 23.96875 65.921875 18.8125 64.3125 \nQ 13.671875 62.703125 7.8125 59.421875 \nL 7.8125 69.390625 \nQ 13.765625 71.78125 18.9375 73 \nQ 24.125 74.21875 28.421875 74.21875 \nQ 39.75 74.21875 46.484375 68.546875 \nQ 53.21875 62.890625 53.21875 53.421875 \nQ 53.21875 48.921875 51.53125 44.890625 \nQ 49.859375 40.875 45.40625 35.40625 \nQ 44.1875 33.984375 37.640625 27.21875 \nQ 31.109375 20.453125 19.1875 8.296875 \nz\n\" id=\"DejaVuSans-50\"/>\n      </defs>\n      <g transform=\"translate(111.015422 160.462017)scale(0.1 -0.1)\">\n       <use xlink:href=\"#DejaVuSans-50\"/>\n       <use x=\"63.623047\" xlink:href=\"#DejaVuSans-48\"/>\n      </g>\n     </g>\n    </g>\n   </g>\n   <g id=\"matplotlib.axis_2\">\n    <g id=\"ytick_1\">\n     <g id=\"line2d_4\">\n      <defs>\n       <path d=\"M 0 0 \nL -3.5 0 \n\" id=\"mf3c341da56\" style=\"stroke:#000000;stroke-width:0.8;\"/>\n      </defs>\n      <g>\n       <use style=\"stroke:#000000;stroke-width:0.8;\" x=\"26.925\" xlink:href=\"#mf3c341da56\" y=\"24.524294\"/>\n      </g>\n     </g>\n     <g id=\"text_4\">\n      <!-- 0 -->\n      <g transform=\"translate(13.5625 28.323513)scale(0.1 -0.1)\">\n       <use xlink:href=\"#DejaVuSans-48\"/>\n      </g>\n     </g>\n    </g>\n    <g id=\"ytick_2\">\n     <g id=\"line2d_5\">\n      <g>\n       <use style=\"stroke:#000000;stroke-width:0.8;\" x=\"26.925\" xlink:href=\"#mf3c341da56\" y=\"46.585982\"/>\n      </g>\n     </g>\n     <g id=\"text_5\">\n      <!-- 5 -->\n      <defs>\n       <path d=\"M 10.796875 72.90625 \nL 49.515625 72.90625 \nL 49.515625 64.59375 \nL 19.828125 64.59375 \nL 19.828125 46.734375 \nQ 21.96875 47.46875 24.109375 47.828125 \nQ 26.265625 48.1875 28.421875 48.1875 \nQ 40.625 48.1875 47.75 41.5 \nQ 54.890625 34.8125 54.890625 23.390625 \nQ 54.890625 11.625 47.5625 5.09375 \nQ 40.234375 -1.421875 26.90625 -1.421875 \nQ 22.3125 -1.421875 17.546875 -0.640625 \nQ 12.796875 0.140625 7.71875 1.703125 \nL 7.71875 11.625 \nQ 12.109375 9.234375 16.796875 8.0625 \nQ 21.484375 6.890625 26.703125 6.890625 \nQ 35.15625 6.890625 40.078125 11.328125 \nQ 45.015625 15.765625 45.015625 23.390625 \nQ 45.015625 31 40.078125 35.4375 \nQ 35.15625 39.890625 26.703125 39.890625 \nQ 22.75 39.890625 18.8125 39.015625 \nQ 14.890625 38.140625 10.796875 36.28125 \nz\n\" id=\"DejaVuSans-53\"/>\n      </defs>\n      <g transform=\"translate(13.5625 50.385201)scale(0.1 -0.1)\">\n       <use xlink:href=\"#DejaVuSans-53\"/>\n      </g>\n     </g>\n    </g>\n    <g id=\"ytick_3\">\n     <g id=\"line2d_6\">\n      <g>\n       <use style=\"stroke:#000000;stroke-width:0.8;\" x=\"26.925\" xlink:href=\"#mf3c341da56\" y=\"68.64767\"/>\n      </g>\n     </g>\n     <g id=\"text_6\">\n      <!-- 10 -->\n      <g transform=\"translate(7.2 72.446889)scale(0.1 -0.1)\">\n       <use xlink:href=\"#DejaVuSans-49\"/>\n       <use x=\"63.623047\" xlink:href=\"#DejaVuSans-48\"/>\n      </g>\n     </g>\n    </g>\n    <g id=\"ytick_4\">\n     <g id=\"line2d_7\">\n      <g>\n       <use style=\"stroke:#000000;stroke-width:0.8;\" x=\"26.925\" xlink:href=\"#mf3c341da56\" y=\"90.709359\"/>\n      </g>\n     </g>\n     <g id=\"text_7\">\n      <!-- 15 -->\n      <g transform=\"translate(7.2 94.508578)scale(0.1 -0.1)\">\n       <use xlink:href=\"#DejaVuSans-49\"/>\n       <use x=\"63.623047\" xlink:href=\"#DejaVuSans-53\"/>\n      </g>\n     </g>\n    </g>\n    <g id=\"ytick_5\">\n     <g id=\"line2d_8\">\n      <g>\n       <use style=\"stroke:#000000;stroke-width:0.8;\" x=\"26.925\" xlink:href=\"#mf3c341da56\" y=\"112.771047\"/>\n      </g>\n     </g>\n     <g id=\"text_8\">\n      <!-- 20 -->\n      <g transform=\"translate(7.2 116.570266)scale(0.1 -0.1)\">\n       <use xlink:href=\"#DejaVuSans-50\"/>\n       <use x=\"63.623047\" xlink:href=\"#DejaVuSans-48\"/>\n      </g>\n     </g>\n    </g>\n    <g id=\"ytick_6\">\n     <g id=\"line2d_9\">\n      <g>\n       <use style=\"stroke:#000000;stroke-width:0.8;\" x=\"26.925\" xlink:href=\"#mf3c341da56\" y=\"134.832735\"/>\n      </g>\n     </g>\n     <g id=\"text_9\">\n      <!-- 25 -->\n      <g transform=\"translate(7.2 138.631954)scale(0.1 -0.1)\">\n       <use xlink:href=\"#DejaVuSans-50\"/>\n       <use x=\"63.623047\" xlink:href=\"#DejaVuSans-53\"/>\n      </g>\n     </g>\n    </g>\n   </g>\n   <g id=\"patch_3\">\n    <path d=\"M 26.925 145.86358 \nL 26.925 22.318125 \n\" style=\"fill:none;stroke:#000000;stroke-linecap:square;stroke-linejoin:miter;stroke-width:0.8;\"/>\n   </g>\n   <g id=\"patch_4\">\n    <path d=\"M 150.470455 145.86358 \nL 150.470455 22.318125 \n\" style=\"fill:none;stroke:#000000;stroke-linecap:square;stroke-linejoin:miter;stroke-width:0.8;\"/>\n   </g>\n   <g id=\"patch_5\">\n    <path d=\"M 26.925 145.86358 \nL 150.470455 145.86358 \n\" style=\"fill:none;stroke:#000000;stroke-linecap:square;stroke-linejoin:miter;stroke-width:0.8;\"/>\n   </g>\n   <g id=\"patch_6\">\n    <path d=\"M 26.925 22.318125 \nL 150.470455 22.318125 \n\" style=\"fill:none;stroke:#000000;stroke-linecap:square;stroke-linejoin:miter;stroke-width:0.8;\"/>\n   </g>\n   <g id=\"text_10\">\n    <!-- J -->\n    <defs>\n     <path d=\"M 9.8125 72.90625 \nL 19.671875 72.90625 \nL 19.671875 5.078125 \nQ 19.671875 -8.109375 14.671875 -14.0625 \nQ 9.671875 -20.015625 -1.421875 -20.015625 \nL -5.171875 -20.015625 \nL -5.171875 -11.71875 \nL -2.09375 -11.71875 \nQ 4.4375 -11.71875 7.125 -8.046875 \nQ 9.8125 -4.390625 9.8125 5.078125 \nz\n\" id=\"DejaVuSans-74\"/>\n    </defs>\n    <g transform=\"translate(86.927727 16.318125)scale(0.12 -0.12)\">\n     <use xlink:href=\"#DejaVuSans-74\"/>\n    </g>\n   </g>\n  </g>\n  <g id=\"axes_2\">\n   <g id=\"patch_7\">\n    <path d=\"M 211.642241 145.86358 \nL 335.187696 145.86358 \nL 335.187696 22.318125 \nL 211.642241 22.318125 \nz\n\" style=\"fill:#ffffff;\"/>\n   </g>\n   <g clip-path=\"url(#p161486c810)\">\n    <image height=\"124\" id=\"image4d908365aa\" transform=\"scale(1 -1)translate(0 -124)\" width=\"124\" x=\"211.642241\" xlink:href=\"data:image/png;base64,\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\" y=\"-21.86358\"/>\n   </g>\n   <g id=\"matplotlib.axis_3\">\n    <g id=\"xtick_4\">\n     <g id=\"line2d_10\">\n      <g>\n       <use style=\"stroke:#000000;stroke-width:0.8;\" x=\"213.84841\" xlink:href=\"#m8e1c1ebfed\" y=\"145.86358\"/>\n      </g>\n     </g>\n     <g id=\"text_11\">\n      <!-- 0 -->\n      <g transform=\"translate(210.66716 160.462017)scale(0.1 -0.1)\">\n       <use xlink:href=\"#DejaVuSans-48\"/>\n      </g>\n     </g>\n    </g>\n    <g id=\"xtick_5\">\n     <g id=\"line2d_11\">\n      <g>\n       <use style=\"stroke:#000000;stroke-width:0.8;\" x=\"257.971787\" xlink:href=\"#m8e1c1ebfed\" y=\"145.86358\"/>\n      </g>\n     </g>\n     <g id=\"text_12\">\n      <!-- 10 -->\n      <g transform=\"translate(251.609287 160.462017)scale(0.1 -0.1)\">\n       <use xlink:href=\"#DejaVuSans-49\"/>\n       <use x=\"63.623047\" xlink:href=\"#DejaVuSans-48\"/>\n      </g>\n     </g>\n    </g>\n    <g id=\"xtick_6\">\n     <g id=\"line2d_12\">\n      <g>\n       <use style=\"stroke:#000000;stroke-width:0.8;\" x=\"302.095163\" xlink:href=\"#m8e1c1ebfed\" y=\"145.86358\"/>\n      </g>\n     </g>\n     <g id=\"text_13\">\n      <!-- 20 -->\n      <g transform=\"translate(295.732663 160.462017)scale(0.1 -0.1)\">\n       <use xlink:href=\"#DejaVuSans-50\"/>\n       <use x=\"63.623047\" xlink:href=\"#DejaVuSans-48\"/>\n      </g>\n     </g>\n    </g>\n   </g>\n   <g id=\"matplotlib.axis_4\">\n    <g id=\"ytick_7\">\n     <g id=\"line2d_13\">\n      <g>\n       <use style=\"stroke:#000000;stroke-width:0.8;\" x=\"211.642241\" xlink:href=\"#mf3c341da56\" y=\"24.524294\"/>\n      </g>\n     </g>\n     <g id=\"text_14\">\n      <!-- 0 -->\n      <g transform=\"translate(198.279741 28.323513)scale(0.1 -0.1)\">\n       <use xlink:href=\"#DejaVuSans-48\"/>\n      </g>\n     </g>\n    </g>\n    <g id=\"ytick_8\">\n     <g id=\"line2d_14\">\n      <g>\n       <use style=\"stroke:#000000;stroke-width:0.8;\" x=\"211.642241\" xlink:href=\"#mf3c341da56\" y=\"46.585982\"/>\n      </g>\n     </g>\n     <g id=\"text_15\">\n      <!-- 5 -->\n      <g transform=\"translate(198.279741 50.385201)scale(0.1 -0.1)\">\n       <use xlink:href=\"#DejaVuSans-53\"/>\n      </g>\n     </g>\n    </g>\n    <g id=\"ytick_9\">\n     <g id=\"line2d_15\">\n      <g>\n       <use style=\"stroke:#000000;stroke-width:0.8;\" x=\"211.642241\" xlink:href=\"#mf3c341da56\" y=\"68.64767\"/>\n      </g>\n     </g>\n     <g id=\"text_16\">\n      <!-- 10 -->\n      <g transform=\"translate(191.917241 72.446889)scale(0.1 -0.1)\">\n       <use xlink:href=\"#DejaVuSans-49\"/>\n       <use x=\"63.623047\" xlink:href=\"#DejaVuSans-48\"/>\n      </g>\n     </g>\n    </g>\n    <g id=\"ytick_10\">\n     <g id=\"line2d_16\">\n      <g>\n       <use style=\"stroke:#000000;stroke-width:0.8;\" x=\"211.642241\" xlink:href=\"#mf3c341da56\" y=\"90.709359\"/>\n      </g>\n     </g>\n     <g id=\"text_17\">\n      <!-- 15 -->\n      <g transform=\"translate(191.917241 94.508578)scale(0.1 -0.1)\">\n       <use xlink:href=\"#DejaVuSans-49\"/>\n       <use x=\"63.623047\" xlink:href=\"#DejaVuSans-53\"/>\n      </g>\n     </g>\n    </g>\n    <g id=\"ytick_11\">\n     <g id=\"line2d_17\">\n      <g>\n       <use style=\"stroke:#000000;stroke-width:0.8;\" x=\"211.642241\" xlink:href=\"#mf3c341da56\" y=\"112.771047\"/>\n      </g>\n     </g>\n     <g id=\"text_18\">\n      <!-- 20 -->\n      <g transform=\"translate(191.917241 116.570266)scale(0.1 -0.1)\">\n       <use xlink:href=\"#DejaVuSans-50\"/>\n       <use x=\"63.623047\" xlink:href=\"#DejaVuSans-48\"/>\n      </g>\n     </g>\n    </g>\n    <g id=\"ytick_12\">\n     <g id=\"line2d_18\">\n      <g>\n       <use style=\"stroke:#000000;stroke-width:0.8;\" x=\"211.642241\" xlink:href=\"#mf3c341da56\" y=\"134.832735\"/>\n      </g>\n     </g>\n     <g id=\"text_19\">\n      <!-- 25 -->\n      <g transform=\"translate(191.917241 138.631954)scale(0.1 -0.1)\">\n       <use xlink:href=\"#DejaVuSans-50\"/>\n       <use x=\"63.623047\" xlink:href=\"#DejaVuSans-53\"/>\n      </g>\n     </g>\n    </g>\n   </g>\n   <g id=\"patch_8\">\n    <path d=\"M 211.642241 145.86358 \nL 211.642241 22.318125 \n\" style=\"fill:none;stroke:#000000;stroke-linecap:square;stroke-linejoin:miter;stroke-width:0.8;\"/>\n   </g>\n   <g id=\"patch_9\">\n    <path d=\"M 335.187696 145.86358 \nL 335.187696 22.318125 \n\" style=\"fill:none;stroke:#000000;stroke-linecap:square;stroke-linejoin:miter;stroke-width:0.8;\"/>\n   </g>\n   <g id=\"patch_10\">\n    <path d=\"M 211.642241 145.86358 \nL 335.187696 145.86358 \n\" style=\"fill:none;stroke:#000000;stroke-linecap:square;stroke-linejoin:miter;stroke-width:0.8;\"/>\n   </g>\n   <g id=\"patch_11\">\n    <path d=\"M 211.642241 22.318125 \nL 335.187696 22.318125 \n\" style=\"fill:none;stroke:#000000;stroke-linecap:square;stroke-linejoin:miter;stroke-width:0.8;\"/>\n   </g>\n   <g id=\"text_20\">\n    <!-- C -->\n    <defs>\n     <path d=\"M 64.40625 67.28125 \nL 64.40625 56.890625 \nQ 59.421875 61.53125 53.78125 63.8125 \nQ 48.140625 66.109375 41.796875 66.109375 \nQ 29.296875 66.109375 22.65625 58.46875 \nQ 16.015625 50.828125 16.015625 36.375 \nQ 16.015625 21.96875 22.65625 14.328125 \nQ 29.296875 6.6875 41.796875 6.6875 \nQ 48.140625 6.6875 53.78125 8.984375 \nQ 59.421875 11.28125 64.40625 15.921875 \nL 64.40625 5.609375 \nQ 59.234375 2.09375 53.4375 0.328125 \nQ 47.65625 -1.421875 41.21875 -1.421875 \nQ 24.65625 -1.421875 15.125 8.703125 \nQ 5.609375 18.84375 5.609375 36.375 \nQ 5.609375 53.953125 15.125 64.078125 \nQ 24.65625 74.21875 41.21875 74.21875 \nQ 47.75 74.21875 53.53125 72.484375 \nQ 59.328125 70.75 64.40625 67.28125 \nz\n\" id=\"DejaVuSans-67\"/>\n    </defs>\n    <g transform=\"translate(269.225281 16.318125)scale(0.12 -0.12)\">\n     <use xlink:href=\"#DejaVuSans-67\"/>\n    </g>\n   </g>\n  </g>\n  <g id=\"axes_3\">\n   <g id=\"patch_12\">\n    <path d=\"M 396.359483 145.86358 \nL 519.904937 145.86358 \nL 519.904937 22.318125 \nL 396.359483 22.318125 \nz\n\" style=\"fill:#ffffff;\"/>\n   </g>\n   <g clip-path=\"url(#pc55d41f84e)\">\n    <image height=\"124\" id=\"image7f353b98ae\" transform=\"scale(1 -1)translate(0 -124)\" width=\"124\" x=\"396.359483\" xlink:href=\"data:image/png;base64,\niVBORw0KGgoAAAANSUhEUgAAAHwAAAB8CAYAAACrHtS+AAAABHNCSVQICAgIfAhkiAAABtlJREFUeJztnVuolUUcxf9fncw8pVF2EtMIK7oRFCZJFpVSCGEpkSWBPRQSRBhiSg/e4kCRRBkRiOJLEXR5qIyigoOIUnYsLLvYxbKbmVh025Gny9dDL82aVd+023rStX5va85/vr3di2H+/me+mWpYRB37iUNB/1bQZwbohSSmD/TTJGYN6JNmQcMI0mlDKp97Kw9ZAXoTecwvpO2vHEba8Lf6ueEZpRzSoeeYAwQbLoYNF6PaV3P4UNKG89Bi0As/JJ1OfhkaJpKgPaBfIzFTQHeRmHZ4DPTsPOSJgUS+PTP98yTyVJz32e+JMSU5kUe4GDZcDBsuhg0Xo2NJGyYVrFBwPui+eim0LCG9fm3j23QqIesU+G/A73dC1uOlameip5OnYsHmdxKDiZxHuBg2XAwbLkZbczgr9mMR4DgSs+N5aJiKH72L9BpZ8I1K5uxvQV+VyjfX511Gge7BpZyIiBtBs1WY80CzMkoDy6usaeyCVH9DuqFXHuFi2HAxbLgYNlyMoqStpKgyGfTaehyJ2g76R9BHkj74aSzhgRWr3uuyiGWLUn0f/L1pV0pERDdpOx70USQGVwWnYoWkYhZgAosZZER8mSZyZ43OQ3aA9ggXw4aLYcPFyObwkp0qN5CYh+pboeUBEoXFj6NB45wekc3rd5ACxN2pZgWIJlgxCafakh0luNuU9cNcYPe9pNM8nNc/J0FjUvlq/tsMhxUrj3AxbLgYNlwMGy5GNQKSNlaAuBb0mixBi8iTNEzQIpqTNFZ4SUsbPdXuLKIFmhVIMHFqZ4svS8hKwER4ADT7zVtFxRn8jfPfr79K01GPcDFsuBg2XIys8HImCeqvp0HLMySqqagS0bx7M2djlRYTLicxuGDxQ+NTB5eS79vCStAAm8OxGDMmD5mQ/n4e4WLYcDFsuBjZHN7CTZgREatx/ij5P3YbDM2L/917U12yY/ZAo2TBpfU4CbqmYMPxEM/h0thwMWy4GDZcjK7TsGV1b0E3tsiBsL2tuIyQ7nXtgQSNwV6JVeDsmXnb1jcgyf0sjxkLGa1HuBg2XAwbLka1GQov42tWxmjnCI2C4syqdA7qnpP3KHnr5WCkZLNFyaYNxCNcDBsuhg0Xw4aL0TX+0qyJhJXsLm2DZ5tDcHVMJWnDhIwlcWzlEMFClUe4GDZcDBsuRleM3XePbuSj5hDVxRKEFVlceDGN2HAxbLgYNlyMrninLKydRzfxNbnpD2knMTF/j0e4GDZcDBsuRlf/5rRhQtFuUwa+Csz6bEkUOzgE8RzeWTzCxbDhYthwMapzYdfq6/UiEnYnaHZ5XMkcnr7nMrx6P9FsvsaFf8/p/w2PcDFsuBg2XAwbLkZ+xsvVJOpJPEuEHWSPiyUsabsyUaOqtYlm55U5aessHuFi2HAxbLgY2RyOF85FRKyt+6EFb8uNKLtQLi3OrIKzvG8jPfDtigP9TLZSMHdhv2bJueuIR7gYNlwMGy6GDRej6JKbFr7We0XJhSsMOOPlYTjjZXbew2e8/EmnCk4e4WLYcDFsuBhFc/gC0Evqd0nU6aBLdr+uS9S0Kjt/JPpAlxwmfzBwKugtI/KY3u9SfRd5Dv5eHuFi2HAxbLgYNlyMbLWMrcpg+tWaRYIeLbn5CHfFwHlvc8mtRnBpMd7qFxHxE+j/exJXUkxq3QIND7Ji18pEXVLdnEXgOqdHuBg2XAwbLkY2h5cUNtg8uqvugZavSFTJDcQpLbhdGD8lIp8T2Rw+mOe9DQONu3OXkT7z64+hhdwcnO0gOiKLwF1EHuFi2HAxbLgY2RzOKNk5OgP0I/XtJOoe0DinF5zDflF+Snj3hlQP5gJLyWfj8bbb6hNJr09AN18a9GmV1zHOAO0RLoYNF8OGi2HDxShK2pCSBZb5JGZZfT+0zAW9p+DTSGL3fZqs9JLdIbgbBJ/KEtGSi2awCDWOxGBhZTJWgSpmAfstkJGpvJgsPq1PtUe4GDZcDBsuRltzOKNkUf8m0CvqC6BlI+mFBQd2RhzMZcEOYp8HugWaHWOC8yhb7JkCeiaJuZC0/VuadwFvJYWXiaA9wsWw4WLYcDFsuBgdS9oQdvMtFjcwBfpiDum0suTrYWLHSkMlh/wPFvgyV0QMLE/1EPZ613uJOqeankV8ANojXAwbLoYNF2OfzeGMphvt2QLGdtCj6stI1IvtfaGEV0jbC6CvJzGnFDw7PWN2N5wxO4n02AmaLUaNBo2lpQi/LiyPDRfDhothw8XYr0kbggkFS+pwjegYEvMU6PFLmz9sAC5vyl+0jdgGegKJWQz62MPzmMl7U73pn79aROQjsVOHCnuEi2HDxbDhYvwBKqI7SbJJmDQAAAAASUVORK5CYII=\" y=\"-21.86358\"/>\n   </g>\n   <g id=\"matplotlib.axis_5\">\n    <g id=\"xtick_7\">\n     <g id=\"line2d_19\">\n      <g>\n       <use style=\"stroke:#000000;stroke-width:0.8;\" x=\"398.565652\" xlink:href=\"#m8e1c1ebfed\" y=\"145.86358\"/>\n      </g>\n     </g>\n     <g id=\"text_21\">\n      <!-- 0 -->\n      <g transform=\"translate(395.384402 160.462017)scale(0.1 -0.1)\">\n       <use xlink:href=\"#DejaVuSans-48\"/>\n      </g>\n     </g>\n    </g>\n    <g id=\"xtick_8\">\n     <g id=\"line2d_20\">\n      <g>\n       <use style=\"stroke:#000000;stroke-width:0.8;\" x=\"442.689028\" xlink:href=\"#m8e1c1ebfed\" y=\"145.86358\"/>\n      </g>\n     </g>\n     <g id=\"text_22\">\n      <!-- 10 -->\n      <g transform=\"translate(436.326528 160.462017)scale(0.1 -0.1)\">\n       <use xlink:href=\"#DejaVuSans-49\"/>\n       <use x=\"63.623047\" xlink:href=\"#DejaVuSans-48\"/>\n      </g>\n     </g>\n    </g>\n    <g id=\"xtick_9\">\n     <g id=\"line2d_21\">\n      <g>\n       <use style=\"stroke:#000000;stroke-width:0.8;\" x=\"486.812405\" xlink:href=\"#m8e1c1ebfed\" y=\"145.86358\"/>\n      </g>\n     </g>\n     <g id=\"text_23\">\n      <!-- 20 -->\n      <g transform=\"translate(480.449905 160.462017)scale(0.1 -0.1)\">\n       <use xlink:href=\"#DejaVuSans-50\"/>\n       <use x=\"63.623047\" xlink:href=\"#DejaVuSans-48\"/>\n      </g>\n     </g>\n    </g>\n   </g>\n   <g id=\"matplotlib.axis_6\">\n    <g id=\"ytick_13\">\n     <g id=\"line2d_22\">\n      <g>\n       <use style=\"stroke:#000000;stroke-width:0.8;\" x=\"396.359483\" xlink:href=\"#mf3c341da56\" y=\"24.524294\"/>\n      </g>\n     </g>\n     <g id=\"text_24\">\n      <!-- 0 -->\n      <g transform=\"translate(382.996983 28.323513)scale(0.1 -0.1)\">\n       <use xlink:href=\"#DejaVuSans-48\"/>\n      </g>\n     </g>\n    </g>\n    <g id=\"ytick_14\">\n     <g id=\"line2d_23\">\n      <g>\n       <use style=\"stroke:#000000;stroke-width:0.8;\" x=\"396.359483\" xlink:href=\"#mf3c341da56\" y=\"46.585982\"/>\n      </g>\n     </g>\n     <g id=\"text_25\">\n      <!-- 5 -->\n      <g transform=\"translate(382.996983 50.385201)scale(0.1 -0.1)\">\n       <use xlink:href=\"#DejaVuSans-53\"/>\n      </g>\n     </g>\n    </g>\n    <g id=\"ytick_15\">\n     <g id=\"line2d_24\">\n      <g>\n       <use style=\"stroke:#000000;stroke-width:0.8;\" x=\"396.359483\" xlink:href=\"#mf3c341da56\" y=\"68.64767\"/>\n      </g>\n     </g>\n     <g id=\"text_26\">\n      <!-- 10 -->\n      <g transform=\"translate(376.634483 72.446889)scale(0.1 -0.1)\">\n       <use xlink:href=\"#DejaVuSans-49\"/>\n       <use x=\"63.623047\" xlink:href=\"#DejaVuSans-48\"/>\n      </g>\n     </g>\n    </g>\n    <g id=\"ytick_16\">\n     <g id=\"line2d_25\">\n      <g>\n       <use style=\"stroke:#000000;stroke-width:0.8;\" x=\"396.359483\" xlink:href=\"#mf3c341da56\" y=\"90.709359\"/>\n      </g>\n     </g>\n     <g id=\"text_27\">\n      <!-- 15 -->\n      <g transform=\"translate(376.634483 94.508578)scale(0.1 -0.1)\">\n       <use xlink:href=\"#DejaVuSans-49\"/>\n       <use x=\"63.623047\" xlink:href=\"#DejaVuSans-53\"/>\n      </g>\n     </g>\n    </g>\n    <g id=\"ytick_17\">\n     <g id=\"line2d_26\">\n      <g>\n       <use style=\"stroke:#000000;stroke-width:0.8;\" x=\"396.359483\" xlink:href=\"#mf3c341da56\" y=\"112.771047\"/>\n      </g>\n     </g>\n     <g id=\"text_28\">\n      <!-- 20 -->\n      <g transform=\"translate(376.634483 116.570266)scale(0.1 -0.1)\">\n       <use xlink:href=\"#DejaVuSans-50\"/>\n       <use x=\"63.623047\" xlink:href=\"#DejaVuSans-48\"/>\n      </g>\n     </g>\n    </g>\n    <g id=\"ytick_18\">\n     <g id=\"line2d_27\">\n      <g>\n       <use style=\"stroke:#000000;stroke-width:0.8;\" x=\"396.359483\" xlink:href=\"#mf3c341da56\" y=\"134.832735\"/>\n      </g>\n     </g>\n     <g id=\"text_29\">\n      <!-- 25 -->\n      <g transform=\"translate(376.634483 138.631954)scale(0.1 -0.1)\">\n       <use xlink:href=\"#DejaVuSans-50\"/>\n       <use x=\"63.623047\" xlink:href=\"#DejaVuSans-53\"/>\n      </g>\n     </g>\n    </g>\n   </g>\n   <g id=\"patch_13\">\n    <path d=\"M 396.359483 145.86358 \nL 396.359483 22.318125 \n\" style=\"fill:none;stroke:#000000;stroke-linecap:square;stroke-linejoin:miter;stroke-width:0.8;\"/>\n   </g>\n   <g id=\"patch_14\">\n    <path d=\"M 519.904937 145.86358 \nL 519.904937 22.318125 \n\" style=\"fill:none;stroke:#000000;stroke-linecap:square;stroke-linejoin:miter;stroke-width:0.8;\"/>\n   </g>\n   <g id=\"patch_15\">\n    <path d=\"M 396.359483 145.86358 \nL 519.904937 145.86358 \n\" style=\"fill:none;stroke:#000000;stroke-linecap:square;stroke-linejoin:miter;stroke-width:0.8;\"/>\n   </g>\n   <g id=\"patch_16\">\n    <path d=\"M 396.359483 22.318125 \nL 519.904937 22.318125 \n\" style=\"fill:none;stroke:#000000;stroke-linecap:square;stroke-linejoin:miter;stroke-width:0.8;\"/>\n   </g>\n   <g id=\"text_30\">\n    <!-- C -->\n    <g transform=\"translate(453.942523 16.318125)scale(0.12 -0.12)\">\n     <use xlink:href=\"#DejaVuSans-67\"/>\n    </g>\n   </g>\n  </g>\n  <g id=\"axes_4\">\n   <g id=\"patch_17\">\n    <path d=\"M 581.076724 145.86358 \nL 704.622179 145.86358 \nL 704.622179 22.318125 \nL 581.076724 22.318125 \nz\n\" style=\"fill:#ffffff;\"/>\n   </g>\n   <g clip-path=\"url(#p315b6f3db4)\">\n    <image height=\"124\" id=\"image23c2050ffc\" transform=\"scale(1 -1)translate(0 -124)\" width=\"124\" x=\"581.076724\" xlink:href=\"data:image/png;base64,\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\" y=\"-21.86358\"/>\n   </g>\n   <g id=\"matplotlib.axis_7\">\n    <g id=\"xtick_10\">\n     <g id=\"line2d_28\">\n      <g>\n       <use style=\"stroke:#000000;stroke-width:0.8;\" x=\"583.282893\" xlink:href=\"#m8e1c1ebfed\" y=\"145.86358\"/>\n      </g>\n     </g>\n     <g id=\"text_31\">\n      <!-- 0 -->\n      <g transform=\"translate(580.101643 160.462017)scale(0.1 -0.1)\">\n       <use xlink:href=\"#DejaVuSans-48\"/>\n      </g>\n     </g>\n    </g>\n    <g id=\"xtick_11\">\n     <g id=\"line2d_29\">\n      <g>\n       <use style=\"stroke:#000000;stroke-width:0.8;\" x=\"627.40627\" xlink:href=\"#m8e1c1ebfed\" y=\"145.86358\"/>\n      </g>\n     </g>\n     <g id=\"text_32\">\n      <!-- 10 -->\n      <g transform=\"translate(621.04377 160.462017)scale(0.1 -0.1)\">\n       <use xlink:href=\"#DejaVuSans-49\"/>\n       <use x=\"63.623047\" xlink:href=\"#DejaVuSans-48\"/>\n      </g>\n     </g>\n    </g>\n    <g id=\"xtick_12\">\n     <g id=\"line2d_30\">\n      <g>\n       <use style=\"stroke:#000000;stroke-width:0.8;\" x=\"671.529646\" xlink:href=\"#m8e1c1ebfed\" y=\"145.86358\"/>\n      </g>\n     </g>\n     <g id=\"text_33\">\n      <!-- 20 -->\n      <g transform=\"translate(665.167146 160.462017)scale(0.1 -0.1)\">\n       <use xlink:href=\"#DejaVuSans-50\"/>\n       <use x=\"63.623047\" xlink:href=\"#DejaVuSans-48\"/>\n      </g>\n     </g>\n    </g>\n   </g>\n   <g id=\"matplotlib.axis_8\">\n    <g id=\"ytick_19\">\n     <g id=\"line2d_31\">\n      <g>\n       <use style=\"stroke:#000000;stroke-width:0.8;\" x=\"581.076724\" xlink:href=\"#mf3c341da56\" y=\"24.524294\"/>\n      </g>\n     </g>\n     <g id=\"text_34\">\n      <!-- 0 -->\n      <g transform=\"translate(567.714224 28.323513)scale(0.1 -0.1)\">\n       <use xlink:href=\"#DejaVuSans-48\"/>\n      </g>\n     </g>\n    </g>\n    <g id=\"ytick_20\">\n     <g id=\"line2d_32\">\n      <g>\n       <use style=\"stroke:#000000;stroke-width:0.8;\" x=\"581.076724\" xlink:href=\"#mf3c341da56\" y=\"46.585982\"/>\n      </g>\n     </g>\n     <g id=\"text_35\">\n      <!-- 5 -->\n      <g transform=\"translate(567.714224 50.385201)scale(0.1 -0.1)\">\n       <use xlink:href=\"#DejaVuSans-53\"/>\n      </g>\n     </g>\n    </g>\n    <g id=\"ytick_21\">\n     <g id=\"line2d_33\">\n      <g>\n       <use style=\"stroke:#000000;stroke-width:0.8;\" x=\"581.076724\" xlink:href=\"#mf3c341da56\" y=\"68.64767\"/>\n      </g>\n     </g>\n     <g id=\"text_36\">\n      <!-- 10 -->\n      <g transform=\"translate(561.351724 72.446889)scale(0.1 -0.1)\">\n       <use xlink:href=\"#DejaVuSans-49\"/>\n       <use x=\"63.623047\" xlink:href=\"#DejaVuSans-48\"/>\n      </g>\n     </g>\n    </g>\n    <g id=\"ytick_22\">\n     <g id=\"line2d_34\">\n      <g>\n       <use style=\"stroke:#000000;stroke-width:0.8;\" x=\"581.076724\" xlink:href=\"#mf3c341da56\" y=\"90.709359\"/>\n      </g>\n     </g>\n     <g id=\"text_37\">\n      <!-- 15 -->\n      <g transform=\"translate(561.351724 94.508578)scale(0.1 -0.1)\">\n       <use xlink:href=\"#DejaVuSans-49\"/>\n       <use x=\"63.623047\" xlink:href=\"#DejaVuSans-53\"/>\n      </g>\n     </g>\n    </g>\n    <g id=\"ytick_23\">\n     <g id=\"line2d_35\">\n      <g>\n       <use style=\"stroke:#000000;stroke-width:0.8;\" x=\"581.076724\" xlink:href=\"#mf3c341da56\" y=\"112.771047\"/>\n      </g>\n     </g>\n     <g id=\"text_38\">\n      <!-- 20 -->\n      <g transform=\"translate(561.351724 116.570266)scale(0.1 -0.1)\">\n       <use xlink:href=\"#DejaVuSans-50\"/>\n       <use x=\"63.623047\" xlink:href=\"#DejaVuSans-48\"/>\n      </g>\n     </g>\n    </g>\n    <g id=\"ytick_24\">\n     <g id=\"line2d_36\">\n      <g>\n       <use style=\"stroke:#000000;stroke-width:0.8;\" x=\"581.076724\" xlink:href=\"#mf3c341da56\" y=\"134.832735\"/>\n      </g>\n     </g>\n     <g id=\"text_39\">\n      <!-- 25 -->\n      <g transform=\"translate(561.351724 138.631954)scale(0.1 -0.1)\">\n       <use xlink:href=\"#DejaVuSans-50\"/>\n       <use x=\"63.623047\" xlink:href=\"#DejaVuSans-53\"/>\n      </g>\n     </g>\n    </g>\n   </g>\n   <g id=\"patch_18\">\n    <path d=\"M 581.076724 145.86358 \nL 581.076724 22.318125 \n\" style=\"fill:none;stroke:#000000;stroke-linecap:square;stroke-linejoin:miter;stroke-width:0.8;\"/>\n   </g>\n   <g id=\"patch_19\">\n    <path d=\"M 704.622179 145.86358 \nL 704.622179 22.318125 \n\" style=\"fill:none;stroke:#000000;stroke-linecap:square;stroke-linejoin:miter;stroke-width:0.8;\"/>\n   </g>\n   <g id=\"patch_20\">\n    <path d=\"M 581.076724 145.86358 \nL 704.622179 145.86358 \n\" style=\"fill:none;stroke:#000000;stroke-linecap:square;stroke-linejoin:miter;stroke-width:0.8;\"/>\n   </g>\n   <g id=\"patch_21\">\n    <path d=\"M 581.076724 22.318125 \nL 704.622179 22.318125 \n\" style=\"fill:none;stroke:#000000;stroke-linecap:square;stroke-linejoin:miter;stroke-width:0.8;\"/>\n   </g>\n   <g id=\"text_40\">\n    <!-- C -->\n    <g transform=\"translate(638.659764 16.318125)scale(0.12 -0.12)\">\n     <use xlink:href=\"#DejaVuSans-67\"/>\n    </g>\n   </g>\n  </g>\n  <g id=\"axes_5\">\n   <g id=\"patch_22\">\n    <path d=\"M 765.793966 145.86358 \nL 889.33942 145.86358 \nL 889.33942 22.318125 \nL 765.793966 22.318125 \nz\n\" style=\"fill:#ffffff;\"/>\n   </g>\n   <g clip-path=\"url(#p3ccbe0c18c)\">\n    <image height=\"124\" id=\"image0bbb2cd578\" transform=\"scale(1 -1)translate(0 -124)\" width=\"124\" x=\"765.793966\" xlink:href=\"data:image/png;base64,\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\" y=\"-21.86358\"/>\n   </g>\n   <g id=\"matplotlib.axis_9\">\n    <g id=\"xtick_13\">\n     <g id=\"line2d_37\">\n      <g>\n       <use style=\"stroke:#000000;stroke-width:0.8;\" x=\"768.000134\" xlink:href=\"#m8e1c1ebfed\" y=\"145.86358\"/>\n      </g>\n     </g>\n     <g id=\"text_41\">\n      <!-- 0 -->\n      <g transform=\"translate(764.818884 160.462017)scale(0.1 -0.1)\">\n       <use xlink:href=\"#DejaVuSans-48\"/>\n      </g>\n     </g>\n    </g>\n    <g id=\"xtick_14\">\n     <g id=\"line2d_38\">\n      <g>\n       <use style=\"stroke:#000000;stroke-width:0.8;\" x=\"812.123511\" xlink:href=\"#m8e1c1ebfed\" y=\"145.86358\"/>\n      </g>\n     </g>\n     <g id=\"text_42\">\n      <!-- 10 -->\n      <g transform=\"translate(805.761011 160.462017)scale(0.1 -0.1)\">\n       <use xlink:href=\"#DejaVuSans-49\"/>\n       <use x=\"63.623047\" xlink:href=\"#DejaVuSans-48\"/>\n      </g>\n     </g>\n    </g>\n    <g id=\"xtick_15\">\n     <g id=\"line2d_39\">\n      <g>\n       <use style=\"stroke:#000000;stroke-width:0.8;\" x=\"856.246888\" xlink:href=\"#m8e1c1ebfed\" y=\"145.86358\"/>\n      </g>\n     </g>\n     <g id=\"text_43\">\n      <!-- 20 -->\n      <g transform=\"translate(849.884388 160.462017)scale(0.1 -0.1)\">\n       <use xlink:href=\"#DejaVuSans-50\"/>\n       <use x=\"63.623047\" xlink:href=\"#DejaVuSans-48\"/>\n      </g>\n     </g>\n    </g>\n   </g>\n   <g id=\"matplotlib.axis_10\">\n    <g id=\"ytick_25\">\n     <g id=\"line2d_40\">\n      <g>\n       <use style=\"stroke:#000000;stroke-width:0.8;\" x=\"765.793966\" xlink:href=\"#mf3c341da56\" y=\"24.524294\"/>\n      </g>\n     </g>\n     <g id=\"text_44\">\n      <!-- 0 -->\n      <g transform=\"translate(752.431466 28.323513)scale(0.1 -0.1)\">\n       <use xlink:href=\"#DejaVuSans-48\"/>\n      </g>\n     </g>\n    </g>\n    <g id=\"ytick_26\">\n     <g id=\"line2d_41\">\n      <g>\n       <use style=\"stroke:#000000;stroke-width:0.8;\" x=\"765.793966\" xlink:href=\"#mf3c341da56\" y=\"46.585982\"/>\n      </g>\n     </g>\n     <g id=\"text_45\">\n      <!-- 5 -->\n      <g transform=\"translate(752.431466 50.385201)scale(0.1 -0.1)\">\n       <use xlink:href=\"#DejaVuSans-53\"/>\n      </g>\n     </g>\n    </g>\n    <g id=\"ytick_27\">\n     <g id=\"line2d_42\">\n      <g>\n       <use style=\"stroke:#000000;stroke-width:0.8;\" x=\"765.793966\" xlink:href=\"#mf3c341da56\" y=\"68.64767\"/>\n      </g>\n     </g>\n     <g id=\"text_46\">\n      <!-- 10 -->\n      <g transform=\"translate(746.068966 72.446889)scale(0.1 -0.1)\">\n       <use xlink:href=\"#DejaVuSans-49\"/>\n       <use x=\"63.623047\" xlink:href=\"#DejaVuSans-48\"/>\n      </g>\n     </g>\n    </g>\n    <g id=\"ytick_28\">\n     <g id=\"line2d_43\">\n      <g>\n       <use style=\"stroke:#000000;stroke-width:0.8;\" x=\"765.793966\" xlink:href=\"#mf3c341da56\" y=\"90.709359\"/>\n      </g>\n     </g>\n     <g id=\"text_47\">\n      <!-- 15 -->\n      <g transform=\"translate(746.068966 94.508578)scale(0.1 -0.1)\">\n       <use xlink:href=\"#DejaVuSans-49\"/>\n       <use x=\"63.623047\" xlink:href=\"#DejaVuSans-53\"/>\n      </g>\n     </g>\n    </g>\n    <g id=\"ytick_29\">\n     <g id=\"line2d_44\">\n      <g>\n       <use style=\"stroke:#000000;stroke-width:0.8;\" x=\"765.793966\" xlink:href=\"#mf3c341da56\" y=\"112.771047\"/>\n      </g>\n     </g>\n     <g id=\"text_48\">\n      <!-- 20 -->\n      <g transform=\"translate(746.068966 116.570266)scale(0.1 -0.1)\">\n       <use xlink:href=\"#DejaVuSans-50\"/>\n       <use x=\"63.623047\" xlink:href=\"#DejaVuSans-48\"/>\n      </g>\n     </g>\n    </g>\n    <g id=\"ytick_30\">\n     <g id=\"line2d_45\">\n      <g>\n       <use style=\"stroke:#000000;stroke-width:0.8;\" x=\"765.793966\" xlink:href=\"#mf3c341da56\" y=\"134.832735\"/>\n      </g>\n     </g>\n     <g id=\"text_49\">\n      <!-- 25 -->\n      <g transform=\"translate(746.068966 138.631954)scale(0.1 -0.1)\">\n       <use xlink:href=\"#DejaVuSans-50\"/>\n       <use x=\"63.623047\" xlink:href=\"#DejaVuSans-53\"/>\n      </g>\n     </g>\n    </g>\n   </g>\n   <g id=\"patch_23\">\n    <path d=\"M 765.793966 145.86358 \nL 765.793966 22.318125 \n\" style=\"fill:none;stroke:#000000;stroke-linecap:square;stroke-linejoin:miter;stroke-width:0.8;\"/>\n   </g>\n   <g id=\"patch_24\">\n    <path d=\"M 889.33942 145.86358 \nL 889.33942 22.318125 \n\" style=\"fill:none;stroke:#000000;stroke-linecap:square;stroke-linejoin:miter;stroke-width:0.8;\"/>\n   </g>\n   <g id=\"patch_25\">\n    <path d=\"M 765.793966 145.86358 \nL 889.33942 145.86358 \n\" style=\"fill:none;stroke:#000000;stroke-linecap:square;stroke-linejoin:miter;stroke-width:0.8;\"/>\n   </g>\n   <g id=\"patch_26\">\n    <path d=\"M 765.793966 22.318125 \nL 889.33942 22.318125 \n\" style=\"fill:none;stroke:#000000;stroke-linecap:square;stroke-linejoin:miter;stroke-width:0.8;\"/>\n   </g>\n   <g id=\"text_50\">\n    <!-- C -->\n    <g transform=\"translate(823.377005 16.318125)scale(0.12 -0.12)\">\n     <use xlink:href=\"#DejaVuSans-67\"/>\n    </g>\n   </g>\n  </g>\n  <g id=\"axes_6\">\n   <g id=\"patch_27\">\n    <path d=\"M 26.925 294.118125 \nL 150.470455 294.118125 \nL 150.470455 170.57267 \nL 26.925 170.57267 \nz\n\" style=\"fill:#ffffff;\"/>\n   </g>\n   <g clip-path=\"url(#p4498202842)\">\n    <image height=\"124\" id=\"image02a5f4110b\" transform=\"scale(1 -1)translate(0 -124)\" width=\"124\" x=\"26.925\" xlink:href=\"data:image/png;base64,\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\" y=\"-170.118125\"/>\n   </g>\n   <g id=\"matplotlib.axis_11\">\n    <g id=\"xtick_16\">\n     <g id=\"line2d_46\">\n      <g>\n       <use style=\"stroke:#000000;stroke-width:0.8;\" x=\"29.131169\" xlink:href=\"#m8e1c1ebfed\" y=\"294.118125\"/>\n      </g>\n     </g>\n     <g id=\"text_51\">\n      <!-- 0 -->\n      <g transform=\"translate(25.949919 308.716562)scale(0.1 -0.1)\">\n       <use xlink:href=\"#DejaVuSans-48\"/>\n      </g>\n     </g>\n    </g>\n    <g id=\"xtick_17\">\n     <g id=\"line2d_47\">\n      <g>\n       <use style=\"stroke:#000000;stroke-width:0.8;\" x=\"73.254545\" xlink:href=\"#m8e1c1ebfed\" y=\"294.118125\"/>\n      </g>\n     </g>\n     <g id=\"text_52\">\n      <!-- 10 -->\n      <g transform=\"translate(66.892045 308.716562)scale(0.1 -0.1)\">\n       <use xlink:href=\"#DejaVuSans-49\"/>\n       <use x=\"63.623047\" xlink:href=\"#DejaVuSans-48\"/>\n      </g>\n     </g>\n    </g>\n    <g id=\"xtick_18\">\n     <g id=\"line2d_48\">\n      <g>\n       <use style=\"stroke:#000000;stroke-width:0.8;\" x=\"117.377922\" xlink:href=\"#m8e1c1ebfed\" y=\"294.118125\"/>\n      </g>\n     </g>\n     <g id=\"text_53\">\n      <!-- 20 -->\n      <g transform=\"translate(111.015422 308.716562)scale(0.1 -0.1)\">\n       <use xlink:href=\"#DejaVuSans-50\"/>\n       <use x=\"63.623047\" xlink:href=\"#DejaVuSans-48\"/>\n      </g>\n     </g>\n    </g>\n   </g>\n   <g id=\"matplotlib.axis_12\">\n    <g id=\"ytick_31\">\n     <g id=\"line2d_49\">\n      <g>\n       <use style=\"stroke:#000000;stroke-width:0.8;\" x=\"26.925\" xlink:href=\"#mf3c341da56\" y=\"172.778839\"/>\n      </g>\n     </g>\n     <g id=\"text_54\">\n      <!-- 0 -->\n      <g transform=\"translate(13.5625 176.578058)scale(0.1 -0.1)\">\n       <use xlink:href=\"#DejaVuSans-48\"/>\n      </g>\n     </g>\n    </g>\n    <g id=\"ytick_32\">\n     <g id=\"line2d_50\">\n      <g>\n       <use style=\"stroke:#000000;stroke-width:0.8;\" x=\"26.925\" xlink:href=\"#mf3c341da56\" y=\"194.840528\"/>\n      </g>\n     </g>\n     <g id=\"text_55\">\n      <!-- 5 -->\n      <g transform=\"translate(13.5625 198.639746)scale(0.1 -0.1)\">\n       <use xlink:href=\"#DejaVuSans-53\"/>\n      </g>\n     </g>\n    </g>\n    <g id=\"ytick_33\">\n     <g id=\"line2d_51\">\n      <g>\n       <use style=\"stroke:#000000;stroke-width:0.8;\" x=\"26.925\" xlink:href=\"#mf3c341da56\" y=\"216.902216\"/>\n      </g>\n     </g>\n     <g id=\"text_56\">\n      <!-- 10 -->\n      <g transform=\"translate(7.2 220.701435)scale(0.1 -0.1)\">\n       <use xlink:href=\"#DejaVuSans-49\"/>\n       <use x=\"63.623047\" xlink:href=\"#DejaVuSans-48\"/>\n      </g>\n     </g>\n    </g>\n    <g id=\"ytick_34\">\n     <g id=\"line2d_52\">\n      <g>\n       <use style=\"stroke:#000000;stroke-width:0.8;\" x=\"26.925\" xlink:href=\"#mf3c341da56\" y=\"238.963904\"/>\n      </g>\n     </g>\n     <g id=\"text_57\">\n      <!-- 15 -->\n      <g transform=\"translate(7.2 242.763123)scale(0.1 -0.1)\">\n       <use xlink:href=\"#DejaVuSans-49\"/>\n       <use x=\"63.623047\" xlink:href=\"#DejaVuSans-53\"/>\n      </g>\n     </g>\n    </g>\n    <g id=\"ytick_35\">\n     <g id=\"line2d_53\">\n      <g>\n       <use style=\"stroke:#000000;stroke-width:0.8;\" x=\"26.925\" xlink:href=\"#mf3c341da56\" y=\"261.025593\"/>\n      </g>\n     </g>\n     <g id=\"text_58\">\n      <!-- 20 -->\n      <g transform=\"translate(7.2 264.824811)scale(0.1 -0.1)\">\n       <use xlink:href=\"#DejaVuSans-50\"/>\n       <use x=\"63.623047\" xlink:href=\"#DejaVuSans-48\"/>\n      </g>\n     </g>\n    </g>\n    <g id=\"ytick_36\">\n     <g id=\"line2d_54\">\n      <g>\n       <use style=\"stroke:#000000;stroke-width:0.8;\" x=\"26.925\" xlink:href=\"#mf3c341da56\" y=\"283.087281\"/>\n      </g>\n     </g>\n     <g id=\"text_59\">\n      <!-- 25 -->\n      <g transform=\"translate(7.2 286.8865)scale(0.1 -0.1)\">\n       <use xlink:href=\"#DejaVuSans-50\"/>\n       <use x=\"63.623047\" xlink:href=\"#DejaVuSans-53\"/>\n      </g>\n     </g>\n    </g>\n   </g>\n   <g id=\"patch_28\">\n    <path d=\"M 26.925 294.118125 \nL 26.925 170.57267 \n\" style=\"fill:none;stroke:#000000;stroke-linecap:square;stroke-linejoin:miter;stroke-width:0.8;\"/>\n   </g>\n   <g id=\"patch_29\">\n    <path d=\"M 150.470455 294.118125 \nL 150.470455 170.57267 \n\" style=\"fill:none;stroke:#000000;stroke-linecap:square;stroke-linejoin:miter;stroke-width:0.8;\"/>\n   </g>\n   <g id=\"patch_30\">\n    <path d=\"M 26.925 294.118125 \nL 150.470455 294.118125 \n\" style=\"fill:none;stroke:#000000;stroke-linecap:square;stroke-linejoin:miter;stroke-width:0.8;\"/>\n   </g>\n   <g id=\"patch_31\">\n    <path d=\"M 26.925 170.57267 \nL 150.470455 170.57267 \n\" style=\"fill:none;stroke:#000000;stroke-linecap:square;stroke-linejoin:miter;stroke-width:0.8;\"/>\n   </g>\n   <g id=\"text_60\">\n    <!-- C -->\n    <g transform=\"translate(84.50804 164.57267)scale(0.12 -0.12)\">\n     <use xlink:href=\"#DejaVuSans-67\"/>\n    </g>\n   </g>\n  </g>\n  <g id=\"axes_7\">\n   <g id=\"patch_32\">\n    <path d=\"M 211.642241 294.118125 \nL 335.187696 294.118125 \nL 335.187696 170.57267 \nL 211.642241 170.57267 \nz\n\" style=\"fill:#ffffff;\"/>\n   </g>\n   <g clip-path=\"url(#p9abe3f728a)\">\n    <image height=\"124\" id=\"imaged0d5dcf33e\" transform=\"scale(1 -1)translate(0 -124)\" width=\"124\" x=\"211.642241\" xlink:href=\"data:image/png;base64,\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\" y=\"-170.118125\"/>\n   </g>\n   <g id=\"matplotlib.axis_13\">\n    <g id=\"xtick_19\">\n     <g id=\"line2d_55\">\n      <g>\n       <use style=\"stroke:#000000;stroke-width:0.8;\" x=\"213.84841\" xlink:href=\"#m8e1c1ebfed\" y=\"294.118125\"/>\n      </g>\n     </g>\n     <g id=\"text_61\">\n      <!-- 0 -->\n      <g transform=\"translate(210.66716 308.716562)scale(0.1 -0.1)\">\n       <use xlink:href=\"#DejaVuSans-48\"/>\n      </g>\n     </g>\n    </g>\n    <g id=\"xtick_20\">\n     <g id=\"line2d_56\">\n      <g>\n       <use style=\"stroke:#000000;stroke-width:0.8;\" x=\"257.971787\" xlink:href=\"#m8e1c1ebfed\" y=\"294.118125\"/>\n      </g>\n     </g>\n     <g id=\"text_62\">\n      <!-- 10 -->\n      <g transform=\"translate(251.609287 308.716562)scale(0.1 -0.1)\">\n       <use xlink:href=\"#DejaVuSans-49\"/>\n       <use x=\"63.623047\" xlink:href=\"#DejaVuSans-48\"/>\n      </g>\n     </g>\n    </g>\n    <g id=\"xtick_21\">\n     <g id=\"line2d_57\">\n      <g>\n       <use style=\"stroke:#000000;stroke-width:0.8;\" x=\"302.095163\" xlink:href=\"#m8e1c1ebfed\" y=\"294.118125\"/>\n      </g>\n     </g>\n     <g id=\"text_63\">\n      <!-- 20 -->\n      <g transform=\"translate(295.732663 308.716562)scale(0.1 -0.1)\">\n       <use xlink:href=\"#DejaVuSans-50\"/>\n       <use x=\"63.623047\" xlink:href=\"#DejaVuSans-48\"/>\n      </g>\n     </g>\n    </g>\n   </g>\n   <g id=\"matplotlib.axis_14\">\n    <g id=\"ytick_37\">\n     <g id=\"line2d_58\">\n      <g>\n       <use style=\"stroke:#000000;stroke-width:0.8;\" x=\"211.642241\" xlink:href=\"#mf3c341da56\" y=\"172.778839\"/>\n      </g>\n     </g>\n     <g id=\"text_64\">\n      <!-- 0 -->\n      <g transform=\"translate(198.279741 176.578058)scale(0.1 -0.1)\">\n       <use xlink:href=\"#DejaVuSans-48\"/>\n      </g>\n     </g>\n    </g>\n    <g id=\"ytick_38\">\n     <g id=\"line2d_59\">\n      <g>\n       <use style=\"stroke:#000000;stroke-width:0.8;\" x=\"211.642241\" xlink:href=\"#mf3c341da56\" y=\"194.840528\"/>\n      </g>\n     </g>\n     <g id=\"text_65\">\n      <!-- 5 -->\n      <g transform=\"translate(198.279741 198.639746)scale(0.1 -0.1)\">\n       <use xlink:href=\"#DejaVuSans-53\"/>\n      </g>\n     </g>\n    </g>\n    <g id=\"ytick_39\">\n     <g id=\"line2d_60\">\n      <g>\n       <use style=\"stroke:#000000;stroke-width:0.8;\" x=\"211.642241\" xlink:href=\"#mf3c341da56\" y=\"216.902216\"/>\n      </g>\n     </g>\n     <g id=\"text_66\">\n      <!-- 10 -->\n      <g transform=\"translate(191.917241 220.701435)scale(0.1 -0.1)\">\n       <use xlink:href=\"#DejaVuSans-49\"/>\n       <use x=\"63.623047\" xlink:href=\"#DejaVuSans-48\"/>\n      </g>\n     </g>\n    </g>\n    <g id=\"ytick_40\">\n     <g id=\"line2d_61\">\n      <g>\n       <use style=\"stroke:#000000;stroke-width:0.8;\" x=\"211.642241\" xlink:href=\"#mf3c341da56\" y=\"238.963904\"/>\n      </g>\n     </g>\n     <g id=\"text_67\">\n      <!-- 15 -->\n      <g transform=\"translate(191.917241 242.763123)scale(0.1 -0.1)\">\n       <use xlink:href=\"#DejaVuSans-49\"/>\n       <use x=\"63.623047\" xlink:href=\"#DejaVuSans-53\"/>\n      </g>\n     </g>\n    </g>\n    <g id=\"ytick_41\">\n     <g id=\"line2d_62\">\n      <g>\n       <use style=\"stroke:#000000;stroke-width:0.8;\" x=\"211.642241\" xlink:href=\"#mf3c341da56\" y=\"261.025593\"/>\n      </g>\n     </g>\n     <g id=\"text_68\">\n      <!-- 20 -->\n      <g transform=\"translate(191.917241 264.824811)scale(0.1 -0.1)\">\n       <use xlink:href=\"#DejaVuSans-50\"/>\n       <use x=\"63.623047\" xlink:href=\"#DejaVuSans-48\"/>\n      </g>\n     </g>\n    </g>\n    <g id=\"ytick_42\">\n     <g id=\"line2d_63\">\n      <g>\n       <use style=\"stroke:#000000;stroke-width:0.8;\" x=\"211.642241\" xlink:href=\"#mf3c341da56\" y=\"283.087281\"/>\n      </g>\n     </g>\n     <g id=\"text_69\">\n      <!-- 25 -->\n      <g transform=\"translate(191.917241 286.8865)scale(0.1 -0.1)\">\n       <use xlink:href=\"#DejaVuSans-50\"/>\n       <use x=\"63.623047\" xlink:href=\"#DejaVuSans-53\"/>\n      </g>\n     </g>\n    </g>\n   </g>\n   <g id=\"patch_33\">\n    <path d=\"M 211.642241 294.118125 \nL 211.642241 170.57267 \n\" style=\"fill:none;stroke:#000000;stroke-linecap:square;stroke-linejoin:miter;stroke-width:0.8;\"/>\n   </g>\n   <g id=\"patch_34\">\n    <path d=\"M 335.187696 294.118125 \nL 335.187696 170.57267 \n\" style=\"fill:none;stroke:#000000;stroke-linecap:square;stroke-linejoin:miter;stroke-width:0.8;\"/>\n   </g>\n   <g id=\"patch_35\">\n    <path d=\"M 211.642241 294.118125 \nL 335.187696 294.118125 \n\" style=\"fill:none;stroke:#000000;stroke-linecap:square;stroke-linejoin:miter;stroke-width:0.8;\"/>\n   </g>\n   <g id=\"patch_36\">\n    <path d=\"M 211.642241 170.57267 \nL 335.187696 170.57267 \n\" style=\"fill:none;stroke:#000000;stroke-linecap:square;stroke-linejoin:miter;stroke-width:0.8;\"/>\n   </g>\n   <g id=\"text_70\">\n    <!-- J -->\n    <g transform=\"translate(271.644969 164.57267)scale(0.12 -0.12)\">\n     <use xlink:href=\"#DejaVuSans-74\"/>\n    </g>\n   </g>\n  </g>\n  <g id=\"axes_8\">\n   <g id=\"patch_37\">\n    <path d=\"M 396.359483 294.118125 \nL 519.904937 294.118125 \nL 519.904937 170.57267 \nL 396.359483 170.57267 \nz\n\" style=\"fill:#ffffff;\"/>\n   </g>\n   <g clip-path=\"url(#pcdabcb8755)\">\n    <image height=\"124\" id=\"imagea0c96fd010\" transform=\"scale(1 -1)translate(0 -124)\" width=\"124\" x=\"396.359483\" xlink:href=\"data:image/png;base64,\niVBORw0KGgoAAAANSUhEUgAAAHwAAAB8CAYAAACrHtS+AAAABHNCSVQICAgIfAhkiAAAA0dJREFUeJztnLtrFGEUR2d9IUGJhWBAsLMRgqVaqKhgZSeSXhvtxEbQf0BsLBVE7UWwEUEQK4tUYhMIYmcTrMQXgo+1zfzmEoYhm2Q553S/4c4jOXzcy7ezOzrTNONmFW9ONF3ORj5f1Jw6FAcWiqJjkY9G3l+csyfyn6Lme+SVomYp8qt2HD/pnvIy8qPiqs/b+W5x5xeRfxU1yfbIO4uaPtdJtg04R6YYhcNQOIzRgejhK1eLqvvjOFB1j93r9lBtsmfvmNB9+lDND/k8b4uaK+147UMrPnzQPeN6j6fJvv6vqPkb2RUOQ+EwFA5D4TBGszG0/S6KFiPPj58VVRcjV5sfuYmSeb3IjZim6Q6aOWRWw2CfgTGPDRkqq2HwYCstjz53Ko5Hroa2xBUOQ+EwFA5jtDd6+ExR9C3y7aLm1vhSHHlaVFW9ajVDem/TdGeBIX202kwa0p+rvzGvnTV9Zpni3oujVjxZfPD1LrIrHIbCYSgchsJhjGZiaKvIT2WqzZnTkV8Wc8hSzGTxskizXFz3Z+RqqDwS+XJRM3cnDtzsHCjOyiFyUhtFfQa9aqiMN4S+jjoV87Pt7AqHoXAYCofRq4cn1RuUuXGfb1psJPnGZ9N0n+dw5PfVKyb3cstpUj18KF8i7+uWXGj3dVc4DIXDUDgMhcMYNLRV5CC3q6jJwWlSg101tCV572oz6cfrOHBuXf5VG8yNVnKFw1A4DIXDWLcePm30+UDoceSF8TT+qz62kischsJhKBzGZn73dlOpenYSPwpS/ojJ1meulVzhMBQOQ+EwFA4DO7T1ofrC8/TRfkvHFQ5D4TAUDsMevgafNvsBJoArHIbCYSgchsJhOLStwZAfoN/quMJhKByGwmEoHIbCYSgchsJhKByGwmEoHIbCYSgchsJhKByGwmEoHIbCYSgchsJhKByGwmEoHIbCYSgchsJhKByGwmEoHIbCYSgchsJhKByGwmEoHIbCYSgchsJhKByGwmEoHIbCYSgchsJhKByGwmEoHIbCYSgchsJhKByGwmEoHIbCYSgchsJhKByGwmEoHIbCYSgchsJhKByGwmEoHIbCYSgchsJhKByGwmEoHIbCYSgchsJhKBzGf2WcY8xCLMrgAAAAAElFTkSuQmCC\" y=\"-170.118125\"/>\n   </g>\n   <g id=\"matplotlib.axis_15\">\n    <g id=\"xtick_22\">\n     <g id=\"line2d_64\">\n      <g>\n       <use style=\"stroke:#000000;stroke-width:0.8;\" x=\"398.565652\" xlink:href=\"#m8e1c1ebfed\" y=\"294.118125\"/>\n      </g>\n     </g>\n     <g id=\"text_71\">\n      <!-- 0 -->\n      <g transform=\"translate(395.384402 308.716562)scale(0.1 -0.1)\">\n       <use xlink:href=\"#DejaVuSans-48\"/>\n      </g>\n     </g>\n    </g>\n    <g id=\"xtick_23\">\n     <g id=\"line2d_65\">\n      <g>\n       <use style=\"stroke:#000000;stroke-width:0.8;\" x=\"442.689028\" xlink:href=\"#m8e1c1ebfed\" y=\"294.118125\"/>\n      </g>\n     </g>\n     <g id=\"text_72\">\n      <!-- 10 -->\n      <g transform=\"translate(436.326528 308.716562)scale(0.1 -0.1)\">\n       <use xlink:href=\"#DejaVuSans-49\"/>\n       <use x=\"63.623047\" xlink:href=\"#DejaVuSans-48\"/>\n      </g>\n     </g>\n    </g>\n    <g id=\"xtick_24\">\n     <g id=\"line2d_66\">\n      <g>\n       <use style=\"stroke:#000000;stroke-width:0.8;\" x=\"486.812405\" xlink:href=\"#m8e1c1ebfed\" y=\"294.118125\"/>\n      </g>\n     </g>\n     <g id=\"text_73\">\n      <!-- 20 -->\n      <g transform=\"translate(480.449905 308.716562)scale(0.1 -0.1)\">\n       <use xlink:href=\"#DejaVuSans-50\"/>\n       <use x=\"63.623047\" xlink:href=\"#DejaVuSans-48\"/>\n      </g>\n     </g>\n    </g>\n   </g>\n   <g id=\"matplotlib.axis_16\">\n    <g id=\"ytick_43\">\n     <g id=\"line2d_67\">\n      <g>\n       <use style=\"stroke:#000000;stroke-width:0.8;\" x=\"396.359483\" xlink:href=\"#mf3c341da56\" y=\"172.778839\"/>\n      </g>\n     </g>\n     <g id=\"text_74\">\n      <!-- 0 -->\n      <g transform=\"translate(382.996983 176.578058)scale(0.1 -0.1)\">\n       <use xlink:href=\"#DejaVuSans-48\"/>\n      </g>\n     </g>\n    </g>\n    <g id=\"ytick_44\">\n     <g id=\"line2d_68\">\n      <g>\n       <use style=\"stroke:#000000;stroke-width:0.8;\" x=\"396.359483\" xlink:href=\"#mf3c341da56\" y=\"194.840528\"/>\n      </g>\n     </g>\n     <g id=\"text_75\">\n      <!-- 5 -->\n      <g transform=\"translate(382.996983 198.639746)scale(0.1 -0.1)\">\n       <use xlink:href=\"#DejaVuSans-53\"/>\n      </g>\n     </g>\n    </g>\n    <g id=\"ytick_45\">\n     <g id=\"line2d_69\">\n      <g>\n       <use style=\"stroke:#000000;stroke-width:0.8;\" x=\"396.359483\" xlink:href=\"#mf3c341da56\" y=\"216.902216\"/>\n      </g>\n     </g>\n     <g id=\"text_76\">\n      <!-- 10 -->\n      <g transform=\"translate(376.634483 220.701435)scale(0.1 -0.1)\">\n       <use xlink:href=\"#DejaVuSans-49\"/>\n       <use x=\"63.623047\" xlink:href=\"#DejaVuSans-48\"/>\n      </g>\n     </g>\n    </g>\n    <g id=\"ytick_46\">\n     <g id=\"line2d_70\">\n      <g>\n       <use style=\"stroke:#000000;stroke-width:0.8;\" x=\"396.359483\" xlink:href=\"#mf3c341da56\" y=\"238.963904\"/>\n      </g>\n     </g>\n     <g id=\"text_77\">\n      <!-- 15 -->\n      <g transform=\"translate(376.634483 242.763123)scale(0.1 -0.1)\">\n       <use xlink:href=\"#DejaVuSans-49\"/>\n       <use x=\"63.623047\" xlink:href=\"#DejaVuSans-53\"/>\n      </g>\n     </g>\n    </g>\n    <g id=\"ytick_47\">\n     <g id=\"line2d_71\">\n      <g>\n       <use style=\"stroke:#000000;stroke-width:0.8;\" x=\"396.359483\" xlink:href=\"#mf3c341da56\" y=\"261.025593\"/>\n      </g>\n     </g>\n     <g id=\"text_78\">\n      <!-- 20 -->\n      <g transform=\"translate(376.634483 264.824811)scale(0.1 -0.1)\">\n       <use xlink:href=\"#DejaVuSans-50\"/>\n       <use x=\"63.623047\" xlink:href=\"#DejaVuSans-48\"/>\n      </g>\n     </g>\n    </g>\n    <g id=\"ytick_48\">\n     <g id=\"line2d_72\">\n      <g>\n       <use style=\"stroke:#000000;stroke-width:0.8;\" x=\"396.359483\" xlink:href=\"#mf3c341da56\" y=\"283.087281\"/>\n      </g>\n     </g>\n     <g id=\"text_79\">\n      <!-- 25 -->\n      <g transform=\"translate(376.634483 286.8865)scale(0.1 -0.1)\">\n       <use xlink:href=\"#DejaVuSans-50\"/>\n       <use x=\"63.623047\" xlink:href=\"#DejaVuSans-53\"/>\n      </g>\n     </g>\n    </g>\n   </g>\n   <g id=\"patch_38\">\n    <path d=\"M 396.359483 294.118125 \nL 396.359483 170.57267 \n\" style=\"fill:none;stroke:#000000;stroke-linecap:square;stroke-linejoin:miter;stroke-width:0.8;\"/>\n   </g>\n   <g id=\"patch_39\">\n    <path d=\"M 519.904937 294.118125 \nL 519.904937 170.57267 \n\" style=\"fill:none;stroke:#000000;stroke-linecap:square;stroke-linejoin:miter;stroke-width:0.8;\"/>\n   </g>\n   <g id=\"patch_40\">\n    <path d=\"M 396.359483 294.118125 \nL 519.904937 294.118125 \n\" style=\"fill:none;stroke:#000000;stroke-linecap:square;stroke-linejoin:miter;stroke-width:0.8;\"/>\n   </g>\n   <g id=\"patch_41\">\n    <path d=\"M 396.359483 170.57267 \nL 519.904937 170.57267 \n\" style=\"fill:none;stroke:#000000;stroke-linecap:square;stroke-linejoin:miter;stroke-width:0.8;\"/>\n   </g>\n   <g id=\"text_80\">\n    <!-- J -->\n    <g transform=\"translate(456.36221 164.57267)scale(0.12 -0.12)\">\n     <use xlink:href=\"#DejaVuSans-74\"/>\n    </g>\n   </g>\n  </g>\n  <g id=\"axes_9\">\n   <g id=\"patch_42\">\n    <path d=\"M 581.076724 294.118125 \nL 704.622179 294.118125 \nL 704.622179 170.57267 \nL 581.076724 170.57267 \nz\n\" style=\"fill:#ffffff;\"/>\n   </g>\n   <g clip-path=\"url(#p481258ab28)\">\n    <image height=\"124\" id=\"imagef6b5fd88c9\" transform=\"scale(1 -1)translate(0 -124)\" width=\"124\" x=\"581.076724\" xlink:href=\"data:image/png;base64,\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\" y=\"-170.118125\"/>\n   </g>\n   <g id=\"matplotlib.axis_17\">\n    <g id=\"xtick_25\">\n     <g id=\"line2d_73\">\n      <g>\n       <use style=\"stroke:#000000;stroke-width:0.8;\" x=\"583.282893\" xlink:href=\"#m8e1c1ebfed\" y=\"294.118125\"/>\n      </g>\n     </g>\n     <g id=\"text_81\">\n      <!-- 0 -->\n      <g transform=\"translate(580.101643 308.716562)scale(0.1 -0.1)\">\n       <use xlink:href=\"#DejaVuSans-48\"/>\n      </g>\n     </g>\n    </g>\n    <g id=\"xtick_26\">\n     <g id=\"line2d_74\">\n      <g>\n       <use style=\"stroke:#000000;stroke-width:0.8;\" x=\"627.40627\" xlink:href=\"#m8e1c1ebfed\" y=\"294.118125\"/>\n      </g>\n     </g>\n     <g id=\"text_82\">\n      <!-- 10 -->\n      <g transform=\"translate(621.04377 308.716562)scale(0.1 -0.1)\">\n       <use xlink:href=\"#DejaVuSans-49\"/>\n       <use x=\"63.623047\" xlink:href=\"#DejaVuSans-48\"/>\n      </g>\n     </g>\n    </g>\n    <g id=\"xtick_27\">\n     <g id=\"line2d_75\">\n      <g>\n       <use style=\"stroke:#000000;stroke-width:0.8;\" x=\"671.529646\" xlink:href=\"#m8e1c1ebfed\" y=\"294.118125\"/>\n      </g>\n     </g>\n     <g id=\"text_83\">\n      <!-- 20 -->\n      <g transform=\"translate(665.167146 308.716562)scale(0.1 -0.1)\">\n       <use xlink:href=\"#DejaVuSans-50\"/>\n       <use x=\"63.623047\" xlink:href=\"#DejaVuSans-48\"/>\n      </g>\n     </g>\n    </g>\n   </g>\n   <g id=\"matplotlib.axis_18\">\n    <g id=\"ytick_49\">\n     <g id=\"line2d_76\">\n      <g>\n       <use style=\"stroke:#000000;stroke-width:0.8;\" x=\"581.076724\" xlink:href=\"#mf3c341da56\" y=\"172.778839\"/>\n      </g>\n     </g>\n     <g id=\"text_84\">\n      <!-- 0 -->\n      <g transform=\"translate(567.714224 176.578058)scale(0.1 -0.1)\">\n       <use xlink:href=\"#DejaVuSans-48\"/>\n      </g>\n     </g>\n    </g>\n    <g id=\"ytick_50\">\n     <g id=\"line2d_77\">\n      <g>\n       <use style=\"stroke:#000000;stroke-width:0.8;\" x=\"581.076724\" xlink:href=\"#mf3c341da56\" y=\"194.840528\"/>\n      </g>\n     </g>\n     <g id=\"text_85\">\n      <!-- 5 -->\n      <g transform=\"translate(567.714224 198.639746)scale(0.1 -0.1)\">\n       <use xlink:href=\"#DejaVuSans-53\"/>\n      </g>\n     </g>\n    </g>\n    <g id=\"ytick_51\">\n     <g id=\"line2d_78\">\n      <g>\n       <use style=\"stroke:#000000;stroke-width:0.8;\" x=\"581.076724\" xlink:href=\"#mf3c341da56\" y=\"216.902216\"/>\n      </g>\n     </g>\n     <g id=\"text_86\">\n      <!-- 10 -->\n      <g transform=\"translate(561.351724 220.701435)scale(0.1 -0.1)\">\n       <use xlink:href=\"#DejaVuSans-49\"/>\n       <use x=\"63.623047\" xlink:href=\"#DejaVuSans-48\"/>\n      </g>\n     </g>\n    </g>\n    <g id=\"ytick_52\">\n     <g id=\"line2d_79\">\n      <g>\n       <use style=\"stroke:#000000;stroke-width:0.8;\" x=\"581.076724\" xlink:href=\"#mf3c341da56\" y=\"238.963904\"/>\n      </g>\n     </g>\n     <g id=\"text_87\">\n      <!-- 15 -->\n      <g transform=\"translate(561.351724 242.763123)scale(0.1 -0.1)\">\n       <use xlink:href=\"#DejaVuSans-49\"/>\n       <use x=\"63.623047\" xlink:href=\"#DejaVuSans-53\"/>\n      </g>\n     </g>\n    </g>\n    <g id=\"ytick_53\">\n     <g id=\"line2d_80\">\n      <g>\n       <use style=\"stroke:#000000;stroke-width:0.8;\" x=\"581.076724\" xlink:href=\"#mf3c341da56\" y=\"261.025593\"/>\n      </g>\n     </g>\n     <g id=\"text_88\">\n      <!-- 20 -->\n      <g transform=\"translate(561.351724 264.824811)scale(0.1 -0.1)\">\n       <use xlink:href=\"#DejaVuSans-50\"/>\n       <use x=\"63.623047\" xlink:href=\"#DejaVuSans-48\"/>\n      </g>\n     </g>\n    </g>\n    <g id=\"ytick_54\">\n     <g id=\"line2d_81\">\n      <g>\n       <use style=\"stroke:#000000;stroke-width:0.8;\" x=\"581.076724\" xlink:href=\"#mf3c341da56\" y=\"283.087281\"/>\n      </g>\n     </g>\n     <g id=\"text_89\">\n      <!-- 25 -->\n      <g transform=\"translate(561.351724 286.8865)scale(0.1 -0.1)\">\n       <use xlink:href=\"#DejaVuSans-50\"/>\n       <use x=\"63.623047\" xlink:href=\"#DejaVuSans-53\"/>\n      </g>\n     </g>\n    </g>\n   </g>\n   <g id=\"patch_43\">\n    <path d=\"M 581.076724 294.118125 \nL 581.076724 170.57267 \n\" style=\"fill:none;stroke:#000000;stroke-linecap:square;stroke-linejoin:miter;stroke-width:0.8;\"/>\n   </g>\n   <g id=\"patch_44\">\n    <path d=\"M 704.622179 294.118125 \nL 704.622179 170.57267 \n\" style=\"fill:none;stroke:#000000;stroke-linecap:square;stroke-linejoin:miter;stroke-width:0.8;\"/>\n   </g>\n   <g id=\"patch_45\">\n    <path d=\"M 581.076724 294.118125 \nL 704.622179 294.118125 \n\" style=\"fill:none;stroke:#000000;stroke-linecap:square;stroke-linejoin:miter;stroke-width:0.8;\"/>\n   </g>\n   <g id=\"patch_46\">\n    <path d=\"M 581.076724 170.57267 \nL 704.622179 170.57267 \n\" style=\"fill:none;stroke:#000000;stroke-linecap:square;stroke-linejoin:miter;stroke-width:0.8;\"/>\n   </g>\n   <g id=\"text_90\">\n    <!-- C -->\n    <g transform=\"translate(638.659764 164.57267)scale(0.12 -0.12)\">\n     <use xlink:href=\"#DejaVuSans-67\"/>\n    </g>\n   </g>\n  </g>\n  <g id=\"axes_10\">\n   <g id=\"patch_47\">\n    <path d=\"M 765.793966 294.118125 \nL 889.33942 294.118125 \nL 889.33942 170.57267 \nL 765.793966 170.57267 \nz\n\" style=\"fill:#ffffff;\"/>\n   </g>\n   <g clip-path=\"url(#p9a497e0c30)\">\n    <image height=\"124\" id=\"imagec74520bdb9\" transform=\"scale(1 -1)translate(0 -124)\" width=\"124\" x=\"765.793966\" xlink:href=\"data:image/png;base64,\niVBORw0KGgoAAAANSUhEUgAAAHwAAAB8CAYAAACrHtS+AAAABHNCSVQICAgIfAhkiAAABbxJREFUeJztnU2IXFUQhetpK5o2IBiGwd9RSMDIgOgi/kAYFdxEEMEYRDeShZIwEUFUDAbEQEDBhShoEAnqTl2IC0GJRnAR/CMuREiMKLhQ4kLFZgR1ngs3uece7UrTf+lzvl3d1H3deWeKW133vnrN2og2TuKMqPkT7EXi8yrYG3YTp11gz90BA1vIpE1gX0x8ziNjyM9gfwn2QTLn7dJ852jt8mhpPvx17bIf7L/BPod8Mt5znDMoTF8zw1hwMSy4GM0aWMPXE6cj22Hg5eeJ186hfanTm2/qoZXyrh5aU/4zy1zOAnuV+AyyrjvCxbDgYlhwMSy4GM1GSNq+aueI209g/0F8OgmffnPQ/q+xUfBXYoz54PdjZRScB3MONNWMhftK+wS56plgZ5I4R7gYFlwMCy5G0+4u1/DY2xI33HhgmxVs7VKErfOYz6DP+fWU98t1vXtr7eI13PTFgothwcWw4GI0bfsQZGnPErc+hQNziuD9/IX4rCusXlMXZ7BExtJmTBcd4WJYcDEsuBhN256ANXwd95xqcKXKrGaZjZtx8TsZw+IWllkius1qH4+6GOMIF8OCi2HBxbDgYnTqY7WnY9KW2amb5t28zHfDh7kirol7C/sLMgsTOUe4GBZcDAsuRidiDwy9R9zwxMs4ixS40UByjD3lxsKDT9Uuj4B9UfsijNyf+OxJFmduqUbuBput4RjRjnAxLLgYFlyMpv0eTq1eyk6tZjYnhkHmyY56o+G1Zm1hP5D4pN5jMLCP/b/xYAI5XToy+t/z7+BQxFXkKl2wHeFiWHAxLLgYFlyMzpHLyoGrt9enI+NHsM8e2ffpD/kT/XiQ67wJ9j7mNE2nYOqkbeFKGCA94hBHuBgWXAwLLkbVp20WyJxZPQz2YstuwyQ3TxJFn73wSPETtQveC0e4GBZcDAsuhgUXo4OLOntcZdrBhCzT6wRa38diVV2KiJgHO7ObNywS18UjLyRpw0b7jnAxLLgYFlyMmSy8ZB6b3Qj2p+2HZNYS2ONcwzOnjO4qrG7zRt+rOsLFsOBiWHAxLLgYsg3Xvq1GXiFeS2BPWeEl7ims9VEnbcfAdoSLYcHFsOBizGThhdGvmXwP3+MTETGHtybTT21YZE7b/FBYTzaXVB5Pg+0IF8OCi2HBxZBZw/FtvXgwoPccmbSMt4b1NR/VI8TsNz9Sruufk57qm8F2hIthwcWw4GJYcDFkkjbsddJD+yYy6QO8NdivLmJ8vWkTCeN8nbR1oaDkCBfDgothwcVI7d7jxsM0dx6PyD15gqyQQ6vnViOj2igZEreTsf2l6QgXw4KLYcHFsOBiyBReMNHEB3kOkDlbW9xTYznuuPrAJE7bHCKFFygoOcLFsOBiWHAxOv1OgkREPAP2jvqxjYhfwR7VnxL7gtAvNq6vXbr4Pj7gXTK2NT6Dkev+/yIjJZEbLF1BBkuxHOFiWHAxLLgYFlyMDu6EsZzoAhy4nHlhUjGqR2uxZBJRlVWO3Vx5zDfldhh2ZcO+bf9yEGyWtI2r8JK5Lr5/MeJCeMeTI1wMCy6GBRejw1Zj5HWwt8VbxGsb2OyU5bh6mtVvSD7e7oKRl0qzXSXX3ZL47GnqmnJtNXIb2I5wMSy4GBZcjNQBCPyt/lu7TLzwedvE72VzCmTqGvU9P9yUZ28d4WJYcDEsuBgWXIwqacMTMBGkHwrtJT/JnmYZMKHJ9FCZ8keLMk30F8qTrI5wMSy4GBZcjKryz14Qg2v4UdIeY0NVvmFr5CTf1juLRZ/EGn5naTrCxbDgYlhwMSy4GAPtlrEeKr2PYGAzuywrxpwMS+JwbJpOmEwavJ+kUPSJCy/SWHAxLLgYQ1vD58E+/gJx2rECA7NYDBknmTcQ31hYjnAxLLgYFlwMCy7GQH3a2I4a/uWkesXgyeblG8isx8HeRHzG1aR+2sjsPpaPPDvCxbDgYlhwMf4BUaLvceZeeRIAAAAASUVORK5CYII=\" y=\"-170.118125\"/>\n   </g>\n   <g id=\"matplotlib.axis_19\">\n    <g id=\"xtick_28\">\n     <g id=\"line2d_82\">\n      <g>\n       <use style=\"stroke:#000000;stroke-width:0.8;\" x=\"768.000134\" xlink:href=\"#m8e1c1ebfed\" y=\"294.118125\"/>\n      </g>\n     </g>\n     <g id=\"text_91\">\n      <!-- 0 -->\n      <g transform=\"translate(764.818884 308.716562)scale(0.1 -0.1)\">\n       <use xlink:href=\"#DejaVuSans-48\"/>\n      </g>\n     </g>\n    </g>\n    <g id=\"xtick_29\">\n     <g id=\"line2d_83\">\n      <g>\n       <use style=\"stroke:#000000;stroke-width:0.8;\" x=\"812.123511\" xlink:href=\"#m8e1c1ebfed\" y=\"294.118125\"/>\n      </g>\n     </g>\n     <g id=\"text_92\">\n      <!-- 10 -->\n      <g transform=\"translate(805.761011 308.716562)scale(0.1 -0.1)\">\n       <use xlink:href=\"#DejaVuSans-49\"/>\n       <use x=\"63.623047\" xlink:href=\"#DejaVuSans-48\"/>\n      </g>\n     </g>\n    </g>\n    <g id=\"xtick_30\">\n     <g id=\"line2d_84\">\n      <g>\n       <use style=\"stroke:#000000;stroke-width:0.8;\" x=\"856.246888\" xlink:href=\"#m8e1c1ebfed\" y=\"294.118125\"/>\n      </g>\n     </g>\n     <g id=\"text_93\">\n      <!-- 20 -->\n      <g transform=\"translate(849.884388 308.716562)scale(0.1 -0.1)\">\n       <use xlink:href=\"#DejaVuSans-50\"/>\n       <use x=\"63.623047\" xlink:href=\"#DejaVuSans-48\"/>\n      </g>\n     </g>\n    </g>\n   </g>\n   <g id=\"matplotlib.axis_20\">\n    <g id=\"ytick_55\">\n     <g id=\"line2d_85\">\n      <g>\n       <use style=\"stroke:#000000;stroke-width:0.8;\" x=\"765.793966\" xlink:href=\"#mf3c341da56\" y=\"172.778839\"/>\n      </g>\n     </g>\n     <g id=\"text_94\">\n      <!-- 0 -->\n      <g transform=\"translate(752.431466 176.578058)scale(0.1 -0.1)\">\n       <use xlink:href=\"#DejaVuSans-48\"/>\n      </g>\n     </g>\n    </g>\n    <g id=\"ytick_56\">\n     <g id=\"line2d_86\">\n      <g>\n       <use style=\"stroke:#000000;stroke-width:0.8;\" x=\"765.793966\" xlink:href=\"#mf3c341da56\" y=\"194.840528\"/>\n      </g>\n     </g>\n     <g id=\"text_95\">\n      <!-- 5 -->\n      <g transform=\"translate(752.431466 198.639746)scale(0.1 -0.1)\">\n       <use xlink:href=\"#DejaVuSans-53\"/>\n      </g>\n     </g>\n    </g>\n    <g id=\"ytick_57\">\n     <g id=\"line2d_87\">\n      <g>\n       <use style=\"stroke:#000000;stroke-width:0.8;\" x=\"765.793966\" xlink:href=\"#mf3c341da56\" y=\"216.902216\"/>\n      </g>\n     </g>\n     <g id=\"text_96\">\n      <!-- 10 -->\n      <g transform=\"translate(746.068966 220.701435)scale(0.1 -0.1)\">\n       <use xlink:href=\"#DejaVuSans-49\"/>\n       <use x=\"63.623047\" xlink:href=\"#DejaVuSans-48\"/>\n      </g>\n     </g>\n    </g>\n    <g id=\"ytick_58\">\n     <g id=\"line2d_88\">\n      <g>\n       <use style=\"stroke:#000000;stroke-width:0.8;\" x=\"765.793966\" xlink:href=\"#mf3c341da56\" y=\"238.963904\"/>\n      </g>\n     </g>\n     <g id=\"text_97\">\n      <!-- 15 -->\n      <g transform=\"translate(746.068966 242.763123)scale(0.1 -0.1)\">\n       <use xlink:href=\"#DejaVuSans-49\"/>\n       <use x=\"63.623047\" xlink:href=\"#DejaVuSans-53\"/>\n      </g>\n     </g>\n    </g>\n    <g id=\"ytick_59\">\n     <g id=\"line2d_89\">\n      <g>\n       <use style=\"stroke:#000000;stroke-width:0.8;\" x=\"765.793966\" xlink:href=\"#mf3c341da56\" y=\"261.025593\"/>\n      </g>\n     </g>\n     <g id=\"text_98\">\n      <!-- 20 -->\n      <g transform=\"translate(746.068966 264.824811)scale(0.1 -0.1)\">\n       <use xlink:href=\"#DejaVuSans-50\"/>\n       <use x=\"63.623047\" xlink:href=\"#DejaVuSans-48\"/>\n      </g>\n     </g>\n    </g>\n    <g id=\"ytick_60\">\n     <g id=\"line2d_90\">\n      <g>\n       <use style=\"stroke:#000000;stroke-width:0.8;\" x=\"765.793966\" xlink:href=\"#mf3c341da56\" y=\"283.087281\"/>\n      </g>\n     </g>\n     <g id=\"text_99\">\n      <!-- 25 -->\n      <g transform=\"translate(746.068966 286.8865)scale(0.1 -0.1)\">\n       <use xlink:href=\"#DejaVuSans-50\"/>\n       <use x=\"63.623047\" xlink:href=\"#DejaVuSans-53\"/>\n      </g>\n     </g>\n    </g>\n   </g>\n   <g id=\"patch_48\">\n    <path d=\"M 765.793966 294.118125 \nL 765.793966 170.57267 \n\" style=\"fill:none;stroke:#000000;stroke-linecap:square;stroke-linejoin:miter;stroke-width:0.8;\"/>\n   </g>\n   <g id=\"patch_49\">\n    <path d=\"M 889.33942 294.118125 \nL 889.33942 170.57267 \n\" style=\"fill:none;stroke:#000000;stroke-linecap:square;stroke-linejoin:miter;stroke-width:0.8;\"/>\n   </g>\n   <g id=\"patch_50\">\n    <path d=\"M 765.793966 294.118125 \nL 889.33942 294.118125 \n\" style=\"fill:none;stroke:#000000;stroke-linecap:square;stroke-linejoin:miter;stroke-width:0.8;\"/>\n   </g>\n   <g id=\"patch_51\">\n    <path d=\"M 765.793966 170.57267 \nL 889.33942 170.57267 \n\" style=\"fill:none;stroke:#000000;stroke-linecap:square;stroke-linejoin:miter;stroke-width:0.8;\"/>\n   </g>\n   <g id=\"text_100\">\n    <!-- J -->\n    <g transform=\"translate(825.796693 164.57267)scale(0.12 -0.12)\">\n     <use xlink:href=\"#DejaVuSans-74\"/>\n    </g>\n   </g>\n  </g>\n </g>\n <defs>\n  <clipPath id=\"pfc89e85f78\">\n   <rect height=\"123.545455\" width=\"123.545455\" x=\"26.925\" y=\"22.318125\"/>\n  </clipPath>\n  <clipPath id=\"p161486c810\">\n   <rect height=\"123.545455\" width=\"123.545455\" x=\"211.642241\" y=\"22.318125\"/>\n  </clipPath>\n  <clipPath id=\"pc55d41f84e\">\n   <rect height=\"123.545455\" width=\"123.545455\" x=\"396.359483\" y=\"22.318125\"/>\n  </clipPath>\n  <clipPath id=\"p315b6f3db4\">\n   <rect height=\"123.545455\" width=\"123.545455\" x=\"581.076724\" y=\"22.318125\"/>\n  </clipPath>\n  <clipPath id=\"p3ccbe0c18c\">\n   <rect height=\"123.545455\" width=\"123.545455\" x=\"765.793966\" y=\"22.318125\"/>\n  </clipPath>\n  <clipPath id=\"p4498202842\">\n   <rect height=\"123.545455\" width=\"123.545455\" x=\"26.925\" y=\"170.57267\"/>\n  </clipPath>\n  <clipPath id=\"p9abe3f728a\">\n   <rect height=\"123.545455\" width=\"123.545455\" x=\"211.642241\" y=\"170.57267\"/>\n  </clipPath>\n  <clipPath id=\"pcdabcb8755\">\n   <rect height=\"123.545455\" width=\"123.545455\" x=\"396.359483\" y=\"170.57267\"/>\n  </clipPath>\n  <clipPath id=\"p481258ab28\">\n   <rect height=\"123.545455\" width=\"123.545455\" x=\"581.076724\" y=\"170.57267\"/>\n  </clipPath>\n  <clipPath id=\"p9a497e0c30\">\n   <rect height=\"123.545455\" width=\"123.545455\" x=\"765.793966\" y=\"170.57267\"/>\n  </clipPath>\n </defs>\n</svg>\n",
      "text/plain": "<Figure size 1152x360 with 10 Axes>"
     },
     "metadata": {
      "needs_background": "light"
     },
     "output_type": "display_data"
    }
   ],
   "source": [
    "fig, axis = plt.subplots(2, 5, figsize=(16, 5))\n",
    "for ax in axis.reshape(-1):\n",
    "    r = np.random.randint(trainData.shape[0])\n",
    "    plot(trainData[r], trainTarget[r], ax=ax)\n",
    "plt.show()"
   ]
  },
  {
   "cell_type": "markdown",
   "metadata": {},
   "source": [
    "Some useful functions that will be used throughout the assignment"
   ]
  },
  {
   "cell_type": "code",
   "execution_count": 17,
   "metadata": {},
   "outputs": [],
   "source": [
    "def augment(X, w, b):\n",
    "    # flatten X\n",
    "    if len(X.shape) == 3:\n",
    "        X = X.reshape(X.shape[0], -1)\n",
    "    \n",
    "    # insert 1's at position 0 along the columns\n",
    "    X = np.insert(X, 0, 1, axis=1)\n",
    "    \n",
    "    # insert b at the front of W\n",
    "    w = np.insert(w, 0, b, axis=0)\n",
    "    \n",
    "    return X, w\n",
    "\n",
    "def get_zero_parameters():\n",
    "    w = np.zeros(d)\n",
    "    b = np.zeros(1)\n",
    "    return w, b\n",
    "\n",
    "def get_random_parameters():\n",
    "    w = np.random.uniform(low=-1.0, high=1.0, size=(d,))\n",
    "    b = np.random.uniform(low=-1.0, high=1.0, size=(1,))\n",
    "    return w, b"
   ]
  },
  {
   "cell_type": "code",
   "execution_count": 18,
   "metadata": {},
   "outputs": [],
   "source": [
    "def predict(w, b, X):\n",
    "    X = X.reshape(X.shape[0], -1)\n",
    "    return X.dot(w) + b\n",
    "\n",
    "def accuracy(w, b, X, y):\n",
    "    y = y.reshape(-1)\n",
    "    y_pred = predict(w, b, X)\n",
    "    y_pred = np.vectorize(lambda z: 1 if z > 0 else 0)(y_pred)\n",
    "    return sum(y_pred == y) / y.shape[0]"
   ]
  },
  {
   "cell_type": "code",
   "execution_count": 19,
   "metadata": {},
   "outputs": [],
   "source": [
    "def plot_loss(x, train_loss=None, valid_loss=None, test_loss=None, title=None, ax=None):\n",
    "    ax = plt.gca() if ax == None else ax\n",
    "    if train_loss != None:\n",
    "        ax.plot(x, train_loss, label=\"Training Loss\")\n",
    "    if valid_loss != None:\n",
    "        ax.plot(x, valid_loss, label=\"Validation Loss\")\n",
    "    if test_loss != None:\n",
    "        ax.plot(x, test_loss, label=\"Testing Loss\")\n",
    "    \n",
    "    if title == None:\n",
    "        ax.set_title(\"Loss\")\n",
    "    else:\n",
    "        ax.set_title(title)\n",
    "    \n",
    "    ax.set_xlabel(\"Iterations\")\n",
    "    ax.set_xlim(left=0)\n",
    "    ax.set_ylabel(\"Loss\")\n",
    "    ax.legend(loc=\"upper right\")\n",
    "\n",
    "def plot_accuracy(x, train_accuracy=None, valid_accuracy=None, test_accuracy=None, title=None, ax=None):\n",
    "    ax = plt.gca() if ax == None else ax\n",
    "    if train_accuracy != None:\n",
    "        ax.plot(x, train_accuracy, label=\"Training Accuracy\")\n",
    "    if valid_accuracy != None:\n",
    "        ax.plot(x, valid_accuracy, label=\"Validation Accuracy\")\n",
    "    if test_accuracy != None:\n",
    "        ax.plot(x, test_accuracy, label=\"Testing Accuracy\")\n",
    "    \n",
    "    if title == None:\n",
    "        ax.set_title(\"Accuracy\")\n",
    "    else:\n",
    "        ax.set_title(title)\n",
    "\n",
    "    ax.set_xlabel(\"Iterations\")\n",
    "    ax.set_xlim(left=0)\n",
    "    ax.set_ylabel(\"Accuracy\")\n",
    "    ax.set_yticks(np.arange(0, 1.1, step=0.1))\n",
    "    ax.grid(linestyle='-', axis='y')\n",
    "    ax.legend(loc=\"lower right\")"
   ]
  },
  {
   "cell_type": "markdown",
   "metadata": {},
   "source": [
    "Some global variables that will be used throughout the assignment"
   ]
  },
  {
   "cell_type": "code",
   "execution_count": 20,
   "metadata": {},
   "outputs": [],
   "source": [
    "VTDatasets = {\"validData\" : validData, \"validTarget\" : validTarget,\n",
    "              \"testData\" : testData, \"testTarget\" : testTarget}\n",
    "\n",
    "N = trainData.shape[0]\n",
    "d = trainData.shape[1] * trainData.shape[2]"
   ]
  },
  {
   "cell_type": "markdown",
   "metadata": {},
   "source": [
    "# 1 Linear Regression\n",
    "### 1. Loss Function and Gradient\n",
    "\n",
    "$$\n",
    "\\hat{y}^{(n)} = W^T \\textbf{x}^{(n)} + b\n",
    "$$\n",
    "\n",
    "$$\n",
    "\\mathcal{L}_{MSE} = \\frac{1}{N}\\sum_{n=1}^N(\\hat{y}^{(n)} - y^{(n)})^2 + \\lambda \\Vert W \\Vert_2^2\n",
    "$$\n",
    "\n",
    "$$\n",
    "\\frac{\\partial \\mathcal{L}_{MSE}}{\\partial b} = \\frac{2}{N} \\sum_{n=1}^N (\\hat{y}^{(n)} - y^{(n)})\n",
    "$$\n",
    "\n",
    "$$\n",
    "\\frac{\\partial \\mathcal{L}_{MSE}}{\\partial W} = \\frac{2}{N} \\ X^T \\left ( \\hat{\n",
    "\\textbf{y}} - \\textbf{y} \\right ) + \\lambda W\n",
    "$$\n"
   ]
  },
  {
   "cell_type": "code",
   "execution_count": 27,
   "metadata": {},
   "outputs": [],
   "source": [
    "def MSE(w, b, X, y, reg):\n",
    "    X = X.reshape(X.shape[0], -1)\n",
    "    y = y.reshape(-1)\n",
    "    return np.square(X.dot(w) + b - y).mean() + reg * np.square(w).sum()\n",
    "\n",
    "def gradMSE(w, b, X, y, reg):\n",
    "    X = X.reshape(X.shape[0], -1)\n",
    "    y = y.reshape(-1)\n",
    "    N = y.shape[0]\n",
    "    \n",
    "    w_grad = 2.0/N * X.T.dot(X.dot(w) + b - y) + reg * w\n",
    "    b_grad = 2.0/N * np.sum(X.dot(w) + b - y)\n",
    "    return w_grad, b_grad"
   ]
  },
  {
   "cell_type": "markdown",
   "metadata": {},
   "source": [
    "### 2. Gradient Descent Implementation"
   ]
  },
  {
   "cell_type": "code",
   "execution_count": 28,
   "metadata": {},
   "outputs": [],
   "source": [
    "def grad_descent_MSE(w, b, X, y, alpha, epochs, reg, error_tol=1e-7, \n",
    "                     validData=None, validTarget=None, testData=None, testTarget=None):\n",
    "    train_loss, train_acc = [], []\n",
    "    valid_loss, valid_acc = [], []\n",
    "    test_loss, test_acc = [], []\n",
    "    for i in range(epochs):\n",
    "        grad_w, grad_b = gradMSE(w, b, X, y, reg)\n",
    "        w -= alpha * grad_w\n",
    "        b -= alpha * grad_b\n",
    "        \n",
    "        # Calculating Statistics\n",
    "        train_loss.append( MSE(w, b, X, y, reg) )\n",
    "        train_acc.append( accuracy(w, b, X, y) )\n",
    "\n",
    "        if not validData is None and not validTarget is None:\n",
    "            valid_loss.append( MSE(w, b, validData, validTarget, reg) )\n",
    "            valid_acc.append( accuracy(w, b, validData, validTarget) )\n",
    "        if not testData is None and not testTarget is None:\n",
    "            test_loss.append( MSE(w, b, testData, testTarget, reg) )\n",
    "            test_acc.append( accuracy(w, b, testData, testTarget) )\n",
    "\n",
    "        # Check stopping condition\n",
    "        if i > 1 and np.abs(train_loss[-2] - train_loss[-1]) <= error_tol:\n",
    "            break\n",
    "\n",
    "    statistics = (train_loss, train_acc)\n",
    "    if not validData is None and not validTarget is None:\n",
    "        statistics += (valid_loss, valid_acc, )\n",
    "    if not testData is None and not testTarget is None:\n",
    "        statistics += (test_loss, test_acc,)\n",
    "    # Python 3.8 made this easier, but 3.7 you have to do this\n",
    "    out = (w, b, *statistics)\n",
    "    \n",
    "    return out"
   ]
  },
  {
   "cell_type": "markdown",
   "metadata": {},
   "source": [
    "### 3. Tuning the Learning Rate"
   ]
  },
  {
   "cell_type": "code",
   "execution_count": 1,
   "metadata": {},
   "outputs": [
    {
     "name": "stdout",
     "output_type": "stream",
     "text": "alpha = 0.005\n"
    },
    {
     "ename": "NameError",
     "evalue": "name 'get_random_parameters' is not defined",
     "output_type": "error",
     "traceback": [
      "\u001b[0;31m---------------------------------------------------------------------------\u001b[0m",
      "\u001b[0;31mNameError\u001b[0m                                 Traceback (most recent call last)",
      "\u001b[0;32m<ipython-input-1-f50a13dede4d>\u001b[0m in \u001b[0;36m<module>\u001b[0;34m\u001b[0m\n\u001b[1;32m      7\u001b[0m     \u001b[0mprint\u001b[0m\u001b[0;34m(\u001b[0m\u001b[0;34m\"alpha =\"\u001b[0m\u001b[0;34m,\u001b[0m \u001b[0malpha\u001b[0m\u001b[0;34m)\u001b[0m\u001b[0;34m\u001b[0m\u001b[0;34m\u001b[0m\u001b[0m\n\u001b[1;32m      8\u001b[0m \u001b[0;34m\u001b[0m\u001b[0m\n\u001b[0;32m----> 9\u001b[0;31m     \u001b[0mw\u001b[0m\u001b[0;34m,\u001b[0m \u001b[0mb\u001b[0m \u001b[0;34m=\u001b[0m \u001b[0mget_random_parameters\u001b[0m\u001b[0;34m(\u001b[0m\u001b[0;34m)\u001b[0m\u001b[0;34m\u001b[0m\u001b[0;34m\u001b[0m\u001b[0m\n\u001b[0m\u001b[1;32m     10\u001b[0m     w, b, *statistics = grad_descent_MSE(w, b, trainData, trainTarget, \n\u001b[1;32m     11\u001b[0m                                          \u001b[0malpha\u001b[0m\u001b[0;34m=\u001b[0m\u001b[0malpha\u001b[0m\u001b[0;34m,\u001b[0m\u001b[0;34m\u001b[0m\u001b[0;34m\u001b[0m\u001b[0m\n",
      "\u001b[0;31mNameError\u001b[0m: name 'get_random_parameters' is not defined"
     ]
    }
   ],
   "source": [
    "# Test your implementation of Gradient Descent with 5000 epochs and \\lambda = 0. Investigate the\n",
    "# impact of learning rate, \\alpha = 0.005, 0.001, 0.0001 on the performance of your classifier. \n",
    "# Plot the training, validation and test losses.\n",
    "\n",
    "for alpha in [0.005, 0.001, 0.0001]:\n",
    "    \n",
    "    print(\"alpha =\", alpha)\n",
    "    \n",
    "    w, b = get_random_parameters()\n",
    "    w, b, *statistics = grad_descent_MSE(w, b, trainData, trainTarget, \n",
    "                                         alpha=alpha, \n",
    "                                         epochs=5000, \n",
    "                                         reg=0, \n",
    "                                         **VTDatasets)\n",
    "    train_loss, train_acc, valid_loss, valid_acc, test_loss, test_acc = statistics\n",
    "    \n",
    "    print(f\"Training loss: {train_loss[-1]:.4f}{'':20s}Training acc: {train_acc[-1]*100:.2f}%\")\n",
    "    print(f\"Validation loss: {valid_loss[-1]:.4f}{'':18s}Validation acc: {valid_acc[-1]*100:.2f}%\")\n",
    "    print(f\"Testing loss: {test_loss[-1]:.4f}{'':21s}Testing acc: {test_acc[-1]*100:.2f}%\")\n",
    "    \n",
    "    fig, ax = plt.subplots(1, 2, figsize=(18, 6))\n",
    "    plot_loss(np.arange(0, len(train_loss), 1), train_loss, valid_loss, test_loss, ax=ax[0])\n",
    "    plot_accuracy(np.arange(0, len(train_loss), 1), train_acc, valid_acc, test_acc, ax=ax[1])\n",
    "    plt.show()\n",
    "    plt.close()"
   ]
  },
  {
   "cell_type": "markdown",
   "metadata": {},
   "source": [
    "### 4. Generalization"
   ]
  },
  {
   "cell_type": "code",
   "execution_count": 0,
   "metadata": {},
   "outputs": [],
   "source": [
    "# Investigate impact by modifying the regularization parameter, \\lambda = {0.001, 0.1, 0.5}. \n",
    "# Plot the training, validation and test loss for \\alpha = 0:005 and report the final training, \n",
    "# validation and test accuracy of your classifier.\n",
    "\n",
    "for reg in [0.001, 0.1, 0.5]:\n",
    "    \n",
    "    print(\"regularization =\", reg)\n",
    "    \n",
    "    w, b = get_random_parameters()\n",
    "    w, b, *statistics = grad_descent_MSE(w, b, trainData, trainTarget, \n",
    "                                         alpha=0.005, \n",
    "                                         epochs=5000, \n",
    "                                         reg=reg, \n",
    "                                         **VTDatasets)\n",
    "    train_loss, train_acc, valid_loss, valid_acc, test_loss, test_acc = statistics\n",
    "    \n",
    "    print(f\"Training loss: {train_loss[-1]:.4f}{'':.20s}\\tTraining acc: {train_acc[-1]*100:.2f}%\")\n",
    "    print(f\"Validation loss: {valid_loss[-1]:.4f}\\tValidation acc: {valid_acc[-1]*100:.2f}%\")\n",
    "    print(f\"Testing loss: {test_loss[-1]:.4f}\\tTesting acc: {test_acc[-1]*100:.2f}%\")\n",
    "    \n",
    "    fig, ax = plt.subplots(1, 2, figsize=(18, 6))\n",
    "    plot_loss(np.arange(0, len(train_loss), 1), train_loss, valid_loss, test_loss, ax=ax[0])\n",
    "    plot_accuracy(np.arange(0, len(train_loss), 1), train_acc, valid_acc, test_acc, ax=ax[1])\n",
    "    plt.show()\n",
    "    plt.close()"
   ]
  },
  {
   "cell_type": "markdown",
   "metadata": {},
   "source": [
    "### 5. Comparing Batch GD with normal equation"
   ]
  },
  {
   "cell_type": "code",
   "execution_count": 0,
   "metadata": {},
   "outputs": [],
   "source": [
    "def least_squares(X, y):\n",
    "    N = X.shape[0]\n",
    "    d = X.shape[1] * X.shape[2]\n",
    "    X = X.reshape(X.shape[0], -1)\n",
    "    X = np.insert(X, 0, 1, axis=1)\n",
    "    y = y.reshape(-1)\n",
    "    \n",
    "    # overparameterized (deep learning)\n",
    "    if N < d:\n",
    "        w_aug = X.T @ np.linalg.inv( X @ X.T ) @ y\n",
    "    \n",
    "    # underparameterized (typical case)\n",
    "    else:\n",
    "        w_aug = np.linalg.inv( X.T @ X ) @ X.T @ y\n",
    "    \n",
    "    return w_aug[1:], w_aug[0]"
   ]
  },
  {
   "cell_type": "code",
   "execution_count": 0,
   "metadata": {},
   "outputs": [],
   "source": [
    "# compare above to gradient descent solution\n",
    "w_LS, b_LS = least_squares(trainData, trainTarget)\n",
    "\n",
    "loss = MSE(w_LS, b_LS, trainData, trainTarget, 0)\n",
    "acc = accuracy(w_LS, b_LS, trainData, trainTarget)\n",
    "print(f\"Least Squares Training loss: {loss:.4f}\\tLeast Squares Training acc: {100*acc:.2f}%\")\n",
    "loss = MSE(w_LS, b_LS, validData, validTarget, 0)\n",
    "acc = accuracy(w_LS, b_LS, validData, validTarget)\n",
    "print(f\"Least Squares Validation loss: {loss:.4f}\\tLeast Squares Validation acc: {100*acc:.2f}%\")\n",
    "loss = MSE(w_LS, b_LS, testData, testTarget, 0)\n",
    "acc = accuracy(w_LS, b_LS, testData, testTarget)\n",
    "print(f\"Least Squares Testing loss: {loss:.4f}\\tLeast Squares Testing acc: {100*acc:.2f}%\")"
   ]
  },
  {
   "cell_type": "markdown",
   "metadata": {},
   "source": [
    "With the analytical solution, the training loss achieved with the analytical equation is 0.0187 with a training accuracy of 71.29%. The training loss and accuracies for batch gradient descent were respectively 0.6918 and 67.97%. From the values, we see that the analytical solution performed better. However, computing it grows increasingly difficult with the size of the problem. As the problem scales, batch gradient descent allows for faster convergence with comparable accuracies."
   ]
  },
  {
   "cell_type": "markdown",
   "metadata": {},
   "source": [
    "# 2 Logistic Regression\n",
    "## 2.1 Binary cross-entropy loss\n",
    "### 1. Loss Function and Gradient\n",
    "\n",
    "$$\n",
    "\\sigma(z) = \\frac{1}{1 + e^{-z}}\n",
    "$$\n",
    "\n",
    "$$\n",
    "\\hat{y}^{(n)} = \\sigma(W^T\\textbf{x}^{(n)} + b)\n",
    "$$\n",
    "\n",
    "$$\n",
    "\\mathcal{L}_{CE} = \\frac{1}{N}\\sum_{n=1}^{N} \\left [ -y^{(n)} \\log(\\hat{y}^{(n)}) -(1- y^{(n)}) \\log (1 - \\hat{y}^{(n)} ) \\right ] + \\frac{\\lambda}{2} \\Vert W \\Vert^2_2\n",
    "$$\n",
    "\n",
    "$$\n",
    "\\frac{\\partial \\mathcal{L}_{CE}}{\\partial b} = \\frac{1}{N} \\sum_{n=1}^{N} \\left [ \\hat{y}^{(n)} - y^{(n)} \\right ]\n",
    "$$\n",
    "\n",
    "$$\n",
    "\\frac{\\partial \\mathcal{L}_{CE}}{\\partial W} = \\frac{1}{N} \\sum_{n=1}^{N} \\left [ (\\hat{y}^{(n)} - y^{(n)}) \\ \\textbf{x}^{(n)} \\right ] + \\lambda W\n",
    "$$"
   ]
  },
  {
   "cell_type": "code",
   "execution_count": 0,
   "metadata": {},
   "outputs": [],
   "source": [
    "def sigmoid(z):\n",
    "    return 1.0 / (1 + np.exp(-z))\n",
    "    \n",
    "def crossEntropyLoss(w, b, X, y, reg):    \n",
    "    X, w = augment(X, w, b)\n",
    "    y = y.reshape(-1)\n",
    "    N = y.shape[0]\n",
    "    \n",
    "    y_hat = sigmoid(X.dot(w))\n",
    "    \n",
    "    return 1.0/N * (-y.dot(np.log(y_hat+1e-20)) - (1 - y).dot(np.log(1 - y_hat+1e-20))) + reg/2.0 * np.square(w[1:]).sum()\n",
    "    \n",
    "def gradCE(w, b, X, y, reg):\n",
    "    X, w = augment(X, w, b)\n",
    "    y = y.reshape(-1)\n",
    "    N = y.shape[0]\n",
    "    \n",
    "    y_hat = sigmoid(X.dot(w))\n",
    "    \n",
    "    grad = 1.0 /N * X.T.dot(y_hat - y) + reg * w\n",
    "    \n",
    "    return grad[1:], grad[0] - reg * w[0]"
   ]
  },
  {
   "cell_type": "markdown",
   "metadata": {},
   "source": [
    "### 2. Learning"
   ]
  },
  {
   "cell_type": "code",
   "execution_count": 0,
   "metadata": {},
   "outputs": [],
   "source": [
    "def grad_descent(w, b, X, y, alpha, epochs, reg, error_tol=1e-7, lossType=\"MSE\", \n",
    "                 validData=None, validTarget=None, testData=None, testTarget=None):\n",
    "    loss_func, grad_func = None, None\n",
    "    if lossType == \"MSE\":\n",
    "        loss_func, grad_func = MSE, gradMSE\n",
    "    elif lossType == \"CE\":\n",
    "        loss_func, grad_func = crossEntropyLoss, gradCE\n",
    "    else:\n",
    "        raise ValueError(\"Variable 'lossType' must be either 'MSE' or 'CE'.\")\n",
    "    \n",
    "    train_loss, train_acc = [], []\n",
    "    valid_loss, valid_acc = [], []\n",
    "    test_loss, test_acc = [], []\n",
    "    printing = False\n",
    "    for i in range(epochs):\n",
    "        grad_w, grad_b = grad_func(w, b, X, y, reg)\n",
    "        w -= alpha * grad_w\n",
    "        b -= alpha * grad_b\n",
    "\n",
    "        # Calculating Statistics\n",
    "        train_loss.append(loss_func(w, b, X, y, reg))\n",
    "        train_acc.append(accuracy(w, b, X, y))\n",
    "\n",
    "        if not validData is None and not validTarget is None:\n",
    "            valid_loss.append(loss_func(w, b, validData, validTarget, reg))\n",
    "            valid_acc.append(accuracy(w, b, validData, validTarget))\n",
    "        if not testData is None and not testTarget is None:\n",
    "            test_loss.append(loss_func(w, b, testData, testTarget, reg))\n",
    "            test_acc.append(accuracy(w, b, testData, testTarget))\n",
    "\n",
    "        # Check stopping condition\n",
    "        if i > 1 and np.abs(train_loss[-2] - train_loss[-1]) <= error_tol:\n",
    "            break\n",
    "\n",
    "    statistics = (train_loss, train_acc)\n",
    "    if not validData is None and not validTarget is None:\n",
    "        statistics += (valid_loss, valid_acc,)\n",
    "    if not testData is None and not testTarget is None:\n",
    "        statistics += (test_loss, test_acc,)\n",
    "    out = (w, b, *statistics)\n",
    "\n",
    "    return out"
   ]
  },
  {
   "cell_type": "code",
   "execution_count": 0,
   "metadata": {},
   "outputs": [],
   "source": [
    "w, b = get_random_parameters()\n",
    "w, b, *statistics = grad_descent(w, b, trainData, trainTarget, \n",
    "                                 alpha=0.005, \n",
    "                                 epochs=5000, \n",
    "                                 reg=0.1,\n",
    "                                 lossType='CE',\n",
    "                                 **VTDatasets)\n",
    "train_loss, train_acc, valid_loss, valid_acc, test_loss, test_acc = statistics\n",
    "\n",
    "print(f\"Training loss: {train_loss[-1]:.4f}{'':.20s}\\tTraining acc: {train_acc[-1]*100:.2f}%\")\n",
    "print(f\"Validation loss: {valid_loss[-1]:.4f}\\tValidation acc: {valid_acc[-1]*100:.2f}%\")\n",
    "print(f\"Testing loss: {test_loss[-1]:.4f}\\tTesting acc: {test_acc[-1]*100:.2f}%\")\n",
    "\n",
    "fig, ax = plt.subplots(1, 2, figsize=(18, 6))\n",
    "plot_loss(np.arange(0, len(train_loss), 1), train_loss, valid_loss, test_loss, ax=ax[0])\n",
    "plot_accuracy(np.arange(0, len(train_loss), 1), train_acc, valid_acc, test_acc, ax=ax[1])\n",
    "plt.show()"
   ]
  },
  {
   "cell_type": "markdown",
   "metadata": {},
   "source": [
    "### 3. Comparision to Linear Regression"
   ]
  },
  {
   "cell_type": "code",
   "execution_count": 0,
   "metadata": {},
   "outputs": [],
   "source": [
    "# For zero weight decay, learning rate of 0.005 and 5000 epochs, \n",
    "# plot the training cross entropy loss and MSE loss for \n",
    "# logistic regression and linear regression respectively.\n",
    "# Comment on the effect of cross-entropy loss convergence behaviour.\n",
    "\n",
    "w, b = get_random_parameters()\n",
    "\n",
    "# Linear Regresesion\n",
    "print(\"Linear Regression\")\n",
    "w_lin, b_lin, *statistics = grad_descent(w, b, trainData, trainTarget, \n",
    "                                         alpha=0.005, \n",
    "                                         epochs=5000, \n",
    "                                         reg=0,\n",
    "                                         lossType='MSE',\n",
    "                                         **VTDatasets)\n",
    "train_loss, train_acc, valid_loss, valid_acc, test_loss, test_acc = statistics\n",
    "\n",
    "print(f\"Training loss: {train_loss[-1]:.4f}{'':.20s}\\tTraining acc: {train_acc[-1]*100:.2f}%\")\n",
    "print(f\"Validation loss: {valid_loss[-1]:.4f}\\tValidation acc: {valid_acc[-1]*100:.2f}%\")\n",
    "print(f\"Testing loss: {test_loss[-1]:.4f}\\tTesting acc: {test_acc[-1]*100:.2f}%\")\n",
    "\n",
    "fig, ax = plt.subplots(1, 2, figsize=(18, 6))\n",
    "plot_loss(np.arange(0, len(train_loss), 1), train_loss, valid_loss, test_loss, ax=ax[0])\n",
    "plot_accuracy(np.arange(0, len(train_loss), 1), train_acc, valid_acc, test_acc, ax=ax[1])\n",
    "plt.show()\n",
    "\n",
    "\n",
    "# Logistic Regression\n",
    "print(\"Logistic Regression\")\n",
    "w_log, b_log, *statistics = grad_descent(w, b, trainData, trainTarget, \n",
    "                                         alpha=0.005, \n",
    "                                         epochs=5000, \n",
    "                                         reg=0,\n",
    "                                         lossType='CE',\n",
    "                                         **VTDatasets)\n",
    "train_loss, train_acc, valid_loss, valid_acc, test_loss, test_acc = statistics\n",
    "\n",
    "print(f\"Training loss: {train_loss[-1]:.4f}{'':.20s}\\tTraining acc: {train_acc[-1]*100:.2f}%\")\n",
    "print(f\"Validation loss: {valid_loss[-1]:.4f}\\tValidation acc: {valid_acc[-1]*100:.2f}%\")\n",
    "print(f\"Testing loss: {test_loss[-1]:.4f}\\tTesting acc: {test_acc[-1]*100:.2f}%\")\n",
    "\n",
    "fig, ax = plt.subplots(1, 2, figsize=(18, 6))\n",
    "plot_loss(np.arange(0, len(train_loss), 1), train_loss, valid_loss, test_loss, ax=ax[0])\n",
    "plot_accuracy(np.arange(0, len(train_loss), 1), train_acc, valid_acc, test_acc, ax=ax[1])\n",
    "plt.show()\n",
    "\n",
    "# Sandra"
   ]
  },
  {
   "cell_type": "markdown",
   "metadata": {},
   "source": [
    "# 3 Batch Gradient Descent vs. SGD and Adam\n",
    "## 3.1 SGD\n",
    "### 1. Building the Computational Graph"
   ]
  },
  {
   "cell_type": "code",
   "execution_count": 0,
   "metadata": {},
   "outputs": [],
   "source": [
    "def buildGraph(beta1=None, beta2=None, epsilon=None, alpha=0.001, loss=\"MSE\", seed=421):\n",
    "    # Initialize weight and bias tensors\n",
    "    # tf.set_random_seed(seed)\n",
    "    tf.compat.v1.set_random_seed(seed)\n",
    "    # tf.compat.v1.disable_eager_execution()\n",
    "    \n",
    "\n",
    "    # Getting small random initial values for weights and bias\n",
    "    w = tf.random.truncated_normal([d, 1], stddev=0.5)\n",
    "    b = tf.random.truncated_normal([1, 1], stddev=0.5)\n",
    "    # w = tf.truncated_normal([d, 1], stddev=0.5)\n",
    "    # b = tf.truncated_normal([1, 1], stddev=0.5)\n",
    "\n",
    "    # Converting into tensorflow Variable objects\n",
    "    w = tf.Variable(w, name=\"weights\")\n",
    "    b = tf.Variable(b, name=\"bias\")\n",
    "\n",
    "    # tensorflow objects for data\n",
    "    X = tf.compat.v1.placeholder(tf.float32, (None, d))\n",
    "    y = tf.compat.v1.placeholder(tf.int8, (None, 1))\n",
    "    # X = tf.placeholder(tf.float32, (None, d))\n",
    "    # y = tf.placeholder(tf.int8, (None, 1))\n",
    "    reg = tf.Variable(tf.ones(1), name=\"reg\")\n",
    "\n",
    "    y_pred = None\n",
    "    loss_tensor = None\n",
    "    if loss == \"MSE\":\n",
    "        y_pred = tf.matmul(X, w) + b\n",
    "        loss_tensor = tf.losses.mean_squared_error(y, y_pred)\n",
    "    elif loss == \"CE\":\n",
    "        y_pred = tf.sigmoid(tf.matmul(X, w) + tf.convert_to_tensor(b))\n",
    "        loss_tensor = tf.losses.sigmoid_cross_entropy(y, y_pred)\n",
    "    else:\n",
    "        raise ValueError(\"Variable 'lossType' must be either 'MSE' or 'CE'.\")\n",
    "\n",
    "    # opt = tf.train.AdamOptimizer(learning_rate=alpha, beta1=beta1, beta2=beta2, epsilon=epsilon)\n",
    "    opt = tf.optimizers.Adam(learning_rate=alpha, beta_1=beta1, beta_2=beta2, epsilon=epsilon)\n",
    "    # opt_op = opt.minimize(loss_tensor)\n",
    "    opt_op = opt.minimize(loss_tensor.numpy(), var_list=[w,b])\n",
    "\n",
    "    return w, b, reg, X, y, y_pred, loss_tensor, opt_op\n",
    "\n",
    "# test call to see output\n",
    "# buildGraph(trainData, trainTarget, beta1=0.95, beta2=0.99, epsilon=10^-5, alpha=0.001)"
   ]
  },
  {
   "cell_type": "markdown",
   "metadata": {},
   "source": [
    "### 2. Implementing Stochastic Gradient Descent"
   ]
  },
  {
   "cell_type": "code",
   "execution_count": 0,
   "metadata": {},
   "outputs": [],
   "source": [
    "class BatchLoader(object):\n",
    "\n",
    "    def __init__(self, data, batch_size=None, randomize=True, drop_last=False, seed=None):\n",
    "    \n",
    "        # error checking\n",
    "        if len(data) > 1:\n",
    "            for i in range(len(data)-1):\n",
    "                if data[i].shape[0] != data[i+1].shape[0]:\n",
    "                    raise ValueError(\"All inputs must have the same number of elements\")\n",
    "    \n",
    "        self.data = data if type(data) == tuple else (data, )\n",
    "        self.N = data[0].shape[0]\n",
    "        self.batch_size = batch_size if batch_size != None else self.N\n",
    "        self.drop_last = drop_last\n",
    "\n",
    "        # shuffling data\n",
    "        if randomize:\n",
    "            indices = np.arange(self.N)\n",
    "            np.random.seed(seed)\n",
    "            np.random.shuffle(indices)\n",
    "            self.data = tuple([d[indices] for d in self.data])\n",
    "    \n",
    "        self.index = 0 \n",
    "\n",
    "    def __iter__(self):\n",
    "        return self\n",
    "    \n",
    "    def __next__(self):\n",
    "    \n",
    "        # stop condition\n",
    "        if self.index >= self.N:\n",
    "            self.index = 0          # resetting index for next iteration\n",
    "            raise StopIteration\n",
    "\n",
    "        # iterating\n",
    "        self.index += self.batch_size\n",
    "    \n",
    "        if self.index > self.N:\n",
    "            if self.drop_last:\n",
    "                self.index = 0      # resetting index for next iteration\n",
    "                raise StopIteration\n",
    "            else:\n",
    "                return tuple([ d[self.index - self.batch_size: ] for d in self.data ])\n",
    "        else:\n",
    "            return tuple([ d[self.index - self.batch_size: self.index] for d in self.data ])"
   ]
  },
  {
   "cell_type": "code",
   "execution_count": 21,
   "metadata": {},
   "outputs": [],
   "source": [
    "def SGD(X, y, alpha, epochs, reg, error_tol=1e-7, lossType=\"CE\",\n",
    "              batch_size=500, randomize=True, beta1=None, beta2=None, epsilon=None,\n",
    "              validData=None, validTarget=None, testData=None, testTarget=None):\n",
    "    \n",
    "    optimizer, *_ = buildGraph(beta1=beta1, beta2=beta2, epsilon=epsilon, \n",
    "                               alpha=alpha, loss=lossType)\n",
    "    \n",
    "    train_loss, train_acc = [], []\n",
    "    valid_loss, valid_acc = [], []\n",
    "    test_loss, test_acc = [], []\n",
    "    printing = False\n",
    "    \n",
    "    batch_iter = BatchLoader((X, y), batch_size=batch_size, randomize=randomize)\n",
    "    \n",
    "    running_loss = 0.0\n",
    "    running_acc = 0.0\n",
    "    \n",
    "    for i in range(epochs):\n",
    "        for batch, targets in batch_iter:\n",
    "            \n",
    "            # do the update using the optimizer\n",
    "            \n",
    "            # Calculating Statistics\n",
    "            running_loss += loss_func(w, b, batch, targets, reg) * batch.shape[0]\n",
    "            running_acc += accuracy(w, b, batch, targets) * batch.shape[0]\n",
    "            \n",
    "            # Check stopping condition\n",
    "            if i > 1 and np.abs(train_loss[-2] - train_loss[-1]) <= error_tol:\n",
    "                break\n",
    "        else:\n",
    "            \"\"\"All of this will probably need to change slightly\"\"\"\n",
    "            # Calculating Statistics\n",
    "            train_loss.append(running_loss / X.shape[0])\n",
    "            train_acc.append(running_acc / X.shape[0])\n",
    "            running_loss = 0.0\n",
    "            running_acc = 0.0\n",
    "            \n",
    "            if not validData is None and not validTarget is None:\n",
    "                valid_loss.append(loss_func(w, b, validData, validTarget, reg))\n",
    "                valid_acc.append(accuracy(w, b, validData, validTarget))\n",
    "            if not testData is None and not testTarget is None:\n",
    "                test_loss.append(loss_func(w, b, testData, testTarget, reg))\n",
    "                test_acc.append(accuracy(w, b, testData, testTarget))\n",
    "            \n",
    "            continue\n",
    "        break\n",
    "\n",
    "    statistics = (train_loss, train_acc)\n",
    "    if not validData is None and not validTarget is None:\n",
    "        statistics += (valid_loss, valid_acc,)\n",
    "    if not testData is None and not testTarget is None:\n",
    "        statistics += (test_loss, test_acc,)\n",
    "    out = (w, b, *statistics)\n",
    "\n",
    "    return out"
   ]
  },
  {
   "cell_type": "code",
   "execution_count": 22,
   "metadata": {},
   "outputs": [
    {
     "ename": "RuntimeError",
     "evalue": "tf.placeholder() is not compatible with eager execution.",
     "output_type": "error",
     "traceback": [
      "\u001b[0;31m---------------------------------------------------------------------------\u001b[0m",
      "\u001b[0;31mRuntimeError\u001b[0m                              Traceback (most recent call last)",
      "\u001b[0;32m<ipython-input-22-171b80ff92fe>\u001b[0m in \u001b[0;36m<module>\u001b[0;34m\u001b[0m\n\u001b[1;32m     14\u001b[0m                         \u001b[0mlossType\u001b[0m\u001b[0;34m=\u001b[0m\u001b[0;34m'MSE'\u001b[0m\u001b[0;34m,\u001b[0m\u001b[0;34m\u001b[0m\u001b[0;34m\u001b[0m\u001b[0m\n\u001b[1;32m     15\u001b[0m                         \u001b[0mbatch_size\u001b[0m\u001b[0;34m=\u001b[0m\u001b[0;36m500\u001b[0m\u001b[0;34m,\u001b[0m\u001b[0;34m\u001b[0m\u001b[0;34m\u001b[0m\u001b[0m\n\u001b[0;32m---> 16\u001b[0;31m                         **VTDatasets)\n\u001b[0m\u001b[1;32m     17\u001b[0m \u001b[0mtrain_loss\u001b[0m\u001b[0;34m,\u001b[0m \u001b[0mtrain_acc\u001b[0m\u001b[0;34m,\u001b[0m \u001b[0mvalid_loss\u001b[0m\u001b[0;34m,\u001b[0m \u001b[0mvalid_acc\u001b[0m\u001b[0;34m,\u001b[0m \u001b[0mtest_loss\u001b[0m\u001b[0;34m,\u001b[0m \u001b[0mtest_acc\u001b[0m \u001b[0;34m=\u001b[0m \u001b[0mstatistics\u001b[0m\u001b[0;34m\u001b[0m\u001b[0;34m\u001b[0m\u001b[0m\n\u001b[1;32m     18\u001b[0m \u001b[0;34m\u001b[0m\u001b[0m\n",
      "\u001b[0;32m<ipython-input-21-7db2e3e0763c>\u001b[0m in \u001b[0;36mSGD\u001b[0;34m(X, y, alpha, epochs, reg, error_tol, lossType, batch_size, randomize, beta1, beta2, epsilon, validData, validTarget, testData, testTarget)\u001b[0m\n\u001b[1;32m      4\u001b[0m \u001b[0;34m\u001b[0m\u001b[0m\n\u001b[1;32m      5\u001b[0m     optimizer, *_ = buildGraph(beta1=beta1, beta2=beta2, epsilon=epsilon, \n\u001b[0;32m----> 6\u001b[0;31m                                alpha=alpha, loss=lossType)\n\u001b[0m\u001b[1;32m      7\u001b[0m \u001b[0;34m\u001b[0m\u001b[0m\n\u001b[1;32m      8\u001b[0m     \u001b[0mtrain_loss\u001b[0m\u001b[0;34m,\u001b[0m \u001b[0mtrain_acc\u001b[0m \u001b[0;34m=\u001b[0m \u001b[0;34m[\u001b[0m\u001b[0;34m]\u001b[0m\u001b[0;34m,\u001b[0m \u001b[0;34m[\u001b[0m\u001b[0;34m]\u001b[0m\u001b[0;34m\u001b[0m\u001b[0;34m\u001b[0m\u001b[0m\n",
      "\u001b[0;32m<ipython-input-9-d5b53dd9c6fc>\u001b[0m in \u001b[0;36mbuildGraph\u001b[0;34m(beta1, beta2, epsilon, alpha, loss, seed)\u001b[0m\n\u001b[1;32m     17\u001b[0m \u001b[0;34m\u001b[0m\u001b[0m\n\u001b[1;32m     18\u001b[0m     \u001b[0;31m# tensorflow objects for data\u001b[0m\u001b[0;34m\u001b[0m\u001b[0;34m\u001b[0m\u001b[0;34m\u001b[0m\u001b[0m\n\u001b[0;32m---> 19\u001b[0;31m     \u001b[0mX\u001b[0m \u001b[0;34m=\u001b[0m \u001b[0mtf\u001b[0m\u001b[0;34m.\u001b[0m\u001b[0mcompat\u001b[0m\u001b[0;34m.\u001b[0m\u001b[0mv1\u001b[0m\u001b[0;34m.\u001b[0m\u001b[0mplaceholder\u001b[0m\u001b[0;34m(\u001b[0m\u001b[0mtf\u001b[0m\u001b[0;34m.\u001b[0m\u001b[0mfloat32\u001b[0m\u001b[0;34m,\u001b[0m \u001b[0;34m(\u001b[0m\u001b[0;32mNone\u001b[0m\u001b[0;34m,\u001b[0m \u001b[0md\u001b[0m\u001b[0;34m)\u001b[0m\u001b[0;34m)\u001b[0m\u001b[0;34m\u001b[0m\u001b[0;34m\u001b[0m\u001b[0m\n\u001b[0m\u001b[1;32m     20\u001b[0m     \u001b[0my\u001b[0m \u001b[0;34m=\u001b[0m \u001b[0mtf\u001b[0m\u001b[0;34m.\u001b[0m\u001b[0mcompat\u001b[0m\u001b[0;34m.\u001b[0m\u001b[0mv1\u001b[0m\u001b[0;34m.\u001b[0m\u001b[0mplaceholder\u001b[0m\u001b[0;34m(\u001b[0m\u001b[0mtf\u001b[0m\u001b[0;34m.\u001b[0m\u001b[0mint8\u001b[0m\u001b[0;34m,\u001b[0m \u001b[0;34m(\u001b[0m\u001b[0;32mNone\u001b[0m\u001b[0;34m,\u001b[0m \u001b[0;36m1\u001b[0m\u001b[0;34m)\u001b[0m\u001b[0;34m)\u001b[0m\u001b[0;34m\u001b[0m\u001b[0;34m\u001b[0m\u001b[0m\n\u001b[1;32m     21\u001b[0m     \u001b[0;31m# X = tf.placeholder(tf.float32, (None, d))\u001b[0m\u001b[0;34m\u001b[0m\u001b[0;34m\u001b[0m\u001b[0;34m\u001b[0m\u001b[0m\n",
      "\u001b[0;32m~/anaconda3/envs/ece421/lib/python3.7/site-packages/tensorflow_core/python/ops/array_ops.py\u001b[0m in \u001b[0;36mplaceholder\u001b[0;34m(dtype, shape, name)\u001b[0m\n\u001b[1;32m   2625\u001b[0m   \"\"\"\n\u001b[1;32m   2626\u001b[0m   \u001b[0;32mif\u001b[0m \u001b[0mcontext\u001b[0m\u001b[0;34m.\u001b[0m\u001b[0mexecuting_eagerly\u001b[0m\u001b[0;34m(\u001b[0m\u001b[0;34m)\u001b[0m\u001b[0;34m:\u001b[0m\u001b[0;34m\u001b[0m\u001b[0;34m\u001b[0m\u001b[0m\n\u001b[0;32m-> 2627\u001b[0;31m     raise RuntimeError(\"tf.placeholder() is not compatible with \"\n\u001b[0m\u001b[1;32m   2628\u001b[0m                        \"eager execution.\")\n\u001b[1;32m   2629\u001b[0m \u001b[0;34m\u001b[0m\u001b[0m\n",
      "\u001b[0;31mRuntimeError\u001b[0m: tf.placeholder() is not compatible with eager execution."
     ]
    }
   ],
   "source": [
    "# Implement the SGD algorithm for a minibatch size of 500\n",
    "# optimizing over 700 epochs, minimizing the MSE (you will repeat this for the CE later).\n",
    "# Calculate the total number of batches required by dividing the number\n",
    "# of training instances by the minibatch size. After each epoch you will need to reshuffle the\n",
    "# training data and start sampling from the beginning again. Initially, set \\lambda = 0 and continue\n",
    "# to use the same \\alpha value (i.e. 0.001). After each epoch, store the training, validation and test\n",
    "# losses and accuracies. Use these to plot the loss and accuracy curves.\n",
    "\n",
    "w, b = get_random_parameters()\n",
    "w, b, *statistics = SGD(trainData, trainTarget, \n",
    "                        alpha=0.001, \n",
    "                        epochs=700, \n",
    "                        reg=0,\n",
    "                        lossType='MSE',\n",
    "                        batch_size=500,\n",
    "                        **VTDatasets)\n",
    "train_loss, train_acc, valid_loss, valid_acc, test_loss, test_acc = statistics\n",
    "\n",
    "fig, ax = plt.subplots(1, 2, figsize=(18, 6))\n",
    "plot_loss(np.arange(0, len(train_loss), 1), train_loss, valid_loss, test_loss, ax=ax[0])\n",
    "plot_accuracy(np.arange(0, len(train_loss), 1), train_acc, valid_acc, test_acc, ax=ax[1])\n",
    "plt.show()"
   ]
  },
  {
   "cell_type": "markdown",
   "metadata": {},
   "source": [
    "### 3. Batch Size Investigation"
   ]
  },
  {
   "cell_type": "code",
   "execution_count": 0,
   "metadata": {},
   "outputs": [],
   "source": [
    "for batch_size in [100, 700, 1750]:\n",
    "    \n",
    "    print(\"batch size =\", batch_size)\n",
    "    \n",
    "    w, b = get_random_parameters()\n",
    "    w, b, *statistics = SGD(w, b, trainData, trainTarget, \n",
    "                            alpha=0.001, \n",
    "                            epochs=700, \n",
    "                            reg=0,\n",
    "                            lossType='CE',\n",
    "                            batch_size=500,\n",
    "                            **VTDatasets)\n",
    "    train_loss, train_acc, valid_loss, valid_acc, test_loss, test_acc = statistics\n",
    "    \n",
    "    print(f\"Training loss: {train_loss[-1]:.4f}{'':20s}Training acc: {train_acc[-1]*100:.2f}%\")\n",
    "    print(f\"Validation loss: {valid_loss[-1]:.4f}{'':18s}Validation acc: {valid_acc[-1]*100:.2f}%\")\n",
    "    print(f\"Testing loss: {test_loss[-1]:.4f}{'':21s}Testing acc: {test_acc[-1]*100:.2f}%\")\n",
    "    \n",
    "    fig, ax = plt.subplots(1, 2, figsize=(18, 6))\n",
    "    plot_loss(np.arange(0, len(train_loss), 1), train_loss, valid_loss, test_loss, ax=ax[0])\n",
    "    plot_accuracy(np.arange(0, len(train_loss), 1), train_acc, valid_acc, test_acc, ax=ax[1])\n",
    "    plt.show()\n",
    "    plt.close()"
   ]
  },
  {
   "cell_type": "markdown",
   "metadata": {},
   "source": [
    "### 4. Hyperparameter Investigation"
   ]
  },
  {
   "cell_type": "code",
   "execution_count": 0,
   "metadata": {},
   "outputs": [],
   "source": [
    "for beta1 in [0.95, 0.99]:\n",
    "    for beta2 in [0.99, 0.9999]:\n",
    "        for epsilon in [1e-9, 1e-4]:\n",
    "            \n",
    "            print(f\"beta1: {beta1}\\tbeta2: {beta2}\\tepsilon: {epsilon}\")\n",
    "            \n",
    "            \"\"\" Call SGD\n",
    "            w, b, *statistics = SGD(w, b, trainData, trainTarget, \n",
    "                            alpha=0.001, \n",
    "                            epochs=700, \n",
    "                            reg=0,\n",
    "                            lossType='MSE',\n",
    "                            batch_size=500,\n",
    "                            **VTDatasets)\n",
    "            \"\"\"\n",
    "            train_loss, train_acc, valid_loss, valid_acc, test_loss, test_acc = statistics\n",
    "    \n",
    "            print(f\"Training loss: {train_loss[-1]:.4f}{'':20s}Training acc: {train_acc[-1]*100:.2f}%\")\n",
    "            print(f\"Validation loss: {valid_loss[-1]:.4f}{'':18s}Validation acc: {valid_acc[-1]*100:.2f}%\")\n",
    "            print(f\"Testing loss: {test_loss[-1]:.4f}{'':21s}Testing acc: {test_acc[-1]*100:.2f}%\")\n",
    "\n",
    "            fig, ax = plt.subplots(1, 2, figsize=(18, 6))\n",
    "            plot_loss(np.arange(0, len(train_loss), 1), train_loss, valid_loss, test_loss, ax=ax[0])\n",
    "            plot_accuracy(np.arange(0, len(train_loss), 1), train_acc, valid_acc, test_acc, ax=ax[1])\n",
    "            plt.show()\n",
    "            plt.close()"
   ]
  },
  {
   "cell_type": "markdown",
   "metadata": {},
   "source": [
    "### 5. Cross Entropy Loss Investigation"
   ]
  },
  {
   "cell_type": "code",
   "execution_count": 0,
   "metadata": {},
   "outputs": [],
   "source": [
    "# 3.1.2 with Cross Entropy Loss\n",
    "w, b = get_random_parameters()\n",
    "w, b, *statistics = SGD(w, b, trainData, trainTarget, \n",
    "                        alpha=0.001, \n",
    "                        epochs=700, \n",
    "                        reg=0,\n",
    "                        lossType='CE',\n",
    "                        batch_size=500,\n",
    "                        **VTDatasets)\n",
    "train_loss, train_acc, valid_loss, valid_acc, test_loss, test_acc = statistics\n",
    "\n",
    "fig, ax = plt.subplots(1, 2, figsize=(18, 6))\n",
    "plot_loss(np.arange(0, len(train_loss), 1), train_loss, valid_loss, test_loss, ax=ax[0])\n",
    "plot_accuracy(np.arange(0, len(train_loss), 1), train_acc, valid_acc, test_acc, ax=ax[1])\n",
    "plt.show()\n",
    "\n",
    "# 3.1.4 with Cross Entropy Loss\n",
    "for beta1 in [0.95, 0.99]:\n",
    "    for beta2 in [0.99, 0.9999]:\n",
    "        for epsilon in [1e-9, 1e-4]:\n",
    "            \n",
    "            print(f\"beta1: {beta1}\\tbeta2: {beta2}\\tepsilon: {epsilon}\")\n",
    "            \n",
    "            \"\"\" Call SGD\n",
    "            w, b, *statistics = SGD(w, b, trainData, trainTarget, \n",
    "                            alpha=0.001, \n",
    "                            epochs=700, \n",
    "                            reg=0,\n",
    "                            lossType='CE',\n",
    "                            batch_size=500,\n",
    "                            **VTDatasets)\n",
    "            \"\"\"\n",
    "            train_loss, train_acc, valid_loss, valid_acc, test_loss, test_acc = statistics\n",
    "    \n",
    "            print(f\"Training loss: {train_loss[-1]:.4f}{'':20s}Training acc: {train_acc[-1]*100:.2f}%\")\n",
    "            print(f\"Validation loss: {valid_loss[-1]:.4f}{'':18s}Validation acc: {valid_acc[-1]*100:.2f}%\")\n",
    "            print(f\"Testing loss: {test_loss[-1]:.4f}{'':21s}Testing acc: {test_acc[-1]*100:.2f}%\")\n",
    "\n",
    "            fig, ax = plt.subplots(1, 2, figsize=(18, 6))\n",
    "            plot_loss(np.arange(0, len(train_loss), 1), train_loss, valid_loss, test_loss, ax=ax[0])\n",
    "            plot_accuracy(np.arange(0, len(train_loss), 1), train_acc, valid_acc, test_acc, ax=ax[1])\n",
    "            plt.show()\n",
    "            plt.close()"
   ]
  },
  {
   "cell_type": "markdown",
   "metadata": {},
   "source": [
    "### 6. Comparison against Batch GD"
   ]
  },
  {
   "cell_type": "code",
   "execution_count": 0,
   "metadata": {},
   "outputs": [],
   "source": [
    "# Sandra"
   ]
  }
 ],
 "metadata": {
  "kernelspec": {
   "display_name": "Python 3.7.6 64-bit ('ece421': conda)",
   "language": "python",
   "name": "python37664bitece421condaf680d50da4e0455ca854a88279482193"
  },
  "language_info": {
   "codemirror_mode": {
    "name": "ipython",
    "version": 3
   },
   "file_extension": ".py",
   "mimetype": "text/x-python",
   "name": "python",
   "nbconvert_exporter": "python",
   "pygments_lexer": "ipython3",
   "version": "3.7.6-final"
  }
 },
 "nbformat": 4,
 "nbformat_minor": 2
}