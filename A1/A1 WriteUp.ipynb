{
 "cells": [
  {
   "cell_type": "code",
   "execution_count": 1,
   "metadata": {},
   "outputs": [],
   "source": [
    "# ignore all future warnings\n",
    "from warnings import simplefilter\n",
    "simplefilter(action='ignore', category=FutureWarning)"
   ]
  },
  {
   "cell_type": "code",
   "execution_count": 2,
   "metadata": {},
   "outputs": [],
   "source": [
    "# imports\n",
    "import tensorflow as tf\n",
    "import numpy as np\n",
    "import matplotlib.pyplot as plt"
   ]
  },
  {
   "cell_type": "code",
   "execution_count": 3,
   "metadata": {},
   "outputs": [],
   "source": [
    "# given by the assignment\n",
    "def loadData():\n",
    "    with np.load('notMNIST.npz') as data :\n",
    "        Data, Target = data['images'], data['labels']\n",
    "        posClass = 2\n",
    "        negClass = 9\n",
    "        dataIndx = (Target==posClass) + (Target==negClass)\n",
    "        Data = Data[dataIndx]/255.\n",
    "        Target = Target[dataIndx].reshape(-1, 1)\n",
    "        Target[Target==posClass] = 1\n",
    "        Target[Target==negClass] = 0\n",
    "        np.random.seed(421)\n",
    "        randIndx = np.arange(len(Data))\n",
    "        np.random.shuffle(randIndx)\n",
    "        Data, Target = Data[randIndx], Target[randIndx]\n",
    "        trainData, trainTarget = Data[:3500], Target[:3500]\n",
    "        validData, validTarget = Data[3500:3600], Target[3500:3600]\n",
    "        testData, testTarget = Data[3600:], Target[3600:]\n",
    "    return trainData, validData, testData, trainTarget, validTarget, testTarget"
   ]
  },
  {
   "cell_type": "code",
   "execution_count": 4,
   "metadata": {},
   "outputs": [
    {
     "name": "stdout",
     "output_type": "stream",
     "text": [
      "Training Data: (3500, 28, 28)\tTraining tagets: (3500, 1)\n",
      "Validation Data: (100, 28, 28)\tValidation tagets: (100, 1)\n",
      "Testing Data: (145, 28, 28)\tTesting tagets:(145, 1)\n"
     ]
    }
   ],
   "source": [
    "trainData, validData, testData, trainTarget, validTarget, testTarget = loadData()\n",
    "print(f\"Training Data: {trainData.shape}\\tTraining tagets: {trainTarget.shape}\")\n",
    "print(f\"Validation Data: {validData.shape}\\tValidation tagets: {validTarget.shape}\")\n",
    "print(f\"Testing Data: {testData.shape}\\tTesting tagets:{testTarget.shape}\")"
   ]
  },
  {
   "cell_type": "code",
   "execution_count": 5,
   "metadata": {},
   "outputs": [],
   "source": [
    "def plot(image, target):\n",
    "    plt.imshow(image, cmap=\"hot\")\n",
    "    plt.title('J' if target == 0 else 'C')\n",
    "    # targets are binary encoded 0 == 'J' and 1 == 'C'\n",
    "    plt.show()"
   ]
  },
  {
   "cell_type": "code",
   "execution_count": 6,
   "metadata": {},
   "outputs": [
    {
     "data": {
      "image/png": "[encoded data removed]",
      "text/plain": [
       "<Figure size 432x288 with 1 Axes>"
      ]
     },
     "metadata": {
      "needs_background": "light"
     },
     "output_type": "display_data"
    },
    {
     "data": {
      "image/png": "[encoded data removed]",
      "text/plain": [
       "<Figure size 432x288 with 1 Axes>"
      ]
     },
     "metadata": {
      "needs_background": "light"
     },
     "output_type": "display_data"
    }
   ],
   "source": [
    "plot(trainData[0], trainTarget[0])\n",
    "plot(trainData[1], trainTarget[1])"
   ]
  },
  {
   "cell_type": "code",
   "execution_count": 7,
   "metadata": {},
   "outputs": [],
   "source": [
    "def augment(X, w, b):\n",
    "    # flatten X\n",
    "    if len(X.shape) == 3:\n",
    "        X = X.reshape(X.shape[0], -1)\n",
    "    # insert 1's at position 0 along the columns\n",
    "    X = np.insert(X, 0, 1, axis=1)\n",
    "    \n",
    "    # insert b at the front of W\n",
    "    w = np.insert(w, 0, b, axis=0)\n",
    "    \n",
    "    return X, w"
   ]
  },
  {
   "cell_type": "code",
   "execution_count": 8,
   "metadata": {},
   "outputs": [],
   "source": [
    "def predict(w, b, X):\n",
    "    X = X.reshape(X.shape[0], -1)\n",
    "    return X.dot(w)"
   ]
  },
  {
   "cell_type": "code",
   "execution_count": 9,
   "metadata": {},
   "outputs": [],
   "source": [
    "def accuracy(w, b, X, y):\n",
    "    y = y.reshape(-1)\n",
    "    y_pred = predict(w, b, X)\n",
    "    y_pred = np.vectorize(lambda z: 1 if z > 0 else 0)(y_pred)\n",
    "    return sum(y_pred == y) / y.shape[0]"
   ]
  },
  {
   "cell_type": "markdown",
   "metadata": {},
   "source": [
    "# 1 Linear Regression\n",
    "### 1. Loss Function and Gradient"
   ]
  },
  {
   "cell_type": "code",
   "execution_count": 10,
   "metadata": {},
   "outputs": [
    {
     "data": {
      "text/plain": [
       "'\\nX = trainData\\ny = trainTarget\\nN = X.shape[0]\\nd = X.shape[1] * X.shape[2]\\n\\nw = np.random.random_sample(d)\\nb = np.random.random_sample(1)\\n\\ngradMSE(w, b, X, y, 0.1)\\n'"
      ]
     },
     "execution_count": 10,
     "metadata": {},
     "output_type": "execute_result"
    }
   ],
   "source": [
    "# Mean Squared Error Loss\n",
    "def MSE(w, b, X, y, reg):\n",
    "    X = X.reshape(X.shape[0], -1)\n",
    "    y = y.reshape(-1)\n",
    "    return np.square(X.dot(w) + b - y).mean() + reg * np.square(w).sum()\n",
    "\n",
    "def gradMSE(w, b, X, y, reg):\n",
    "    X = X.reshape(X.shape[0], -1)\n",
    "    y = y.reshape(-1)\n",
    "    N = y.shape[0]\n",
    "    \n",
    "    w_grad = 2.0/N * X.T.dot(X.dot(w) + b - y) #+ reg * np.linalg.norm(w)\n",
    "    b_grad = 2/N * np.sum(X.dot(w) + b - y)\n",
    "    return w_grad, b_grad\n",
    "\n",
    "\"\"\"\n",
    "X = trainData\n",
    "y = trainTarget\n",
    "N = X.shape[0]\n",
    "d = X.shape[1] * X.shape[2]\n",
    "\n",
    "w = np.random.random_sample(d)\n",
    "b = np.random.random_sample(1)\n",
    "\n",
    "gradMSE(w, b, X, y, 0.1)\n",
    "\"\"\"\n"
   ]
  },
  {
   "cell_type": "markdown",
   "metadata": {},
   "source": [
    "### 2. Gradient Descent Implementation"
   ]
  },
  {
   "cell_type": "code",
   "execution_count": 35,
   "metadata": {},
   "outputs": [
    {
     "name": "stdout",
     "output_type": "stream",
     "text": [
      "Training loss: 12633.6270\tTraining acc: 50.20%\n",
      "Training loss: 6707.9524\tTraining acc: 50.20%\n",
      "Training loss: 3590.1831\tTraining acc: 50.20%\n",
      "Training loss: 1948.5570\tTraining acc: 50.20%\n",
      "Training loss: 1083.0658\tTraining acc: 50.20%\n",
      "Training loss: 625.7537\tTraining acc: 49.43%\n",
      "Training loss: 383.1943\tTraining acc: 45.26%\n",
      "Training loss: 253.6972\tTraining acc: 39.86%\n",
      "Training loss: 183.7916\tTraining acc: 37.00%\n",
      "Training loss: 145.3535\tTraining acc: 35.80%\n",
      "[[12633.626990206369, 6707.952426420478, 3590.183123561541, 1948.5569634281787, 1083.0658148826612, 625.7536989205273, 383.19428103142474, 253.6971984816857, 183.79157189815126, 145.3534813834465], [0.502, 0.502, 0.502, 0.502, 0.502, 0.4942857142857143, 0.45257142857142857, 0.3985714285714286, 0.37, 0.358]]\n"
     ]
    }
   ],
   "source": [
    "def grad_descent_MSE(w, b, X, y, alpha, epochs, reg, error_tol, validData=None, validTarget=None, testData=None, testTarget=None):\n",
    "    train_loss, train_acc = [], []\n",
    "    valid_loss, valid_acc = [], []\n",
    "    test_loss, test_acc = [], []\n",
    "    printing = True\n",
    "    for i in range(epochs):\n",
    "        grad_w, grad_b = gradMSE(w, b, X, y, reg)\n",
    "        w -= alpha * grad_w\n",
    "        b -= alpha * grad_b\n",
    "        train_loss.append( MSE(w, b, X, y, reg) )\n",
    "        train_acc.append( accuracy(w, b, X, y) )\n",
    "\n",
    "        if validData != None and validTarget != None:\n",
    "            valid_loss.append( MSE(w, b, validData, validTarget, reg) )\n",
    "            valid_acc.append( accuracy(w, b, validData, validTarget) )\n",
    "        if testData != None and testTarget != None:\n",
    "            test_loss.append( MSE(w, b, testData, testTarget, reg) )\n",
    "            valid_acc.append( accuracy(w, b, testData, testTarget) )\n",
    "        \n",
    "        # Print Losses if printing is on\n",
    "        if printing:\n",
    "            print(f\"Training loss: {train_loss[-1]:.4f}\\tTraining acc: {train_acc[-1]*100:.2f}%\")\n",
    "            if validData != None and validTarget != None:\n",
    "                print(f\"Validation loss: {valid_loss[-1]:.4f}\\tValidation acc: {valid_acc[-1]*100:.2f}%\")\n",
    "            if testData != None and testTarget != None:\n",
    "                print(f\"Testing loss: {test_loss[-1]:.4f}\\tTesting acc: {test_acc[-1]*100:.2f}%\")\n",
    "\n",
    "        # Check stopping condition\n",
    "        if i > 1 and np.abs(train_loss[-2] - train_loss[-1]) <= error_tol:\n",
    "            break\n",
    "\n",
    "    statistics = [train_loss, train_acc]\n",
    "    if validData != None and validTarget != None:\n",
    "        statistics += [valid_loss, valid_acc]\n",
    "    if testData != None and testTarget != None:\n",
    "        statistics += [test_loss, test_acc]\n",
    "    statistics = tuple(statistics)\n",
    "    out = [w, b, *statistics]\n",
    "        \n",
    "    return tuple(out)\n",
    "\n",
    "X = trainData\n",
    "N = X.shape[0]\n",
    "d = X.shape[1] * X.shape[2]\n",
    "\n",
    "w = np.random.random_sample(d)\n",
    "b = np.random.random_sample(1)\n",
    "w, b, *statistics = grad_descent_MSE(w, b, trainData, trainTarget, 0.001, 10, 0, 0.01)\n",
    "#train_loss, train_acc, valid_loss, valid_acc, test_loss, test_acc = statistics\n",
    "train_loss, train_acc = statistics\n",
    "print(statistics)"
   ]
  },
  {
   "cell_type": "markdown",
   "metadata": {},
   "source": [
    "### 3. Tuning the Learning Rate"
   ]
  },
  {
   "cell_type": "code",
   "execution_count": 21,
   "metadata": {},
   "outputs": [],
   "source": [
    "# functions to plot loss and accuracy\n",
    "def plot_loss(x, train_loss=None, valid_loss=None, test_loss=None, title=None):\n",
    "    if train_loss != None:\n",
    "        plt.plot(x, train_loss, label=\"Training Loss\")\n",
    "    if valid_loss != None:\n",
    "        plt.plot(x, valid_loss, label=\"Validation Loss\")\n",
    "    if test_loss != None:\n",
    "        plt.plot(x, test_loss, label=\"Testing Loss\")\n",
    "    \n",
    "    if title == None:\n",
    "        plt.title(\"Training Loss\")\n",
    "    else:\n",
    "        plt.title(title)\n",
    "    \n",
    "    plt.xlabel(\"Epochs\")\n",
    "    plt.xlim(left=0)\n",
    "    plt.ylabel(\"Loss\")\n",
    "    plt.legend(loc=\"upper right\")\n",
    "    plt.show()\n",
    "\n",
    "def plot_accuracy(x, train_accuracy=None, valid_accuracy=None, test_accuracy=None, title=None):\n",
    "    if train_accuracy != None:\n",
    "        plt.plot(x, train_accuracy, label=\"Training Accuracy\")\n",
    "    if valid_accuracy != None:\n",
    "        plt.plot(x, valid_accuracy, label=\"Validation Accuracy\")\n",
    "    if test_accuracy != None:\n",
    "        plt.plot(x, test_accuracy, label=\"Testing Accuracy\")\n",
    "    \n",
    "    if title == None:\n",
    "        plt.title(\"Accuracy\")\n",
    "    else:\n",
    "        plt.title(title)\n",
    "\n",
    "    plt.xlabel(\"Epochs\")\n",
    "    plt.xlim(left=0)\n",
    "    plt.ylabel(\"Accuracy\")\n",
    "    plt.yticks(np.arange(0, 1.1, step=0.1))\n",
    "    plt.grid(linestyle='-', axis='y')\n",
    "    plt.legend(loc=\"lower right\")\n",
    "    plt.show()"
   ]
  },
  {
   "cell_type": "code",
   "execution_count": 22,
   "metadata": {},
   "outputs": [],
   "source": [
    "# Test your implementation of Gradient Descent with 5000 epochs and \\lambda = 0. Investigate the\n",
    "# impact of learning rate, \\alpha = 0.005, 0.001, 0.0001 on the performance of your classifier. \n",
    "# Plot the training, validation and test losses."
   ]
  },
  {
   "cell_type": "code",
   "execution_count": 28,
   "metadata": {},
   "outputs": [
    {
     "data": {
      "image/png": "[encoded data removed]",
      "text/plain": [
       "<Figure size 432x288 with 1 Axes>"
      ]
     },
     "metadata": {
      "needs_background": "light"
     },
     "output_type": "display_data"
    },
    {
     "data": {
      "image/png": "[encoded data removed]",
      "text/plain": [
       "<Figure size 432x288 with 1 Axes>"
      ]
     },
     "metadata": {
      "needs_background": "light"
     },
     "output_type": "display_data"
    }
   ],
   "source": [
    "plot_loss(np.arange(0, len(train_loss), 1), train_loss)#, valid_loss, test_loss)\n",
    "plot_accuracy(np.arange(0, len(train_loss), 1), train_acc)#, valid_acc, test_acc)"
   ]
  },
  {
   "cell_type": "markdown",
   "metadata": {},
   "source": [
    "### 4. Generalization"
   ]
  },
  {
   "cell_type": "code",
   "execution_count": null,
   "metadata": {},
   "outputs": [],
   "source": [
    "# Investigate impact by modifying the regularization parameter, \\lambda = {0.001, 0.1, 0.5}. \n",
    "# Plot the training, validation and test loss for \\alpha = 0:005 and report the final training, \n",
    "# validation and test accuracy of your classifier."
   ]
  },
  {
   "cell_type": "markdown",
   "metadata": {},
   "source": [
    "### 5. Comparing Batch GD with normal equation"
   ]
  },
  {
   "cell_type": "code",
   "execution_count": null,
   "metadata": {},
   "outputs": [],
   "source": [
    "def least_squares(X, y):\n",
    "    N = X.shape[0]\n",
    "    d = X.shape[1] * X.shape[2]\n",
    "    if N < d:\n",
    "        return X.T.dot(np.linalg.inv( np.dot(X, X.T) )).dot(y)\n",
    "    else:\n",
    "        return np.linalg.inv( np.dot(X.T, X) ).dot(X.T).dot(y)\n",
    "        \n",
    "# compare above to gradient descent solution"
   ]
  },
  {
   "cell_type": "markdown",
   "metadata": {},
   "source": [
    "# 2 Logistic Regression\n",
    "## 2.1 Binary cross-entropy loss\n",
    "### 1. Loss Function and Gradient"
   ]
  },
  {
   "cell_type": "code",
   "execution_count": null,
   "metadata": {},
   "outputs": [],
   "source": [
    "# this will work for both scalar and vector z\n",
    "def sigmoid(z):\n",
    "    return 1.0 / (1 + np.exp(-z))\n",
    "\n",
    "# Cross Entropy Loss\n",
    "def crossEntropyLoss(W, b, x, y, reg):\n",
    "    \n",
    "    X, W = augment(X, W, b)\n",
    "    \n",
    "    y_hat = sigmoid(x.dot(W) + b)\n",
    "    L = np.vectorize(lambda x,y: -np.log(x) if y == 1 else -np.log(1-x))(y_hat, y)\n",
    "    #... not finished\n",
    "\n",
    "def gradCE(W, b, x, y, reg):\n",
    "    # Your implementation here\n",
    "    pass"
   ]
  },
  {
   "cell_type": "markdown",
   "metadata": {},
   "source": [
    "### 2. Learning"
   ]
  },
  {
   "cell_type": "code",
   "execution_count": null,
   "metadata": {},
   "outputs": [],
   "source": [
    "def grad_descent(W, b, x, y, alpha, epochs, reg, error_tol, lossType=\"MSE\"):\n",
    "    if lossType == \"MSE\":\n",
    "        return grad_descent_MSE(W, b, x, y, alpha, epochs, reg, error_tol)\n",
    "    elif lossType == \"CE\":\n",
    "        pass\n",
    "    else:\n",
    "        raise ValueError(\"Variable 'lossType' must be either 'MSE' or 'CE'.\")"
   ]
  },
  {
   "cell_type": "markdown",
   "metadata": {},
   "source": [
    "### 3. Comparision to Linear Regression"
   ]
  },
  {
   "cell_type": "code",
   "execution_count": null,
   "metadata": {},
   "outputs": [],
   "source": [
    "# For zero weight decay, learning rate of 0.005 and 5000 epochs, \n",
    "# plot the training cross entropy loss and MSE loss for \n",
    "# logistic regression and linear regression respectively.\n",
    "# Comment on the effect of cross-entropy loss convergence behaviour."
   ]
  },
  {
   "cell_type": "markdown",
   "metadata": {},
   "source": [
    "# 3 Batch Gradient Descent vs. SGD and Adam\n",
    "## 3.1 SGD\n",
    "### 1. Building the Computational Graph"
   ]
  },
  {
   "cell_type": "code",
   "execution_count": null,
   "metadata": {},
   "outputs": [],
   "source": [
    "def buildGraph(loss=\"MSE\"):\n",
    "    #Initialize weight and bias tensors\n",
    "    tf.set_random_seed(421)\n",
    "\n",
    "    if loss == \"MSE\":\n",
    "        # Your implementation\n",
    "        pass\n",
    "    elif loss == \"CE\":\n",
    "        #Your implementation here\n",
    "        pass\n",
    "    else:\n",
    "        raise ValueError(\"Variable 'lossType' must be either 'MSE' or 'CE'.\")"
   ]
  },
  {
   "cell_type": "markdown",
   "metadata": {},
   "source": [
    "### 2. Implementing Stochastic Gradient Descent"
   ]
  },
  {
   "cell_type": "code",
   "execution_count": null,
   "metadata": {},
   "outputs": [],
   "source": [
    "# Implement the SGD algorithm for a minibatch size of 500 \n",
    "# optimizing over 700 epochs 2, minimizing the MSE (you will repeat this for the CE later).\n",
    "# Calculate the total number of batches required by dividing the number\n",
    "# of training instances by the minibatch size. After each epoch you will need to reshuffle the\n",
    "# training data and start sampling from the beginning again. Initially, set \\lambda = 0 and continue\n",
    "# to use the same \\alpha value (i.e. 0.001). After each epoch, store the training, validation and test\n",
    "# losses and accuracies. Use these to plot the loss and accuracy curves."
   ]
  },
  {
   "cell_type": "markdown",
   "metadata": {},
   "source": [
    "### 3. Batch Size Investigation"
   ]
  },
  {
   "cell_type": "markdown",
   "metadata": {},
   "source": [
    "### 4. Hyperparameter Investigation"
   ]
  },
  {
   "cell_type": "markdown",
   "metadata": {},
   "source": [
    "### 5. Cross Entropy Loss Investigation"
   ]
  },
  {
   "cell_type": "markdown",
   "metadata": {},
   "source": [
    "### 6. Comparison against Batch GD"
   ]
  },
  {
   "cell_type": "code",
   "execution_count": null,
   "metadata": {},
   "outputs": [],
   "source": []
  }
 ],
 "metadata": {
  "kernelspec": {
   "display_name": "Python 3",
   "language": "python",
   "name": "python3"
  },
  "language_info": {
   "codemirror_mode": {
    "name": "ipython",
    "version": 3
   },
   "file_extension": ".py",
   "mimetype": "text/x-python",
   "name": "python",
   "nbconvert_exporter": "python",
   "pygments_lexer": "ipython3",
   "version": "3.7.3"
  }
 },
 "nbformat": 4,
 "nbformat_minor": 2
}
