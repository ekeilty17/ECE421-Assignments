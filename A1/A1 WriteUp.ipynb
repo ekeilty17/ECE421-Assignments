{
 "cells": [
  {
   "cell_type": "code",
   "execution_count": 38,
   "metadata": {},
   "outputs": [],
   "source": [
    "# ignore all future warnings\n",
    "from warnings import simplefilter\n",
    "simplefilter(action='ignore', category=FutureWarning)"
   ]
  },
  {
   "cell_type": "code",
   "execution_count": 39,
   "metadata": {},
   "outputs": [],
   "source": [
    "# imports\n",
    "import tensorflow as tf\n",
    "import numpy as np\n",
    "import matplotlib.pyplot as plt"
   ]
  },
  {
   "cell_type": "code",
   "execution_count": 40,
   "metadata": {},
   "outputs": [],
   "source": [
    "# given by the assignment\n",
    "def loadData():\n",
    "    with np.load('notMNIST.npz') as data :\n",
    "        Data, Target = data['images'], data['labels']\n",
    "        posClass = 2\n",
    "        negClass = 9\n",
    "        dataIndx = (Target==posClass) + (Target==negClass)\n",
    "        Data = Data[dataIndx]/255.\n",
    "        Target = Target[dataIndx].reshape(-1, 1)\n",
    "        Target[Target==posClass] = 1\n",
    "        Target[Target==negClass] = 0\n",
    "        np.random.seed(421)\n",
    "        randIndx = np.arange(len(Data))\n",
    "        np.random.shuffle(randIndx)\n",
    "        Data, Target = Data[randIndx], Target[randIndx]\n",
    "        trainData, trainTarget = Data[:3500], Target[:3500]\n",
    "        validData, validTarget = Data[3500:3600], Target[3500:3600]\n",
    "        testData, testTarget = Data[3600:], Target[3600:]\n",
    "    return trainData, validData, testData, trainTarget, validTarget, testTarget"
   ]
  },
  {
   "cell_type": "code",
   "execution_count": 41,
   "metadata": {},
   "outputs": [
    {
     "name": "stdout",
     "output_type": "stream",
     "text": [
      "Training Data: (3500, 28, 28)\tTraining tagets: (3500, 1)\n",
      "Validation Data: (100, 28, 28)\tValidation tagets: (100, 1)\n",
      "Testing Data: (145, 28, 28)\tTesting tagets:(145, 1)\n"
     ]
    }
   ],
   "source": [
    "trainData, validData, testData, trainTarget, validTarget, testTarget = loadData()\n",
    "print(f\"Training Data: {trainData.shape}\\tTraining tagets: {trainTarget.shape}\")\n",
    "print(f\"Validation Data: {validData.shape}\\tValidation tagets: {validTarget.shape}\")\n",
    "print(f\"Testing Data: {testData.shape}\\tTesting tagets:{testTarget.shape}\")"
   ]
  },
  {
   "cell_type": "code",
   "execution_count": 42,
   "metadata": {},
   "outputs": [],
   "source": [
    "def plot(image, target):\n",
    "    plt.imshow(image, cmap=\"hot\")\n",
    "    plt.title('J' if target == 0 else 'C')\n",
    "    # targets are binary encoded 0 == 'J' and 1 == 'C'\n",
    "    plt.show()"
   ]
  },
  {
   "cell_type": "code",
   "execution_count": 43,
   "metadata": {},
   "outputs": [
    {
     "data": {
      "image/png": "[encoded data removed]",
      "text/plain": [
       "<Figure size 432x288 with 1 Axes>"
      ]
     },
     "metadata": {
      "needs_background": "light"
     },
     "output_type": "display_data"
    },
    {
     "data": {
      "image/png": "[encoded data removed]",
      "text/plain": [
       "<Figure size 432x288 with 1 Axes>"
      ]
     },
     "metadata": {
      "needs_background": "light"
     },
     "output_type": "display_data"
    }
   ],
   "source": [
    "plot(trainData[0], trainTarget[0])\n",
    "plot(trainData[1], trainTarget[1])"
   ]
  },
  {
   "cell_type": "code",
   "execution_count": 44,
   "metadata": {},
   "outputs": [],
   "source": [
    "def augment(X, w, b):\n",
    "    # flatten X\n",
    "    if len(X.shape) == 3:\n",
    "        X = X.reshape(X.shape[0], -1)\n",
    "    \n",
    "    # insert 1's at position 0 along the columns\n",
    "    X = np.insert(X, 0, 1, axis=1)\n",
    "    \n",
    "    # insert b at the front of W\n",
    "    w = np.insert(w, 0, b, axis=0)\n",
    "    \n",
    "    return X, w"
   ]
  },
  {
   "cell_type": "code",
   "execution_count": 45,
   "metadata": {},
   "outputs": [],
   "source": [
    "def predict(w, b, X):\n",
    "    X = X.reshape(X.shape[0], -1)\n",
    "    return X.dot(w) + b"
   ]
  },
  {
   "cell_type": "code",
   "execution_count": 46,
   "metadata": {},
   "outputs": [],
   "source": [
    "def accuracy(w, b, X, y):\n",
    "    y = y.reshape(-1)\n",
    "    y_pred = predict(w, b, X)\n",
    "    y_pred = np.vectorize(lambda z: 1 if z > 0 else 0)(y_pred)\n",
    "    return sum(y_pred == y) / y.shape[0]"
   ]
  },
  {
   "cell_type": "markdown",
   "metadata": {},
   "source": [
    "# 1 Linear Regression\n",
    "### 1. Loss Function and Gradient"
   ]
  },
  {
   "cell_type": "code",
   "execution_count": 47,
   "metadata": {},
   "outputs": [
    {
     "data": {
      "text/plain": [
       "'\\nfrom sklearn.metrics import mean_squared_error\\n\\nX = trainData\\ny = trainTarget\\nN = X.shape[0]\\nd = X.shape[1] * X.shape[2]\\n\\nw = np.random.random_sample(d)\\nb = np.random.random_sample(1)\\n\\ny_pred = predict(w_LS, b_LS, X)\\nprint(mean_squared_error(y, y_pred))\\nprint(MSE(w_LS, b_LS, X, y, 0))\\n'"
      ]
     },
     "execution_count": 47,
     "metadata": {},
     "output_type": "execute_result"
    }
   ],
   "source": [
    "# Mean Squared Error Loss\n",
    "def MSE(w, b, X, y, reg):\n",
    "    X = X.reshape(X.shape[0], -1)\n",
    "    y = y.reshape(-1)\n",
    "    return np.square(X.dot(w) + b - y).mean() + reg * np.square(w).sum()\n",
    "\n",
    "def gradMSE(w, b, X, y, reg):\n",
    "    X = X.reshape(X.shape[0], -1)\n",
    "    y = y.reshape(-1)\n",
    "    N = y.shape[0]\n",
    "    \n",
    "    w_grad = 2.0/N * X.T.dot(X.dot(w) + b - y) + reg * w\n",
    "    b_grad = 2.0/N * np.sum(X.dot(w) + b - y)\n",
    "    return w_grad, b_grad\n",
    "\n",
    "# The below is a test for MSE Loss, which is correct (at least without the regulator)\n",
    "\"\"\"\n",
    "from sklearn.metrics import mean_squared_error\n",
    "\n",
    "X = trainData\n",
    "y = trainTarget\n",
    "N = X.shape[0]\n",
    "d = X.shape[1] * X.shape[2]\n",
    "\n",
    "w = np.random.random_sample(d)\n",
    "b = np.random.random_sample(1)\n",
    "\n",
    "y_pred = predict(w_LS, b_LS, X)\n",
    "print(mean_squared_error(y, y_pred))\n",
    "print(MSE(w_LS, b_LS, X, y, 0))\n",
    "\"\"\"\n",
    "\n",
    "#gradMSE(w, b, X, y, 0.1)\n",
    "\n"
   ]
  },
  {
   "cell_type": "markdown",
   "metadata": {},
   "source": [
    "# WRITE DOWN ANALYTICAL EXPRESSIONS OF LOSS AND GRADIENT"
   ]
  },
  {
   "cell_type": "markdown",
   "metadata": {},
   "source": [
    "### 2. Gradient Descent Implementation"
   ]
  },
  {
   "cell_type": "code",
   "execution_count": 131,
   "metadata": {},
   "outputs": [
    {
     "name": "stdout",
     "output_type": "stream",
     "text": [
      "Training loss: 3226.8582\tTraining acc: 49.86%\n",
      "Training loss: 553.7878\tTraining acc: 49.89%\n",
      "Training loss: 165.0795\tTraining acc: 47.91%\n",
      "Training loss: 100.6087\tTraining acc: 45.46%\n",
      "Training loss: 83.4901\tTraining acc: 47.71%\n",
      "Training loss: 74.2352\tTraining acc: 48.23%\n",
      "Training loss: 67.0027\tTraining acc: 49.37%\n",
      "Training loss: 60.7965\tTraining acc: 49.60%\n",
      "Training loss: 55.3567\tTraining acc: 50.29%\n",
      "Training loss: 50.5559\tTraining acc: 50.74%\n",
      "Training loss: 46.3036\tTraining acc: 51.00%\n",
      "Training loss: 42.5265\tTraining acc: 51.14%\n",
      "Training loss: 39.1632\tTraining acc: 51.51%\n",
      "Training loss: 36.1614\tTraining acc: 51.51%\n",
      "Training loss: 33.4759\tTraining acc: 51.54%\n",
      "Training loss: 31.0680\tTraining acc: 52.14%\n",
      "Training loss: 28.9041\tTraining acc: 52.20%\n",
      "Training loss: 26.9550\tTraining acc: 52.31%\n",
      "Training loss: 25.1954\tTraining acc: 52.60%\n",
      "Training loss: 23.6032\tTraining acc: 53.06%\n",
      "Training loss: 22.1595\tTraining acc: 53.40%\n",
      "Training loss: 20.8472\tTraining acc: 53.66%\n",
      "Training loss: 19.6520\tTraining acc: 53.71%\n",
      "Training loss: 18.5609\tTraining acc: 53.89%\n",
      "Training loss: 17.5628\tTraining acc: 54.29%\n",
      "Training loss: 16.6477\tTraining acc: 54.51%\n",
      "Training loss: 15.8071\tTraining acc: 54.69%\n",
      "Training loss: 15.0333\tTraining acc: 54.83%\n",
      "Training loss: 14.3195\tTraining acc: 55.14%\n",
      "Training loss: 13.6599\tTraining acc: 55.34%\n",
      "Training loss: 13.0491\tTraining acc: 55.34%\n",
      "Training loss: 12.4825\tTraining acc: 55.57%\n",
      "Training loss: 11.9560\tTraining acc: 55.60%\n",
      "Training loss: 11.4659\tTraining acc: 55.77%\n",
      "Training loss: 11.0088\tTraining acc: 56.00%\n",
      "Training loss: 10.5819\tTraining acc: 56.23%\n",
      "Training loss: 10.1825\tTraining acc: 56.29%\n",
      "Training loss: 9.8083\tTraining acc: 56.69%\n",
      "Training loss: 9.4572\tTraining acc: 56.86%\n",
      "Training loss: 9.1272\tTraining acc: 56.91%\n",
      "Training loss: 8.8168\tTraining acc: 56.89%\n",
      "Training loss: 8.5242\tTraining acc: 57.20%\n",
      "Training loss: 8.2482\tTraining acc: 57.43%\n",
      "Training loss: 7.9875\tTraining acc: 57.46%\n",
      "Training loss: 7.7410\tTraining acc: 57.51%\n",
      "Training loss: 7.5076\tTraining acc: 57.60%\n",
      "Training loss: 7.2863\tTraining acc: 57.89%\n",
      "Training loss: 7.0764\tTraining acc: 58.03%\n",
      "Training loss: 6.8770\tTraining acc: 58.31%\n",
      "Training loss: 6.6874\tTraining acc: 58.43%\n",
      "Training loss: 6.5069\tTraining acc: 58.40%\n",
      "Training loss: 6.3350\tTraining acc: 58.49%\n",
      "Training loss: 6.1711\tTraining acc: 58.54%\n",
      "Training loss: 6.0147\tTraining acc: 58.77%\n",
      "Training loss: 5.8654\tTraining acc: 58.89%\n",
      "Training loss: 5.7226\tTraining acc: 59.09%\n",
      "Training loss: 5.5861\tTraining acc: 59.11%\n",
      "Training loss: 5.4554\tTraining acc: 59.20%\n",
      "Training loss: 5.3301\tTraining acc: 59.29%\n",
      "Training loss: 5.2101\tTraining acc: 59.54%\n",
      "Training loss: 5.0949\tTraining acc: 59.54%\n",
      "Training loss: 4.9844\tTraining acc: 59.51%\n",
      "Training loss: 4.8782\tTraining acc: 59.66%\n",
      "Training loss: 4.7761\tTraining acc: 59.69%\n",
      "Training loss: 4.6779\tTraining acc: 59.74%\n",
      "Training loss: 4.5835\tTraining acc: 59.89%\n",
      "Training loss: 4.4925\tTraining acc: 59.89%\n",
      "Training loss: 4.4049\tTraining acc: 60.09%\n",
      "Training loss: 4.3204\tTraining acc: 60.29%\n",
      "Training loss: 4.2389\tTraining acc: 60.31%\n",
      "Training loss: 4.1603\tTraining acc: 60.20%\n",
      "Training loss: 4.0844\tTraining acc: 60.17%\n",
      "Training loss: 4.0111\tTraining acc: 60.20%\n",
      "Training loss: 3.9403\tTraining acc: 60.31%\n",
      "Training loss: 3.8718\tTraining acc: 60.34%\n",
      "Training loss: 3.8056\tTraining acc: 60.34%\n",
      "Training loss: 3.7415\tTraining acc: 60.46%\n",
      "Training loss: 3.6794\tTraining acc: 60.34%\n",
      "Training loss: 3.6193\tTraining acc: 60.34%\n",
      "Training loss: 3.5611\tTraining acc: 60.40%\n",
      "Training loss: 3.5047\tTraining acc: 60.43%\n",
      "Training loss: 3.4500\tTraining acc: 60.49%\n",
      "Training loss: 3.3969\tTraining acc: 60.43%\n",
      "Training loss: 3.3454\tTraining acc: 60.46%\n",
      "Training loss: 3.2954\tTraining acc: 60.46%\n",
      "Training loss: 3.2468\tTraining acc: 60.57%\n",
      "Training loss: 3.1997\tTraining acc: 60.63%\n",
      "Training loss: 3.1538\tTraining acc: 60.74%\n",
      "Training loss: 3.1093\tTraining acc: 60.74%\n",
      "Training loss: 3.0659\tTraining acc: 60.86%\n",
      "Training loss: 3.0238\tTraining acc: 60.91%\n",
      "Training loss: 2.9828\tTraining acc: 60.97%\n",
      "Training loss: 2.9429\tTraining acc: 61.11%\n",
      "Training loss: 2.9040\tTraining acc: 61.17%\n",
      "Training loss: 2.8662\tTraining acc: 61.20%\n",
      "Training loss: 2.8293\tTraining acc: 61.29%\n",
      "Training loss: 2.7934\tTraining acc: 61.31%\n",
      "Training loss: 2.7584\tTraining acc: 61.43%\n",
      "Training loss: 2.7242\tTraining acc: 61.43%\n",
      "Training loss: 2.6909\tTraining acc: 61.43%\n",
      "Training loss: 2.6584\tTraining acc: 61.54%\n",
      "Training loss: 2.6267\tTraining acc: 61.74%\n",
      "Training loss: 2.5958\tTraining acc: 61.77%\n",
      "Training loss: 2.5656\tTraining acc: 61.89%\n",
      "Training loss: 2.5361\tTraining acc: 61.83%\n",
      "Training loss: 2.5073\tTraining acc: 61.91%\n",
      "Training loss: 2.4792\tTraining acc: 61.91%\n",
      "Training loss: 2.4517\tTraining acc: 61.97%\n",
      "Training loss: 2.4248\tTraining acc: 62.06%\n",
      "Training loss: 2.3985\tTraining acc: 62.00%\n",
      "Training loss: 2.3728\tTraining acc: 61.94%\n",
      "Training loss: 2.3477\tTraining acc: 62.03%\n",
      "Training loss: 2.3231\tTraining acc: 62.09%\n",
      "Training loss: 2.2991\tTraining acc: 62.06%\n",
      "Training loss: 2.2755\tTraining acc: 62.09%\n",
      "Training loss: 2.2525\tTraining acc: 62.11%\n",
      "Training loss: 2.2300\tTraining acc: 62.20%\n",
      "Training loss: 2.2079\tTraining acc: 62.29%\n",
      "Training loss: 2.1863\tTraining acc: 62.26%\n",
      "Training loss: 2.1651\tTraining acc: 62.29%\n",
      "Training loss: 2.1443\tTraining acc: 62.34%\n",
      "Training loss: 2.1240\tTraining acc: 62.49%\n",
      "Training loss: 2.1041\tTraining acc: 62.43%\n",
      "Training loss: 2.0845\tTraining acc: 62.49%\n",
      "Training loss: 2.0654\tTraining acc: 62.51%\n",
      "Training loss: 2.0466\tTraining acc: 62.40%\n",
      "Training loss: 2.0282\tTraining acc: 62.43%\n",
      "Training loss: 2.0101\tTraining acc: 62.49%\n",
      "Training loss: 1.9924\tTraining acc: 62.51%\n",
      "Training loss: 1.9750\tTraining acc: 62.49%\n",
      "Training loss: 1.9579\tTraining acc: 62.57%\n",
      "Training loss: 1.9412\tTraining acc: 62.69%\n",
      "Training loss: 1.9247\tTraining acc: 62.74%\n",
      "Training loss: 1.9086\tTraining acc: 62.89%\n",
      "Training loss: 1.8927\tTraining acc: 62.94%\n",
      "Training loss: 1.8772\tTraining acc: 62.94%\n",
      "Training loss: 1.8619\tTraining acc: 62.94%\n",
      "Training loss: 1.8469\tTraining acc: 63.00%\n",
      "Training loss: 1.8321\tTraining acc: 63.03%\n",
      "Training loss: 1.8176\tTraining acc: 63.09%\n",
      "Training loss: 1.8034\tTraining acc: 63.20%\n",
      "Training loss: 1.7894\tTraining acc: 63.31%\n",
      "Training loss: 1.7756\tTraining acc: 63.31%\n",
      "Training loss: 1.7621\tTraining acc: 63.31%\n",
      "Training loss: 1.7488\tTraining acc: 63.26%\n",
      "Training loss: 1.7357\tTraining acc: 63.34%\n",
      "Training loss: 1.7229\tTraining acc: 63.37%\n",
      "Training loss: 1.7102\tTraining acc: 63.31%\n",
      "Training loss: 1.6978\tTraining acc: 63.23%\n",
      "Training loss: 1.6855\tTraining acc: 63.23%\n",
      "Training loss: 1.6735\tTraining acc: 63.20%\n",
      "Training loss: 1.6616\tTraining acc: 63.31%\n",
      "Training loss: 1.6500\tTraining acc: 63.37%\n",
      "Training loss: 1.6385\tTraining acc: 63.40%\n",
      "Training loss: 1.6272\tTraining acc: 63.51%\n",
      "Training loss: 1.6161\tTraining acc: 63.57%\n",
      "Training loss: 1.6051\tTraining acc: 63.57%\n",
      "Training loss: 1.5943\tTraining acc: 63.57%\n",
      "Training loss: 1.5837\tTraining acc: 63.60%\n",
      "Training loss: 1.5733\tTraining acc: 63.66%\n",
      "Training loss: 1.5630\tTraining acc: 63.69%\n",
      "Training loss: 1.5528\tTraining acc: 63.63%\n",
      "Training loss: 1.5428\tTraining acc: 63.66%\n",
      "Training loss: 1.5330\tTraining acc: 63.69%\n",
      "Training loss: 1.5233\tTraining acc: 63.74%\n",
      "Training loss: 1.5137\tTraining acc: 63.80%\n",
      "Training loss: 1.5043\tTraining acc: 63.83%\n",
      "Training loss: 1.4950\tTraining acc: 63.91%\n",
      "Training loss: 1.4858\tTraining acc: 63.94%\n",
      "Training loss: 1.4768\tTraining acc: 63.94%\n",
      "Training loss: 1.4679\tTraining acc: 63.91%\n",
      "Training loss: 1.4592\tTraining acc: 63.91%\n",
      "Training loss: 1.4505\tTraining acc: 63.97%\n",
      "Training loss: 1.4420\tTraining acc: 64.06%\n",
      "Training loss: 1.4336\tTraining acc: 64.14%\n",
      "Training loss: 1.4253\tTraining acc: 64.11%\n",
      "Training loss: 1.4171\tTraining acc: 64.14%\n",
      "Training loss: 1.4090\tTraining acc: 64.11%\n",
      "Training loss: 1.4010\tTraining acc: 64.17%\n",
      "Training loss: 1.3932\tTraining acc: 64.20%\n",
      "Training loss: 1.3854\tTraining acc: 64.23%\n",
      "Training loss: 1.3778\tTraining acc: 64.26%\n",
      "Training loss: 1.3702\tTraining acc: 64.34%\n",
      "Training loss: 1.3628\tTraining acc: 64.37%\n",
      "Training loss: 1.3554\tTraining acc: 64.34%\n",
      "Training loss: 1.3482\tTraining acc: 64.34%\n",
      "Training loss: 1.3410\tTraining acc: 64.34%\n",
      "Training loss: 1.3339\tTraining acc: 64.37%\n",
      "Training loss: 1.3269\tTraining acc: 64.37%\n",
      "Training loss: 1.3200\tTraining acc: 64.51%\n",
      "Training loss: 1.3132\tTraining acc: 64.63%\n",
      "Training loss: 1.3065\tTraining acc: 64.66%\n",
      "Training loss: 1.2998\tTraining acc: 64.69%\n",
      "Training loss: 1.2933\tTraining acc: 64.74%\n",
      "Training loss: 1.2868\tTraining acc: 64.77%\n",
      "Training loss: 1.2804\tTraining acc: 64.74%\n"
     ]
    },
    {
     "name": "stdout",
     "output_type": "stream",
     "text": [
      "Training loss: 1.2741\tTraining acc: 64.80%\n",
      "Training loss: 1.2678\tTraining acc: 64.83%\n",
      "Training loss: 1.2616\tTraining acc: 64.86%\n",
      "Training loss: 1.2555\tTraining acc: 64.97%\n",
      "Training loss: 1.2495\tTraining acc: 64.97%\n",
      "Training loss: 1.2435\tTraining acc: 65.06%\n",
      "Training loss: 1.2376\tTraining acc: 65.09%\n",
      "Training loss: 1.2318\tTraining acc: 65.06%\n",
      "Training loss: 1.2261\tTraining acc: 65.14%\n",
      "Training loss: 1.2204\tTraining acc: 65.14%\n",
      "Training loss: 1.2148\tTraining acc: 65.11%\n",
      "Training loss: 1.2092\tTraining acc: 65.17%\n",
      "Training loss: 1.2037\tTraining acc: 65.11%\n",
      "Training loss: 1.1983\tTraining acc: 65.06%\n",
      "Training loss: 1.1929\tTraining acc: 65.09%\n",
      "Training loss: 1.1876\tTraining acc: 65.14%\n",
      "Training loss: 1.1823\tTraining acc: 65.14%\n",
      "Training loss: 1.1771\tTraining acc: 65.26%\n",
      "Training loss: 1.1720\tTraining acc: 65.31%\n",
      "Training loss: 1.1669\tTraining acc: 65.34%\n",
      "Training loss: 1.1618\tTraining acc: 65.37%\n",
      "Training loss: 1.1569\tTraining acc: 65.43%\n",
      "Training loss: 1.1519\tTraining acc: 65.49%\n",
      "Training loss: 1.1471\tTraining acc: 65.49%\n",
      "Training loss: 1.1422\tTraining acc: 65.46%\n",
      "Training loss: 1.1375\tTraining acc: 65.49%\n",
      "Training loss: 1.1328\tTraining acc: 65.69%\n",
      "Training loss: 1.1281\tTraining acc: 65.63%\n",
      "Training loss: 1.1235\tTraining acc: 65.60%\n",
      "Training loss: 1.1189\tTraining acc: 65.66%\n",
      "Training loss: 1.1143\tTraining acc: 65.77%\n",
      "Training loss: 1.1099\tTraining acc: 65.86%\n",
      "Training loss: 1.1054\tTraining acc: 65.91%\n",
      "Training loss: 1.1010\tTraining acc: 65.91%\n",
      "Training loss: 1.0967\tTraining acc: 65.89%\n",
      "Training loss: 1.0924\tTraining acc: 65.91%\n",
      "Training loss: 1.0881\tTraining acc: 65.94%\n",
      "Training loss: 1.0839\tTraining acc: 65.97%\n",
      "Training loss: 1.0797\tTraining acc: 65.94%\n",
      "Training loss: 1.0756\tTraining acc: 66.00%\n",
      "Training loss: 1.0715\tTraining acc: 66.03%\n",
      "Training loss: 1.0674\tTraining acc: 66.03%\n",
      "Training loss: 1.0634\tTraining acc: 66.09%\n",
      "Training loss: 1.0594\tTraining acc: 66.09%\n",
      "Training loss: 1.0555\tTraining acc: 66.11%\n",
      "Training loss: 1.0515\tTraining acc: 66.14%\n",
      "Training loss: 1.0477\tTraining acc: 66.20%\n",
      "Training loss: 1.0438\tTraining acc: 66.23%\n",
      "Training loss: 1.0400\tTraining acc: 66.37%\n",
      "Training loss: 1.0363\tTraining acc: 66.37%\n",
      "Training loss: 1.0325\tTraining acc: 66.37%\n",
      "Training loss: 1.0289\tTraining acc: 66.43%\n",
      "Training loss: 1.0252\tTraining acc: 66.46%\n",
      "Training loss: 1.0216\tTraining acc: 66.46%\n",
      "Training loss: 1.0180\tTraining acc: 66.49%\n",
      "Training loss: 1.0144\tTraining acc: 66.54%\n",
      "Training loss: 1.0109\tTraining acc: 66.54%\n",
      "Training loss: 1.0074\tTraining acc: 66.60%\n",
      "Training loss: 1.0039\tTraining acc: 66.66%\n",
      "Training loss: 1.0005\tTraining acc: 66.69%\n",
      "Training loss: 0.9971\tTraining acc: 66.74%\n",
      "Training loss: 0.9937\tTraining acc: 66.77%\n",
      "Training loss: 0.9903\tTraining acc: 66.80%\n",
      "Training loss: 0.9870\tTraining acc: 66.86%\n",
      "Training loss: 0.9837\tTraining acc: 66.86%\n",
      "Training loss: 0.9804\tTraining acc: 66.86%\n",
      "Training loss: 0.9772\tTraining acc: 66.80%\n",
      "Training loss: 0.9740\tTraining acc: 66.89%\n",
      "Training loss: 0.9708\tTraining acc: 67.00%\n",
      "Training loss: 0.9677\tTraining acc: 67.09%\n",
      "Training loss: 0.9645\tTraining acc: 67.06%\n",
      "Training loss: 0.9614\tTraining acc: 67.09%\n",
      "Training loss: 0.9584\tTraining acc: 67.14%\n",
      "Training loss: 0.9553\tTraining acc: 67.14%\n",
      "Training loss: 0.9523\tTraining acc: 67.11%\n",
      "Training loss: 0.9493\tTraining acc: 67.09%\n",
      "Training loss: 0.9463\tTraining acc: 67.09%\n",
      "Training loss: 0.9433\tTraining acc: 67.09%\n",
      "Training loss: 0.9404\tTraining acc: 67.09%\n",
      "Training loss: 0.9375\tTraining acc: 67.03%\n",
      "Training loss: 0.9346\tTraining acc: 67.09%\n",
      "Training loss: 0.9318\tTraining acc: 67.09%\n",
      "Training loss: 0.9289\tTraining acc: 67.17%\n",
      "Training loss: 0.9261\tTraining acc: 67.17%\n",
      "Training loss: 0.9233\tTraining acc: 67.20%\n",
      "Training loss: 0.9205\tTraining acc: 67.29%\n",
      "Training loss: 0.9178\tTraining acc: 67.31%\n",
      "Training loss: 0.9151\tTraining acc: 67.37%\n",
      "Training loss: 0.9123\tTraining acc: 67.29%\n",
      "Training loss: 0.9097\tTraining acc: 67.34%\n",
      "Training loss: 0.9070\tTraining acc: 67.40%\n",
      "Training loss: 0.9043\tTraining acc: 67.43%\n",
      "Training loss: 0.9017\tTraining acc: 67.51%\n",
      "Training loss: 0.8991\tTraining acc: 67.49%\n",
      "Training loss: 0.8965\tTraining acc: 67.49%\n",
      "Training loss: 0.8939\tTraining acc: 67.60%\n",
      "Training loss: 0.8914\tTraining acc: 67.60%\n",
      "Training loss: 0.8889\tTraining acc: 67.63%\n",
      "Training loss: 0.8864\tTraining acc: 67.66%\n",
      "Training loss: 0.8839\tTraining acc: 67.66%\n",
      "Training loss: 0.8814\tTraining acc: 67.69%\n",
      "Training loss: 0.8789\tTraining acc: 67.71%\n",
      "Training loss: 0.8765\tTraining acc: 67.66%\n",
      "Training loss: 0.8741\tTraining acc: 67.66%\n",
      "Training loss: 0.8717\tTraining acc: 67.74%\n",
      "Training loss: 0.8693\tTraining acc: 67.71%\n",
      "Training loss: 0.8669\tTraining acc: 67.77%\n",
      "Training loss: 0.8645\tTraining acc: 67.77%\n",
      "Training loss: 0.8622\tTraining acc: 67.77%\n",
      "Training loss: 0.8599\tTraining acc: 67.71%\n",
      "Training loss: 0.8576\tTraining acc: 67.69%\n",
      "Training loss: 0.8553\tTraining acc: 67.69%\n",
      "Training loss: 0.8530\tTraining acc: 67.74%\n",
      "Training loss: 0.8508\tTraining acc: 67.77%\n",
      "Training loss: 0.8485\tTraining acc: 67.83%\n",
      "Training loss: 0.8463\tTraining acc: 67.80%\n",
      "Training loss: 0.8441\tTraining acc: 67.83%\n",
      "Training loss: 0.8419\tTraining acc: 67.91%\n",
      "Training loss: 0.8397\tTraining acc: 67.91%\n",
      "Training loss: 0.8375\tTraining acc: 67.94%\n",
      "Training loss: 0.8354\tTraining acc: 67.97%\n",
      "Training loss: 0.8332\tTraining acc: 67.94%\n",
      "Training loss: 0.8311\tTraining acc: 68.00%\n",
      "Training loss: 0.8290\tTraining acc: 68.06%\n",
      "Training loss: 0.8269\tTraining acc: 68.11%\n",
      "Training loss: 0.8248\tTraining acc: 68.14%\n",
      "Training loss: 0.8227\tTraining acc: 68.14%\n",
      "Training loss: 0.8207\tTraining acc: 68.17%\n",
      "Training loss: 0.8186\tTraining acc: 68.17%\n",
      "Training loss: 0.8166\tTraining acc: 68.26%\n",
      "Training loss: 0.8146\tTraining acc: 68.23%\n",
      "Training loss: 0.8126\tTraining acc: 68.20%\n",
      "Training loss: 0.8106\tTraining acc: 68.26%\n",
      "Training loss: 0.8086\tTraining acc: 68.29%\n",
      "Training loss: 0.8067\tTraining acc: 68.31%\n",
      "Training loss: 0.8047\tTraining acc: 68.34%\n",
      "Training loss: 0.8028\tTraining acc: 68.31%\n",
      "Training loss: 0.8008\tTraining acc: 68.29%\n",
      "Training loss: 0.7989\tTraining acc: 68.20%\n",
      "Training loss: 0.7970\tTraining acc: 68.14%\n",
      "Training loss: 0.7951\tTraining acc: 68.06%\n",
      "Training loss: 0.7932\tTraining acc: 68.06%\n",
      "Training loss: 0.7914\tTraining acc: 68.11%\n",
      "Training loss: 0.7895\tTraining acc: 68.11%\n",
      "Training loss: 0.7877\tTraining acc: 68.14%\n",
      "Training loss: 0.7858\tTraining acc: 68.17%\n",
      "Training loss: 0.7840\tTraining acc: 68.14%\n",
      "Training loss: 0.7822\tTraining acc: 68.14%\n",
      "Training loss: 0.7804\tTraining acc: 68.14%\n",
      "Training loss: 0.7786\tTraining acc: 68.11%\n",
      "Training loss: 0.7768\tTraining acc: 68.14%\n",
      "Training loss: 0.7750\tTraining acc: 68.14%\n",
      "Training loss: 0.7733\tTraining acc: 68.14%\n",
      "Training loss: 0.7715\tTraining acc: 68.11%\n",
      "Training loss: 0.7698\tTraining acc: 68.14%\n",
      "Training loss: 0.7681\tTraining acc: 68.14%\n",
      "Training loss: 0.7664\tTraining acc: 68.14%\n",
      "Training loss: 0.7646\tTraining acc: 68.17%\n",
      "Training loss: 0.7629\tTraining acc: 68.14%\n",
      "Training loss: 0.7613\tTraining acc: 68.20%\n",
      "Training loss: 0.7596\tTraining acc: 68.20%\n",
      "Training loss: 0.7579\tTraining acc: 68.20%\n",
      "Training loss: 0.7562\tTraining acc: 68.26%\n",
      "Training loss: 0.7546\tTraining acc: 68.26%\n",
      "Training loss: 0.7530\tTraining acc: 68.26%\n",
      "Training loss: 0.7513\tTraining acc: 68.29%\n",
      "Training loss: 0.7497\tTraining acc: 68.29%\n",
      "Training loss: 0.7481\tTraining acc: 68.31%\n",
      "Training loss: 0.7465\tTraining acc: 68.40%\n",
      "Training loss: 0.7449\tTraining acc: 68.37%\n",
      "Training loss: 0.7433\tTraining acc: 68.37%\n",
      "Training loss: 0.7417\tTraining acc: 68.37%\n",
      "Training loss: 0.7401\tTraining acc: 68.40%\n",
      "Training loss: 0.7386\tTraining acc: 68.40%\n",
      "Training loss: 0.7370\tTraining acc: 68.46%\n",
      "Training loss: 0.7355\tTraining acc: 68.46%\n",
      "Training loss: 0.7339\tTraining acc: 68.46%\n",
      "Training loss: 0.7324\tTraining acc: 68.43%\n",
      "Training loss: 0.7309\tTraining acc: 68.40%\n",
      "Training loss: 0.7294\tTraining acc: 68.43%\n",
      "Training loss: 0.7279\tTraining acc: 68.46%\n",
      "Training loss: 0.7264\tTraining acc: 68.49%\n",
      "Training loss: 0.7249\tTraining acc: 68.54%\n",
      "Training loss: 0.7234\tTraining acc: 68.57%\n",
      "Training loss: 0.7220\tTraining acc: 68.60%\n",
      "Training loss: 0.7205\tTraining acc: 68.60%\n",
      "Training loss: 0.7190\tTraining acc: 68.57%\n",
      "Training loss: 0.7176\tTraining acc: 68.57%\n",
      "Training loss: 0.7162\tTraining acc: 68.57%\n",
      "Training loss: 0.7147\tTraining acc: 68.60%\n",
      "Training loss: 0.7133\tTraining acc: 68.63%\n",
      "Training loss: 0.7119\tTraining acc: 68.66%\n",
      "Training loss: 0.7105\tTraining acc: 68.74%\n",
      "Training loss: 0.7091\tTraining acc: 68.69%\n",
      "Training loss: 0.7077\tTraining acc: 68.69%\n",
      "Training loss: 0.7063\tTraining acc: 68.77%\n",
      "Training loss: 0.7049\tTraining acc: 68.80%\n",
      "Training loss: 0.7035\tTraining acc: 68.80%\n"
     ]
    },
    {
     "name": "stdout",
     "output_type": "stream",
     "text": [
      "Training loss: 0.7021\tTraining acc: 68.86%\n",
      "Training loss: 0.7008\tTraining acc: 68.91%\n",
      "Training loss: 0.6994\tTraining acc: 68.89%\n",
      "Training loss: 0.6981\tTraining acc: 68.89%\n",
      "Training loss: 0.6967\tTraining acc: 68.91%\n",
      "Training loss: 0.6954\tTraining acc: 68.91%\n",
      "Training loss: 0.6941\tTraining acc: 68.94%\n",
      "Training loss: 0.6928\tTraining acc: 68.91%\n",
      "Training loss: 0.6915\tTraining acc: 68.91%\n",
      "Training loss: 0.6901\tTraining acc: 68.86%\n",
      "Training loss: 0.6888\tTraining acc: 68.86%\n",
      "Training loss: 0.6875\tTraining acc: 68.86%\n",
      "Training loss: 0.6863\tTraining acc: 68.86%\n",
      "Training loss: 0.6850\tTraining acc: 68.83%\n",
      "Training loss: 0.6837\tTraining acc: 68.77%\n",
      "Training loss: 0.6824\tTraining acc: 68.77%\n",
      "Training loss: 0.6812\tTraining acc: 68.80%\n",
      "Training loss: 0.6799\tTraining acc: 68.86%\n",
      "Training loss: 0.6787\tTraining acc: 68.89%\n",
      "Training loss: 0.6774\tTraining acc: 68.97%\n",
      "Training loss: 0.6762\tTraining acc: 69.00%\n",
      "Training loss: 0.6749\tTraining acc: 69.00%\n",
      "Training loss: 0.6737\tTraining acc: 68.91%\n",
      "Training loss: 0.6725\tTraining acc: 68.94%\n",
      "Training loss: 0.6713\tTraining acc: 68.94%\n",
      "Training loss: 0.6701\tTraining acc: 69.06%\n",
      "Training loss: 0.6689\tTraining acc: 69.06%\n",
      "Training loss: 0.6677\tTraining acc: 69.11%\n",
      "Training loss: 0.6665\tTraining acc: 69.11%\n",
      "Training loss: 0.6653\tTraining acc: 69.09%\n",
      "Training loss: 0.6641\tTraining acc: 69.11%\n",
      "Training loss: 0.6629\tTraining acc: 69.11%\n",
      "Training loss: 0.6617\tTraining acc: 69.14%\n",
      "Training loss: 0.6606\tTraining acc: 69.17%\n",
      "Training loss: 0.6594\tTraining acc: 69.20%\n",
      "Training loss: 0.6583\tTraining acc: 69.17%\n",
      "Training loss: 0.6571\tTraining acc: 69.20%\n",
      "Training loss: 0.6560\tTraining acc: 69.23%\n",
      "Training loss: 0.6548\tTraining acc: 69.34%\n",
      "Training loss: 0.6537\tTraining acc: 69.37%\n",
      "Training loss: 0.6526\tTraining acc: 69.40%\n",
      "Training loss: 0.6514\tTraining acc: 69.43%\n",
      "Training loss: 0.6503\tTraining acc: 69.43%\n",
      "Training loss: 0.6492\tTraining acc: 69.43%\n",
      "Training loss: 0.6481\tTraining acc: 69.43%\n",
      "Training loss: 0.6470\tTraining acc: 69.40%\n",
      "Training loss: 0.6459\tTraining acc: 69.34%\n",
      "Training loss: 0.6448\tTraining acc: 69.37%\n",
      "Training loss: 0.6437\tTraining acc: 69.40%\n",
      "Training loss: 0.6426\tTraining acc: 69.40%\n",
      "Training loss: 0.6415\tTraining acc: 69.40%\n",
      "Training loss: 0.6405\tTraining acc: 69.40%\n",
      "Training loss: 0.6394\tTraining acc: 69.43%\n",
      "Training loss: 0.6383\tTraining acc: 69.43%\n",
      "Training loss: 0.6372\tTraining acc: 69.46%\n",
      "Training loss: 0.6362\tTraining acc: 69.46%\n",
      "Training loss: 0.6351\tTraining acc: 69.51%\n",
      "Training loss: 0.6341\tTraining acc: 69.51%\n",
      "Training loss: 0.6330\tTraining acc: 69.57%\n",
      "Training loss: 0.6320\tTraining acc: 69.60%\n",
      "Training loss: 0.6310\tTraining acc: 69.54%\n",
      "Training loss: 0.6299\tTraining acc: 69.57%\n",
      "Training loss: 0.6289\tTraining acc: 69.54%\n",
      "Training loss: 0.6279\tTraining acc: 69.54%\n",
      "Training loss: 0.6269\tTraining acc: 69.57%\n",
      "Training loss: 0.6259\tTraining acc: 69.57%\n",
      "Training loss: 0.6249\tTraining acc: 69.57%\n",
      "Training loss: 0.6238\tTraining acc: 69.60%\n",
      "Training loss: 0.6228\tTraining acc: 69.57%\n",
      "Training loss: 0.6218\tTraining acc: 69.54%\n"
     ]
    }
   ],
   "source": [
    "def grad_descent_MSE(w, b, X, y, alpha, epochs, reg, error_tol, validData=None, validTarget=None, testData=None, testTarget=None):\n",
    "    train_loss, train_acc = [], []\n",
    "    valid_loss, valid_acc = [], []\n",
    "    test_loss, test_acc = [], []\n",
    "    printing = True\n",
    "    for i in range(epochs):\n",
    "        grad_w, grad_b = gradMSE(w, b, X, y, reg)\n",
    "        w -= alpha * grad_w\n",
    "        b -= alpha * grad_b\n",
    "        \n",
    "        # Calculating Statistics\n",
    "        train_loss.append( MSE(w, b, X, y, reg) )\n",
    "        train_acc.append( accuracy(w, b, X, y) )\n",
    "\n",
    "        if validData != None and validTarget != None:\n",
    "            valid_loss.append( MSE(w, b, validData, validTarget, reg) )\n",
    "            valid_acc.append( accuracy(w, b, validData, validTarget) )\n",
    "        if testData != None and testTarget != None:\n",
    "            test_loss.append( MSE(w, b, testData, testTarget, reg) )\n",
    "            test_acc.append( accuracy(w, b, testData, testTarget) )\n",
    "        \n",
    "        # Print Losses and Accurancies if printing is on\n",
    "        if printing:\n",
    "            print(f\"Training loss: {train_loss[-1]:.4f}\\tTraining acc: {train_acc[-1]*100:.2f}%\")\n",
    "            if validData != None and validTarget != None:\n",
    "                print(f\"Validation loss: {valid_loss[-1]:.4f}\\tValidation acc: {valid_acc[-1]*100:.2f}%\")\n",
    "            if testData != None and testTarget != None:\n",
    "                print(f\"Testing loss: {test_loss[-1]:.4f}\\tTesting acc: {test_acc[-1]*100:.2f}%\")\n",
    "\n",
    "        # Check stopping condition\n",
    "        if i > 1 and np.abs(train_loss[-2] - train_loss[-1]) <= error_tol:\n",
    "            break\n",
    "\n",
    "    statistics = (train_loss, train_acc)\n",
    "    if validData != None and validTarget != None:\n",
    "        statistics += (valid_loss, valid_acc, )\n",
    "    if testData != None and testTarget != None:\n",
    "        statistics += (test_loss, test_acc,)\n",
    "    # Python 3.8 made this easier, but 3.7 you have to do this\n",
    "    out = (w, b, *statistics)\n",
    "    \n",
    "    return out\n",
    "\n",
    "X = trainData\n",
    "N = X.shape[0]\n",
    "d = X.shape[1] * X.shape[2]\n",
    "\n",
    "w = np.random.random_sample(d)\n",
    "b = np.random.random_sample(1)\n",
    "w, b, *statistics = grad_descent_MSE(w, b, trainData, trainTarget, 0.005, 5000, 0, 0.001)\n",
    "#train_loss, train_acc, valid_loss, valid_acc, test_loss, test_acc = statistics\n",
    "train_loss, train_acc = statistics"
   ]
  },
  {
   "cell_type": "markdown",
   "metadata": {},
   "source": [
    "### 3. Tuning the Learning Rate"
   ]
  },
  {
   "cell_type": "code",
   "execution_count": 127,
   "metadata": {},
   "outputs": [
    {
     "data": {
      "text/plain": [
       "'\\nplot_loss(np.arange(0, len(train_loss), 1), train_loss)#, valid_loss, test_loss)\\nplot_accuracy(np.arange(0, len(train_loss), 1), train_acc)#, valid_acc, test_acc)\\n'"
      ]
     },
     "execution_count": 127,
     "metadata": {},
     "output_type": "execute_result"
    }
   ],
   "source": [
    "# functions to plot loss and accuracy\n",
    "def plot_loss(x, train_loss=None, valid_loss=None, test_loss=None, title=None, subplot=False):\n",
    "    if subplot:\n",
    "        plt.subplot(1, 2, 1)\n",
    "    if train_loss != None:\n",
    "        plt.plot(x, train_loss, label=\"Training Loss\")\n",
    "    if valid_loss != None:\n",
    "        plt.plot(x, valid_loss, label=\"Validation Loss\")\n",
    "    if test_loss != None:\n",
    "        plt.plot(x, test_loss, label=\"Testing Loss\")\n",
    "    \n",
    "    if title == None:\n",
    "        plt.title(\"Loss\")\n",
    "    else:\n",
    "        plt.title(title)\n",
    "    \n",
    "    plt.xlabel(\"Epochs\")\n",
    "    plt.xlim(left=0)\n",
    "    plt.ylabel(\"Loss\")\n",
    "    plt.legend(loc=\"upper right\")\n",
    "\n",
    "def plot_accuracy(x, train_accuracy=None, valid_accuracy=None, test_accuracy=None, title=None, subplot=False):\n",
    "    if subplot:\n",
    "        plt.subplot(1, 2, 2)\n",
    "    if train_accuracy != None:\n",
    "        plt.plot(x, train_accuracy, label=\"Training Accuracy\")\n",
    "    if valid_accuracy != None:\n",
    "        plt.plot(x, valid_accuracy, label=\"Validation Accuracy\")\n",
    "    if test_accuracy != None:\n",
    "        plt.plot(x, test_accuracy, label=\"Testing Accuracy\")\n",
    "    \n",
    "    if title == None:\n",
    "        plt.title(\"Accuracy\")\n",
    "    else:\n",
    "        plt.title(title)\n",
    "\n",
    "    plt.xlabel(\"Epochs\")\n",
    "    plt.xlim(left=0)\n",
    "    plt.ylabel(\"Accuracy\")\n",
    "    plt.yticks(np.arange(0, 1.1, step=0.1))\n",
    "    plt.grid(linestyle='-', axis='y')\n",
    "    plt.legend(loc=\"lower right\")\n",
    "\n",
    "\"\"\"\n",
    "plot_loss(np.arange(0, len(train_loss), 1), train_loss)#, valid_loss, test_loss)\n",
    "plot_accuracy(np.arange(0, len(train_loss), 1), train_acc)#, valid_acc, test_acc)\n",
    "\"\"\""
   ]
  },
  {
   "cell_type": "code",
   "execution_count": 50,
   "metadata": {},
   "outputs": [],
   "source": [
    "# Test your implementation of Gradient Descent with 5000 epochs and \\lambda = 0. Investigate the\n",
    "# impact of learning rate, \\alpha = 0.005, 0.001, 0.0001 on the performance of your classifier. \n",
    "# Plot the training, validation and test losses.\n",
    "\n",
    "# Eric"
   ]
  },
  {
   "cell_type": "markdown",
   "metadata": {},
   "source": [
    "### 4. Generalization"
   ]
  },
  {
   "cell_type": "code",
   "execution_count": 51,
   "metadata": {},
   "outputs": [],
   "source": [
    "# Investigate impact by modifying the regularization parameter, \\lambda = {0.001, 0.1, 0.5}. \n",
    "# Plot the training, validation and test loss for \\alpha = 0:005 and report the final training, \n",
    "# validation and test accuracy of your classifier.\n",
    "\n",
    "# Sandra"
   ]
  },
  {
   "cell_type": "markdown",
   "metadata": {},
   "source": [
    "### 5. Comparing Batch GD with normal equation"
   ]
  },
  {
   "cell_type": "code",
   "execution_count": 77,
   "metadata": {},
   "outputs": [
    {
     "name": "stdout",
     "output_type": "stream",
     "text": [
      "Least Squares Training loss: 0.0187\tLeast Squares Training acc: 71.29%\n",
      "Least Squares Validation loss: 0.0476\tLeast Squares Validation acc: 69.00%\n",
      "Least Squares Testing loss: 0.0570\tLeast Squares Testing acc: 66.90%\n"
     ]
    }
   ],
   "source": [
    "def least_squares(X, y):\n",
    "    N = X.shape[0]\n",
    "    d = X.shape[1] * X.shape[2]\n",
    "    X, _ = augment(X, np.zeros(X.shape[0]), 0)\n",
    "    y = y.reshape(-1)\n",
    "    \n",
    "    # overparameterized (deep learning)\n",
    "    if N < d:\n",
    "        w_aug = X.T.dot(np.linalg.inv( np.dot(X, X.T) )).dot(y)\n",
    "    # underparameterized (typical case)\n",
    "    else:\n",
    "        w_aug = np.linalg.inv( X.T @ X ) @ X.T @ y\n",
    "    \n",
    "    return w_aug[1:], w_aug[0]\n",
    "        \n",
    "# compare above to gradient descent solution\n",
    "w_LS, b_LS = least_squares(trainData, trainTarget)\n",
    "\n",
    "loss = MSE(w_LS, b_LS, trainData, trainTarget, 0)\n",
    "acc = accuracy(w_LS, b_LS, trainData, trainTarget)\n",
    "print(f\"Least Squares Training loss: {loss:.4f}\\tLeast Squares Training acc: {100*acc:.2f}%\")\n",
    "loss = MSE(w_LS, b_LS, validData, validTarget, 0)\n",
    "acc = accuracy(w_LS, b_LS, validData, validTarget)\n",
    "print(f\"Least Squares Validation loss: {loss:.4f}\\tLeast Squares Validation acc: {100*acc:.2f}%\")\n",
    "loss = MSE(w_LS, b_LS, testData, testTarget, 0)\n",
    "acc = accuracy(w_LS, b_LS, testData, testTarget)\n",
    "print(f\"Least Squares Testing loss: {loss:.4f}\\tLeast Squares Testing acc: {100*acc:.2f}%\")"
   ]
  },
  {
   "cell_type": "markdown",
   "metadata": {},
   "source": [
    "With the analytical solution, the training loss achieved with the analytical equation is 0.0187 with a training accuracy of 71.29%. The training loss and accuracies for batch gradient descent were respectively 0.6918 and 67.97%. From the values, we see that the analytical solution performed better. However, computing it grows increasingly difficult with the size of the problem. As the problem scales, batch gradient descent allows for faster convergence with comparable accuracies."
   ]
  },
  {
   "cell_type": "markdown",
   "metadata": {},
   "source": [
    "# 2 Logistic Regression\n",
    "## 2.1 Binary cross-entropy loss\n",
    "### 1. Loss Function and Gradient"
   ]
  },
  {
   "cell_type": "code",
   "execution_count": 124,
   "metadata": {},
   "outputs": [
    {
     "data": {
      "text/plain": [
       "'\\n# Test that the CE function works\\nfrom sklearn.metrics import log_loss\\n\\nX = trainData\\ny = trainTarget\\nN = X.shape[0]\\nd = X.shape[1] * X.shape[2]\\n\\nw = np.random.random_sample(d)\\nb = np.random.random_sample(1)\\n\\ny_pred = sigmoid(predict(w_LS, b_LS, X))\\nprint(log_loss(y, y_pred))\\nprint(crossEntropyLoss(w_LS, b_LS, X, y, 0))\\n'"
      ]
     },
     "execution_count": 124,
     "metadata": {},
     "output_type": "execute_result"
    }
   ],
   "source": [
    "# this will work for both scalar and vector z\n",
    "def sigmoid(z):\n",
    "    return 1.0 / (1 + np.exp(-z))\n",
    "    \n",
    "\n",
    "# Cross Entropy Loss\n",
    "def crossEntropyLoss(w, b, X, y, reg):    \n",
    "    X, w = augment(X, w, b)\n",
    "    y = y.reshape(-1)\n",
    "    N = y.shape[0]\n",
    "    \n",
    "    y_hat = sigmoid(X.dot(w))\n",
    "    \n",
    "    return 1.0/N * (-y.dot(np.log(y_hat)) - (1 - y).dot(np.log(1 - y_hat))) + reg/2.0 * np.square(w[1:]).sum()\n",
    "    \n",
    "\n",
    "def gradCE(w, b, X, y, reg):\n",
    "    X, w = augment(X, w, b)\n",
    "    y = y.reshape(-1)\n",
    "    N = y.shape[0]\n",
    "    \n",
    "    y_hat = sigmoid(X.dot(w))\n",
    "    \n",
    "    w_grad = 1.0 /N * X.T.dot(y_hat - y) + reg * w\n",
    "    \n",
    "    return w_grad[1:], w_grad[0] - reg * w[0]\n",
    "\n",
    "\"\"\"\n",
    "# Test that the CE function works\n",
    "from sklearn.metrics import log_loss\n",
    "\n",
    "X = trainData\n",
    "y = trainTarget\n",
    "N = X.shape[0]\n",
    "d = X.shape[1] * X.shape[2]\n",
    "\n",
    "w = np.random.random_sample(d)\n",
    "b = np.random.random_sample(1)\n",
    "\n",
    "y_pred = sigmoid(predict(w_LS, b_LS, X))\n",
    "print(log_loss(y, y_pred))\n",
    "print(crossEntropyLoss(w_LS, b_LS, X, y, 0))\n",
    "\"\"\""
   ]
  },
  {
   "cell_type": "markdown",
   "metadata": {},
   "source": [
    "# WRITE DOWN ANALYTICAL EXPRESSIONS OF LOSS AND GRADIENT\n",
    "\n",
    "$$\n",
    "\\sigma(z) = \\frac{1}{1 + e^{-z}}\n",
    "$$\n",
    "\n",
    "$$\n",
    "\\hat{y}^{(n)} = \\sigma(W^T\\textbf{x}^{(n)} + b)\n",
    "$$\n",
    "\n",
    "$$\n",
    "\\mathcal{L} = \\frac{1}{N}\\sum_{n=1}^{N} \\left [ -y^{(n)} \\log(\\hat{y}^{(n)}) -(1- y^{(n)}) \\log (1 - \\hat{y}^{(n)} ) \\right ] + \\frac{\\lambda}{2} \\Vert W \\Vert^2_2\n",
    "$$\n",
    "\n",
    "$$\n",
    "\\frac{\\partial \\mathcal{L}}{\\partial \\boldsymbol{b}} = \\frac{1}{N} \\sum_{n=1}^{N} \\left [ \\hat{y}^{(n)} - y^{(n)} \\right ]\n",
    "$$\n",
    "\n",
    "$$\n",
    "\\frac{\\partial \\mathcal{L}}{\\partial W} = \\frac{1}{N} \\sum_{n=1}^{N} \\left [ (\\hat{y}^{(n)} - y^{(n)}) \\ \\textbf{x}^{(n)} \\right ]\n",
    "$$\n"
   ]
  },
  {
   "cell_type": "markdown",
   "metadata": {},
   "source": [
    "### 2. Learning"
   ]
  },
  {
   "cell_type": "code",
   "execution_count": 141,
   "metadata": {},
   "outputs": [
    {
     "data": {
      "image/png": "[encoded data removed]",
      "text/plain": [
       "<Figure size 432x288 with 1 Axes>"
      ]
     },
     "metadata": {
      "needs_background": "light"
     },
     "output_type": "display_data"
    },
    {
     "data": {
      "image/png": "[encoded data removed]",
      "text/plain": [
       "<Figure size 432x288 with 1 Axes>"
      ]
     },
     "metadata": {
      "needs_background": "light"
     },
     "output_type": "display_data"
    },
    {
     "data": {
      "text/plain": [
       "<Figure size 432x288 with 0 Axes>"
      ]
     },
     "metadata": {},
     "output_type": "display_data"
    }
   ],
   "source": [
    "def grad_descent(w, b, X, y, alpha, epochs, reg, error_tol, lossType=\"MSE\", validData=None, validTarget=None,\n",
    "                 testData=None, testTarget=None):\n",
    "    loss_func, grad_func = None, None\n",
    "    if lossType == \"MSE\":\n",
    "        loss_func, grad_func = MSE, gradMSE\n",
    "    elif lossType == \"CE\":\n",
    "        loss_func, grad_func = crossEntropyLoss, gradCE\n",
    "    else:\n",
    "        raise ValueError(\"Variable 'lossType' must be either 'MSE' or 'CE'.\")\n",
    "    train_loss, train_acc = [], []\n",
    "    valid_loss, valid_acc = [], []\n",
    "    test_loss, test_acc = [], []\n",
    "    printing = False\n",
    "    for i in range(epochs):\n",
    "        grad_w, grad_b = grad_func(w, b, X, y, reg)\n",
    "        w -= alpha * grad_w\n",
    "        b -= alpha * grad_b\n",
    "\n",
    "        # Calculating Statistics\n",
    "        train_loss.append(loss_func(w, b, X, y, reg))\n",
    "        train_acc.append(accuracy(w, b, X, y))\n",
    "\n",
    "        if validData is not None and validTarget is not None:\n",
    "            valid_loss.append(loss_func(w, b, validData, validTarget, reg))\n",
    "            valid_acc.append(accuracy(w, b, validData, validTarget))\n",
    "        if testData is not None and testTarget is not None:\n",
    "            test_loss.append(loss_func(w, b, testData, testTarget, reg))\n",
    "            test_acc.append(accuracy(w, b, testData, testTarget))\n",
    "\n",
    "        # Print Losses and Accurancies if printing is on\n",
    "        if printing:\n",
    "            print(f\"Training loss: {train_loss[-1]:.4f}\\tTraining acc: {train_acc[-1] * 100:.2f}%\")\n",
    "            if validData is not None and validTarget is not None:\n",
    "                print(f\"Validation loss: {valid_loss[-1]:.4f}\\tValidation acc: {valid_acc[-1] * 100:.2f}%\")\n",
    "            if testData is not None and testTarget is not None:\n",
    "                print(f\"Testing loss: {test_loss[-1]:.4f}\\tTesting acc: {test_acc[-1] * 100:.2f}%\")\n",
    "\n",
    "        # Check stopping condition\n",
    "        if i > 1 and np.abs(train_loss[-2] - train_loss[-1]) <= error_tol:\n",
    "            break\n",
    "\n",
    "    statistics = (train_loss, train_acc)\n",
    "    if validData is not None and validTarget is not None:\n",
    "        statistics += (valid_loss, valid_acc,)\n",
    "    if testData is not None and testTarget is not None:\n",
    "        statistics += (test_loss, test_acc,)\n",
    "    out = (w, b, *statistics)\n",
    "\n",
    "    return out\n",
    "        \n",
    "X = trainData\n",
    "N = X.shape[0]\n",
    "d = X.shape[1] * X.shape[2]\n",
    "\n",
    "w = np.random.random_sample(d)\n",
    "w = w - w.mean()\n",
    "b = np.random.random_sample(1)\n",
    "w, b, *statistics = grad_descent(w, b, trainData, trainTarget, 0.005, 5000, 0.1, 0.0001, \"CE\", validData, validTarget, testData, testTarget)\n",
    "train_loss, train_acc, valid_loss, valid_acc, test_loss, test_acc = statistics\n",
    "#train_loss, train_acc = statistics\n",
    "\n",
    "plot_loss(np.arange(0, len(train_loss), 1), train_loss, valid_loss, test_loss, subplot=False)\n",
    "plt.show()\n",
    "plt.clf()\n",
    "plot_accuracy(np.arange(0, len(train_loss), 1), train_acc, valid_acc, test_acc, subplot=False)\n",
    "plt.show()\n",
    "plt.clf()\n",
    "\n",
    "# oops, I (Dev) kinda started doing this one by mistake. All that's left is the plotting of the curves\n",
    "# Eric"
   ]
  },
  {
   "cell_type": "markdown",
   "metadata": {},
   "source": [
    "### 3. Comparision to Linear Regression"
   ]
  },
  {
   "cell_type": "code",
   "execution_count": 55,
   "metadata": {},
   "outputs": [],
   "source": [
    "# For zero weight decay, learning rate of 0.005 and 5000 epochs, \n",
    "# plot the training cross entropy loss and MSE loss for \n",
    "# logistic regression and linear regression respectively.\n",
    "# Comment on the effect of cross-entropy loss convergence behaviour.\n",
    "\n",
    "# Sandra"
   ]
  },
  {
   "cell_type": "markdown",
   "metadata": {},
   "source": [
    "# 3 Batch Gradient Descent vs. SGD and Adam\n",
    "## 3.1 SGD\n",
    "### 1. Building the Computational Graph"
   ]
  },
  {
   "cell_type": "code",
   "execution_count": null,
   "metadata": {},
   "outputs": [],
   "source": [
    "def buildGraph(loss=\"MSE\"):\n",
    "    #Initialize weight and bias tensors\n",
    "    tf.set_random_seed(421)\n",
    "\n",
    "    if loss == \"MSE\":\n",
    "        # Your implementation\n",
    "        pass\n",
    "    elif loss == \"CE\":\n",
    "        #Your implementation here\n",
    "        pass\n",
    "    else:\n",
    "        raise ValueError(\"Variable 'lossType' must be either 'MSE' or 'CE'.\")\n",
    "\n",
    "# Come back to this later"
   ]
  },
  {
   "cell_type": "markdown",
   "metadata": {},
   "source": [
    "### 2. Implementing Stochastic Gradient Descent"
   ]
  },
  {
   "cell_type": "code",
   "execution_count": null,
   "metadata": {},
   "outputs": [],
   "source": [
    "# Implement the SGD algorithm for a minibatch size of 500 \n",
    "# optimizing over 700 epochs 2, minimizing the MSE (you will repeat this for the CE later).\n",
    "# Calculate the total number of batches required by dividing the number\n",
    "# of training instances by the minibatch size. After each epoch you will need to reshuffle the\n",
    "# training data and start sampling from the beginning again. Initially, set \\lambda = 0 and continue\n",
    "# to use the same \\alpha value (i.e. 0.001). After each epoch, store the training, validation and test\n",
    "# losses and accuracies. Use these to plot the loss and accuracy curves.\n",
    "\n",
    "# Dev"
   ]
  },
  {
   "cell_type": "markdown",
   "metadata": {},
   "source": [
    "### 3. Batch Size Investigation"
   ]
  },
  {
   "cell_type": "code",
   "execution_count": null,
   "metadata": {},
   "outputs": [],
   "source": [
    "# Eric"
   ]
  },
  {
   "cell_type": "markdown",
   "metadata": {},
   "source": [
    "### 4. Hyperparameter Investigation"
   ]
  },
  {
   "cell_type": "code",
   "execution_count": null,
   "metadata": {},
   "outputs": [],
   "source": [
    "# Sandra"
   ]
  },
  {
   "cell_type": "markdown",
   "metadata": {},
   "source": [
    "### 5. Cross Entropy Loss Investigation"
   ]
  },
  {
   "cell_type": "code",
   "execution_count": null,
   "metadata": {},
   "outputs": [],
   "source": [
    "# anyone"
   ]
  },
  {
   "cell_type": "markdown",
   "metadata": {},
   "source": [
    "### 6. Comparison against Batch GD"
   ]
  },
  {
   "cell_type": "code",
   "execution_count": 13,
   "metadata": {},
   "outputs": [],
   "source": [
    "# Sandra"
   ]
  }
 ],
 "metadata": {
  "kernelspec": {
   "display_name": "Python 3",
   "language": "python",
   "name": "python3"
  },
  "language_info": {
   "codemirror_mode": {
    "name": "ipython",
    "version": 3
   },
   "file_extension": ".py",
   "mimetype": "text/x-python",
   "name": "python",
   "nbconvert_exporter": "python",
   "pygments_lexer": "ipython3",
   "version": "3.7.3"
  }
 },
 "nbformat": 4,
 "nbformat_minor": 2
}
