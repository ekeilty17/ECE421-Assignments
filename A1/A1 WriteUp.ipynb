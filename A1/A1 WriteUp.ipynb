{
 "cells": [
  {
   "cell_type": "code",
   "execution_count": null,
   "metadata": {},
   "outputs": [],
   "source": [
    "# ignore all future warnings\n",
    "from warnings import simplefilter\n",
    "simplefilter(action='ignore', category=FutureWarning)"
   ]
  },
  {
   "cell_type": "code",
   "execution_count": null,
   "metadata": {},
   "outputs": [],
   "source": [
    "# imports\n",
    "import tensorflow as tf\n",
    "import numpy as np\n",
    "import matplotlib.pyplot as plt"
   ]
  },
  {
   "cell_type": "code",
   "execution_count": null,
   "metadata": {},
   "outputs": [],
   "source": [
    "# given by the assignment\n",
    "def loadData():\n",
    "    with np.load('notMNIST.npz') as data :\n",
    "        Data, Target = data['images'], data['labels']\n",
    "        posClass = 2\n",
    "        negClass = 9\n",
    "        dataIndx = (Target==posClass) + (Target==negClass)\n",
    "        Data = Data[dataIndx]/255.\n",
    "        Target = Target[dataIndx].reshape(-1, 1)\n",
    "        Target[Target==posClass] = 1\n",
    "        Target[Target==negClass] = 0\n",
    "        np.random.seed(421)\n",
    "        randIndx = np.arange(len(Data))\n",
    "        np.random.shuffle(randIndx)\n",
    "        Data, Target = Data[randIndx], Target[randIndx]\n",
    "        trainData, trainTarget = Data[:3500], Target[:3500]\n",
    "        validData, validTarget = Data[3500:3600], Target[3500:3600]\n",
    "        testData, testTarget = Data[3600:], Target[3600:]\n",
    "    return trainData, validData, testData, trainTarget, validTarget, testTarget"
   ]
  },
  {
   "cell_type": "markdown",
   "metadata": {},
   "source": [
    "# 0 Visualizing Dataset\n",
    "\n",
    "It's always important to visualize the dataset to gain and understanding of what the model is trying to accomplish. This can help in the debugging phase. The shape of each data set is printed out as well as a random sample of the training data is plotted."
   ]
  },
  {
   "cell_type": "code",
   "execution_count": null,
   "metadata": {},
   "outputs": [],
   "source": [
    "trainData, validData, testData, trainTarget, validTarget, testTarget = loadData()\n",
    "print(f\"Training Data: {trainData.shape}\\tTraining tagets: {trainTarget.shape}\")\n",
    "print(f\"Validation Data: {validData.shape}\\tValidation tagets: {validTarget.shape}\")\n",
    "print(f\"Testing Data: {testData.shape}\\tTesting tagets:{testTarget.shape}\")"
   ]
  },
  {
   "cell_type": "code",
   "execution_count": null,
   "metadata": {},
   "outputs": [],
   "source": [
    "def plot(image, target, ax=None):\n",
    "    ax = plt.gca() if ax == None else ax\n",
    "    ax.imshow(image, cmap=\"hot\")\n",
    "    ax.set_title('J' if target == 0 else 'C')\n",
    "    # targets are binary encoded 0 == 'J' and 1 == 'C'"
   ]
  },
  {
   "cell_type": "code",
   "execution_count": 6,
   "metadata": {},
   "outputs": [
    {
     "data": {
      "image/png": "[encoded data removed]",
      "text/plain": [
       "<Figure size 1152x360 with 10 Axes>"
      ]
     },
     "metadata": {
      "needs_background": "light"
     },
     "output_type": "display_data"
    }
   ],
   "source": [
    "fig, axis = plt.subplots(2, 5, figsize=(16, 5))\n",
    "for ax in axis.reshape(-1):\n",
    "    r = np.random.randint(trainData.shape[0])\n",
    "    plot(trainData[r], trainTarget[r], ax=ax)\n",
    "plt.show()"
   ]
  },
  {
   "cell_type": "markdown",
   "metadata": {},
   "source": [
    "Some useful functions that will be used throughout the assignment"
   ]
  },
  {
   "cell_type": "code",
   "execution_count": 7,
   "metadata": {},
   "outputs": [],
   "source": [
    "def augment(X, w, b):\n",
    "    # flatten X\n",
    "    if len(X.shape) == 3:\n",
    "        X = X.reshape(X.shape[0], -1)\n",
    "    \n",
    "    # insert 1's at position 0 along the columns\n",
    "    X = np.insert(X, 0, 1, axis=1)\n",
    "    \n",
    "    # insert b at the front of W\n",
    "    w = np.insert(w, 0, b, axis=0)\n",
    "    \n",
    "    return X, w\n",
    "\n",
    "def get_zero_parameters():\n",
    "    w = np.zeros(d)\n",
    "    b = np.zeros(1)\n",
    "    return w, b\n",
    "\n",
    "def get_random_parameters():\n",
    "    w = np.random.uniform(low=-1.0, high=1.0, size=(d,))\n",
    "    b = np.random.uniform(low=-1.0, high=1.0, size=(1,))\n",
    "    return w, b"
   ]
  },
  {
   "cell_type": "code",
   "execution_count": 8,
   "metadata": {},
   "outputs": [],
   "source": [
    "def predict(w, b, X):\n",
    "    X = X.reshape(X.shape[0], -1)\n",
    "    return X.dot(w) + b\n",
    "\n",
    "def accuracy(w, b, X, y):\n",
    "    y = y.reshape(-1)\n",
    "    y_pred = predict(w, b, X)\n",
    "    y_pred = np.vectorize(lambda z: 1 if z > 0 else 0)(y_pred)\n",
    "    return sum(y_pred == y) / y.shape[0]"
   ]
  },
  {
   "cell_type": "code",
   "execution_count": 24,
   "metadata": {},
   "outputs": [],
   "source": [
    "def plot_loss(x, train_loss=None, valid_loss=None, test_loss=None, title=None, ax=None):\n",
    "    ax = plt.gca() if ax == None else ax\n",
    "    if train_loss != None:\n",
    "        ax.plot(x, train_loss, label=\"Training Loss\")\n",
    "    if valid_loss != None:\n",
    "        ax.plot(x, valid_loss, label=\"Validation Loss\")\n",
    "    if test_loss != None:\n",
    "        ax.plot(x, test_loss, label=\"Testing Loss\")\n",
    "    \n",
    "    ax.set_title(\"Loss\" if title == None else title)\n",
    "    \n",
    "    ax.set_xlabel(\"Iterations\")\n",
    "    ax.set_xlim(left=0)\n",
    "    ax.set_ylabel(\"Loss\")\n",
    "    ax.legend(loc=\"upper right\")\n",
    "\n",
    "def plot_accuracy(x, train_accuracy=None, valid_accuracy=None, test_accuracy=None, title=None, ax=None):\n",
    "    ax = plt.gca() if ax == None else ax\n",
    "    if train_accuracy != None:\n",
    "        ax.plot(x, train_accuracy, label=\"Training Accuracy\")\n",
    "    if valid_accuracy != None:\n",
    "        ax.plot(x, valid_accuracy, label=\"Validation Accuracy\")\n",
    "    if test_accuracy != None:\n",
    "        ax.plot(x, test_accuracy, label=\"Testing Accuracy\")\n",
    "    \n",
    "    ax.set_title(\"Accuracy\" if title == None else title)\n",
    "\n",
    "    ax.set_xlabel(\"Iterations\")\n",
    "    ax.set_xlim(left=0)\n",
    "    ax.set_ylabel(\"Accuracy\")\n",
    "    ax.set_yticks(np.arange(0, 1.1, step=0.1))\n",
    "    ax.grid(linestyle='-', axis='y')\n",
    "    ax.legend(loc=\"lower right\")"
   ]
  },
  {
   "cell_type": "markdown",
   "metadata": {},
   "source": [
    "Some global variables that will be used throughout the assignment"
   ]
  },
  {
   "cell_type": "code",
   "execution_count": 10,
   "metadata": {},
   "outputs": [],
   "source": [
    "VTDatasets = {\"validData\" : validData, \"validTarget\" : validTarget,\n",
    "              \"testData\" : testData, \"testTarget\" : testTarget}\n",
    "\n",
    "N = trainData.shape[0]\n",
    "d = trainData.shape[1] * trainData.shape[2]"
   ]
  },
  {
   "cell_type": "markdown",
   "metadata": {},
   "source": [
    "# 1 Linear Regression\n",
    "### 1. Loss Function and Gradient\n",
    "\n",
    "$$\n",
    "\\hat{y}^{(n)} = W^T \\textbf{x}^{(n)} + b\n",
    "$$\n",
    "\n",
    "$$\n",
    "\\mathcal{L}_{MSE} = \\frac{1}{N}\\sum_{n=1}^N(\\hat{y}^{(n)} - y^{(n)})^2 + \\lambda \\Vert W \\Vert_2^2\n",
    "$$\n",
    "\n",
    "$$\n",
    "\\frac{\\partial \\mathcal{L}_{MSE}}{\\partial b} = \\frac{2}{N} \\sum_{n=1}^N (\\hat{y}^{(n)} - y^{(n)})\n",
    "$$\n",
    "\n",
    "$$\n",
    "\\frac{\\partial \\mathcal{L}_{MSE}}{\\partial W} = \\frac{2}{N} \\ X^T \\left ( \\hat{\n",
    "\\textbf{y}} - \\textbf{y} \\right ) + \\lambda W\n",
    "$$\n"
   ]
  },
  {
   "cell_type": "code",
   "execution_count": 11,
   "metadata": {},
   "outputs": [],
   "source": [
    "def MSE(w, b, X, y, reg):\n",
    "    X = X.reshape(X.shape[0], -1)\n",
    "    y = y.reshape(-1)\n",
    "    return np.square(X.dot(w) + b - y).mean() + reg * np.square(w).sum()\n",
    "\n",
    "def gradMSE(w, b, X, y, reg):\n",
    "    X = X.reshape(X.shape[0], -1)\n",
    "    y = y.reshape(-1)\n",
    "    N = y.shape[0]\n",
    "    \n",
    "    w_grad = 2.0/N * X.T.dot(X.dot(w) + b - y) + reg * w\n",
    "    b_grad = 2.0/N * np.sum(X.dot(w) + b - y)\n",
    "    return w_grad, b_grad"
   ]
  },
  {
   "cell_type": "markdown",
   "metadata": {},
   "source": [
    "### 2. Gradient Descent Implementation"
   ]
  },
  {
   "cell_type": "code",
   "execution_count": 12,
   "metadata": {},
   "outputs": [],
   "source": [
    "def grad_descent_MSE(w, b, X, y, alpha, epochs, reg, error_tol=1e-7, \n",
    "                     validData=None, validTarget=None, testData=None, testTarget=None):\n",
    "    train_loss, train_acc = [], []\n",
    "    valid_loss, valid_acc = [], []\n",
    "    test_loss, test_acc = [], []\n",
    "    for i in range(epochs):\n",
    "        grad_w, grad_b = gradMSE(w, b, X, y, reg)\n",
    "        w -= alpha * grad_w\n",
    "        b -= alpha * grad_b\n",
    "        \n",
    "        # Calculating Statistics\n",
    "        train_loss.append( MSE(w, b, X, y, reg) )\n",
    "        train_acc.append( accuracy(w, b, X, y) )\n",
    "\n",
    "        if not validData is None and not validTarget is None:\n",
    "            valid_loss.append( MSE(w, b, validData, validTarget, reg) )\n",
    "            valid_acc.append( accuracy(w, b, validData, validTarget) )\n",
    "        if not testData is None and not testTarget is None:\n",
    "            test_loss.append( MSE(w, b, testData, testTarget, reg) )\n",
    "            test_acc.append( accuracy(w, b, testData, testTarget) )\n",
    "\n",
    "        # Check stopping condition\n",
    "        if i > 1 and np.abs(train_loss[-2] - train_loss[-1]) <= error_tol:\n",
    "            break\n",
    "\n",
    "    statistics = (train_loss, train_acc)\n",
    "    if not validData is None and not validTarget is None:\n",
    "        statistics += (valid_loss, valid_acc, )\n",
    "    if not testData is None and not testTarget is None:\n",
    "        statistics += (test_loss, test_acc,)\n",
    "    # Python 3.8 made this easier, but 3.7 you have to do this\n",
    "    out = (w, b, *statistics)\n",
    "    \n",
    "    return out"
   ]
  },
  {
   "cell_type": "markdown",
   "metadata": {},
   "source": [
    "### 3. Tuning the Learning Rate"
   ]
  },
  {
   "cell_type": "code",
   "execution_count": null,
   "metadata": {},
   "outputs": [],
   "source": [
    "# Test your implementation of Gradient Descent with 5000 epochs and \\lambda = 0. Investigate the\n",
    "# impact of learning rate, \\alpha = 0.005, 0.001, 0.0001 on the performance of your classifier. \n",
    "# Plot the training, validation and test losses.\n",
    "\n",
    "for alpha in [0.005, 0.001, 0.0001]:\n",
    "    \n",
    "    print(\"alpha =\", alpha)\n",
    "    \n",
    "    w, b = get_random_parameters()\n",
    "    w, b, *statistics = grad_descent_MSE(w, b, trainData, trainTarget, \n",
    "                                         alpha=alpha, \n",
    "                                         epochs=5000, \n",
    "                                         reg=0, \n",
    "                                         **VTDatasets)\n",
    "    train_loss, train_acc, valid_loss, valid_acc, test_loss, test_acc = statistics\n",
    "    \n",
    "    print(f\"Training loss: {train_loss[-1]:.4f}{'':20s}Training acc: {train_acc[-1]*100:.2f}%\")\n",
    "    print(f\"Validation loss: {valid_loss[-1]:.4f}{'':18s}Validation acc: {valid_acc[-1]*100:.2f}%\")\n",
    "    print(f\"Testing loss: {test_loss[-1]:.4f}{'':21s}Testing acc: {test_acc[-1]*100:.2f}%\")\n",
    "    \n",
    "    fig, ax = plt.subplots(1, 2, figsize=(18, 6))\n",
    "    plot_loss(np.arange(0, len(train_loss), 1), train_loss, valid_loss, test_loss, ax=ax[0])\n",
    "    plot_accuracy(np.arange(0, len(train_loss), 1), train_acc, valid_acc, test_acc, ax=ax[1])\n",
    "    plt.show()\n",
    "    plt.close()"
   ]
  },
  {
   "cell_type": "markdown",
   "metadata": {},
   "source": [
    "### 4. Generalization"
   ]
  },
  {
   "cell_type": "code",
   "execution_count": null,
   "metadata": {},
   "outputs": [],
   "source": [
    "# Investigate impact by modifying the regularization parameter, \\lambda = {0.001, 0.1, 0.5}. \n",
    "# Plot the training, validation and test loss for \\alpha = 0:005 and report the final training, \n",
    "# validation and test accuracy of your classifier.\n",
    "\n",
    "for reg in [0.001, 0.1, 0.5]:\n",
    "    \n",
    "    print(\"regularization =\", reg)\n",
    "    \n",
    "    w, b = get_random_parameters()\n",
    "    w, b, *statistics = grad_descent_MSE(w, b, trainData, trainTarget, \n",
    "                                         alpha=0.005, \n",
    "                                         epochs=5000, \n",
    "                                         reg=reg, \n",
    "                                         **VTDatasets)\n",
    "    train_loss, train_acc, valid_loss, valid_acc, test_loss, test_acc = statistics\n",
    "    \n",
    "    print(f\"Training loss: {train_loss[-1]:.4f}{'':.20s}\\tTraining acc: {train_acc[-1]*100:.2f}%\")\n",
    "    print(f\"Validation loss: {valid_loss[-1]:.4f}\\tValidation acc: {valid_acc[-1]*100:.2f}%\")\n",
    "    print(f\"Testing loss: {test_loss[-1]:.4f}\\tTesting acc: {test_acc[-1]*100:.2f}%\")\n",
    "    \n",
    "    fig, ax = plt.subplots(1, 2, figsize=(18, 6))\n",
    "    plot_loss(np.arange(0, len(train_loss), 1), train_loss, valid_loss, test_loss, ax=ax[0])\n",
    "    plot_accuracy(np.arange(0, len(train_loss), 1), train_acc, valid_acc, test_acc, ax=ax[1])\n",
    "    plt.show()\n",
    "    plt.close()"
   ]
  },
  {
   "cell_type": "markdown",
   "metadata": {},
   "source": [
    "### 5. Comparing Batch GD with normal equation"
   ]
  },
  {
   "cell_type": "code",
   "execution_count": 13,
   "metadata": {},
   "outputs": [],
   "source": [
    "def least_squares(X, y):\n",
    "    N = X.shape[0]\n",
    "    d = X.shape[1] * X.shape[2]\n",
    "    X = X.reshape(X.shape[0], -1)\n",
    "    X = np.insert(X, 0, 1, axis=1)\n",
    "    y = y.reshape(-1)\n",
    "    \n",
    "    # overparameterized (deep learning)\n",
    "    if N < d:\n",
    "        w_aug = X.T @ np.linalg.inv( X @ X.T ) @ y\n",
    "    \n",
    "    # underparameterized (typical case)\n",
    "    else:\n",
    "        w_aug = np.linalg.inv( X.T @ X ) @ X.T @ y\n",
    "    \n",
    "    return w_aug[1:], w_aug[0]"
   ]
  },
  {
   "cell_type": "code",
   "execution_count": 14,
   "metadata": {},
   "outputs": [
    {
     "name": "stdout",
     "output_type": "stream",
     "text": [
      "Least Squares Training loss: 0.0187\tLeast Squares Training acc: 71.29%\n",
      "Least Squares Validation loss: 0.0476\tLeast Squares Validation acc: 69.00%\n",
      "Least Squares Testing loss: 0.0570\tLeast Squares Testing acc: 66.90%\n"
     ]
    }
   ],
   "source": [
    "# compare above to gradient descent solution\n",
    "w_LS, b_LS = least_squares(trainData, trainTarget)\n",
    "\n",
    "loss = MSE(w_LS, b_LS, trainData, trainTarget, 0)\n",
    "acc = accuracy(w_LS, b_LS, trainData, trainTarget)\n",
    "print(f\"Least Squares Training loss: {loss:.4f}\\tLeast Squares Training acc: {100*acc:.2f}%\")\n",
    "loss = MSE(w_LS, b_LS, validData, validTarget, 0)\n",
    "acc = accuracy(w_LS, b_LS, validData, validTarget)\n",
    "print(f\"Least Squares Validation loss: {loss:.4f}\\tLeast Squares Validation acc: {100*acc:.2f}%\")\n",
    "loss = MSE(w_LS, b_LS, testData, testTarget, 0)\n",
    "acc = accuracy(w_LS, b_LS, testData, testTarget)\n",
    "print(f\"Least Squares Testing loss: {loss:.4f}\\tLeast Squares Testing acc: {100*acc:.2f}%\")"
   ]
  },
  {
   "cell_type": "markdown",
   "metadata": {},
   "source": [
    "With the analytical solution, the training loss achieved with the analytical equation is 0.0187 with a training accuracy of 71.29%. The training loss and accuracies for batch gradient descent were respectively 0.6918 and 67.97%. From the values, we see that the analytical solution performed better. However, computing it grows increasingly difficult with the size of the problem. As the problem scales, batch gradient descent allows for faster convergence with comparable accuracies."
   ]
  },
  {
   "cell_type": "markdown",
   "metadata": {},
   "source": [
    "# 2 Logistic Regression\n",
    "## 2.1 Binary cross-entropy loss\n",
    "### 1. Loss Function and Gradient\n",
    "\n",
    "$$\n",
    "\\sigma(z) = \\frac{1}{1 + e^{-z}}\n",
    "$$\n",
    "\n",
    "$$\n",
    "\\hat{y}^{(n)} = \\sigma(W^T\\textbf{x}^{(n)} + b)\n",
    "$$\n",
    "\n",
    "$$\n",
    "\\mathcal{L}_{CE} = \\frac{1}{N}\\sum_{n=1}^{N} \\left [ -y^{(n)} \\log(\\hat{y}^{(n)}) -(1- y^{(n)}) \\log (1 - \\hat{y}^{(n)} ) \\right ] + \\frac{\\lambda}{2} \\Vert W \\Vert^2_2\n",
    "$$\n",
    "\n",
    "$$\n",
    "\\frac{\\partial \\mathcal{L}_{CE}}{\\partial b} = \\frac{1}{N} \\sum_{n=1}^{N} \\left [ \\hat{y}^{(n)} - y^{(n)} \\right ]\n",
    "$$\n",
    "\n",
    "$$\n",
    "\\frac{\\partial \\mathcal{L}_{CE}}{\\partial W} = \\frac{1}{N} \\sum_{n=1}^{N} \\left [ (\\hat{y}^{(n)} - y^{(n)}) \\ \\textbf{x}^{(n)} \\right ] + \\lambda W\n",
    "$$"
   ]
  },
  {
   "cell_type": "code",
   "execution_count": 15,
   "metadata": {},
   "outputs": [],
   "source": [
    "def sigmoid(z):\n",
    "    return 1.0 / (1 + np.exp(-z))\n",
    "    \n",
    "def crossEntropyLoss(w, b, X, y, reg):    \n",
    "    X, w = augment(X, w, b)\n",
    "    y = y.reshape(-1)\n",
    "    N = y.shape[0]\n",
    "    \n",
    "    y_hat = sigmoid(X.dot(w))\n",
    "    \n",
    "    return 1.0/N * (-y.dot(np.log(y_hat+1e-20)) - (1 - y).dot(np.log(1 - y_hat+1e-20))) + reg/2.0 * np.square(w[1:]).sum()\n",
    "    \n",
    "def gradCE(w, b, X, y, reg):\n",
    "    X, w = augment(X, w, b)\n",
    "    y = y.reshape(-1)\n",
    "    N = y.shape[0]\n",
    "    \n",
    "    y_hat = sigmoid(X.dot(w))\n",
    "    \n",
    "    grad = 1.0 /N * X.T.dot(y_hat - y) + reg * w\n",
    "    \n",
    "    return grad[1:], grad[0] - reg * w[0]"
   ]
  },
  {
   "cell_type": "markdown",
   "metadata": {},
   "source": [
    "### 2. Learning"
   ]
  },
  {
   "cell_type": "code",
   "execution_count": 16,
   "metadata": {},
   "outputs": [],
   "source": [
    "def grad_descent(w, b, X, y, alpha, epochs, reg, error_tol=1e-7, lossType=\"MSE\", \n",
    "                 validData=None, validTarget=None, testData=None, testTarget=None):\n",
    "    loss_func, grad_func = None, None\n",
    "    if lossType == \"MSE\":\n",
    "        loss_func, grad_func = MSE, gradMSE\n",
    "    elif lossType == \"CE\":\n",
    "        loss_func, grad_func = crossEntropyLoss, gradCE\n",
    "    else:\n",
    "        raise ValueError(\"Variable 'lossType' must be either 'MSE' or 'CE'.\")\n",
    "    \n",
    "    train_loss, train_acc = [], []\n",
    "    valid_loss, valid_acc = [], []\n",
    "    test_loss, test_acc = [], []\n",
    "    printing = False\n",
    "    for i in range(epochs):\n",
    "        grad_w, grad_b = grad_func(w, b, X, y, reg)\n",
    "        w -= alpha * grad_w\n",
    "        b -= alpha * grad_b\n",
    "\n",
    "        # Calculating Statistics\n",
    "        train_loss.append(loss_func(w, b, X, y, reg))\n",
    "        train_acc.append(accuracy(w, b, X, y))\n",
    "\n",
    "        if not validData is None and not validTarget is None:\n",
    "            valid_loss.append(loss_func(w, b, validData, validTarget, reg))\n",
    "            valid_acc.append(accuracy(w, b, validData, validTarget))\n",
    "        if not testData is None and not testTarget is None:\n",
    "            test_loss.append(loss_func(w, b, testData, testTarget, reg))\n",
    "            test_acc.append(accuracy(w, b, testData, testTarget))\n",
    "\n",
    "        # Check stopping condition\n",
    "        if i > 1 and np.abs(train_loss[-2] - train_loss[-1]) <= error_tol:\n",
    "            break\n",
    "\n",
    "    statistics = (train_loss, train_acc)\n",
    "    if not validData is None and not validTarget is None:\n",
    "        statistics += (valid_loss, valid_acc,)\n",
    "    if not testData is None and not testTarget is None:\n",
    "        statistics += (test_loss, test_acc,)\n",
    "    out = (w, b, *statistics)\n",
    "\n",
    "    return out"
   ]
  },
  {
   "cell_type": "code",
   "execution_count": null,
   "metadata": {},
   "outputs": [],
   "source": [
    "w, b = get_random_parameters()\n",
    "w, b, *statistics = grad_descent(w, b, trainData, trainTarget, \n",
    "                                 alpha=0.005, \n",
    "                                 epochs=5000, \n",
    "                                 reg=0.1,\n",
    "                                 lossType='CE',\n",
    "                                 **VTDatasets)\n",
    "train_loss, train_acc, valid_loss, valid_acc, test_loss, test_acc = statistics\n",
    "\n",
    "print(f\"Training loss: {train_loss[-1]:.4f}{'':.20s}\\tTraining acc: {train_acc[-1]*100:.2f}%\")\n",
    "print(f\"Validation loss: {valid_loss[-1]:.4f}\\tValidation acc: {valid_acc[-1]*100:.2f}%\")\n",
    "print(f\"Testing loss: {test_loss[-1]:.4f}\\tTesting acc: {test_acc[-1]*100:.2f}%\")\n",
    "\n",
    "fig, ax = plt.subplots(1, 2, figsize=(18, 6))\n",
    "plot_loss(np.arange(0, len(train_loss), 1), train_loss, valid_loss, test_loss, ax=ax[0])\n",
    "plot_accuracy(np.arange(0, len(train_loss), 1), train_acc, valid_acc, test_acc, ax=ax[1])\n",
    "plt.show()"
   ]
  },
  {
   "cell_type": "markdown",
   "metadata": {},
   "source": [
    "### 3. Comparision to Linear Regression"
   ]
  },
  {
   "cell_type": "code",
   "execution_count": null,
   "metadata": {},
   "outputs": [],
   "source": [
    "# For zero weight decay, learning rate of 0.005 and 5000 epochs, \n",
    "# plot the training cross entropy loss and MSE loss for \n",
    "# logistic regression and linear regression respectively.\n",
    "# Comment on the effect of cross-entropy loss convergence behaviour.\n",
    "\n",
    "w, b = get_random_parameters()\n",
    "\n",
    "# Linear Regresesion\n",
    "print(\"Linear Regression\")\n",
    "w_lin, b_lin, *statistics = grad_descent(w, b, trainData, trainTarget, \n",
    "                                         alpha=0.005, \n",
    "                                         epochs=5000, \n",
    "                                         reg=0,\n",
    "                                         lossType='MSE',\n",
    "                                         **VTDatasets)\n",
    "train_loss, train_acc, valid_loss, valid_acc, test_loss, test_acc = statistics\n",
    "\n",
    "print(f\"Training loss: {train_loss[-1]:.4f}{'':.20s}\\tTraining acc: {train_acc[-1]*100:.2f}%\")\n",
    "print(f\"Validation loss: {valid_loss[-1]:.4f}\\tValidation acc: {valid_acc[-1]*100:.2f}%\")\n",
    "print(f\"Testing loss: {test_loss[-1]:.4f}\\tTesting acc: {test_acc[-1]*100:.2f}%\")\n",
    "\n",
    "fig, ax = plt.subplots(1, 2, figsize=(18, 6))\n",
    "plot_loss(np.arange(0, len(train_loss), 1), train_loss, valid_loss, test_loss, ax=ax[0])\n",
    "plot_accuracy(np.arange(0, len(train_loss), 1), train_acc, valid_acc, test_acc, ax=ax[1])\n",
    "plt.show()\n",
    "\n",
    "\n",
    "# Logistic Regression\n",
    "print(\"Logistic Regression\")\n",
    "w_log, b_log, *statistics = grad_descent(w, b, trainData, trainTarget, \n",
    "                                         alpha=0.005, \n",
    "                                         epochs=5000, \n",
    "                                         reg=0,\n",
    "                                         lossType='CE',\n",
    "                                         **VTDatasets)\n",
    "train_loss, train_acc, valid_loss, valid_acc, test_loss, test_acc = statistics\n",
    "\n",
    "print(f\"Training loss: {train_loss[-1]:.4f}{'':.20s}\\tTraining acc: {train_acc[-1]*100:.2f}%\")\n",
    "print(f\"Validation loss: {valid_loss[-1]:.4f}\\tValidation acc: {valid_acc[-1]*100:.2f}%\")\n",
    "print(f\"Testing loss: {test_loss[-1]:.4f}\\tTesting acc: {test_acc[-1]*100:.2f}%\")\n",
    "\n",
    "fig, ax = plt.subplots(1, 2, figsize=(18, 6))\n",
    "plot_loss(np.arange(0, len(train_loss), 1), train_loss, valid_loss, test_loss, ax=ax[0])\n",
    "plot_accuracy(np.arange(0, len(train_loss), 1), train_acc, valid_acc, test_acc, ax=ax[1])\n",
    "plt.show()\n",
    "\n",
    "# Sandra"
   ]
  },
  {
   "cell_type": "markdown",
   "metadata": {},
   "source": [
    "# 3 Batch Gradient Descent vs. SGD and Adam\n",
    "## 3.1 SGD\n",
    "### 1. Building the Computational Graph"
   ]
  },
  {
   "cell_type": "code",
   "execution_count": 22,
   "metadata": {},
   "outputs": [],
   "source": [
    "def buildGraph(beta1=None, beta2=None, epsilon=None, alpha=0.001, loss=\"MSE\", seed=421, regulizer=5):\n",
    "    # Initialize weight and bias tensors\n",
    "    tf.set_random_seed(seed)\n",
    "    tf.compat.v1.set_random_seed(seed)\n",
    "    tf.compat.v1.disable_eager_execution()\n",
    "    \n",
    "\n",
    "    # Getting small random initial values for weights and bias\n",
    "    w = tf.truncated_normal([d, 1], stddev=0.5)\n",
    "    b = tf.truncated_normal([1, 1], stddev=0.5)\n",
    "\n",
    "    # Converting into tensorflow Variable objects\n",
    "    w = tf.Variable(w, name=\"weights\")\n",
    "    b = tf.Variable(b, name=\"bias\")\n",
    "\n",
    "    # tensorflow objects for data\n",
    "    X = tf.placeholder(tf.float32, (None, d))\n",
    "    y = tf.placeholder(tf.float32, (None, 1))\n",
    "    reg = regulizer\n",
    "\n",
    "    y_pred = None\n",
    "    loss_tensor = None\n",
    "    if loss == \"MSE\":\n",
    "        y_pred = tf.matmul(X, w) + b\n",
    "        loss_tensor = tf.losses.mean_squared_error(y, y_pred) + reg * tf.matmul(w, t)\n",
    "    elif loss == \"CE\":\n",
    "        y_pred = tf.sigmoid(tf.matmul(X, w) + b)\n",
    "        loss_tensor = tf.losses.sigmoid_cross_entropy(y, y_pred)\n",
    "    else:\n",
    "        raise ValueError(\"Variable 'lossType' must be either 'MSE' or 'CE'.\")\n",
    "\n",
    "    opt = tf.train.AdamOptimizer(learning_rate=alpha, beta1=beta1, beta2=beta2, epsilon=epsilon)\n",
    "    opt_op = opt.minimize(loss_tensor)\n",
    "\n",
    "    return w, b, reg, X, y, y_pred, loss_tensor, opt_op\n",
    "\n",
    "# test call to see output\n",
    "# buildGraph(trainData, trainTarget, beta1=0.95, beta2=0.99, epsilon=10^-5, alpha=0.001)"
   ]
  },
  {
   "cell_type": "markdown",
   "metadata": {},
   "source": [
    "### 2. Implementing Stochastic Gradient Descent"
   ]
  },
  {
   "cell_type": "code",
   "execution_count": 23,
   "metadata": {},
   "outputs": [
    {
     "name": "stdout",
     "output_type": "stream",
     "text": [
      "Epoch: 0005 cost= 5.754683495\n",
      "Epoch: 0010 cost= 3.821732521\n",
      "Epoch: 0015 cost= 2.511814356\n",
      "Epoch: 0020 cost= 1.893908262\n",
      "Epoch: 0025 cost= 1.444497228\n",
      "Epoch: 0030 cost= 1.120173812\n",
      "Epoch: 0035 cost= 0.887835324\n",
      "Epoch: 0040 cost= 0.718894780\n",
      "Epoch: 0045 cost= 0.595800817\n",
      "Epoch: 0050 cost= 0.503281236\n",
      "Epoch: 0055 cost= 0.424858510\n",
      "Epoch: 0060 cost= 0.375856817\n",
      "Epoch: 0065 cost= 0.319231451\n",
      "Epoch: 0070 cost= 0.273997068\n",
      "Epoch: 0075 cost= 0.238362044\n",
      "Epoch: 0080 cost= 0.208502844\n",
      "Epoch: 0085 cost= 0.184109628\n",
      "Epoch: 0090 cost= 0.165118515\n",
      "Epoch: 0095 cost= 0.151694283\n",
      "Epoch: 0100 cost= 0.136432514\n"
     ]
    }
   ],
   "source": [
    "epochs = 100\n",
    "display_step = 5\n",
    "\n",
    "w, b, reg, data, labels, pred_labels, loss_tensor, opt_op = buildGraph(beta1=0.95, beta2=0.99, epsilon=1e-4, alpha=0.01, loss=\"MSE\")\n",
    "X = trainData.reshape(trainData.shape[0], -1)\n",
    "Y = trainTarget\n",
    "batch_iter = BatchLoader((X, Y), batch_size=500, randomize=False)\n",
    "\n",
    "init = tf.initialize_all_variables()\n",
    "with tf.Session() as sess:\n",
    "    sess.run(init)\n",
    "    for epoch in range(epochs):\n",
    "        for x, y in batch_iter:\n",
    "            sess.run(opt_op, feed_dict={data: x, labels: y})\n",
    "\n",
    "        if (epoch+1) % display_step == 0:\n",
    "            c = sess.run(loss_tensor, feed_dict={data: x, labels: y})\n",
    "            print(\"Epoch:\", '%04d' % (epoch+1), \"cost=\", \"{:.9f}\".format(c))"
   ]
  },
  {
   "cell_type": "code",
   "execution_count": 19,
   "metadata": {},
   "outputs": [],
   "source": [
    "class BatchLoader(object):\n",
    "\n",
    "    def __init__(self, data, batch_size=None, randomize=True, drop_last=False, seed=None):\n",
    "    \n",
    "        # error checking\n",
    "        if len(data) > 1:\n",
    "            for i in range(len(data)-1):\n",
    "                if data[i].shape[0] != data[i+1].shape[0]:\n",
    "                    raise ValueError(\"All inputs must have the same number of elements\")\n",
    "    \n",
    "        self.data = data if type(data) == tuple else (data, )\n",
    "        self.N = data[0].shape[0]\n",
    "        self.batch_size = batch_size if batch_size != None else self.N\n",
    "        self.drop_last = drop_last\n",
    "\n",
    "        # shuffling data\n",
    "        if randomize:\n",
    "            indices = np.arange(self.N)\n",
    "            np.random.seed(seed)\n",
    "            np.random.shuffle(indices)\n",
    "            self.data = tuple([d[indices] for d in self.data])\n",
    "    \n",
    "        self.index = 0 \n",
    "\n",
    "    def __iter__(self):\n",
    "        return self\n",
    "    \n",
    "    def __next__(self):\n",
    "    \n",
    "        # stop condition\n",
    "        if self.index >= self.N:\n",
    "            self.index = 0          # resetting index for next iteration\n",
    "            raise StopIteration\n",
    "\n",
    "        # iterating\n",
    "        self.index += self.batch_size\n",
    "    \n",
    "        if self.index > self.N:\n",
    "            if self.drop_last:\n",
    "                self.index = 0      # resetting index for next iteration\n",
    "                raise StopIteration\n",
    "            else:\n",
    "                return tuple([ d[self.index - self.batch_size: ] for d in self.data ])\n",
    "        else:\n",
    "            return tuple([ d[self.index - self.batch_size: self.index] for d in self.data ])"
   ]
  },
  {
   "cell_type": "code",
   "execution_count": null,
   "metadata": {},
   "outputs": [],
   "source": [
    "def SGD(X, y, alpha, epochs, reg, error_tol=1e-7, lossType=\"CE\",\n",
    "              batch_size=500, randomize=True, beta1=None, beta2=None, epsilon=None,\n",
    "              validData=None, validTarget=None, testData=None, testTarget=None):\n",
    "    \n",
    "    optimizer, *_ = buildGraph(beta1=beta1, beta2=beta2, epsilon=epsilon, \n",
    "                               alpha=alpha, loss=lossType)\n",
    "    \n",
    "    train_loss, train_acc = [], []\n",
    "    valid_loss, valid_acc = [], []\n",
    "    test_loss, test_acc = [], []\n",
    "    printing = False\n",
    "    \n",
    "    batch_iter = BatchLoader((X, y), batch_size=batch_size, randomize=randomize)\n",
    "    \n",
    "    running_loss = 0.0\n",
    "    running_acc = 0.0\n",
    "    \n",
    "    for i in range(epochs):\n",
    "        for batch, targets in batch_iter:\n",
    "            \n",
    "            # do the update using the optimizer\n",
    "            \n",
    "            # Calculating Statistics\n",
    "            running_loss += loss_func(w, b, batch, targets, reg) * batch.shape[0]\n",
    "            running_acc += accuracy(w, b, batch, targets) * batch.shape[0]\n",
    "            \n",
    "            # Check stopping condition\n",
    "            if i > 1 and np.abs(train_loss[-2] - train_loss[-1]) <= error_tol:\n",
    "                break\n",
    "        else:\n",
    "            \"\"\"All of this will probably need to change slightly\"\"\"\n",
    "            # Calculating Statistics\n",
    "            train_loss.append(running_loss / X.shape[0])\n",
    "            train_acc.append(running_acc / X.shape[0])\n",
    "            running_loss = 0.0\n",
    "            running_acc = 0.0\n",
    "            \n",
    "            if not validData is None and not validTarget is None:\n",
    "                valid_loss.append(loss_func(w, b, validData, validTarget, reg))\n",
    "                valid_acc.append(accuracy(w, b, validData, validTarget))\n",
    "            if not testData is None and not testTarget is None:\n",
    "                test_loss.append(loss_func(w, b, testData, testTarget, reg))\n",
    "                test_acc.append(accuracy(w, b, testData, testTarget))\n",
    "            \n",
    "            continue\n",
    "        break\n",
    "\n",
    "    statistics = (train_loss, train_acc)\n",
    "    if not validData is None and not validTarget is None:\n",
    "        statistics += (valid_loss, valid_acc,)\n",
    "    if not testData is None and not testTarget is None:\n",
    "        statistics += (test_loss, test_acc,)\n",
    "    out = (w, b, *statistics)\n",
    "\n",
    "    return out"
   ]
  },
  {
   "cell_type": "code",
   "execution_count": null,
   "metadata": {},
   "outputs": [],
   "source": [
    "# Implement the SGD algorithm for a minibatch size of 500\n",
    "# optimizing over 700 epochs, minimizing the MSE (you will repeat this for the CE later).\n",
    "# Calculate the total number of batches required by dividing the number\n",
    "# of training instances by the minibatch size. After each epoch you will need to reshuffle the\n",
    "# training data and start sampling from the beginning again. Initially, set \\lambda = 0 and continue\n",
    "# to use the same \\alpha value (i.e. 0.001). After each epoch, store the training, validation and test\n",
    "# losses and accuracies. Use these to plot the loss and accuracy curves.\n",
    "\n",
    "w, b = get_random_parameters()\n",
    "w, b, *statistics = SGD(trainData, trainTarget, \n",
    "                        alpha=0.001, \n",
    "                        epochs=700, \n",
    "                        reg=0,\n",
    "                        lossType='MSE',\n",
    "                        batch_size=500,\n",
    "                        **VTDatasets)\n",
    "train_loss, train_acc, valid_loss, valid_acc, test_loss, test_acc = statistics\n",
    "\n",
    "fig, ax = plt.subplots(1, 2, figsize=(18, 6))\n",
    "plot_loss(np.arange(0, len(train_loss), 1), train_loss, valid_loss, test_loss, ax=ax[0])\n",
    "plot_accuracy(np.arange(0, len(train_loss), 1), train_acc, valid_acc, test_acc, ax=ax[1])\n",
    "plt.show()"
   ]
  },
  {
   "cell_type": "markdown",
   "metadata": {},
   "source": [
    "### 3. Batch Size Investigation"
   ]
  },
  {
   "cell_type": "code",
   "execution_count": null,
   "metadata": {},
   "outputs": [],
   "source": [
    "for batch_size in [100, 700, 1750]:\n",
    "    \n",
    "    print(\"batch size =\", batch_size)\n",
    "    \n",
    "    w, b = get_random_parameters()\n",
    "    w, b, *statistics = SGD(w, b, trainData, trainTarget, \n",
    "                            alpha=0.001, \n",
    "                            epochs=700, \n",
    "                            reg=0,\n",
    "                            lossType='CE',\n",
    "                            batch_size=500,\n",
    "                            **VTDatasets)\n",
    "    train_loss, train_acc, valid_loss, valid_acc, test_loss, test_acc = statistics\n",
    "    \n",
    "    print(f\"Training loss: {train_loss[-1]:.4f}{'':20s}Training acc: {train_acc[-1]*100:.2f}%\")\n",
    "    print(f\"Validation loss: {valid_loss[-1]:.4f}{'':18s}Validation acc: {valid_acc[-1]*100:.2f}%\")\n",
    "    print(f\"Testing loss: {test_loss[-1]:.4f}{'':21s}Testing acc: {test_acc[-1]*100:.2f}%\")\n",
    "    \n",
    "    fig, ax = plt.subplots(1, 2, figsize=(18, 6))\n",
    "    plot_loss(np.arange(0, len(train_loss), 1), train_loss, valid_loss, test_loss, ax=ax[0])\n",
    "    plot_accuracy(np.arange(0, len(train_loss), 1), train_acc, valid_acc, test_acc, ax=ax[1])\n",
    "    plt.show()\n",
    "    plt.close()"
   ]
  },
  {
   "cell_type": "markdown",
   "metadata": {},
   "source": [
    "### 4. Hyperparameter Investigation"
   ]
  },
  {
   "cell_type": "code",
   "execution_count": null,
   "metadata": {},
   "outputs": [],
   "source": [
    "for beta1 in [0.95, 0.99]:\n",
    "    for beta2 in [0.99, 0.9999]:\n",
    "        for epsilon in [1e-9, 1e-4]:\n",
    "            \n",
    "            print(f\"beta1: {beta1}\\tbeta2: {beta2}\\tepsilon: {epsilon}\")\n",
    "            \n",
    "            \"\"\" Call SGD\n",
    "            w, b, *statistics = SGD(w, b, trainData, trainTarget, \n",
    "                            alpha=0.001, \n",
    "                            epochs=700, \n",
    "                            reg=0,\n",
    "                            lossType='MSE',\n",
    "                            batch_size=500,\n",
    "                            **VTDatasets)\n",
    "            \"\"\"\n",
    "            train_loss, train_acc, valid_loss, valid_acc, test_loss, test_acc = statistics\n",
    "    \n",
    "            print(f\"Training loss: {train_loss[-1]:.4f}{'':20s}Training acc: {train_acc[-1]*100:.2f}%\")\n",
    "            print(f\"Validation loss: {valid_loss[-1]:.4f}{'':18s}Validation acc: {valid_acc[-1]*100:.2f}%\")\n",
    "            print(f\"Testing loss: {test_loss[-1]:.4f}{'':21s}Testing acc: {test_acc[-1]*100:.2f}%\")\n",
    "\n",
    "            fig, ax = plt.subplots(1, 2, figsize=(18, 6))\n",
    "            plot_loss(np.arange(0, len(train_loss), 1), train_loss, valid_loss, test_loss, ax=ax[0])\n",
    "            plot_accuracy(np.arange(0, len(train_loss), 1), train_acc, valid_acc, test_acc, ax=ax[1])\n",
    "            plt.show()\n",
    "            plt.close()"
   ]
  },
  {
   "cell_type": "markdown",
   "metadata": {},
   "source": [
    "### 5. Cross Entropy Loss Investigation"
   ]
  },
  {
   "cell_type": "code",
   "execution_count": null,
   "metadata": {},
   "outputs": [],
   "source": [
    "# 3.1.2 with Cross Entropy Loss\n",
    "w, b = get_random_parameters()\n",
    "w, b, *statistics = SGD(w, b, trainData, trainTarget, \n",
    "                        alpha=0.001, \n",
    "                        epochs=700, \n",
    "                        reg=0,\n",
    "                        lossType='CE',\n",
    "                        batch_size=500,\n",
    "                        **VTDatasets)\n",
    "train_loss, train_acc, valid_loss, valid_acc, test_loss, test_acc = statistics\n",
    "\n",
    "fig, ax = plt.subplots(1, 2, figsize=(18, 6))\n",
    "plot_loss(np.arange(0, len(train_loss), 1), train_loss, valid_loss, test_loss, ax=ax[0])\n",
    "plot_accuracy(np.arange(0, len(train_loss), 1), train_acc, valid_acc, test_acc, ax=ax[1])\n",
    "plt.show()\n",
    "\n",
    "# 3.1.4 with Cross Entropy Loss\n",
    "for beta1 in [0.95, 0.99]:\n",
    "    for beta2 in [0.99, 0.9999]:\n",
    "        for epsilon in [1e-9, 1e-4]:\n",
    "            \n",
    "            print(f\"beta1: {beta1}\\tbeta2: {beta2}\\tepsilon: {epsilon}\")\n",
    "            \n",
    "            \"\"\" Call SGD\n",
    "            w, b, *statistics = SGD(w, b, trainData, trainTarget, \n",
    "                            alpha=0.001, \n",
    "                            epochs=700, \n",
    "                            reg=0,\n",
    "                            lossType='CE',\n",
    "                            batch_size=500,\n",
    "                            **VTDatasets)\n",
    "            \"\"\"\n",
    "            train_loss, train_acc, valid_loss, valid_acc, test_loss, test_acc = statistics\n",
    "    \n",
    "            print(f\"Training loss: {train_loss[-1]:.4f}{'':20s}Training acc: {train_acc[-1]*100:.2f}%\")\n",
    "            print(f\"Validation loss: {valid_loss[-1]:.4f}{'':18s}Validation acc: {valid_acc[-1]*100:.2f}%\")\n",
    "            print(f\"Testing loss: {test_loss[-1]:.4f}{'':21s}Testing acc: {test_acc[-1]*100:.2f}%\")\n",
    "\n",
    "            fig, ax = plt.subplots(1, 2, figsize=(18, 6))\n",
    "            plot_loss(np.arange(0, len(train_loss), 1), train_loss, valid_loss, test_loss, ax=ax[0])\n",
    "            plot_accuracy(np.arange(0, len(train_loss), 1), train_acc, valid_acc, test_acc, ax=ax[1])\n",
    "            plt.show()\n",
    "            plt.close()"
   ]
  },
  {
   "cell_type": "markdown",
   "metadata": {},
   "source": [
    "### 6. Comparison against Batch GD"
   ]
  },
  {
   "cell_type": "code",
   "execution_count": null,
   "metadata": {},
   "outputs": [],
   "source": [
    "# Sandra"
   ]
  }
 ],
 "metadata": {
  "kernelspec": {
   "display_name": "Python 3",
   "language": "python",
   "name": "python3"
  },
  "language_info": {
   "codemirror_mode": {
    "name": "ipython",
    "version": 3
   },
   "file_extension": ".py",
   "mimetype": "text/x-python",
   "name": "python",
   "nbconvert_exporter": "python",
   "pygments_lexer": "ipython3",
   "version": "3.7.3"
  }
 },
 "nbformat": 4,
 "nbformat_minor": 2
}
