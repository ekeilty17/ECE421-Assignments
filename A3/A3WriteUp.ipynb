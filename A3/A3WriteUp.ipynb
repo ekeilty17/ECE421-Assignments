{
 "cells": [
  {
   "cell_type": "markdown",
   "metadata": {},
   "source": [
    "# 0 Setup {-}"
   ]
  },
  {
   "cell_type": "code",
   "execution_count": 4,
   "metadata": {},
   "outputs": [],
   "source": [
    "# ignore all future warnings\n",
    "from warnings import simplefilter\n",
    "simplefilter(action='ignore', category=FutureWarning)"
   ]
  },
  {
   "cell_type": "code",
   "execution_count": 5,
   "metadata": {},
   "outputs": [],
   "source": [
    "# importing tensorflow\n",
    "try:\n",
    "    import google.colab\n",
    "    import tensorflow as tf\n",
    "    %tensorflow_version 1.13\n",
    "except:\n",
    "    import tensorflow as tf\n",
    "    assert tf.__version__ == \"1.13.1\"\n",
    "    \n",
    "    # ignore tensorflow depreciation warnings\n",
    "    import tensorflow.python.util.deprecation as deprecation\n",
    "    deprecation._PRINT_DEPRECATION_WARNINGS = False"
   ]
  },
  {
   "cell_type": "code",
   "execution_count": 6,
   "metadata": {},
   "outputs": [],
   "source": [
    "# imports\n",
    "import numpy as np\n",
    "import matplotlib.pyplot as plt"
   ]
  },
  {
   "cell_type": "markdown",
   "metadata": {},
   "source": [
    "## 0.1 Helper Functions {-}"
   ]
  },
  {
   "cell_type": "code",
   "execution_count": 7,
   "metadata": {},
   "outputs": [],
   "source": [
    "def reduce_logsumexp(input_tensor, reduction_indices=1, keep_dims=False):\n",
    "    \"\"\"Computes the sum of elements across dimensions of a tensor in log domain.\n",
    "\n",
    "     It uses a similar API to tf.reduce_sum.\n",
    "\n",
    "    Args:\n",
    "        input_tensor: The tensor to reduce. Should have numeric type.\n",
    "        reduction_indices: The dimensions to reduce. \n",
    "        keep_dims: If true, retains reduced dimensions with length 1.\n",
    "    Returns:\n",
    "        The reduced tensor.\n",
    "    \"\"\"\n",
    "    max_input_tensor1 = tf.reduce_max(input_tensor, reduction_indices, keep_dims=keep_dims)\n",
    "    max_input_tensor2 = max_input_tensor1\n",
    "    if not keep_dims:\n",
    "        max_input_tensor2 = tf.expand_dims(max_input_tensor2, reduction_indices)\n",
    "    return tf.log(\n",
    "            tf.reduce_sum(\n",
    "              tf.exp(input_tensor - max_input_tensor2),\n",
    "              reduction_indices,\n",
    "              keep_dims=keep_dims)) + max_input_tensor1\n",
    "\n",
    "def logsoftmax(input_tensor):\n",
    "    \"\"\"Computes normal softmax nonlinearity in log domain.\n",
    "\n",
    "     It can be used to normalize log probability.\n",
    "     The softmax is always computed along the second dimension of the input Tensor.     \n",
    "\n",
    "    Args:\n",
    "        input_tensor: Unnormalized log probability.\n",
    "    Returns:\n",
    "        normalized log probability.\n",
    "    \"\"\"\n",
    "    return input_tensor - reduce_logsumexp(input_tensor, reduction_indices=0, keep_dims=True)"
   ]
  },
  {
   "cell_type": "markdown",
   "metadata": {},
   "source": [
    "## 0.2 Data Loaders {-}"
   ]
  },
  {
   "cell_type": "code",
   "execution_count": 8,
   "metadata": {},
   "outputs": [],
   "source": [
    "def load_2D(valid=True):\n",
    "    data = np.load('data2D.npy')\n",
    "    [num_pts, dim] = data.shape\n",
    "    \n",
    "    # getting validation set\n",
    "    if valid:\n",
    "        valid_batch = int(num_pts / 3.0)\n",
    "        np.random.seed(45689)\n",
    "        rnd_idx = np.arange(num_pts)\n",
    "        np.random.shuffle(rnd_idx)\n",
    "        val_data = data[rnd_idx[:valid_batch]]\n",
    "        train_data = data[rnd_idx[valid_batch:]]\n",
    "        return train_data, val_data\n",
    "    else:\n",
    "        return data\n",
    "    \n",
    "def load_100D(valid=True):\n",
    "    data = np.load('data100D.npy')\n",
    "    [num_pts, dim] = data.shape\n",
    "    \n",
    "    # getting validation set\n",
    "    if valid:\n",
    "        valid_batch = int(num_pts / 3.0)\n",
    "        np.random.seed(45689)\n",
    "        rnd_idx = np.arange(num_pts)\n",
    "        np.random.shuffle(rnd_idx)\n",
    "        val_data = data[rnd_idx[:valid_batch]]\n",
    "        train_data = data[rnd_idx[valid_batch:]]\n",
    "        return train_data, val_data\n",
    "    else:\n",
    "        return data"
   ]
  },
  {
   "cell_type": "markdown",
   "metadata": {},
   "source": [
    "# 1 K-means {-}\n",
    "\n",
    "## 1.1 Learning K-means {-}"
   ]
  },
  {
   "cell_type": "code",
   "execution_count": 23,
   "metadata": {},
   "outputs": [],
   "source": [
    "# Distance function for K-means\n",
    "def distanceFunc_Kmeans(X, MU):\n",
    "    # Inputs\n",
    "    # X: is an NxD matrix (N observations and D dimensions)\n",
    "    # MU: is an KxD matrix (K means and D dimensions)\n",
    "    # Outputs\n",
    "    # pair_dist: is the squared pairwise distance matrix (NxK)\n",
    "    \n",
    "    \"\"\"\n",
    "    I think this is right? idk someone veryify\n",
    "    \"\"\"\n",
    "    \n",
    "    pair_dist = []\n",
    "    for x in X:\n",
    "        row = []\n",
    "        for mu in MU:\n",
    "            row.append( np.square(x - mu).sum() )\n",
    "        pair_dist.append( row )\n",
    "    \n",
    "    return np.array(pair_dist)"
   ]
  },
  {
   "cell_type": "code",
   "execution_count": 20,
   "metadata": {},
   "outputs": [
    {
     "name": "stdout",
     "output_type": "stream",
     "text": [
      "(6667, 3)\n"
     ]
    }
   ],
   "source": [
    "train_data, val_data = load_2D()\n",
    "\n",
    "N, D = train_data.shape\n",
    "K = 3\n",
    "\n",
    "MU = np.random.random_sample((K, D))\n",
    "pair_dist = distanceFunc_Kmeans(train_data, MU)\n",
    "print(pair_dist.shape)"
   ]
  },
  {
   "cell_type": "markdown",
   "metadata": {},
   "source": [
    "# 2 Mixtures of Gaussians {-}\n",
    "\n",
    "## 2.1 The Guassian Cluster Model {-}"
   ]
  },
  {
   "cell_type": "code",
   "execution_count": 21,
   "metadata": {},
   "outputs": [],
   "source": [
    "# Distance function for GMM\n",
    "def distanceFunc_GM(X, MU):\n",
    "    # Inputs\n",
    "    # X: is an NxD matrix (N observations and D dimensions)\n",
    "    # MU: is an KxD matrix (K means and D dimensions)\n",
    "    # Outputs\n",
    "    # pair_dist: is the pairwise distance matrix (NxK)\n",
    "    \n",
    "    \"\"\"\n",
    "    NOT SURE IF THIS IS CORRECT\n",
    "    \"\"\"\n",
    "    \n",
    "    pair_dist = []\n",
    "    for x in X:\n",
    "        row = []\n",
    "        for mu in MU:\n",
    "            row.append( np.square(x - mu).sum() )\n",
    "        pair_dist.append( row )\n",
    "    \n",
    "    return np.sqrt(pair_dist)"
   ]
  },
  {
   "cell_type": "code",
   "execution_count": 22,
   "metadata": {},
   "outputs": [
    {
     "name": "stdout",
     "output_type": "stream",
     "text": [
      "(6667, 3)\n"
     ]
    }
   ],
   "source": [
    "train_data, val_data = load_2D()\n",
    "\n",
    "N, D = train_data.shape\n",
    "K = 3\n",
    "\n",
    "MU = np.random.random_sample((K, D))\n",
    "pair_dist = distanceFunc_Kmeans(train_data, MU)\n",
    "print(pair_dist.shape)"
   ]
  },
  {
   "cell_type": "markdown",
   "metadata": {},
   "source": [
    "## 2.2 Learning the MoG {-}"
   ]
  },
  {
   "cell_type": "code",
   "execution_count": null,
   "metadata": {},
   "outputs": [],
   "source": [
    "def log_GaussPDF(X, mu, sigma):\n",
    "    # Inputs\n",
    "    # X: N X D\n",
    "    # mu: K X D\n",
    "    # sigma: K X 1\n",
    "\n",
    "    # Outputs:\n",
    "    # log Gaussian PDF N X K\n",
    "\n",
    "    # TODO\n",
    "\n",
    "def log_posterior(log_PDF, log_pi):\n",
    "    # Input\n",
    "    # log_PDF: log Gaussian PDF N X K\n",
    "    # log_pi: K X 1\n",
    "\n",
    "    # Outputs\n",
    "    # log_post: N X K\n",
    "\n",
    "    # TODO"
   ]
  }
 ],
 "metadata": {
  "kernelspec": {
   "display_name": "Python 3",
   "language": "python",
   "name": "python3"
  },
  "language_info": {
   "codemirror_mode": {
    "name": "ipython",
    "version": 3
   },
   "file_extension": ".py",
   "mimetype": "text/x-python",
   "name": "python",
   "nbconvert_exporter": "python",
   "pygments_lexer": "ipython3",
   "version": "3.7.3"
  }
 },
 "nbformat": 4,
 "nbformat_minor": 2
}
