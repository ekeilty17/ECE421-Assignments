{
 "cells": [
  {
   "cell_type": "markdown",
   "metadata": {},
   "source": [
    "# 0 Setup {-}"
   ]
  },
  {
   "cell_type": "code",
   "execution_count": 1,
   "metadata": {},
   "outputs": [],
   "source": [
    "# ignore all future warnings\n",
    "from warnings import simplefilter\n",
    "simplefilter(action='ignore', category=FutureWarning)"
   ]
  },
  {
   "cell_type": "code",
   "execution_count": 2,
   "metadata": {},
   "outputs": [],
   "source": [
    "# importing tensorflow\n",
    "try:\n",
    "    import google.colab\n",
    "    import tensorflow as tf\n",
    "    %tensorflow_version 1.13\n",
    "except:\n",
    "    import tensorflow as tf\n",
    "    assert tf.__version__ == \"1.13.1\"\n",
    "    \n",
    "    # ignore tensorflow depreciation warnings\n",
    "    import tensorflow.python.util.deprecation as deprecation\n",
    "    deprecation._PRINT_DEPRECATION_WARNINGS = False"
   ]
  },
  {
   "cell_type": "code",
   "execution_count": 3,
   "metadata": {},
   "outputs": [],
   "source": [
    "# imports\n",
    "import numpy as np\n",
    "import matplotlib.pyplot as plt"
   ]
  },
  {
   "cell_type": "markdown",
   "metadata": {},
   "source": [
    "## 0.1 Helper Functions {-}"
   ]
  },
  {
   "cell_type": "code",
   "execution_count": 4,
   "metadata": {},
   "outputs": [],
   "source": [
    "def reduce_logsumexp(input_tensor, reduction_indices=1, keep_dims=False):\n",
    "    \"\"\"Computes the sum of elements across dimensions of a tensor in log domain.\n",
    "\n",
    "     It uses a similar API to tf.reduce_sum.\n",
    "\n",
    "    Args:\n",
    "        input_tensor: The tensor to reduce. Should have numeric type.\n",
    "        reduction_indices: The dimensions to reduce. \n",
    "        keep_dims: If true, retains reduced dimensions with length 1.\n",
    "    Returns:\n",
    "        The reduced tensor.\n",
    "    \"\"\"\n",
    "    max_input_tensor1 = tf.reduce_max(input_tensor, reduction_indices, keep_dims=keep_dims)\n",
    "    max_input_tensor2 = max_input_tensor1\n",
    "    if not keep_dims:\n",
    "        max_input_tensor2 = tf.expand_dims(max_input_tensor2, reduction_indices)\n",
    "    return tf.log(\n",
    "            tf.reduce_sum(\n",
    "              tf.exp(input_tensor - max_input_tensor2),\n",
    "              reduction_indices,\n",
    "              keep_dims=keep_dims)) + max_input_tensor1\n",
    "\n",
    "def logsoftmax(input_tensor):\n",
    "    \"\"\"Computes normal softmax nonlinearity in log domain.\n",
    "\n",
    "     It can be used to normalize log probability.\n",
    "     The softmax is always computed along the second dimension of the input Tensor.     \n",
    "\n",
    "    Args:\n",
    "        input_tensor: Unnormalized log probability.\n",
    "    Returns:\n",
    "        normalized log probability.\n",
    "    \"\"\"\n",
    "    return input_tensor - reduce_logsumexp(input_tensor, reduction_indices=0, keep_dims=True)"
   ]
  },
  {
   "cell_type": "markdown",
   "metadata": {},
   "source": [
    "## 0.2 Plotting Functions {-}"
   ]
  },
  {
   "cell_type": "code",
   "execution_count": 5,
   "metadata": {},
   "outputs": [],
   "source": [
    "def plot_loss(x, train_loss=None, valid_loss=None, test_loss=None, title=None, ax=None):\n",
    "    ax = plt.gca() if ax == None else ax\n",
    "    if train_loss != None:\n",
    "        ax.plot(x, train_loss, label=\"Training Loss\")\n",
    "    if valid_loss != None:\n",
    "        ax.plot(x, valid_loss, label=\"Validation Loss\")\n",
    "    if test_loss != None:\n",
    "        ax.plot(x, test_loss, label=\"Testing Loss\")\n",
    "    \n",
    "    ax.set_title(\"Loss\" if title == None else title)\n",
    "    \n",
    "    ax.set_xlabel(\"Iterations\")\n",
    "    ax.set_xlim(left=0)\n",
    "    ax.set_ylabel(\"Loss\")\n",
    "    ax.set_ylim(bottom=0)\n",
    "    ax.legend(loc=\"upper right\")\n",
    "\n",
    "def plot_accuracy(x, train_accuracy=None, valid_accuracy=None, test_accuracy=None, title=None, ax=None):\n",
    "    ax = plt.gca() if ax == None else ax\n",
    "    if train_accuracy != None:\n",
    "        ax.plot(x, train_accuracy, label=\"Training Accuracy\")\n",
    "    if valid_accuracy != None:\n",
    "        ax.plot(x, valid_accuracy, label=\"Validation Accuracy\")\n",
    "    if test_accuracy != None:\n",
    "        ax.plot(x, test_accuracy, label=\"Testing Accuracy\")\n",
    "    \n",
    "    ax.set_title(\"Accuracy\" if title == None else title)\n",
    "\n",
    "    ax.set_xlabel(\"Iterations\")\n",
    "    ax.set_xlim(left=0)\n",
    "    ax.set_ylabel(\"Accuracy\")\n",
    "    ax.set_yticks(np.arange(0, 1.1, step=0.1))\n",
    "    ax.grid(linestyle='-', axis='y')\n",
    "    ax.legend(loc=\"lower right\")\n",
    "    \n",
    "\n",
    "def display_statistics(train_loss=None, train_acc=None, valid_loss=None, valid_acc=None, \n",
    "                       test_loss=None, test_acc=None, vals=True, plot=True):\n",
    "    \n",
    "    tl = \"-\" if train_loss is None else round(train_loss[-1], 4)\n",
    "    ta = \"-\" if train_acc is None else round(train_acc[-1]*100, 2)\n",
    "    vl = \"-\\t\" if valid_loss is None else round(valid_loss[-1], 4)\n",
    "    va = \"-\" if valid_acc is None else round(valid_acc[-1]*100, 2)\n",
    "    sl = \"-\\t\\t\" if test_loss is None else round(test_loss[-1], 4)\n",
    "    sa = \"-\" if test_acc is None else round(test_acc[-1]*100, 2)\n",
    "    \n",
    "    if vals:\n",
    "        print(f\"Training loss: {tl}{'':.20s}\\t\\tTraining acc: {ta}{'%' if ta != '-' else ''}\")\n",
    "        print(f\"Validation loss: {vl}{'':.20s}\\t\\tValidation acc: {va}{'%' if va != '-' else ''}\")\n",
    "        print(f\"Testing loss: {sl}{'':.20s}\\t\\tTesting acc: {sa}{'%' if sa != '-' else ''}\")\n",
    "    \n",
    "    if plot:\n",
    "        fig, ax = plt.subplots(1, 2, figsize=(18, 6))\n",
    "        plot_loss(np.arange(0, len(train_loss), 1), train_loss, valid_loss, test_loss, ax=ax[0])\n",
    "        plot_accuracy(np.arange(0, len(train_loss), 1), train_acc, valid_acc, test_acc, ax=ax[1])\n",
    "        plt.show()\n",
    "        plt.close()"
   ]
  },
  {
   "cell_type": "markdown",
   "metadata": {},
   "source": [
    "## 0.3 Data Loaders {-}"
   ]
  },
  {
   "cell_type": "code",
   "execution_count": 6,
   "metadata": {},
   "outputs": [],
   "source": [
    "def load_2D(valid=True):\n",
    "    data = np.load('data2D.npy')\n",
    "    [num_pts, dim] = data.shape\n",
    "    \n",
    "    # getting validation set\n",
    "    if valid:\n",
    "        valid_batch = int(num_pts / 3.0)\n",
    "        np.random.seed(45689)\n",
    "        rnd_idx = np.arange(num_pts)\n",
    "        np.random.shuffle(rnd_idx)\n",
    "        val_data = data[rnd_idx[:valid_batch]]\n",
    "        train_data = data[rnd_idx[valid_batch:]]\n",
    "        return train_data, val_data\n",
    "    else:\n",
    "        return data\n",
    "    \n",
    "def load_100D(valid=True):\n",
    "    data = np.load('data100D.npy')\n",
    "    [num_pts, dim] = data.shape\n",
    "    \n",
    "    # getting validation set\n",
    "    if valid:\n",
    "        valid_batch = int(num_pts / 3.0)\n",
    "        np.random.seed(45689)\n",
    "        rnd_idx = np.arange(num_pts)\n",
    "        np.random.shuffle(rnd_idx)\n",
    "        val_data = data[rnd_idx[:valid_batch]]\n",
    "        train_data = data[rnd_idx[valid_batch:]]\n",
    "        return train_data, val_data\n",
    "    else:\n",
    "        return data"
   ]
  },
  {
   "cell_type": "markdown",
   "metadata": {},
   "source": [
    "\\newpage"
   ]
  },
  {
   "cell_type": "markdown",
   "metadata": {},
   "source": [
    "# 1 K-means {-}\n",
    "\n",
    "## 1.1 Learning K-means {-}"
   ]
  },
  {
   "cell_type": "code",
   "execution_count": 7,
   "metadata": {},
   "outputs": [],
   "source": [
    "# Distance function for K-means\n",
    "def distanceFunc_Kmeans(X, MU):\n",
    "    # Inputs\n",
    "    # X: is an NxD matrix (N observations and D dimensions)\n",
    "    # MU: is an KxD matrix (K means and D dimensions)\n",
    "    # Outputs\n",
    "    # pair_dist: is the squared pairwise distance matrix (NxK)\n",
    "    \n",
    "    \"\"\"\n",
    "    I think this is right? idk someone verify\n",
    "    \n",
    "    I agree with this -Devansh\n",
    "    \"\"\"\n",
    "    \n",
    "    pair_dist = []\n",
    "    for x in X:\n",
    "        row = []\n",
    "        for mu in MU:\n",
    "            row.append( np.square(x - mu).sum() )\n",
    "        pair_dist.append( row )\n",
    "    \n",
    "    return np.array(pair_dist)"
   ]
  },
  {
   "cell_type": "code",
   "execution_count": 8,
   "metadata": {},
   "outputs": [],
   "source": [
    "def L(X, MU):\n",
    "    pair_dist = distanceFunc_Kmeans(X, MU)\n",
    "    return pair_dist.min(axis=1).sum()\n",
    "\n",
    "def Kmeans(X, K):\n",
    "    N, D = X.shape\n",
    "    \n",
    "    # initializing mu from a normal distribution\n",
    "    # question...what should the mean and std of the normal distirbution be?\n",
    "    \n",
    "    # I don't think it matters since the entries of MU are trained parameters, so they will be learned\n",
    "    # This step is just the random initialization -Devansh\n",
    "    MU = np.random.normal(0, 1, (K, D))\n",
    "    \n",
    "    # TODO:\n",
    "    #    Sandra (or someone) implement tensorflow to do Kmean clustering\n",
    "    #    the loss function we want to optimize is given above vary the MU's\n",
    "    \n",
    "    # This should be the optimized MU's\n",
    "    return MU\n",
    "\n",
    "def get_clusters(X, MU):\n",
    "    K = MU.shape[0]\n",
    "    \n",
    "    # getting list of which cluster each X should be in\n",
    "    pair_dist = distanceFunc_Kmeans(X, MU)\n",
    "    S_indices = np.argmin(pair_dist, axis=1)\n",
    "    \n",
    "    # getting list of actual clusters\n",
    "    S = [None]*K\n",
    "    for i in range(K):\n",
    "        S[i] = X[S == i]    # I am pretty sure this is correct, \n",
    "                            # but need to check once we actually code the optimizer\n",
    "    \n",
    "    return S"
   ]
  },
  {
   "cell_type": "code",
   "execution_count": 9,
   "metadata": {},
   "outputs": [
    {
     "ename": "TypeError",
     "evalue": "scatter() missing 1 required positional argument: 'y'",
     "output_type": "error",
     "traceback": [
      "\u001b[1;31m---------------------------------------------------------------------------\u001b[0m",
      "\u001b[1;31mTypeError\u001b[0m                                 Traceback (most recent call last)",
      "\u001b[1;32m<ipython-input-9-846e866de99c>\u001b[0m in \u001b[0;36m<module>\u001b[1;34m\u001b[0m\n\u001b[0;32m      9\u001b[0m \u001b[1;31m# below is pseudo-code, idk if it runs\u001b[0m\u001b[1;33m\u001b[0m\u001b[1;33m\u001b[0m\u001b[1;33m\u001b[0m\u001b[0m\n\u001b[0;32m     10\u001b[0m \u001b[1;32mfor\u001b[0m \u001b[0mi\u001b[0m \u001b[1;32min\u001b[0m \u001b[0mrange\u001b[0m\u001b[1;33m(\u001b[0m\u001b[0mK\u001b[0m\u001b[1;33m)\u001b[0m\u001b[1;33m:\u001b[0m\u001b[1;33m\u001b[0m\u001b[1;33m\u001b[0m\u001b[0m\n\u001b[1;32m---> 11\u001b[1;33m     \u001b[0mplt\u001b[0m\u001b[1;33m.\u001b[0m\u001b[0mscatter\u001b[0m\u001b[1;33m(\u001b[0m\u001b[0mS\u001b[0m\u001b[1;33m[\u001b[0m\u001b[0mi\u001b[0m\u001b[1;33m]\u001b[0m\u001b[1;33m)\u001b[0m  \u001b[1;31m# plt should automatically color the custers differently\u001b[0m\u001b[1;33m\u001b[0m\u001b[1;33m\u001b[0m\u001b[0m\n\u001b[0m\u001b[0;32m     12\u001b[0m \u001b[0mplt\u001b[0m\u001b[1;33m.\u001b[0m\u001b[0mshow\u001b[0m\u001b[1;33m(\u001b[0m\u001b[1;33m)\u001b[0m\u001b[1;33m\u001b[0m\u001b[1;33m\u001b[0m\u001b[0m\n",
      "\u001b[1;31mTypeError\u001b[0m: scatter() missing 1 required positional argument: 'y'"
     ]
    }
   ],
   "source": [
    "# getting data\n",
    "train_data, val_data = load_2D()\n",
    "\n",
    "K = 3\n",
    "MU = Kmeans(train_data, K)\n",
    "\n",
    "S = get_clusters(train_data, MU)\n",
    "\n",
    "# below is pseudo-code, idk if it runs\n",
    "for i in range(K):\n",
    "    plt.scatter(S[i])  # plt should automatically color the custers differently\n",
    "plt.show()"
   ]
  },
  {
   "cell_type": "markdown",
   "metadata": {},
   "source": [
    "\\newpage"
   ]
  },
  {
   "cell_type": "markdown",
   "metadata": {},
   "source": [
    "# 2 Mixtures of Gaussians {-}\n",
    "\n",
    "## 2.1 The Guassian Cluster Model {-}"
   ]
  },
  {
   "cell_type": "code",
   "execution_count": 10,
   "metadata": {},
   "outputs": [],
   "source": [
    "# Distance function for GMM\n",
    "def distanceFunc_GM(X, MU):\n",
    "    # Inputs\n",
    "    # X: is an NxD matrix (N observations and D dimensions)\n",
    "    # MU: is an KxD matrix (K means and D dimensions)\n",
    "    # Outputs\n",
    "    # pair_dist: is the pairwise distance matrix (NxK)\n",
    "    \n",
    "    \"\"\"\n",
    "    NOT SURE IF THIS IS CORRECT\n",
    "    \n",
    "    I am fairly certain that what they want is something i wrote into the log_GaussPDF function.\n",
    "    I have no idea why they even included this in the helper file for gmm, it should just be log_Gauss -Devansh\n",
    "    \"\"\"\n",
    "    \n",
    "    pair_dist = []\n",
    "    for x in X:\n",
    "        row = []\n",
    "        for mu in MU:\n",
    "            row.append( np.square(x - mu).sum() )\n",
    "        pair_dist.append( row )\n",
    "    \n",
    "    # only difference is that I square root here\n",
    "    \n",
    "    # sorry bro, I think this is wrong -Devansh\n",
    "    return np.sqrt(pair_dist)\n",
    "\n",
    "def log_GaussPDF(X, mu, sigma):\n",
    "    # Inputs\n",
    "    # X: N X D\n",
    "    # mu: K X D\n",
    "    # sigma: K X 1\n",
    "\n",
    "    # Outputs:\n",
    "    # log Gaussian PDF N X K\n",
    "\n",
    "    K, N, D = len(mu), len(X), len(X[0])\n",
    "\n",
    "    pair_dist = []\n",
    "    for x in X:\n",
    "        row = []\n",
    "        for k, mu_k in enumerate(mu):\n",
    "            # Note that (x-mu).T @ sigma[k]*{dxd identity matrix} @ (x-mu) = 1/sigma[k] * ||x-mu||\n",
    "            # since sigma[k] is a constant\n",
    "\n",
    "            # Note that the determinant of a constant times an nxn Identity matrix is the constant raised to n\n",
    "            # because determinant is linear in each column and the determinant of the identity matrix is 1\n",
    "            prob = np.exp(-0.5 * np.square(x - mu_k).sum() / sigma[k]) / np.sqrt((2 * np.pi) ** K * sigma[k] ** D)\n",
    "            row.append(np.log(prob))\n",
    "        pair_dist.append(row)\n",
    "\n",
    "    # So, the output here is an NxK matrix. The i,j entry represent the log probability of the the i-th example\n",
    "    # belonging to cluster j.\n",
    "    return np.array(pair_dist)\n",
    "\n",
    "def log_posterior(log_PDF, log_pi):\n",
    "    # Input\n",
    "    # log_PDF: log Gaussian PDF N X K\n",
    "    # log_pi: K X 1\n",
    "\n",
    "    # Outputs\n",
    "    # log_post: N X K\n",
    "\n",
    "    # So this essentially just normalizes each row of the log_PDF so that each row is a valid probability distribution\n",
    "    # idk how tensor stuff works, so I'm going to leave you with a breakdown of what this fcn needs to do Sandra\n",
    "    \n",
    "    # The input log_PDF is an NxK matrix. Each entry needs to have a term subtracted from it. the update is as follows\n",
    "    # log_PDF[i][j] = log_PDF[i][j] - log_sumOfExponentialsOfAllEntriesInRowi\n",
    "    \n",
    "    # that's literally it\n",
    "    # Fortunately, the helper function called reduce_logsumexp calculates exactly this.\n",
    "    \n",
    "    # reduce_logsumexp should take in the log_PDF matrix (in the form of a tf tensor) and it will output a tensor\n",
    "    # of dimension Nx1. Please do some vector magic and subtract the i-th entry of this tensor from every\n",
    "    # entry in the i-th row of log_PDF\n",
    "    # Thanks!\n",
    "    return log_PDF"
   ]
  },
  {
   "cell_type": "code",
   "execution_count": 11,
   "metadata": {},
   "outputs": [
    {
     "name": "stdout",
     "output_type": "stream",
     "text": [
      "(6667, 3)\n"
     ]
    }
   ],
   "source": [
    "train_data, val_data = load_2D()\n",
    "\n",
    "N, D = train_data.shape\n",
    "K = 3\n",
    "\n",
    "MU = np.random.random_sample((K, D))\n",
    "pair_dist = distanceFunc_Kmeans(train_data, MU)\n",
    "print(pair_dist.shape)"
   ]
  },
  {
   "cell_type": "markdown",
   "metadata": {},
   "source": [
    "## 2.2 Learning the MoG {-}"
   ]
  },
  {
   "cell_type": "code",
   "execution_count": 12,
   "metadata": {},
   "outputs": [],
   "source": [
    "def log_GaussPDF(X, mu, sigma):\n",
    "    # Inputs\n",
    "    # X: N X D\n",
    "    # mu: K X D\n",
    "    # sigma: K X 1\n",
    "\n",
    "    # Outputs:\n",
    "    # log Gaussian PDF N X K\n",
    "\n",
    "    # TODO\n",
    "    \"\"\"\n",
    "    See above cell for 2.1\n",
    "    \"\"\"\n",
    "\n",
    "def log_posterior(log_PDF):\n",
    "    # Input\n",
    "    # log_PDF: log Gaussian PDF N X K\n",
    "    # log_pi: K X 1\n",
    "\n",
    "    # Outputs\n",
    "    # log_post: N X K\n",
    "\n",
    "    # TODO\n",
    "    \"\"\"\n",
    "    See above cell for 2.1\n",
    "    \"\"\"\n",
    "    \n",
    "def neg_log_likelihood_gmm(log_PDF, log_pi):\n",
    "    # Input\n",
    "    # log_PDF: log Gaussian PDF N X K\n",
    "    # log_pi: K X 1\n",
    "\n",
    "    # Outputs\n",
    "    # log_likelihood: scalar\n",
    "\n",
    "    \"\"\"\n",
    "    Not sure if this can be vectorized if need for speed\n",
    "    \"\"\"\n",
    "    neg_log_likelihood = 0\n",
    "    for n, sample in enumerate(log_PDF):\n",
    "        prob = 0\n",
    "        for k, clusters in enumerate(sample):\n",
    "            prob += np.exp(log_pi[k] + log_PDF[n][k])\n",
    "        neg_log_likelihood -= np.log(prob)\n",
    "    \n",
    "    return neg_log_likelihood"
   ]
  },
  {
   "cell_type": "markdown",
   "metadata": {},
   "source": [
    "# Hello Sandra <3\n",
    "This section requires us to use tensorflow to use gradient descent to minimize the output of the neg_log_likelihood_gmm function. Can you please do that thanks very much.\n",
    "\n",
    "Notes:\n",
    "\n",
    "- The parameters we can change through gradient descent are the entries of matrix MU (NxK), vector sigma (Kx1), and vector pi (Kx1)\n",
    "- each entry of the sigma vector have a constraint that  they must be non-negative (i.e. $\\forall k, \\sigma_k \\in [0,\\infty)$)\n",
    "    - suggestion from the handout to deal with this: replace $sigma^2$ with exp($\\phi$) in the math and the software where $\\phi$ is an unconstrained parameter\n",
    "- the entries of the pi vector must sum up to one (since it is a probability distribution) (i.e. $\\sum_{k}\\pi_k = 1$)\n",
    "    - suggestion from the handout to deal with this: replace this constraint with an unconstrained parameter $\\psi$ through softmax function $\\pi_k = \\frac{exp(\\psi_k)}{\\sum_{k'}exp(\\psi_{k'})}. A log-softmax function is provided in the helper functions file\n",
    "\n",
    "Rest of the assignment is just tensorflow make model and train\n",
    "\n",
    "With love, Devansh"
   ]
  }
 ],
 "metadata": {
  "kernelspec": {
   "display_name": "Python 3",
   "language": "python",
   "name": "python3"
  },
  "language_info": {
   "codemirror_mode": {
    "name": "ipython",
    "version": 3
   },
   "file_extension": ".py",
   "mimetype": "text/x-python",
   "name": "python",
   "nbconvert_exporter": "python",
   "pygments_lexer": "ipython3",
   "version": "3.7.6"
  }
 },
 "nbformat": 4,
 "nbformat_minor": 2
}
