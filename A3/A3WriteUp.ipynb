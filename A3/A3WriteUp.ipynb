{
 "cells": [
  {
   "cell_type": "markdown",
   "metadata": {},
   "source": [
    "# 0 Setup {-}"
   ]
  },
  {
   "cell_type": "code",
   "execution_count": 2,
   "metadata": {},
   "outputs": [],
   "source": [
    "# ignore all future warnings\n",
    "from warnings import simplefilter\n",
    "simplefilter(action='ignore', category=FutureWarning)"
   ]
  },
  {
   "cell_type": "code",
   "execution_count": 3,
   "metadata": {},
   "outputs": [],
   "source": [
    "# importing tensorflow\n",
    "try:\n",
    "    import google.colab\n",
    "    import tensorflow as tf\n",
    "    %tensorflow_version 1.13\n",
    "except:\n",
    "    import tensorflow as tf\n",
    "    assert tf.__version__ == \"1.13.1\"\n",
    "    \n",
    "    # ignore tensorflow depreciation warnings\n",
    "    import tensorflow.python.util.deprecation as deprecation\n",
    "    deprecation._PRINT_DEPRECATION_WARNINGS = False"
   ]
  },
  {
   "cell_type": "code",
   "execution_count": 4,
   "metadata": {},
   "outputs": [],
   "source": [
    "# imports\n",
    "import numpy as np\n",
    "import matplotlib.pyplot as plt"
   ]
  },
  {
   "cell_type": "markdown",
   "metadata": {},
   "source": [
    "## 0.1 Helper Functions {-}"
   ]
  },
  {
   "cell_type": "code",
   "execution_count": 5,
   "metadata": {},
   "outputs": [],
   "source": [
    "def reduce_logsumexp(input_tensor, reduction_indices=1, keep_dims=False):\n",
    "    \"\"\"Computes the sum of elements across dimensions of a tensor in log domain.\n",
    "\n",
    "     It uses a similar API to tf.reduce_sum.\n",
    "\n",
    "    Args:\n",
    "        input_tensor: The tensor to reduce. Should have numeric type.\n",
    "        reduction_indices: The dimensions to reduce. \n",
    "        keep_dims: If true, retains reduced dimensions with length 1.\n",
    "    Returns:\n",
    "        The reduced tensor.\n",
    "    \"\"\"\n",
    "    max_input_tensor1 = tf.reduce_max(input_tensor, reduction_indices, keep_dims=keep_dims)\n",
    "    max_input_tensor2 = max_input_tensor1\n",
    "    if not keep_dims:\n",
    "        max_input_tensor2 = tf.expand_dims(max_input_tensor2, reduction_indices)\n",
    "    return tf.log(\n",
    "            tf.reduce_sum(\n",
    "              tf.exp(input_tensor - max_input_tensor2),\n",
    "              reduction_indices,\n",
    "              keep_dims=keep_dims)) + max_input_tensor1\n",
    "\n",
    "def logsoftmax(input_tensor):\n",
    "    \"\"\"Computes normal softmax nonlinearity in log domain.\n",
    "\n",
    "     It can be used to normalize log probability.\n",
    "     The softmax is always computed along the second dimension of the input Tensor.     \n",
    "\n",
    "    Args:\n",
    "        input_tensor: Unnormalized log probability.\n",
    "    Returns:\n",
    "        normalized log probability.\n",
    "    \"\"\"\n",
    "    return input_tensor - reduce_logsumexp(input_tensor, reduction_indices=0, keep_dims=True)"
   ]
  },
  {
   "cell_type": "markdown",
   "metadata": {},
   "source": [
    "## 0.2 Plotting Functions {-}"
   ]
  },
  {
   "cell_type": "code",
   "execution_count": 6,
   "metadata": {},
   "outputs": [],
   "source": [
    "def plot_loss(x, train_loss=None, valid_loss=None, test_loss=None, title=None, ax=None):\n",
    "    ax = plt.gca() if ax == None else ax\n",
    "    if train_loss != None:\n",
    "        ax.plot(x, train_loss, label=\"Training Loss\")\n",
    "    if valid_loss != None:\n",
    "        ax.plot(x, valid_loss, label=\"Validation Loss\")\n",
    "    if test_loss != None:\n",
    "        ax.plot(x, test_loss, label=\"Testing Loss\")\n",
    "    \n",
    "    ax.set_title(\"Loss\" if title == None else title)\n",
    "    \n",
    "    ax.set_xlabel(\"Iterations\")\n",
    "    ax.set_xlim(left=0)\n",
    "    ax.set_ylabel(\"Loss\")\n",
    "    ax.set_ylim(bottom=0)\n",
    "    ax.legend(loc=\"upper right\")\n",
    "\n",
    "def plot_accuracy(x, train_accuracy=None, valid_accuracy=None, test_accuracy=None, title=None, ax=None):\n",
    "    ax = plt.gca() if ax == None else ax\n",
    "    if train_accuracy != None:\n",
    "        ax.plot(x, train_accuracy, label=\"Training Accuracy\")\n",
    "    if valid_accuracy != None:\n",
    "        ax.plot(x, valid_accuracy, label=\"Validation Accuracy\")\n",
    "    if test_accuracy != None:\n",
    "        ax.plot(x, test_accuracy, label=\"Testing Accuracy\")\n",
    "    \n",
    "    ax.set_title(\"Accuracy\" if title == None else title)\n",
    "\n",
    "    ax.set_xlabel(\"Iterations\")\n",
    "    ax.set_xlim(left=0)\n",
    "    ax.set_ylabel(\"Accuracy\")\n",
    "    ax.set_yticks(np.arange(0, 1.1, step=0.1))\n",
    "    ax.grid(linestyle='-', axis='y')\n",
    "    ax.legend(loc=\"lower right\")\n",
    "    \n",
    "\n",
    "def display_statistics(train_loss=None, train_acc=None, valid_loss=None, valid_acc=None, \n",
    "                       test_loss=None, test_acc=None, vals=True, plot=True):\n",
    "    \n",
    "    tl = \"-\" if train_loss is None else round(train_loss[-1], 4)\n",
    "    ta = \"-\" if train_acc is None else round(train_acc[-1]*100, 2)\n",
    "    vl = \"-\\t\" if valid_loss is None else round(valid_loss[-1], 4)\n",
    "    va = \"-\" if valid_acc is None else round(valid_acc[-1]*100, 2)\n",
    "    sl = \"-\\t\\t\" if test_loss is None else round(test_loss[-1], 4)\n",
    "    sa = \"-\" if test_acc is None else round(test_acc[-1]*100, 2)\n",
    "    \n",
    "    if vals:\n",
    "        print(f\"Training loss: {tl}{'':.20s}\\t\\tTraining acc: {ta}{'%' if ta != '-' else ''}\")\n",
    "        print(f\"Validation loss: {vl}{'':.20s}\\t\\tValidation acc: {va}{'%' if va != '-' else ''}\")\n",
    "        print(f\"Testing loss: {sl}{'':.20s}\\t\\tTesting acc: {sa}{'%' if sa != '-' else ''}\")\n",
    "    \n",
    "    if plot:\n",
    "        fig, ax = plt.subplots(1, 2, figsize=(18, 6))\n",
    "        plot_loss(np.arange(0, len(train_loss), 1), train_loss, valid_loss, test_loss, ax=ax[0])\n",
    "        plot_accuracy(np.arange(0, len(train_loss), 1), train_acc, valid_acc, test_acc, ax=ax[1])\n",
    "        plt.show()\n",
    "        plt.close()"
   ]
  },
  {
   "cell_type": "markdown",
   "metadata": {},
   "source": [
    "## 0.3 Data Loaders {-}"
   ]
  },
  {
   "cell_type": "code",
   "execution_count": 7,
   "metadata": {},
   "outputs": [],
   "source": [
    "def load_2D(valid=True):\n",
    "    data = np.load('data2D.npy')\n",
    "    [num_pts, dim] = data.shape\n",
    "    \n",
    "    # getting validation set\n",
    "    if valid:\n",
    "        valid_batch = int(num_pts / 3.0)\n",
    "        np.random.seed(45689)\n",
    "        rnd_idx = np.arange(num_pts)\n",
    "        np.random.shuffle(rnd_idx)\n",
    "        val_data = data[rnd_idx[:valid_batch]]\n",
    "        train_data = data[rnd_idx[valid_batch:]]\n",
    "        return train_data, val_data\n",
    "    else:\n",
    "        return data\n",
    "    \n",
    "def load_100D(valid=True):\n",
    "    data = np.load('data100D.npy')\n",
    "    [num_pts, dim] = data.shape\n",
    "    \n",
    "    # getting validation set\n",
    "    if valid:\n",
    "        valid_batch = int(num_pts / 3.0)\n",
    "        np.random.seed(45689)\n",
    "        rnd_idx = np.arange(num_pts)\n",
    "        np.random.shuffle(rnd_idx)\n",
    "        val_data = data[rnd_idx[:valid_batch]]\n",
    "        train_data = data[rnd_idx[valid_batch:]]\n",
    "        return train_data, val_data\n",
    "    else:\n",
    "        return data"
   ]
  },
  {
   "cell_type": "markdown",
   "metadata": {},
   "source": [
    "\\newpage"
   ]
  },
  {
   "cell_type": "markdown",
   "metadata": {},
   "source": [
    "# 1 K-means {-}\n",
    "\n",
    "## 1.1 Learning K-means {-}"
   ]
  },
  {
   "cell_type": "code",
   "execution_count": 8,
   "metadata": {},
   "outputs": [],
   "source": [
    "# Distance function for K-means\n",
    "def distanceFunc_Kmeans(X, MU):\n",
    "    # Inputs\n",
    "    # X: is an NxD matrix (N observations and D dimensions)\n",
    "    # MU: is an KxD matrix (K means and D dimensions)\n",
    "    # Outputs\n",
    "    # pair_dist: is the squared pairwise distance matrix (NxK)\n",
    "    \n",
    "    \"\"\"\n",
    "    I think this is right? idk someone verify\n",
    "    \"\"\"\n",
    "    \n",
    "    pair_dist = []\n",
    "    for x in X:\n",
    "        row = []\n",
    "        for mu in MU:\n",
    "            row.append( np.square(x - mu).sum() )\n",
    "        pair_dist.append( row )\n",
    "    \n",
    "    return np.array(pair_dist)"
   ]
  },
  {
   "cell_type": "code",
   "execution_count": 20,
   "metadata": {},
   "outputs": [],
   "source": [
    "def L(X, MU):\n",
    "    pair_dist = distanceFunc_Kmeans(X, MU)\n",
    "    return pair_dist.min(axis=1).sum()\n",
    "\n",
    "def Kmeans(X, K):\n",
    "    N, D = X.shape\n",
    "    \n",
    "    # initializing mu from a normal distribution\n",
    "    # question...what should the mean and std of the normal distirbution be?\n",
    "    MU = np.random.normal(0, 1, (K, D))\n",
    "    \n",
    "    # TODO:\n",
    "    #    Sandra (or someone) implement tensorflow to do Kmean clustering\n",
    "    #    the loss function we want to optimize is given above vary the MU's\n",
    "    \n",
    "    # This should be the optimized MU's\n",
    "    return MU\n",
    "\n",
    "def get_clusters(X, MU):\n",
    "    K = MU.shape[0]\n",
    "    \n",
    "    # getting list of which cluster each X should be in\n",
    "    pair_dist = distanceFunc_Kmeans(X, MU)\n",
    "    S_indices = np.argmin(pair_dist, axis=1)\n",
    "    \n",
    "    # getting list of actual clusters\n",
    "    S = [None]*K\n",
    "    for i in range(K):\n",
    "        S[i] = X[S == i]    # I am pretty sure this is correct, \n",
    "                            # but need to check once we actually code the optimizer\n",
    "    return S"
   ]
  },
  {
   "cell_type": "code",
   "execution_count": 21,
   "metadata": {},
   "outputs": [
    {
     "name": "stdout",
     "output_type": "stream",
     "text": [
      "[[1.39696864e+01 1.02386101e+01 1.42999054e+01]\n",
      " [1.37404928e+01 9.64060007e+00 1.32270112e+01]\n",
      " [1.79221231e+01 1.13954635e+01 1.22652969e+01]\n",
      " ...\n",
      " [1.21451452e+01 3.42483069e+00 1.51958478e-02]\n",
      " [7.86707732e+00 2.09521936e+00 1.66283084e+00]\n",
      " [5.60430697e+00 5.60956203e-01 1.65230773e+00]]\n",
      "[1 1 1 ... 2 2 1]\n"
     ]
    },
    {
     "data": {
      "text/plain": [
       "'\\n# below is pseudo-code, idk if it runs\\nfor cluster in S:\\n    plt.scatter(cluster)  # plt should automatically color the custers differently\\nplt.show()\\n'"
      ]
     },
     "execution_count": 21,
     "metadata": {},
     "output_type": "execute_result"
    }
   ],
   "source": [
    "# getting data\n",
    "train_data, val_data = load_2D()\n",
    "\n",
    "K = 3\n",
    "MU = Kmeans(train_data, K)\n",
    "\n",
    "S = get_clusters(train_data, MU)\n",
    "\n",
    "# below is pseudo-code, idk if it runs\n",
    "for i in range(K):\n",
    "    plt.scatter(S[i])  # plt should automatically color the custers differently\n",
    "plt.show()"
   ]
  },
  {
   "cell_type": "markdown",
   "metadata": {},
   "source": [
    "\\newpage"
   ]
  },
  {
   "cell_type": "markdown",
   "metadata": {},
   "source": [
    "# 2 Mixtures of Gaussians {-}\n",
    "\n",
    "## 2.1 The Guassian Cluster Model {-}"
   ]
  },
  {
   "cell_type": "code",
   "execution_count": 21,
   "metadata": {},
   "outputs": [],
   "source": [
    "# Distance function for GMM\n",
    "def distanceFunc_GM(X, MU):\n",
    "    # Inputs\n",
    "    # X: is an NxD matrix (N observations and D dimensions)\n",
    "    # MU: is an KxD matrix (K means and D dimensions)\n",
    "    # Outputs\n",
    "    # pair_dist: is the pairwise distance matrix (NxK)\n",
    "    \n",
    "    \"\"\"\n",
    "    NOT SURE IF THIS IS CORRECT\n",
    "    \"\"\"\n",
    "    \n",
    "    pair_dist = []\n",
    "    for x in X:\n",
    "        row = []\n",
    "        for mu in MU:\n",
    "            row.append( np.square(x - mu).sum() )\n",
    "        pair_dist.append( row )\n",
    "    \n",
    "    # only difference is that I square root here\n",
    "    return np.sqrt(pair_dist)"
   ]
  },
  {
   "cell_type": "code",
   "execution_count": 22,
   "metadata": {},
   "outputs": [
    {
     "name": "stdout",
     "output_type": "stream",
     "text": [
      "(6667, 3)\n"
     ]
    }
   ],
   "source": [
    "train_data, val_data = load_2D()\n",
    "\n",
    "N, D = train_data.shape\n",
    "K = 3\n",
    "\n",
    "MU = np.random.random_sample((K, D))\n",
    "pair_dist = distanceFunc_Kmeans(train_data, MU)\n",
    "print(pair_dist.shape)"
   ]
  },
  {
   "cell_type": "markdown",
   "metadata": {},
   "source": [
    "## 2.2 Learning the MoG {-}"
   ]
  },
  {
   "cell_type": "code",
   "execution_count": null,
   "metadata": {},
   "outputs": [],
   "source": [
    "def log_GaussPDF(X, mu, sigma):\n",
    "    # Inputs\n",
    "    # X: N X D\n",
    "    # mu: K X D\n",
    "    # sigma: K X 1\n",
    "\n",
    "    # Outputs:\n",
    "    # log Gaussian PDF N X K\n",
    "\n",
    "    # TODO\n",
    "\n",
    "def log_posterior(log_PDF, log_pi):\n",
    "    # Input\n",
    "    # log_PDF: log Gaussian PDF N X K\n",
    "    # log_pi: K X 1\n",
    "\n",
    "    # Outputs\n",
    "    # log_post: N X K\n",
    "\n",
    "    # TODO"
   ]
  }
 ],
 "metadata": {
  "kernelspec": {
   "display_name": "Python 3",
   "language": "python",
   "name": "python3"
  },
  "language_info": {
   "codemirror_mode": {
    "name": "ipython",
    "version": 3
   },
   "file_extension": ".py",
   "mimetype": "text/x-python",
   "name": "python",
   "nbconvert_exporter": "python",
   "pygments_lexer": "ipython3",
   "version": "3.7.3"
  }
 },
 "nbformat": 4,
 "nbformat_minor": 2
}
