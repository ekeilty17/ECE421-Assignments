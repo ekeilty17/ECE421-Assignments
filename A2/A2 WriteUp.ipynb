{
 "cells": [
  {
   "cell_type": "markdown",
   "metadata": {},
   "source": [
    "\\newpage"
   ]
  },
  {
   "cell_type": "markdown",
   "metadata": {},
   "source": [
    "# 0 Setup {-}"
   ]
  },
  {
   "cell_type": "code",
   "execution_count": 2,
   "metadata": {},
   "outputs": [],
   "source": [
    "# ignore all future warnings\n",
    "from warnings import simplefilter\n",
    "simplefilter(action='ignore', category=FutureWarning)"
   ]
  },
  {
   "cell_type": "code",
   "execution_count": 3,
   "metadata": {},
   "outputs": [],
   "source": [
    "# imports\n",
    "import tensorflow as tf\n",
    "import numpy as np\n",
    "import matplotlib.pyplot as plt"
   ]
  },
  {
   "cell_type": "code",
   "execution_count": 4,
   "metadata": {},
   "outputs": [],
   "source": [
    "# ignore tensorflow depreciation warnings\n",
    "import tensorflow.python.util.deprecation as deprecation\n",
    "deprecation._PRINT_DEPRECATION_WARNINGS = False"
   ]
  },
  {
   "cell_type": "markdown",
   "metadata": {},
   "source": [
    "### 0.1 Visualizing the Dataset {-}"
   ]
  },
  {
   "cell_type": "code",
   "execution_count": 5,
   "metadata": {},
   "outputs": [],
   "source": [
    "# given by the assignment\n",
    "def loadData():\n",
    "    with np.load(\"notMNIST.npz\") as data:\n",
    "        Data, Target = data [\"images\"], data[\"labels\"]\n",
    "        np.random.seed(521)\n",
    "        randIndx = np.arange(len(Data))\n",
    "        np.random.shuffle(randIndx)\n",
    "        Data = Data[randIndx]/255.\n",
    "        Target = Target[randIndx]\n",
    "        trainData, trainTarget = Data[:15000], Target[:15000]\n",
    "        validData, validTarget = Data[15000:16000], Target[15000:16000]\n",
    "        testData, testTarget = Data[16000:], Target[16000:]\n",
    "    return trainData, validData, testData, trainTarget, validTarget, testTarget"
   ]
  },
  {
   "cell_type": "markdown",
   "metadata": {},
   "source": [
    "\\newpage"
   ]
  },
  {
   "cell_type": "code",
   "execution_count": 6,
   "metadata": {},
   "outputs": [
    {
     "name": "stdout",
     "output_type": "stream",
     "text": [
      "Training Data: (15000, 28, 28)\tTraining tagets: (15000,)\n",
      "Validation Data: (1000, 28, 28)\tValidation tagets: (1000,)\n",
      "Testing Data: (2724, 28, 28)\tTesting tagets:(2724,)\n"
     ]
    }
   ],
   "source": [
    "trainData, validData, testData, trainTarget, validTarget, testTarget = loadData()\n",
    "print(f\"Training Data: {trainData.shape}\\tTraining tagets: {trainTarget.shape}\")\n",
    "print(f\"Validation Data: {validData.shape}\\tValidation tagets: {validTarget.shape}\")\n",
    "print(f\"Testing Data: {testData.shape}\\tTesting tagets:{testTarget.shape}\")"
   ]
  },
  {
   "cell_type": "code",
   "execution_count": 7,
   "metadata": {},
   "outputs": [],
   "source": [
    "def plot(image, target, ax=None):\n",
    "    ax = plt.gca() if ax == None else ax\n",
    "    ax.imshow(image, cmap=\"hot\")\n",
    "    target_names = ['A', 'B', 'C', 'D', 'E', 'F', 'G', 'H', 'I', 'J']\n",
    "    ax.set_title(target_names[target])\n",
    "    # targets interger encoded from 0 to 9 corresponding to 'A' to 'J', respectively"
   ]
  },
  {
   "cell_type": "code",
   "execution_count": 8,
   "metadata": {},
   "outputs": [
    {
     "data": {
      "image/png": "[encoded data removed]",
      "text/plain": [
       "<Figure size 1152x360 with 10 Axes>"
      ]
     },
     "metadata": {
      "needs_background": "light"
     },
     "output_type": "display_data"
    }
   ],
   "source": [
    "fig, axis = plt.subplots(2, 5, figsize=(16, 5))\n",
    "for ax in axis.reshape(-1):\n",
    "    r = np.random.randint(trainData.shape[0])\n",
    "    plot(trainData[r], trainTarget[r], ax=ax)\n",
    "plt.show()"
   ]
  },
  {
   "cell_type": "markdown",
   "metadata": {},
   "source": [
    "\\newpage"
   ]
  },
  {
   "cell_type": "markdown",
   "metadata": {},
   "source": [
    "### 0.2 Useful Functions {-}\n",
    "\n",
    "Some useful functions that will be used throughout the assignment such as getting random weights, getting the accuracy of a batch, making the loss and accuracy plots look nice, and global variables used throughout the code"
   ]
  },
  {
   "cell_type": "code",
   "execution_count": 9,
   "metadata": {},
   "outputs": [],
   "source": [
    "# given by the assignment\n",
    "def convertOneHot(trainTarget, validTarget, testTarget):\n",
    "    newtrain = np.zeros((trainTarget.shape[0], 10))\n",
    "    newvalid = np.zeros((validTarget.shape[0], 10))\n",
    "    newtest = np.zeros((testTarget.shape[0], 10))\n",
    "    for item in range(0, trainTarget.shape[0]):\n",
    "        newtrain[item][trainTarget[item]] = 1\n",
    "    for item in range(0, validTarget.shape[0]):\n",
    "        newvalid[item][validTarget[item]] = 1\n",
    "    for item in range(0, testTarget.shape[0]):\n",
    "        newtest[item][testTarget[item]] = 1\n",
    "    return newtrain, newvalid, newtest"
   ]
  },
  {
   "cell_type": "code",
   "execution_count": 10,
   "metadata": {},
   "outputs": [],
   "source": [
    "def plot_loss(x, train_loss=None, valid_loss=None, test_loss=None, title=None, ax=None):\n",
    "    ax = plt.gca() if ax == None else ax\n",
    "    if train_loss != None:\n",
    "        ax.plot(x, train_loss, label=\"Training Loss\")\n",
    "    if valid_loss != None:\n",
    "        ax.plot(x, valid_loss, label=\"Validation Loss\")\n",
    "    if test_loss != None:\n",
    "        ax.plot(x, test_loss, label=\"Testing Loss\")\n",
    "    \n",
    "    ax.set_title(\"Loss\" if title == None else title)\n",
    "    \n",
    "    ax.set_xlabel(\"Iterations\")\n",
    "    ax.set_xlim(left=0)\n",
    "    ax.set_ylabel(\"Loss\")\n",
    "    ax.set_ylim(bottom=0)\n",
    "    ax.legend(loc=\"upper right\")\n",
    "\n",
    "def plot_accuracy(x, train_accuracy=None, valid_accuracy=None, test_accuracy=None, title=None, ax=None):\n",
    "    ax = plt.gca() if ax == None else ax\n",
    "    if train_accuracy != None:\n",
    "        ax.plot(x, train_accuracy, label=\"Training Accuracy\")\n",
    "    if valid_accuracy != None:\n",
    "        ax.plot(x, valid_accuracy, label=\"Validation Accuracy\")\n",
    "    if test_accuracy != None:\n",
    "        ax.plot(x, test_accuracy, label=\"Testing Accuracy\")\n",
    "    \n",
    "    ax.set_title(\"Accuracy\" if title == None else title)\n",
    "\n",
    "    ax.set_xlabel(\"Iterations\")\n",
    "    ax.set_xlim(left=0)\n",
    "    ax.set_ylabel(\"Accuracy\")\n",
    "    ax.set_yticks(np.arange(0, 1.1, step=0.1))\n",
    "    ax.grid(linestyle='-', axis='y')\n",
    "    ax.legend(loc=\"lower right\")\n",
    "    \n",
    "\n",
    "def display_statistics(train_loss=None, train_acc=None, valid_loss=None, valid_acc=None, \n",
    "                       test_loss=None, test_acc=None):\n",
    "    \n",
    "    \"\"\"\n",
    "    tl == [\"-\"] if train_loss is None else [train_loss[-1]:.4f]\n",
    "    ta == [\"-\"] if train_acc is None else [train_acc[-1]*100:.2f]\n",
    "    vl == [\"-\"] if valid_loss is None else [valid_loss[-1]:.4f]\n",
    "    va == [\"-\"] if valid_acc is None else [valid_acc[-1]*100:.2f]\n",
    "    sl == [\"-\"] if test_loss is None else [test_loss[-1]:.4f]\n",
    "    sa == [\"-\"] if test_acc is None else [test_acc[-1]*100:.2f]\n",
    "    \"\"\"\n",
    "    \n",
    "    print(f\"Training loss: {tl}{'':.20s}\\t\\tTraining acc: {ta}%\")\n",
    "    print(f\"Validation loss: {vl}{'':.20s}\\tValidation acc: {va}%\")\n",
    "    print(f\"Testing loss: {sl}{'':.20s}\\tTesting acc: {sa}%\")\n",
    "    \n",
    "    fig, ax = plt.subplots(1, 2, figsize=(18, 6))\n",
    "    plot_loss(np.arange(0, len(train_loss), 1), train_loss, valid_loss, test_loss, ax=ax[0])\n",
    "    plot_accuracy(np.arange(0, len(train_loss), 1), train_acc, valid_acc, test_acc, ax=ax[1])\n",
    "    plt.show()\n",
    "    plt.close()"
   ]
  },
  {
   "cell_type": "code",
   "execution_count": 11,
   "metadata": {},
   "outputs": [],
   "source": [
    "TINY = 1e-20\n",
    "VTDatasets = {\"validData\" : validData, \"validTarget\" : validTarget,\n",
    "              \"testData\" : testData, \"testTarget\" : testTarget}\n",
    "\n",
    "N = trainData.shape[0]\n",
    "d = trainData.shape[1] * trainData.shape[2]"
   ]
  },
  {
   "cell_type": "markdown",
   "metadata": {},
   "source": [
    "\\newpage"
   ]
  },
  {
   "cell_type": "markdown",
   "metadata": {},
   "source": [
    "# 1 Neural Networks using Numpy {-}\n",
    "### 1.1 Helper Functions {-}"
   ]
  },
  {
   "cell_type": "code",
   "execution_count": 13,
   "metadata": {},
   "outputs": [],
   "source": [
    "def relu(x):\n",
    "    return np.maximum(0, x)\n",
    "\n",
    "def softmax(x):\n",
    "    return np.exp(x) / np.exp(x).sum()"
   ]
  },
  {
   "cell_type": "code",
   "execution_count": 14,
   "metadata": {},
   "outputs": [],
   "source": [
    "def computeLayer(X, W, b):\n",
    "    # W might need to get transposed depending on how we define it\n",
    "    return X.dot(W) + b"
   ]
  },
  {
   "cell_type": "code",
   "execution_count": 26,
   "metadata": {},
   "outputs": [],
   "source": [
    "# target is one-hot encoded\n",
    "# prediction is the output of the softmax function\n",
    "def CE(target, prediction):\n",
    "    return (target * np.log(prediction+TINY)).sum(axis=1).mean()\n",
    "\n",
    "# target is one-hot encoded\n",
    "# activation is the value before softmaxing\n",
    "def gradCE(target, activation):\n",
    "    return target - activation"
   ]
  },
  {
   "cell_type": "markdown",
   "metadata": {},
   "source": [
    "### 1.2 Backpropagation Derivation {-} "
   ]
  },
  {
   "cell_type": "code",
   "execution_count": null,
   "metadata": {},
   "outputs": [],
   "source": []
  },
  {
   "cell_type": "markdown",
   "metadata": {},
   "source": [
    "### 1.3 Learning {-}"
   ]
  },
  {
   "cell_type": "code",
   "execution_count": null,
   "metadata": {},
   "outputs": [],
   "source": []
  },
  {
   "cell_type": "markdown",
   "metadata": {},
   "source": [
    "### 1.4 Hyperparameter Investigation {-}"
   ]
  },
  {
   "cell_type": "code",
   "execution_count": null,
   "metadata": {},
   "outputs": [],
   "source": []
  },
  {
   "cell_type": "markdown",
   "metadata": {},
   "source": [
    "\\newpage"
   ]
  },
  {
   "cell_type": "markdown",
   "metadata": {},
   "source": [
    "# 2 Neural Networks in Tensorflow {-}\n",
    "### 2.1 Model implementation {-}"
   ]
  },
  {
   "cell_type": "code",
   "execution_count": null,
   "metadata": {},
   "outputs": [],
   "source": []
  },
  {
   "cell_type": "markdown",
   "metadata": {},
   "source": [
    "### 2.2 Model Training {-}"
   ]
  },
  {
   "cell_type": "code",
   "execution_count": null,
   "metadata": {},
   "outputs": [],
   "source": []
  },
  {
   "cell_type": "markdown",
   "metadata": {},
   "source": [
    "### 2.3 Hyperparameter Investigation {-}"
   ]
  },
  {
   "cell_type": "code",
   "execution_count": null,
   "metadata": {},
   "outputs": [],
   "source": []
  },
  {
   "cell_type": "code",
   "execution_count": null,
   "metadata": {},
   "outputs": [],
   "source": []
  }
 ],
 "metadata": {
  "kernelspec": {
   "display_name": "Python 3",
   "language": "python",
   "name": "python3"
  },
  "language_info": {
   "codemirror_mode": {
    "name": "ipython",
    "version": 3
   },
   "file_extension": ".py",
   "mimetype": "text/x-python",
   "name": "python",
   "nbconvert_exporter": "python",
   "pygments_lexer": "ipython3",
   "version": "3.7.3"
  }
 },
 "nbformat": 4,
 "nbformat_minor": 2
}
