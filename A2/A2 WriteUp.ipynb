{
 "cells": [
  {
   "cell_type": "markdown",
   "metadata": {
    "colab_type": "text",
    "id": "e8grvLzosmSI"
   },
   "source": [
    "\\newpage"
   ]
  },
  {
   "cell_type": "markdown",
   "metadata": {
    "colab_type": "text",
    "id": "mae1NLFCsmSa"
   },
   "source": [
    "# 0 Setup {-}"
   ]
  },
  {
   "cell_type": "code",
   "execution_count": 8,
   "metadata": {
    "colab": {
     "base_uri": "https://localhost:8080/",
     "height": 102
    },
    "colab_type": "code",
    "id": "fKYte0AwsmSq",
    "outputId": "907afef2-adfb-4dbf-9675-ceddb3aae92a"
   },
   "outputs": [],
   "source": [
    "try:\n",
    "    import google.colab\n",
    "    IN_COLAB = True\n",
    "except:\n",
    "    IN_COLAB = False\n",
    "    import tensorflow as tf\n",
    "\n",
    "if IN_COLAB:\n",
    "    %tensorflow_version 1.13\n",
    "else:\n",
    "    assert tf.__version__ == \"1.13.1\"\n",
    "\n",
    "# ignore all future warnings\n",
    "from warnings import simplefilter\n",
    "simplefilter(action='ignore', category=FutureWarning)"
   ]
  },
  {
   "cell_type": "code",
   "execution_count": 9,
   "metadata": {
    "colab": {},
    "colab_type": "code",
    "id": "bTICRe_QsmTe"
   },
   "outputs": [],
   "source": [
    "# imports\n",
    "import tensorflow as tf\n",
    "import numpy as np\n",
    "import matplotlib.pyplot as plt\n",
    "from tensorflow.keras import layers, models"
   ]
  },
  {
   "cell_type": "code",
   "execution_count": 10,
   "metadata": {
    "colab": {
     "base_uri": "https://localhost:8080/",
     "height": 34
    },
    "colab_type": "code",
    "id": "vYedbadRsmT0",
    "outputId": "1d885ea3-ac9d-483a-a2bb-94c979652205"
   },
   "outputs": [
    {
     "name": "stdout",
     "output_type": "stream",
     "text": [
      "1.13.1\n"
     ]
    }
   ],
   "source": [
    "print(tf.__version__)"
   ]
  },
  {
   "cell_type": "code",
   "execution_count": 11,
   "metadata": {
    "colab": {
     "base_uri": "https://localhost:8080/",
     "height": 181
    },
    "colab_type": "code",
    "id": "1MRJFEhHsmUJ",
    "outputId": "e4abbe05-b933-4433-f921-ecf7f2b7a9b6"
   },
   "outputs": [],
   "source": [
    "# ignore tensorflow depreciation warnings\n",
    "import tensorflow.python.util.deprecation as deprecation\n",
    "deprecation._PRINT_DEPRECATION_WARNINGS = False"
   ]
  },
  {
   "cell_type": "markdown",
   "metadata": {
    "colab_type": "text",
    "id": "xfmOfJwRsmUi"
   },
   "source": [
    "### 0.1 Visualizing the Dataset {-}"
   ]
  },
  {
   "cell_type": "code",
   "execution_count": 12,
   "metadata": {
    "colab": {},
    "colab_type": "code",
    "id": "uGUfH4HCsmUj"
   },
   "outputs": [],
   "source": [
    "# given by the assignment\n",
    "def loadData():\n",
    "    with np.load(\"notMNIST.npz\") as data:\n",
    "        Data, Target = data [\"images\"], data[\"labels\"]\n",
    "        np.random.seed(521)\n",
    "        randIndx = np.arange(len(Data))\n",
    "        np.random.shuffle(randIndx)\n",
    "        Data = Data[randIndx]/255.\n",
    "        Target = Target[randIndx]\n",
    "        trainData, trainTarget = Data[:15000], Target[:15000]\n",
    "        validData, validTarget = Data[15000:16000], Target[15000:16000]\n",
    "        testData, testTarget = Data[16000:], Target[16000:]\n",
    "    return trainData, validData, testData, trainTarget, validTarget, testTarget"
   ]
  },
  {
   "cell_type": "markdown",
   "metadata": {
    "colab_type": "text",
    "id": "u-FP2WmKsmUr"
   },
   "source": [
    "\\newpage"
   ]
  },
  {
   "cell_type": "code",
   "execution_count": 13,
   "metadata": {
    "colab": {
     "base_uri": "https://localhost:8080/",
     "height": 68
    },
    "colab_type": "code",
    "id": "sqXNLSxesmUt",
    "outputId": "20dfcba7-8f8d-4c5c-ca16-43f108179c97"
   },
   "outputs": [
    {
     "name": "stdout",
     "output_type": "stream",
     "text": [
      "Training Data: (15000, 28, 28)\tTraining tagets: (15000,)\n",
      "Validation Data: (1000, 28, 28)\tValidation tagets: (1000,)\n",
      "Testing Data: (2724, 28, 28)\tTesting tagets:(2724,)\n"
     ]
    }
   ],
   "source": [
    "trainData, validData, testData, trainTarget, validTarget, testTarget = loadData()\n",
    "print(f\"Training Data: {trainData.shape}\\tTraining tagets: {trainTarget.shape}\")\n",
    "print(f\"Validation Data: {validData.shape}\\tValidation tagets: {validTarget.shape}\")\n",
    "print(f\"Testing Data: {testData.shape}\\tTesting tagets:{testTarget.shape}\")"
   ]
  },
  {
   "cell_type": "code",
   "execution_count": 14,
   "metadata": {
    "colab": {},
    "colab_type": "code",
    "id": "7jucjS5asmU4"
   },
   "outputs": [],
   "source": [
    "def plot(image, target, ax=None):\n",
    "    ax = plt.gca() if ax == None else ax\n",
    "    ax.imshow(image, cmap=plt.cm.gray)\n",
    "    target_names = ['A', 'B', 'C', 'D', 'E', 'F', 'G', 'H', 'I', 'J']\n",
    "    ax.set_title(target_names[target])\n",
    "    # targets interger encoded from 0 to 9 corresponding to 'A' to 'J', respectively"
   ]
  },
  {
   "cell_type": "code",
   "execution_count": 15,
   "metadata": {
    "colab": {
     "base_uri": "https://localhost:8080/",
     "height": 396
    },
    "colab_type": "code",
    "id": "xjp0OnvVsmVf",
    "outputId": "4e3ec1d3-f910-4848-d221-8a15f1f366b4"
   },
   "outputs": [
    {
     "data": {
      "image/png": "[encoded data removed]",
      "text/plain": [
       "<Figure size 1152x360 with 10 Axes>"
      ]
     },
     "metadata": {
      "needs_background": "light"
     },
     "output_type": "display_data"
    }
   ],
   "source": [
    "fig, axis = plt.subplots(2, 5, figsize=(16, 5))\n",
    "for ax in axis.reshape(-1):\n",
    "    r = np.random.randint(trainData.shape[0])\n",
    "    plot(trainData[r], trainTarget[r], ax=ax)\n",
    "plt.show()"
   ]
  },
  {
   "cell_type": "markdown",
   "metadata": {
    "colab_type": "text",
    "id": "BmFy3s4VsmVj"
   },
   "source": [
    "\\newpage"
   ]
  },
  {
   "cell_type": "markdown",
   "metadata": {
    "colab_type": "text",
    "id": "FBu2xF18smVk"
   },
   "source": [
    "### 0.2 Useful Functions {-}\n",
    "\n",
    "Some useful functions that will be used throughout the assignment such as getting random weights, getting the accuracy of a batch, making the loss and accuracy plots look nice, and global variables used throughout the code"
   ]
  },
  {
   "cell_type": "code",
   "execution_count": 16,
   "metadata": {
    "colab": {},
    "colab_type": "code",
    "id": "yMWn3b13smVl"
   },
   "outputs": [],
   "source": [
    "# given by the assignment\n",
    "def convertOneHot(trainTarget, validTarget, testTarget):\n",
    "    newtrain = np.zeros((trainTarget.shape[0], 10))\n",
    "    newvalid = np.zeros((validTarget.shape[0], 10))\n",
    "    newtest = np.zeros((testTarget.shape[0], 10))\n",
    "    for item in range(0, trainTarget.shape[0]):\n",
    "        newtrain[item][trainTarget[item]] = 1\n",
    "    for item in range(0, validTarget.shape[0]):\n",
    "        newvalid[item][validTarget[item]] = 1\n",
    "    for item in range(0, testTarget.shape[0]):\n",
    "        newtest[item][testTarget[item]] = 1\n",
    "    return newtrain, newvalid, newtest"
   ]
  },
  {
   "cell_type": "code",
   "execution_count": 17,
   "metadata": {
    "colab": {},
    "colab_type": "code",
    "id": "28F3a7ILsmVq"
   },
   "outputs": [],
   "source": [
    "def accuracy(y_pred, y):\n",
    "    if y_pred.shape != y.shape:\n",
    "        raise ValueError(f\"prediction dimension {y_pred.shape} and label dimensions {y.shape} don't match\")\n",
    "    return np.sum(y_pred.argmax(axis=1) == y.argmax(axis=1)) / y.shape[0]"
   ]
  },
  {
   "cell_type": "code",
   "execution_count": 18,
   "metadata": {
    "colab": {},
    "colab_type": "code",
    "id": "ashJmn_csmVv"
   },
   "outputs": [],
   "source": [
    "def plot_loss(x, train_loss=None, valid_loss=None, test_loss=None, title=None, ax=None):\n",
    "    ax = plt.gca() if ax == None else ax\n",
    "    if train_loss != None:\n",
    "        ax.plot(x, train_loss, label=\"Training Loss\")\n",
    "    if valid_loss != None:\n",
    "        ax.plot(x, valid_loss, label=\"Validation Loss\")\n",
    "    if test_loss != None:\n",
    "        ax.plot(x, test_loss, label=\"Testing Loss\")\n",
    "    \n",
    "    ax.set_title(\"Loss\" if title == None else title)\n",
    "    \n",
    "    ax.set_xlabel(\"Iterations\")\n",
    "    ax.set_xlim(left=0)\n",
    "    ax.set_ylabel(\"Loss\")\n",
    "    ax.set_ylim(bottom=0)\n",
    "    ax.legend(loc=\"upper right\")\n",
    "\n",
    "def plot_accuracy(x, train_accuracy=None, valid_accuracy=None, test_accuracy=None, title=None, ax=None):\n",
    "    ax = plt.gca() if ax == None else ax\n",
    "    if train_accuracy != None:\n",
    "        ax.plot(x, train_accuracy, label=\"Training Accuracy\")\n",
    "    if valid_accuracy != None:\n",
    "        ax.plot(x, valid_accuracy, label=\"Validation Accuracy\")\n",
    "    if test_accuracy != None:\n",
    "        ax.plot(x, test_accuracy, label=\"Testing Accuracy\")\n",
    "    \n",
    "    ax.set_title(\"Accuracy\" if title == None else title)\n",
    "\n",
    "    ax.set_xlabel(\"Iterations\")\n",
    "    ax.set_xlim(left=0)\n",
    "    ax.set_ylabel(\"Accuracy\")\n",
    "    ax.set_yticks(np.arange(0, 1.1, step=0.1))\n",
    "    ax.grid(linestyle='-', axis='y')\n",
    "    ax.legend(loc=\"lower right\")\n",
    "    \n",
    "\n",
    "def display_statistics(train_loss=None, train_acc=None, valid_loss=None, valid_acc=None, \n",
    "                       test_loss=None, test_acc=None, num=True, plot=True):\n",
    "    \n",
    "    tl = \"-\" if train_loss is None else round(train_loss[-1], 4)\n",
    "    ta = \"-\" if train_acc is None else round(train_acc[-1]*100, 2)\n",
    "    vl = \"-\\t\" if valid_loss is None else round(valid_loss[-1], 4)\n",
    "    va = \"-\" if valid_acc is None else round(valid_acc[-1]*100, 2)\n",
    "    sl = \"-\\t\\t\" if test_loss is None else round(test_loss[-1], 4)\n",
    "    sa = \"-\" if test_acc is None else round(test_acc[-1]*100, 2)\n",
    "    \n",
    "    if num:\n",
    "        print(f\"Training loss: {tl}{'':.20s}\\t\\tTraining acc: {ta}{'%' if ta != '-' else ''}\")\n",
    "        print(f\"Validation loss: {vl}{'':.20s}\\tValidation acc: {va}{'%' if va != '-' else ''}\")\n",
    "        print(f\"Testing loss: {sl}{'':.20s}\\tTesting acc: {sa}{'%' if sa != '-' else ''}\")\n",
    "    \n",
    "    if plot:\n",
    "        fig, ax = plt.subplots(1, 2, figsize=(18, 6))\n",
    "        plot_loss(np.arange(0, len(train_loss), 1), train_loss, valid_loss, test_loss, ax=ax[0])\n",
    "        plot_accuracy(np.arange(0, len(train_loss), 1), train_acc, valid_acc, test_acc, ax=ax[1])\n",
    "        plt.show()\n",
    "        plt.close()"
   ]
  },
  {
   "cell_type": "code",
   "execution_count": 19,
   "metadata": {
    "colab": {},
    "colab_type": "code",
    "id": "PoI4MFNWsmV-"
   },
   "outputs": [],
   "source": [
    "TINY = 1e-20\n",
    "newtrain, newvalid, newtest = convertOneHot(trainTarget, validTarget, testTarget)\n",
    "VTDatasets = {\"validData\" : validData.reshape(validData.shape[0], -1), \"validTarget\" : newvalid,\n",
    "              \"testData\" : testData.reshape(testData.shape[0], -1), \"testTarget\" : newtest}\n",
    "\n",
    "N = trainData.shape[0]\n",
    "d = trainData.shape[1] * trainData.shape[2]\n",
    "K = 10"
   ]
  },
  {
   "cell_type": "markdown",
   "metadata": {
    "colab_type": "raw",
    "id": "zfAzE4fbsmWG"
   },
   "source": [
    "\\newpage"
   ]
  },
  {
   "cell_type": "markdown",
   "metadata": {
    "colab_type": "text",
    "id": "A8Ynq1N7smWI"
   },
   "source": [
    "# 1 Neural Networks using Numpy {-}\n",
    "### 1.1 Helper Functions {-}"
   ]
  },
  {
   "cell_type": "code",
   "execution_count": 20,
   "metadata": {
    "colab": {},
    "colab_type": "code",
    "id": "_PafMbposmWM"
   },
   "outputs": [],
   "source": [
    "def relu(x):\n",
    "    return np.maximum(0, x)\n",
    "\n",
    "def softmax(x):\n",
    "    return np.exp(x) / np.exp(x).sum()\n",
    "\n",
    "def softmax_batch(X):\n",
    "    return np.exp(X) / np.exp(X).sum(axis=1, keepdims=True)"
   ]
  },
  {
   "cell_type": "code",
   "execution_count": 21,
   "metadata": {
    "colab": {},
    "colab_type": "code",
    "id": "0cvsJxhUsmWf"
   },
   "outputs": [],
   "source": [
    "def computeLayer(X, W, b):\n",
    "    # TODO: Remove this comment when finished\n",
    "    #  W might need to get transposed depending on how we define it\n",
    "    return X @ W.T + b"
   ]
  },
  {
   "cell_type": "code",
   "execution_count": 22,
   "metadata": {
    "colab": {},
    "colab_type": "code",
    "id": "GlfSsDjYsmWi"
   },
   "outputs": [],
   "source": [
    "# target is one-hot encoded\n",
    "def CE(target, prediction):\n",
    "    return -(target * np.log(prediction+TINY)).sum(axis=1).mean()\n",
    "\n",
    "# Including this because handout requires a helper function with this signature\n",
    "# TODO: rename our CE function everywhere to averageCE to match with handout\n",
    "def averageCE(target, prediction):\n",
    "    return CE(target, prediction)\n",
    "\n",
    "# target is one-hot encoded\n",
    "def gradCE(target, predication):\n",
    "    return predication - target"
   ]
  },
  {
   "cell_type": "markdown",
   "metadata": {
    "colab_type": "text",
    "id": "g_E8SCY9smZK"
   },
   "source": [
    "### 1.2 Backpropagation Derivation {-} "
   ]
  },
  {
   "cell_type": "markdown",
   "metadata": {
    "colab_type": "text",
    "id": "naXnc058smZL"
   },
   "source": [
    "#### Derivative of Softmax\n",
    "\n",
    "$p_i = \\texttt{softmax}(\\textbf{o})_i = \\frac{e^{o_i}}{\\sum_{k=1}^K e^{o_k}}$\n",
    "\n",
    "$\\quad \\quad \\quad \\text{if  } i \\neq j$\n",
    "$$\\frac{\\partial p_j}{\\partial o_i} = \\frac{0 \\cdot \\sum_{k=1}^K e^{o_k} - e^{o_i} \\cdot e^{o_j}}{\\left(\\sum_{k=1}^K e^{o_k}\\right)^2} = \\boxed{- p_i \\cdot p_j}$$\n",
    "\n",
    "$\\quad \\quad \\quad \\text{if  } i = j$\n",
    "$$\\frac{\\partial p_j}{\\partial o_i} = \\frac{e^{o_i} \\cdot \\sum_{k=1}^K e^{o_k} - e^{o_i} \\cdot e^{o_j}}{\\left(\\sum_{k=1}^K e^{o_k}\\right)^2} = \\boxed{(1 - p_j) \\cdot p_i}$$"
   ]
  },
  {
   "cell_type": "markdown",
   "metadata": {
    "colab_type": "text",
    "id": "cMd3CO4AsmZM"
   },
   "source": [
    "#### Derivative of Softmax + Cross Entropy Loss\n",
    "\n",
    "$L_{CE}(\\textbf{y}, \\textbf{p}) = -\\sum_{k=1}^{K} y_k \\log{p_k}$\n",
    "\n",
    "$$ \\frac{\\partial L_{CE}}{\\partial o_i} =  -\\sum_{k=1}^{K} \\frac{y_k}{p_k} \\cdot \\frac{\\partial p_k}{\\partial o_i} = -y_i(1 - p_i) - \\sum_{k \\neq i} \\frac{y_k}{p_k} \\cdot (-p_k p_i) = -y_i + y_ip_i + \\sum_{k \\neq i} y_k p_i = -y_i + p_i \\cdot \\sum_{k=1}^K y_k = p_i - y_i$$\n",
    "\n",
    "In Vector Form: $\\boxed{\\frac{\\partial L_{CE}}{\\partial \\textbf{o}} = \\textbf{p} - \\textbf{y}}$"
   ]
  },
  {
   "cell_type": "markdown",
   "metadata": {
    "colab_type": "text",
    "id": "iTa10muVsmZN"
   },
   "source": [
    "#### Remaining Backpropogation\n",
    "\n",
    "$\\textbf{o} = W_o \\textbf{g} + \\textbf{b}_o$\n",
    "\n",
    "$$\\frac{\\partial L}{\\partial W_o} = \\frac{\\partial L}{\\partial \\textbf{o}} \\cdot \\left(\\frac{\\partial \\textbf{o}}{\\partial W_o}\\right)^T = \\frac{\\partial L}{\\partial \\textbf{o}} \\cdot \\textbf{g}^T$$\n",
    "\n",
    "$$\\frac{\\partial L}{\\partial \\textbf{b}_o} = \\frac{\\partial L}{\\partial \\textbf{o}} \\cdot \\left(\\frac{\\partial \\textbf{o}}{\\partial \\textbf{b}_o}\\right)^T = \\frac{\\partial L}{\\partial \\textbf{o}}$$\n",
    "\n",
    "$g_i = \\texttt{ReLU}(h_i) = \\texttt{max}(h_i, 0)$\n",
    "\n",
    "$$\\frac{\\partial L}{\\partial h_i} = \\frac{\\partial L}{\\partial g_i} \\cdot \\frac{\\partial g_i}{\\partial h_i} = \\begin{cases} \\frac{\\partial L}{\\partial g_i} &\\text{if } h_i > 0 \\\\ 0 &\\text{if } h_i < 0 \\end{cases}$$\n",
    "\n",
    "$\\textbf{h} = W_h \\textbf{x} + \\textbf{b}_h$\n",
    "\n",
    "$$\\frac{\\partial L}{\\partial W_h} = \\frac{\\partial L}{\\partial \\textbf{h}} \\cdot \\left(\\frac{\\partial \\textbf{h}}{\\partial W_h}\\right)^T = \\frac{\\partial L}{\\partial \\textbf{h}} \\cdot \\textbf{x}^T$$\n",
    "\n",
    "$$\\frac{\\partial L}{\\partial \\textbf{b}_h} = \\frac{\\partial L}{\\partial \\textbf{h}} \\cdot \\left(\\frac{\\partial \\textbf{h}}{\\partial \\textbf{b}_h}\\right)^T = \\frac{\\partial L}{\\partial \\textbf{h}}$$"
   ]
  },
  {
   "cell_type": "markdown",
   "metadata": {
    "colab_type": "text",
    "id": "5UgNSpAHsmZO"
   },
   "source": [
    "### 1.3 Learning {-}"
   ]
  },
  {
   "cell_type": "code",
   "execution_count": 29,
   "metadata": {
    "colab": {
     "base_uri": "https://localhost:8080/",
     "height": 579
    },
    "colab_type": "code",
    "id": "H9Ndq6QSsmZP",
    "outputId": "f8d55c52-11f4-4226-e9f2-8e1cde459941"
   },
   "outputs": [
    {
     "name": "stdout",
     "output_type": "stream",
     "text": [
      "epoch: 1\n",
      "epoch: 2\tloss: 41.4530\tacc: 0.0727\n",
      "epoch: 3\tloss: 37.2774\tacc: 0.3967\n",
      "epoch: 4\tloss: 29.8780\tacc: 0.5609\n",
      "epoch: 5\tloss: 21.5857\tacc: 0.6715\n",
      "epoch: 6\tloss: 16.0508\tacc: 0.8008\n",
      "epoch: 7\tloss: 14.0872\tacc: 0.7896\n",
      "epoch: 8\tloss: 12.6737\tacc: 0.7926\n",
      "epoch: 9\tloss: 9.6796\tacc: 0.8383\n",
      "epoch: 10\tloss: 11.3654\tacc: 0.7863\n",
      "epoch: 11\tloss: 8.7359\tacc: 0.8430\n",
      "epoch: 12\tloss: 7.8002\tacc: 0.8585\n",
      "epoch: 13\tloss: 9.7367\tacc: 0.8201\n",
      "epoch: 14\tloss: 8.0913\tacc: 0.8541\n",
      "epoch: 15\tloss: 7.5170\tacc: 0.8613\n",
      "epoch: 16\tloss: 7.4273\tacc: 0.8669\n",
      "epoch: 17\tloss: 9.0573\tacc: 0.8222\n",
      "epoch: 18\tloss: 7.3267\tacc: 0.8591\n",
      "epoch: 19\tloss: 7.3108\tacc: 0.8588\n",
      "epoch: 20\tloss: 7.5515\tacc: 0.8621\n",
      "epoch: 21\tloss: 8.5821\tacc: 0.8500\n",
      "epoch: 22\tloss: 8.2129\tacc: 0.8586\n",
      "epoch: 23\tloss: 7.4454\tacc: 0.8760\n",
      "epoch: 24\tloss: 7.3893\tacc: 0.8774\n",
      "epoch: 25\tloss: 8.1171\tacc: 0.8666\n",
      "epoch: 26\tloss: 8.8314\tacc: 0.8579\n",
      "epoch: 27\tloss: 8.5914\tacc: 0.8666\n",
      "epoch: 28\tloss: 8.4644\tacc: 0.8710\n",
      "epoch: 29\tloss: 8.3776\tacc: 0.8771\n",
      "epoch: 30\tloss: 8.0523\tacc: 0.8871\n",
      "epoch: 31\tloss: 7.7863\tacc: 0.8907\n",
      "epoch: 32\tloss: 7.5440\tacc: 0.8896\n",
      "epoch: 33\tloss: 7.3302\tacc: 0.8875\n",
      "epoch: 34\tloss: 7.0088\tacc: 0.8885\n",
      "epoch: 35\tloss: 6.5462\tacc: 0.8951\n",
      "epoch: 36\tloss: 6.2182\tacc: 0.9020\n",
      "epoch: 37\tloss: 6.2977\tacc: 0.9017\n",
      "epoch: 38\tloss: 6.1905\tacc: 0.9011\n",
      "epoch: 39\tloss: 5.9234\tacc: 0.9010\n",
      "epoch: 40\tloss: 5.8470\tacc: 0.8984\n",
      "epoch: 41\tloss: 5.7591\tacc: 0.8979\n",
      "epoch: 42\tloss: 5.5337\tacc: 0.9050\n",
      "epoch: 43\tloss: 5.2775\tacc: 0.9111\n",
      "epoch: 44\tloss: 5.2157\tacc: 0.9140\n",
      "epoch: 45\tloss: 5.3017\tacc: 0.9131\n",
      "epoch: 46\tloss: 5.4489\tacc: 0.9097\n",
      "epoch: 47\tloss: 5.4772\tacc: 0.9096\n",
      "epoch: 48\tloss: 5.3774\tacc: 0.9152\n",
      "epoch: 49\tloss: 5.3711\tacc: 0.9150\n",
      "epoch: 50\tloss: 5.2408\tacc: 0.9171\n",
      "epoch: 51\tloss: 5.1650\tacc: 0.9189\n",
      "epoch: 52\tloss: 5.0681\tacc: 0.9201\n",
      "epoch: 53\tloss: 4.9789\tacc: 0.9215\n",
      "epoch: 54\tloss: 4.8861\tacc: 0.9224\n",
      "epoch: 55\tloss: 4.7813\tacc: 0.9254\n",
      "epoch: 56\tloss: 4.7275\tacc: 0.9246\n",
      "epoch: 57\tloss: 4.6840\tacc: 0.9243\n",
      "epoch: 58\tloss: 4.5996\tacc: 0.9257\n",
      "epoch: 59\tloss: 4.5207\tacc: 0.9262\n",
      "epoch: 60\tloss: 4.4977\tacc: 0.9259\n",
      "epoch: 61\tloss: 4.4773\tacc: 0.9257\n",
      "epoch: 62\tloss: 4.4058\tacc: 0.9273\n",
      "epoch: 63\tloss: 4.3175\tacc: 0.9291\n",
      "epoch: 64\tloss: 4.2576\tacc: 0.9302\n",
      "epoch: 65\tloss: 4.2391\tacc: 0.9307\n",
      "epoch: 66\tloss: 4.2530\tacc: 0.9307\n",
      "epoch: 67\tloss: 4.2706\tacc: 0.9310\n",
      "epoch: 68\tloss: 4.2774\tacc: 0.9323\n",
      "epoch: 69\tloss: 4.2698\tacc: 0.9337\n",
      "epoch: 70\tloss: 4.2177\tacc: 0.9332\n",
      "epoch: 71\tloss: 4.1350\tacc: 0.9347\n",
      "epoch: 72\tloss: 4.0882\tacc: 0.9351\n",
      "epoch: 73\tloss: 4.0893\tacc: 0.9353\n",
      "epoch: 74\tloss: 4.0833\tacc: 0.9355\n",
      "epoch: 75\tloss: 4.0106\tacc: 0.9365\n",
      "epoch: 76\tloss: 3.8977\tacc: 0.9375\n",
      "epoch: 77\tloss: 3.7919\tacc: 0.9396\n",
      "epoch: 78\tloss: 3.7157\tacc: 0.9405\n",
      "epoch: 79\tloss: 3.6690\tacc: 0.9412\n",
      "epoch: 80\tloss: 3.6466\tacc: 0.9426\n",
      "epoch: 81\tloss: 3.6195\tacc: 0.9439\n",
      "epoch: 82\tloss: 3.5401\tacc: 0.9463\n",
      "epoch: 83\tloss: 3.4546\tacc: 0.9475\n",
      "epoch: 84\tloss: 3.3935\tacc: 0.9476\n",
      "epoch: 85\tloss: 3.3453\tacc: 0.9482\n",
      "epoch: 86\tloss: 3.2933\tacc: 0.9487\n",
      "epoch: 87\tloss: 3.2355\tacc: 0.9502\n",
      "epoch: 88\tloss: 3.1698\tacc: 0.9523\n",
      "epoch: 89\tloss: 3.0986\tacc: 0.9538\n",
      "epoch: 90\tloss: 3.0375\tacc: 0.9545\n",
      "epoch: 91\tloss: 2.9985\tacc: 0.9552\n",
      "epoch: 92\tloss: 2.9716\tacc: 0.9551\n",
      "epoch: 93\tloss: 2.9293\tacc: 0.9557\n",
      "epoch: 94\tloss: 2.8550\tacc: 0.9579\n",
      "epoch: 95\tloss: 2.7718\tacc: 0.9585\n",
      "epoch: 96\tloss: 2.7028\tacc: 0.9602\n",
      "epoch: 97\tloss: 2.6497\tacc: 0.9615\n",
      "epoch: 98\tloss: 2.6117\tacc: 0.9619\n",
      "epoch: 99\tloss: 2.5830\tacc: 0.9625\n",
      "epoch: 100\tloss: 2.5508\tacc: 0.9620\n",
      "epoch: 101\tloss: 2.5018\tacc: 0.9626\n",
      "epoch: 102\tloss: 2.4363\tacc: 0.9640\n",
      "epoch: 103\tloss: 2.3669\tacc: 0.9655\n",
      "epoch: 104\tloss: 2.3070\tacc: 0.9669\n",
      "epoch: 105\tloss: 2.2611\tacc: 0.9674\n",
      "epoch: 106\tloss: 2.2292\tacc: 0.9679\n",
      "epoch: 107\tloss: 2.2073\tacc: 0.9681\n",
      "epoch: 108\tloss: 2.1842\tacc: 0.9683\n",
      "epoch: 109\tloss: 2.1481\tacc: 0.9688\n",
      "epoch: 110\tloss: 2.0983\tacc: 0.9701\n",
      "epoch: 111\tloss: 2.0421\tacc: 0.9717\n",
      "epoch: 112\tloss: 1.9898\tacc: 0.9729\n",
      "epoch: 113\tloss: 1.9483\tacc: 0.9731\n",
      "epoch: 114\tloss: 1.9129\tacc: 0.9732\n",
      "epoch: 115\tloss: 1.8741\tacc: 0.9741\n",
      "epoch: 116\tloss: 1.8300\tacc: 0.9752\n",
      "epoch: 117\tloss: 1.7867\tacc: 0.9765\n",
      "epoch: 118\tloss: 1.7500\tacc: 0.9774\n",
      "epoch: 119\tloss: 1.7200\tacc: 0.9778\n",
      "epoch: 120\tloss: 1.6951\tacc: 0.9786\n",
      "epoch: 121\tloss: 1.6733\tacc: 0.9790\n",
      "epoch: 122\tloss: 1.6478\tacc: 0.9787\n",
      "epoch: 123\tloss: 1.6138\tacc: 0.9787\n",
      "epoch: 124\tloss: 1.5715\tacc: 0.9794\n",
      "epoch: 125\tloss: 1.5267\tacc: 0.9803\n",
      "epoch: 126\tloss: 1.4850\tacc: 0.9810\n",
      "epoch: 127\tloss: 1.4491\tacc: 0.9813\n",
      "epoch: 128\tloss: 1.4183\tacc: 0.9817\n",
      "epoch: 129\tloss: 1.3918\tacc: 0.9823\n",
      "epoch: 130\tloss: 1.3679\tacc: 0.9825\n",
      "epoch: 131\tloss: 1.3428\tacc: 0.9831\n",
      "epoch: 132\tloss: 1.3135\tacc: 0.9840\n",
      "epoch: 133\tloss: 1.2796\tacc: 0.9854\n",
      "epoch: 134\tloss: 1.2446\tacc: 0.9860\n",
      "epoch: 135\tloss: 1.2138\tacc: 0.9867\n",
      "epoch: 136\tloss: 1.1898\tacc: 0.9871\n",
      "epoch: 137\tloss: 1.1734\tacc: 0.9878\n",
      "epoch: 138\tloss: 1.1616\tacc: 0.9879\n",
      "epoch: 139\tloss: 1.1477\tacc: 0.9881\n",
      "epoch: 140\tloss: 1.1264\tacc: 0.9885\n",
      "epoch: 141\tloss: 1.0962\tacc: 0.9886\n",
      "epoch: 142\tloss: 1.0609\tacc: 0.9889\n",
      "epoch: 143\tloss: 1.0256\tacc: 0.9895\n",
      "epoch: 144\tloss: 0.9932\tacc: 0.9895\n",
      "epoch: 145\tloss: 0.9646\tacc: 0.9899\n",
      "epoch: 146\tloss: 0.9396\tacc: 0.9903\n",
      "epoch: 147\tloss: 0.9188\tacc: 0.9904\n",
      "epoch: 148\tloss: 0.9015\tacc: 0.9908\n",
      "epoch: 149\tloss: 0.8849\tacc: 0.9906\n",
      "epoch: 150\tloss: 0.8659\tacc: 0.9907\n",
      "epoch: 151\tloss: 0.8431\tacc: 0.9908\n",
      "epoch: 152\tloss: 0.8186\tacc: 0.9911\n",
      "epoch: 153\tloss: 0.7952\tacc: 0.9916\n",
      "epoch: 154\tloss: 0.7755\tacc: 0.9918\n",
      "epoch: 155\tloss: 0.7600\tacc: 0.9919\n",
      "epoch: 156\tloss: 0.7473\tacc: 0.9919\n",
      "epoch: 157\tloss: 0.7346\tacc: 0.9917\n",
      "epoch: 158\tloss: 0.7204\tacc: 0.9919\n",
      "epoch: 159\tloss: 0.7040\tacc: 0.9921\n",
      "epoch: 160\tloss: 0.6867\tacc: 0.9929\n",
      "epoch: 161\tloss: 0.6700\tacc: 0.9934\n",
      "epoch: 162\tloss: 0.6551\tacc: 0.9936\n",
      "epoch: 163\tloss: 0.6412\tacc: 0.9939\n",
      "epoch: 164\tloss: 0.6258\tacc: 0.9939\n",
      "epoch: 165\tloss: 0.6074\tacc: 0.9940\n",
      "epoch: 166\tloss: 0.5873\tacc: 0.9943\n",
      "epoch: 167\tloss: 0.5676\tacc: 0.9948\n",
      "epoch: 168\tloss: 0.5507\tacc: 0.9950\n",
      "epoch: 169\tloss: 0.5384\tacc: 0.9951\n",
      "epoch: 170\tloss: 0.5302\tacc: 0.9949\n",
      "epoch: 171\tloss: 0.5245\tacc: 0.9947\n",
      "epoch: 172\tloss: 0.5195\tacc: 0.9947\n",
      "epoch: 173\tloss: 0.5137\tacc: 0.9949\n",
      "epoch: 174\tloss: 0.5050\tacc: 0.9953\n",
      "epoch: 175\tloss: 0.4924\tacc: 0.9957\n",
      "epoch: 176\tloss: 0.4763\tacc: 0.9959\n",
      "epoch: 177\tloss: 0.4581\tacc: 0.9961\n",
      "epoch: 178\tloss: 0.4400\tacc: 0.9964\n",
      "epoch: 179\tloss: 0.4247\tacc: 0.9965\n",
      "epoch: 180\tloss: 0.4133\tacc: 0.9967\n",
      "epoch: 181\tloss: 0.4055\tacc: 0.9965\n",
      "epoch: 182\tloss: 0.4003\tacc: 0.9964\n",
      "epoch: 183\tloss: 0.3964\tacc: 0.9965\n",
      "epoch: 184\tloss: 0.3927\tacc: 0.9963\n",
      "epoch: 185\tloss: 0.3882\tacc: 0.9964\n",
      "epoch: 186\tloss: 0.3821\tacc: 0.9965\n",
      "epoch: 187\tloss: 0.3738\tacc: 0.9967\n",
      "epoch: 188\tloss: 0.3634\tacc: 0.9969\n",
      "epoch: 189\tloss: 0.3522\tacc: 0.9973\n",
      "epoch: 190\tloss: 0.3414\tacc: 0.9976\n",
      "epoch: 191\tloss: 0.3319\tacc: 0.9976\n",
      "epoch: 192\tloss: 0.3240\tacc: 0.9979\n",
      "epoch: 193\tloss: 0.3178\tacc: 0.9979\n",
      "epoch: 194\tloss: 0.3124\tacc: 0.9979\n",
      "epoch: 195\tloss: 0.3079\tacc: 0.9979\n",
      "epoch: 196\tloss: 0.3040\tacc: 0.9979\n",
      "epoch: 197\tloss: 0.3002\tacc: 0.9980\n",
      "epoch: 198\tloss: 0.2966\tacc: 0.9980\n",
      "epoch: 199\tloss: 0.2926\tacc: 0.9981\n",
      "epoch: 200\tloss: 0.2879\tacc: 0.9980\n",
      "Training loss: 0.2822\t\tTraining acc: 99.81%\n",
      "Validation loss: 3.4684\tValidation acc: 92.8%\n",
      "Testing loss: 3.8019\tTesting acc: 92.0%\n"
     ]
    },
    {
     "data": {
      "image/png": "[encoded data removed]",
      "text/plain": [
       "<Figure size 1296x432 with 2 Axes>"
      ]
     },
     "metadata": {
      "needs_background": "light"
     },
     "output_type": "display_data"
    },
    {
     "name": "stdout",
     "output_type": "stream",
     "text": [
      "Time is 347.3596692085266.\n"
     ]
    }
   ],
   "source": [
    "class mini_NN(object):\n",
    "\n",
    "    \"\"\" \n",
    "    Network Structure:\n",
    "        input:  x\n",
    "        hidden: h = W_h * x + b_h\n",
    "                g = ReLU(h)\n",
    "        output: o = W_o * g + b_o\n",
    "                p = softmax(o)\n",
    "    \"\"\"\n",
    "\n",
    "    def __init__(self, D, F, K):\n",
    "        # D, F, and K are the number of neurons in the input, hidden, and output layers\n",
    "        self.D = D\n",
    "        self.F = F\n",
    "        self.K = K\n",
    "        self.init_weights()\n",
    "\n",
    "    def init_weights(self):\n",
    "        # getting random parameters using Xaiver initialization scheme\n",
    "        self.W_h = np.random.normal(0, np.sqrt(2.0/(self.D+self.F)), (self.F, self.D))\n",
    "        self.b_h = np.random.normal(0, np.sqrt(2.0/(self.D+self.F)), self.F) \n",
    "        self.W_o = np.random.normal(0, np.sqrt(2.0/(self.F+self.K)), (self.K, self.F))\n",
    "        self.b_o = np.random.normal(0, np.sqrt(2.0/(self.F+self.K)), self.K)\n",
    "    \n",
    "    def feedforward(self, X):\n",
    "        # python can dynamically create attributes\n",
    "        self.H = computeLayer(X, self.W_h, self.b_h)\n",
    "        self.G = relu(self.H)\n",
    "        self.O = computeLayer(self.G, self.W_o, self.b_o)\n",
    "        self.P = softmax_batch(self.O)\n",
    "        return self.P\n",
    "    \n",
    "    def backpropagation(self, X, y):\n",
    "        \n",
    "        # This function assumes that feedforward was called before, \n",
    "        # which instantiates the needed activations\n",
    "        \n",
    "        # output layer activations\n",
    "        dL_do = gradCE(y, self.P)\n",
    "\n",
    "        # output layer parameters\n",
    "        dL_dWo = dL_do.T @ self.G\n",
    "        dL_dbo = dL_do\n",
    "\n",
    "        # hidden layer activations\n",
    "        dL_dg = dL_do @ self.W_o \n",
    "        dL_dh = dL_dg.copy()\n",
    "        dL_dh[self.H <= 0] = 0\n",
    "\n",
    "        # hidden layer parameters\n",
    "        dL_dWh = dL_dh.T @ X\n",
    "        dL_dbh = dL_dh\n",
    "        \n",
    "        return dL_dWo , dL_dbo.sum(axis=0), dL_dWh, dL_dbh.sum(axis=0)\n",
    "        #return dL_dWo/X.shape[0] , dL_dbo.mean(axis=0), dL_dWh/X.shape[0], dL_dbh.mean(axis=0)\n",
    "\n",
    "    def train(self, X, y, epochs=200, gamma=0.99, alpha=1e-5, F=None,\n",
    "              validData=None, validTarget=None, testData=None, testTarget=None):\n",
    "        # initializations\n",
    "        self.F = self.F if F is None else F\n",
    "        self.init_weights()\n",
    "        \n",
    "        train_loss, train_acc = [], []\n",
    "        valid_loss, valid_acc = [], []\n",
    "        test_loss, test_acc = [], []\n",
    "        \n",
    "        v_Wo, v_Wh = 0, 0\n",
    "        \n",
    "        for e in range(epochs):\n",
    "            if e > 0:\n",
    "                print(f\"epoch: {e+1}\\tloss: {train_loss[-1]:.4f}\\tacc: {train_acc[-1]:.4f}\")\n",
    "            else:\n",
    "                print(\"epoch:\", e+1)\n",
    "            \n",
    "            # getting predictions\n",
    "            p = self.feedforward(X)\n",
    "            train_loss.append( CE(p, y) )\n",
    "            train_acc.append( accuracy(p, y) )\n",
    "            \n",
    "            # getting gradients\n",
    "            dL_dWo, dL_dbo, dL_dWh, dL_dbh = self.backpropagation(X, y)\n",
    "            \n",
    "            # updating parameters\n",
    "            v_Wo = gamma * v_Wo + alpha * dL_dWo\n",
    "            self.W_o -= v_Wo\n",
    "            \n",
    "            self.b_o -= alpha * dL_dbo\n",
    "            \n",
    "            v_Wh = gamma * v_Wh + alpha * dL_dWh\n",
    "            self.W_h -= v_Wh\n",
    "            \n",
    "            self.b_h -= alpha * dL_dbh\n",
    "            \n",
    "            # calculating statistics\n",
    "            if not validData is None and not validTarget is None:\n",
    "                p = self.feedforward(validData)\n",
    "                valid_loss.append(CE(p, validTarget))\n",
    "                valid_acc.append(accuracy(p, validTarget))\n",
    "            if not testData is None and not testTarget is None:\n",
    "                p = self.feedforward(testData)\n",
    "                test_loss.append(CE(p, testTarget))\n",
    "                test_acc.append(accuracy(p, testTarget))\n",
    "        \n",
    "        statistics = (train_loss, train_acc)\n",
    "        if not validData is None and not validTarget is None:\n",
    "            statistics += (valid_loss, valid_acc, )\n",
    "        if not testData is None and not testTarget is None:\n",
    "            statistics += (test_loss, test_acc,)\n",
    "        return statistics\n",
    "\n",
    "X = trainData.reshape(N, d)\n",
    "\n",
    "y = newtrain\n",
    "\n",
    "# For investigation, analyze how long each hyperparameter set takes to train\n",
    "import time\n",
    "start = time.time()\n",
    "\n",
    "model = mini_NN(d, 1000, K)\n",
    "# TODO: remove this comment\n",
    "#P = model.feedforward(X)\n",
    "#print(P)\n",
    "#print(P.argmax(axis=1))\n",
    "statistics = model.train(X, y, epochs=200, gamma=0.99, alpha=1e-5, **VTDatasets)\n",
    "display_statistics(*statistics)\n",
    "print(f\"Time is {time.time() - start}.\")"
   ]
  },
  {
   "cell_type": "markdown",
   "metadata": {
    "colab_type": "text",
    "id": "x-ZQgwu8smZd"
   },
   "source": [
    "### 1.4 Hyperparameter Investigation {-}"
   ]
  },
  {
   "cell_type": "markdown",
   "metadata": {},
   "source": [
    "## Number of Hidden Units\n",
    "\n",
    "### Number of hidden units: 100\n",
    "\n",
    "|Statistic | Value | | Statistic | Value |\n",
    "|:---|---:|---|:---|---:|\n",
    "| Training loss:| 4.6824\t|\t|Training acc:|92.31%|\n",
    "| Validation loss:| 5.5578\t |   |Validation acc:|89.8%|\n",
    "| Testing loss:| 5.7423\t |  |Testing acc:|89.46%|\n",
    "| Training Time(s):| 42.705\n",
    "\n",
    "**Comments**: Accuracy seems to have converged by 50 iterations. Training this network with 100 hidden units was the fastest of the three. This is likely because there were very few parameters to optimize.\n",
    "\n",
    "### Number of hidden units: 500\n",
    "\n",
    "Statistic | Value | | Statistic | Value \n",
    ":---|---:|---|:---|---:\n",
    "Training loss: |0.7009\t|\t|Training acc: |99.36%\n",
    "Validation loss: |3.894\t  |  |Validation acc: |91.9%\n",
    "Testing loss: |4.1808\t  |  |Testing acc: |91.19%\n",
    "Training Time(s): |176.361\n",
    "\n",
    "**Comments**: Accuracy seems to have converged by 50 iterations. Training this network with 500 hidden units was slower than with 100 units, but the validation/testing accuracies showed slight improvement. Further, Training loss and training accuracy near perfection. Since this trend is not matched by validation/testing accuracies, we see that the network is overfitting as it is learning the training examples too well.\n",
    "\n",
    "### Number of hidden units: 2000\n",
    "\n",
    "Statistic | Value | | Statistic | Value \n",
    ":---|---:|---|:---|---:\n",
    "Training loss: |0.2303\t||\tTraining acc: |99.82%\n",
    "Validation loss:| 3.3766||\t    Validation acc: |93.0%\n",
    "Testing loss: |3.8814\t ||   Testing acc: |91.85%\n",
    "Training Time(s): |645.494\n",
    "\n",
    "**Comments**: Accuracy seems to have convered by 50 iterations. Training this network with 2000 hidden units was considerably slower than both other networks, depite nearly identical validation/testing accuracies. Training loss and training accuracy are essentially perfect by the end of 200 epochs. Since this trend is not matched by validation/testing accuracies, we see that the network is overfitting considerably. It has essentially memorized the training examples, but can not generalize as well (beyond the performance attained by smaller networks) to validation/testing data.\n",
    "\n",
    "**General comments**: Also, the small bump and incresae in loss before once again decreasing suggest that the parameters went through a local minimum before converging. Momentum likely helped it converge faster as it doesn't appear to have gotten stuck in the local min. The smaller networks trained considerably faster, but had lower accuracy (even though the difference was very small). The larger networks clearly overfit the training data; this indicates that they are too complex for their classification tasks and/or the input data should be improved.\n",
    "\n",
    "## Early Stopping\n",
    "From the plots, we observe that training should have stopped at an early stopping point of 50 iterations. Beyond this point, there is very little improvement in either validation/testing losses or accuracies."
   ]
  },
  {
   "cell_type": "markdown",
   "metadata": {
    "colab_type": "text",
    "id": "fT29MJIQsmZg"
   },
   "source": [
    "\\newpage"
   ]
  },
  {
   "cell_type": "markdown",
   "metadata": {
    "colab_type": "text",
    "id": "rnMRDewwsmZi"
   },
   "source": [
    "# 2 Neural Networks in Tensorflow {-}\n",
    "### 2.1 Model implementation {-}"
   ]
  },
  {
   "cell_type": "code",
   "execution_count": 30,
   "metadata": {
    "colab": {
     "base_uri": "https://localhost:8080/",
     "height": 244
    },
    "colab_type": "code",
    "id": "mDBcLMJOsmZk",
    "outputId": "abec68e3-0537-4c12-878c-24508d2a6c6b"
   },
   "outputs": [
    {
     "name": "stdout",
     "output_type": "stream",
     "text": [
      "\n",
      "WARNING: The TensorFlow contrib module will not be included in TensorFlow 2.0.\n",
      "For more information, please see:\n",
      "  * https://github.com/tensorflow/community/blob/master/rfcs/20180907-contrib-sunset.md\n",
      "  * https://github.com/tensorflow/addons\n",
      "If you depend on functionality not listed there, please file an issue.\n",
      "\n"
     ]
    }
   ],
   "source": [
    "# load + reshape data\n",
    "trainData, validData, testData, trainTarget, validTarget, testTarget = loadData()\n",
    "trainData = trainData.reshape(15000,28,28,1)\n",
    "validData = validData.reshape(1000,28,28,1)\n",
    "testData = testData.reshape(2724,28,28,1)\n",
    "\n",
    "# one-hot encode\n",
    "train_labels, valid_labels, test_labels = convertOneHot(trainTarget, validTarget, testTarget)\n",
    "\n",
    "# training params\n",
    "learning_rate = 0.0001\n",
    "epochs = 50\n",
    "batch_size = 32\n",
    "\n",
    "# create model\n",
    "model = models.Sequential()\n",
    "model.add(layers.InputLayer(input_shape=(28, 28,1)))                            # input layer\n",
    "model.add(layers.Conv2D(                                                        # conv layer\n",
    "        filters=32,\n",
    "        strides=(1,1),\n",
    "        kernel_size=[3, 3],\n",
    "        padding=\"same\",\n",
    "        activation='relu',\n",
    "        kernel_initializer=tf.contrib.layers.xavier_initializer(uniform=False)))\n",
    "model.add(layers.BatchNormalization())                                          # batch norm\n",
    "model.add(layers.MaxPooling2D((2, 2)))                                          # max pooling\n",
    "model.add(layers.Flatten())                                                     # flatten\n",
    "model.add(layers.Dense(784, activation='relu'))                                 # fully-connected 784 w/ ReLu\n",
    "model.add(layers.Dense(10))                                                     # fully-connected 10\n",
    "model.add(layers.Softmax())                                                     # softmax output\n",
    "\n",
    "# TODO: remove this comment\n",
    "# print model summary\n",
    "# model.summary()\n",
    "\n",
    "# compile model w/ Adam optimizer + cross entropy loss\n",
    "model.compile(optimizer=tf.keras.optimizers.Adam(lr=learning_rate),\n",
    "              loss=tf.keras.losses.CategoricalCrossentropy(from_logits=True),\n",
    "              metrics=['accuracy'])\n"
   ]
  },
  {
   "cell_type": "markdown",
   "metadata": {
    "colab_type": "text",
    "id": "BGUTpe5YsmZ2"
   },
   "source": [
    "### 2.2 Model Training {-}"
   ]
  },
  {
   "cell_type": "code",
   "execution_count": 31,
   "metadata": {
    "colab": {
     "base_uri": "https://localhost:8080/",
     "height": 475
    },
    "colab_type": "code",
    "id": "VfNPq4zLsmZ5",
    "outputId": "31232291-de1f-429c-a345-2d2ad65cf1c1"
   },
   "outputs": [
    {
     "ename": "InvalidArgumentError",
     "evalue": "logits and labels must have the same first dimension, got logits shape [32,10] and labels shape [320]\n\t [[{{node loss/softmax_loss/CategoricalCrossentropy/SparseSoftmaxCrossEntropyWithLogits/SparseSoftmaxCrossEntropyWithLogits}}]]",
     "output_type": "error",
     "traceback": [
      "\u001b[1;31m---------------------------------------------------------------------------\u001b[0m",
      "\u001b[1;31mInvalidArgumentError\u001b[0m                      Traceback (most recent call last)",
      "\u001b[1;32m<ipython-input-31-4623a1def4aa>\u001b[0m in \u001b[0;36m<module>\u001b[1;34m\u001b[0m\n\u001b[0;32m     24\u001b[0m                     \u001b[0mcallbacks\u001b[0m\u001b[1;33m=\u001b[0m\u001b[1;33m[\u001b[0m\u001b[0mTestCallback\u001b[0m\u001b[1;33m(\u001b[0m\u001b[1;33m(\u001b[0m\u001b[0mtestData\u001b[0m\u001b[1;33m,\u001b[0m \u001b[0mtest_labels\u001b[0m\u001b[1;33m)\u001b[0m\u001b[1;33m)\u001b[0m\u001b[1;33m]\u001b[0m\u001b[1;33m,\u001b[0m\u001b[1;33m\u001b[0m\u001b[1;33m\u001b[0m\u001b[0m\n\u001b[0;32m     25\u001b[0m                     \u001b[0mverbose\u001b[0m\u001b[1;33m=\u001b[0m\u001b[1;36m0\u001b[0m\u001b[1;33m,\u001b[0m  \u001b[1;31m# 0 = silent, 1 = per epoch\u001b[0m\u001b[1;33m\u001b[0m\u001b[1;33m\u001b[0m\u001b[0m\n\u001b[1;32m---> 26\u001b[1;33m                     shuffle=True)\n\u001b[0m\u001b[0;32m     27\u001b[0m \u001b[1;33m\u001b[0m\u001b[0m\n\u001b[0;32m     28\u001b[0m \u001b[1;31m# print(history.history)\u001b[0m\u001b[1;33m\u001b[0m\u001b[1;33m\u001b[0m\u001b[1;33m\u001b[0m\u001b[0m\n",
      "\u001b[1;32m~\\Anaconda3\\envs\\ece421\\lib\\site-packages\\tensorflow\\python\\keras\\engine\\training.py\u001b[0m in \u001b[0;36mfit\u001b[1;34m(self, x, y, batch_size, epochs, verbose, callbacks, validation_split, validation_data, shuffle, class_weight, sample_weight, initial_epoch, steps_per_epoch, validation_steps, max_queue_size, workers, use_multiprocessing, **kwargs)\u001b[0m\n\u001b[0;32m    878\u001b[0m           \u001b[0minitial_epoch\u001b[0m\u001b[1;33m=\u001b[0m\u001b[0minitial_epoch\u001b[0m\u001b[1;33m,\u001b[0m\u001b[1;33m\u001b[0m\u001b[1;33m\u001b[0m\u001b[0m\n\u001b[0;32m    879\u001b[0m           \u001b[0msteps_per_epoch\u001b[0m\u001b[1;33m=\u001b[0m\u001b[0msteps_per_epoch\u001b[0m\u001b[1;33m,\u001b[0m\u001b[1;33m\u001b[0m\u001b[1;33m\u001b[0m\u001b[0m\n\u001b[1;32m--> 880\u001b[1;33m           validation_steps=validation_steps)\n\u001b[0m\u001b[0;32m    881\u001b[0m \u001b[1;33m\u001b[0m\u001b[0m\n\u001b[0;32m    882\u001b[0m   def evaluate(self,\n",
      "\u001b[1;32m~\\Anaconda3\\envs\\ece421\\lib\\site-packages\\tensorflow\\python\\keras\\engine\\training_arrays.py\u001b[0m in \u001b[0;36mmodel_iteration\u001b[1;34m(model, inputs, targets, sample_weights, batch_size, epochs, verbose, callbacks, val_inputs, val_targets, val_sample_weights, shuffle, initial_epoch, steps_per_epoch, validation_steps, mode, validation_in_fit, **kwargs)\u001b[0m\n\u001b[0;32m    327\u001b[0m \u001b[1;33m\u001b[0m\u001b[0m\n\u001b[0;32m    328\u001b[0m         \u001b[1;31m# Get outputs.\u001b[0m\u001b[1;33m\u001b[0m\u001b[1;33m\u001b[0m\u001b[1;33m\u001b[0m\u001b[0m\n\u001b[1;32m--> 329\u001b[1;33m         \u001b[0mbatch_outs\u001b[0m \u001b[1;33m=\u001b[0m \u001b[0mf\u001b[0m\u001b[1;33m(\u001b[0m\u001b[0mins_batch\u001b[0m\u001b[1;33m)\u001b[0m\u001b[1;33m\u001b[0m\u001b[1;33m\u001b[0m\u001b[0m\n\u001b[0m\u001b[0;32m    330\u001b[0m         \u001b[1;32mif\u001b[0m \u001b[1;32mnot\u001b[0m \u001b[0misinstance\u001b[0m\u001b[1;33m(\u001b[0m\u001b[0mbatch_outs\u001b[0m\u001b[1;33m,\u001b[0m \u001b[0mlist\u001b[0m\u001b[1;33m)\u001b[0m\u001b[1;33m:\u001b[0m\u001b[1;33m\u001b[0m\u001b[1;33m\u001b[0m\u001b[0m\n\u001b[0;32m    331\u001b[0m           \u001b[0mbatch_outs\u001b[0m \u001b[1;33m=\u001b[0m \u001b[1;33m[\u001b[0m\u001b[0mbatch_outs\u001b[0m\u001b[1;33m]\u001b[0m\u001b[1;33m\u001b[0m\u001b[1;33m\u001b[0m\u001b[0m\n",
      "\u001b[1;32m~\\Anaconda3\\envs\\ece421\\lib\\site-packages\\tensorflow\\python\\keras\\backend.py\u001b[0m in \u001b[0;36m__call__\u001b[1;34m(self, inputs)\u001b[0m\n\u001b[0;32m   3074\u001b[0m \u001b[1;33m\u001b[0m\u001b[0m\n\u001b[0;32m   3075\u001b[0m     fetched = self._callable_fn(*array_vals,\n\u001b[1;32m-> 3076\u001b[1;33m                                 run_metadata=self.run_metadata)\n\u001b[0m\u001b[0;32m   3077\u001b[0m     \u001b[0mself\u001b[0m\u001b[1;33m.\u001b[0m\u001b[0m_call_fetch_callbacks\u001b[0m\u001b[1;33m(\u001b[0m\u001b[0mfetched\u001b[0m\u001b[1;33m[\u001b[0m\u001b[1;33m-\u001b[0m\u001b[0mlen\u001b[0m\u001b[1;33m(\u001b[0m\u001b[0mself\u001b[0m\u001b[1;33m.\u001b[0m\u001b[0m_fetches\u001b[0m\u001b[1;33m)\u001b[0m\u001b[1;33m:\u001b[0m\u001b[1;33m]\u001b[0m\u001b[1;33m)\u001b[0m\u001b[1;33m\u001b[0m\u001b[1;33m\u001b[0m\u001b[0m\n\u001b[0;32m   3078\u001b[0m     return nest.pack_sequence_as(self._outputs_structure,\n",
      "\u001b[1;32m~\\Anaconda3\\envs\\ece421\\lib\\site-packages\\tensorflow\\python\\client\\session.py\u001b[0m in \u001b[0;36m__call__\u001b[1;34m(self, *args, **kwargs)\u001b[0m\n\u001b[0;32m   1437\u001b[0m           ret = tf_session.TF_SessionRunCallable(\n\u001b[0;32m   1438\u001b[0m               \u001b[0mself\u001b[0m\u001b[1;33m.\u001b[0m\u001b[0m_session\u001b[0m\u001b[1;33m.\u001b[0m\u001b[0m_session\u001b[0m\u001b[1;33m,\u001b[0m \u001b[0mself\u001b[0m\u001b[1;33m.\u001b[0m\u001b[0m_handle\u001b[0m\u001b[1;33m,\u001b[0m \u001b[0margs\u001b[0m\u001b[1;33m,\u001b[0m \u001b[0mstatus\u001b[0m\u001b[1;33m,\u001b[0m\u001b[1;33m\u001b[0m\u001b[1;33m\u001b[0m\u001b[0m\n\u001b[1;32m-> 1439\u001b[1;33m               run_metadata_ptr)\n\u001b[0m\u001b[0;32m   1440\u001b[0m         \u001b[1;32mif\u001b[0m \u001b[0mrun_metadata\u001b[0m\u001b[1;33m:\u001b[0m\u001b[1;33m\u001b[0m\u001b[1;33m\u001b[0m\u001b[0m\n\u001b[0;32m   1441\u001b[0m           \u001b[0mproto_data\u001b[0m \u001b[1;33m=\u001b[0m \u001b[0mtf_session\u001b[0m\u001b[1;33m.\u001b[0m\u001b[0mTF_GetBuffer\u001b[0m\u001b[1;33m(\u001b[0m\u001b[0mrun_metadata_ptr\u001b[0m\u001b[1;33m)\u001b[0m\u001b[1;33m\u001b[0m\u001b[1;33m\u001b[0m\u001b[0m\n",
      "\u001b[1;32m~\\Anaconda3\\envs\\ece421\\lib\\site-packages\\tensorflow\\python\\framework\\errors_impl.py\u001b[0m in \u001b[0;36m__exit__\u001b[1;34m(self, type_arg, value_arg, traceback_arg)\u001b[0m\n\u001b[0;32m    526\u001b[0m             \u001b[1;32mNone\u001b[0m\u001b[1;33m,\u001b[0m \u001b[1;32mNone\u001b[0m\u001b[1;33m,\u001b[0m\u001b[1;33m\u001b[0m\u001b[1;33m\u001b[0m\u001b[0m\n\u001b[0;32m    527\u001b[0m             \u001b[0mcompat\u001b[0m\u001b[1;33m.\u001b[0m\u001b[0mas_text\u001b[0m\u001b[1;33m(\u001b[0m\u001b[0mc_api\u001b[0m\u001b[1;33m.\u001b[0m\u001b[0mTF_Message\u001b[0m\u001b[1;33m(\u001b[0m\u001b[0mself\u001b[0m\u001b[1;33m.\u001b[0m\u001b[0mstatus\u001b[0m\u001b[1;33m.\u001b[0m\u001b[0mstatus\u001b[0m\u001b[1;33m)\u001b[0m\u001b[1;33m)\u001b[0m\u001b[1;33m,\u001b[0m\u001b[1;33m\u001b[0m\u001b[1;33m\u001b[0m\u001b[0m\n\u001b[1;32m--> 528\u001b[1;33m             c_api.TF_GetCode(self.status.status))\n\u001b[0m\u001b[0;32m    529\u001b[0m     \u001b[1;31m# Delete the underlying status object from memory otherwise it stays alive\u001b[0m\u001b[1;33m\u001b[0m\u001b[1;33m\u001b[0m\u001b[1;33m\u001b[0m\u001b[0m\n\u001b[0;32m    530\u001b[0m     \u001b[1;31m# as there is a reference to status from this from the traceback due to\u001b[0m\u001b[1;33m\u001b[0m\u001b[1;33m\u001b[0m\u001b[1;33m\u001b[0m\u001b[0m\n",
      "\u001b[1;31mInvalidArgumentError\u001b[0m: logits and labels must have the same first dimension, got logits shape [32,10] and labels shape [320]\n\t [[{{node loss/softmax_loss/CategoricalCrossentropy/SparseSoftmaxCrossEntropyWithLogits/SparseSoftmaxCrossEntropyWithLogits}}]]"
     ]
    }
   ],
   "source": [
    "# callback to test after each epoch\n",
    "class TestCallback(tf.keras.callbacks.Callback):\n",
    "    def __init__(self, test_data):\n",
    "        self.test_data = test_data\n",
    "        self.test_acc = []\n",
    "        self.test_loss = []\n",
    "\n",
    "    def on_epoch_end(self, epoch, logs=None):\n",
    "        # perform a test per epoch\n",
    "        x, y = self.test_data\n",
    "        loss, acc = self.model.evaluate(x, y, verbose=0, batch_size=32)\n",
    "        self.test_loss.append(loss)\n",
    "        self.test_acc.append(acc)\n",
    "        # append to returned dictionary\n",
    "        logs[\"test_loss\"] = self.test_loss\n",
    "        logs[\"test_acc\"] = self.test_acc\n",
    "\n",
    "\n",
    "# train\n",
    "history = model.fit(trainData, train_labels, \n",
    "                    validation_data=(validData, valid_labels),\n",
    "                    epochs=epochs, \n",
    "                    batch_size=batch_size,\n",
    "                    callbacks=[TestCallback((testData, test_labels))],\n",
    "                    verbose=0,  # 0 = silent, 1 = per epoch \n",
    "                    shuffle=True)\n",
    "\n",
    "# print(history.history)\n",
    "\n",
    "# plot accuracy + loss\n",
    "train_acc = history.history[\"acc\"]\n",
    "val_acc = history.history[\"val_acc\"]\n",
    "test_acc = history.history[\"test_acc\"][0]\n",
    "train_loss = history.history[\"loss\"]\n",
    "val_loss = history.history[\"val_loss\"]\n",
    "test_loss = history.history[\"test_loss\"][0]\n",
    "\n",
    "statistics = (train_loss, train_acc, valid_loss, valid_acc, test_loss, test_acc)\n",
    "display_statistics(*statistics)"
   ]
  },
  {
   "cell_type": "markdown",
   "metadata": {
    "colab_type": "text",
    "id": "mhSEXOxSsmZ8"
   },
   "source": [
    "### 2.3 Hyperparameter Investigation {-}"
   ]
  },
  {
   "cell_type": "code",
   "execution_count": 16,
   "metadata": {
    "colab": {
     "base_uri": "https://localhost:8080/",
     "height": 323
    },
    "colab_type": "code",
    "id": "WgIYCgEvsmbz",
    "outputId": "212c6da3-01bd-4e2c-90fa-9f1b7ec5a804"
   },
   "outputs": [
    {
     "name": "stdout",
     "output_type": "stream",
     "text": [
      "\n",
      "L2 Normalization with 0.01\n",
      "\n",
      "Training loss: 1.5333\t\tTraining acc: 97.11%\n",
      "Validation loss: 1.5669\t\tValidation acc: 93.7%\n",
      "Testing loss: 1.5711\t\tTesting acc: 93.14%\n",
      "\n",
      "L2 Normalization with 0.1\n",
      "\n",
      "Training loss: 1.6085\t\tTraining acc: 92.58%\n",
      "Validation loss: 1.6073\t\tValidation acc: 92.9%\n",
      "Testing loss: 1.6118\t\tTesting acc: 92.11%\n",
      "\n",
      "L2 Normalization with 0.5\n",
      "\n",
      "Training loss: 1.6735\t\tTraining acc: 90.23%\n",
      "Validation loss: 1.669\t\tValidation acc: 89.5%\n",
      "Testing loss: 1.6639\t\tTesting acc: 90.79%\n"
     ]
    }
   ],
   "source": [
    "# 2.3.1: L2 Regularization\n",
    "\n",
    "# training params\n",
    "learning_rate = 0.0001\n",
    "epochs = 50\n",
    "batch_size = 32\n",
    "\n",
    "# test all weight decays [0.01, 0.1, 0.5]\n",
    "for scale in [0.01, 0.1, 0.5]:\n",
    "    print(\"\\nL2 Normalization with {}\\n\".format(scale))\n",
    "\n",
    "    # create model\n",
    "    model = models.Sequential()\n",
    "    model.add(layers.InputLayer(input_shape=(28, 28,1)))    # input layer\n",
    "    model.add(layers.Conv2D(                                                        # conv layer\n",
    "          filters=32,\n",
    "          strides=(1,1),\n",
    "          kernel_size=[3, 3],\n",
    "          padding=\"same\",\n",
    "          activation='relu',\n",
    "          kernel_initializer=tf.contrib.layers.xavier_initializer(uniform=False)))\n",
    "    model.add(layers.BatchNormalization())                                          # batch norm\n",
    "    model.add(layers.MaxPooling2D((2, 2)))                                          # max pooling\n",
    "    model.add(layers.Flatten())                                                     # flatten\n",
    "    model.add(layers.Dense(784, \n",
    "                        activation='relu',\n",
    "                        kernel_regularizer=tf.contrib.layers.l2_regularizer(scale=scale)))  # fully-connected 784 w/ ReLu\n",
    "    model.add(layers.Dense(10))                                                     # fully-connected 10\n",
    "    model.add(layers.Softmax())                                                     # softmax output\n",
    "\n",
    "    # compile model w/ Adam optimizer + cross entropy loss\n",
    "    model.compile(optimizer=tf.keras.optimizers.Adam(lr=learning_rate),\n",
    "                loss=tf.keras.losses.CategoricalCrossentropy(from_logits=True),\n",
    "                metrics=['accuracy'])\n",
    "\n",
    "    # train\n",
    "    history_1 = model.fit(trainData, train_labels, \n",
    "                      validation_data = (validData, valid_labels),\n",
    "                      epochs=epochs, \n",
    "                      batch_size=batch_size,\n",
    "                      callbacks=[TestCallback((testData, test_labels))],\n",
    "                      verbose=0,  # 0 = silent, 1 = per epoch \n",
    "                      shuffle=True)\n",
    "    # display stats\n",
    "    train_acc = history_1.history[\"acc\"]\n",
    "    val_acc = history_1.history[\"val_acc\"]\n",
    "    test_acc = history_1.history[\"test_acc\"][0]\n",
    "    train_loss = history_1.history[\"loss\"]\n",
    "    val_loss = history_1.history[\"val_loss\"]\n",
    "    test_loss = history_1.history[\"test_loss\"][0]\n",
    "\n",
    "    statistics = (train_loss, train_acc, valid_loss, valid_acc, test_loss, test_acc)\n",
    "    display_statistics(*statistics)"
   ]
  },
  {
   "cell_type": "code",
   "execution_count": 19,
   "metadata": {
    "colab": {
     "base_uri": "https://localhost:8080/",
     "height": 323
    },
    "colab_type": "code",
    "id": "3i01JSdGsmb9",
    "outputId": "fb2aaa6e-c3c6-4f30-b126-217d33ddee68"
   },
   "outputs": [
    {
     "name": "stdout",
     "output_type": "stream",
     "text": [
      "\n",
      "Dropout with probability 0.1\n",
      "\n",
      "Training loss: 1.4825\t\tTraining acc: 97.86%\n",
      "Validation loss: 1.5235\t\tValidation acc: 93.7%\n",
      "Testing loss: 1.529\t\tTesting acc: 93.14%\n",
      "\n",
      "Dropout with probability 0.25\n",
      "\n",
      "Training loss: 1.479\t\tTraining acc: 98.21%\n",
      "Validation loss: 1.524\t\tValidation acc: 93.6%\n",
      "Testing loss: 1.5286\t\tTesting acc: 93.14%\n",
      "\n",
      "Dropout with probability 0.5\n",
      "\n",
      "Training loss: 1.4801\t\tTraining acc: 98.13%\n",
      "Validation loss: 1.5189\t\tValidation acc: 94.3%\n",
      "Testing loss: 1.5255\t\tTesting acc: 93.54%\n"
     ]
    }
   ],
   "source": [
    "# 2.3.2: Dropout\n",
    "\n",
    "# training params\n",
    "learning_rate = 0.0001\n",
    "epochs = 50\n",
    "batch_size = 32\n",
    "\n",
    "# for rate in [0.9, 0.75, 0.5]:\n",
    "for rate in [0.1, 0.25, 0.5]:\n",
    "    print(\"\\nDropout with probability {}\\n\".format(rate))\n",
    "\n",
    "    # create model\n",
    "    model = models.Sequential()\n",
    "    model.add(layers.InputLayer(input_shape=(28, 28,1)))    # input layer\n",
    "    model.add(layers.Conv2D(                                                        # conv layer\n",
    "          filters=32,\n",
    "          strides=(1,1),\n",
    "          kernel_size=[3, 3],\n",
    "          padding=\"same\",\n",
    "          activation='relu',\n",
    "          kernel_initializer=tf.contrib.layers.xavier_initializer(uniform=False)))\n",
    "    model.add(layers.BatchNormalization())                                          # batch norm\n",
    "    model.add(layers.MaxPooling2D((2, 2)))                                          # max pooling\n",
    "    model.add(layers.Flatten())                                                     # flatten\n",
    "    model.add(layers.Dense(784))                                                    # fully-connected 784 w/ ReLu\n",
    "    model.add(layers.Dropout(rate=rate))                                            # dropout\n",
    "    model.add(layers.ReLU())                                                         # Relu activation\n",
    "    model.add(layers.Dense(10))                                                     # fully-connected 10\n",
    "    model.add(layers.Softmax())                                                     # softmax output\n",
    "\n",
    "    # compile model w/ Adam optimizer + cross entropy loss\n",
    "    model.compile(optimizer=tf.keras.optimizers.Adam(lr=learning_rate),\n",
    "                loss=tf.keras.losses.CategoricalCrossentropy(from_logits=True),\n",
    "                metrics=['accuracy'])\n",
    "\n",
    "    # train\n",
    "    history_2 = model.fit(trainData, train_labels, \n",
    "                      validation_data = (validData, valid_labels),\n",
    "                      epochs=epochs, \n",
    "                      batch_size=batch_size,\n",
    "                      callbacks=[TestCallback((testData, test_labels))],\n",
    "                      verbose=0,  # 0 = silent, 1 = per epoch \n",
    "                      shuffle=True)\n",
    "    # display stats\n",
    "    train_acc = history_2.history[\"acc\"]\n",
    "    val_acc = history_2.history[\"val_acc\"]\n",
    "    test_acc = history_2.history[\"test_acc\"][0]\n",
    "    train_loss = history_2.history[\"loss\"]\n",
    "    val_loss = history_2.history[\"val_loss\"]\n",
    "    test_loss = history_2.history[\"test_loss\"][0]\n",
    "\n",
    "    statistics = (train_loss, train_acc, valid_loss, valid_acc, test_loss, test_acc)\n",
    "    display_statistics(*statistics)"
   ]
  }
 ],
 "metadata": {
  "accelerator": "GPU",
  "colab": {
   "collapsed_sections": [],
   "name": "A2 WriteUp.ipynb",
   "provenance": []
  },
  "kernelspec": {
   "display_name": "Python 3",
   "language": "python",
   "name": "python3"
  },
  "language_info": {
   "codemirror_mode": {
    "name": "ipython",
    "version": 3
   },
   "file_extension": ".py",
   "mimetype": "text/x-python",
   "name": "python",
   "nbconvert_exporter": "python",
   "pygments_lexer": "ipython3",
   "version": "3.7.6"
  }
 },
 "nbformat": 4,
 "nbformat_minor": 1
}
