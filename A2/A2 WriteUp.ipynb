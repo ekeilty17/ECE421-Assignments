{
 "cells": [
  {
   "cell_type": "markdown",
   "metadata": {},
   "source": [
    "\\newpage"
   ]
  },
  {
   "cell_type": "markdown",
   "metadata": {},
   "source": [
    "# 0 Setup {-}"
   ]
  },
  {
   "cell_type": "code",
   "execution_count": 1,
   "metadata": {},
   "outputs": [],
   "source": [
    "# ignore all future warnings\n",
    "from warnings import simplefilter\n",
    "simplefilter(action='ignore', category=FutureWarning)"
   ]
  },
  {
   "cell_type": "code",
   "execution_count": 2,
   "metadata": {},
   "outputs": [],
   "source": [
    "# imports\n",
    "import tensorflow as tf\n",
    "import numpy as np\n",
    "import matplotlib.pyplot as plt\n",
    "from tensorflow.keras import layers, models, datasets"
   ]
  },
  {
   "cell_type": "code",
   "execution_count": 3,
   "metadata": {},
   "outputs": [],
   "source": [
    "# ignore tensorflow depreciation warnings\n",
    "import tensorflow.python.util.deprecation as deprecation\n",
    "deprecation._PRINT_DEPRECATION_WARNINGS = False"
   ]
  },
  {
   "cell_type": "markdown",
   "metadata": {},
   "source": [
    "### 0.1 Visualizing the Dataset {-}"
   ]
  },
  {
   "cell_type": "code",
   "execution_count": 4,
   "metadata": {},
   "outputs": [],
   "source": [
    "# given by the assignment\n",
    "def loadData():\n",
    "    with np.load(\"notMNIST.npz\") as data:\n",
    "        Data, Target = data [\"images\"], data[\"labels\"]\n",
    "        np.random.seed(521)\n",
    "        randIndx = np.arange(len(Data))\n",
    "        np.random.shuffle(randIndx)\n",
    "        Data = Data[randIndx]/255.\n",
    "        Target = Target[randIndx]\n",
    "        trainData, trainTarget = Data[:15000], Target[:15000]\n",
    "        validData, validTarget = Data[15000:16000], Target[15000:16000]\n",
    "        testData, testTarget = Data[16000:], Target[16000:]\n",
    "    return trainData, validData, testData, trainTarget, validTarget, testTarget"
   ]
  },
  {
   "cell_type": "markdown",
   "metadata": {},
   "source": [
    "\\newpage"
   ]
  },
  {
   "cell_type": "code",
   "execution_count": 29,
   "metadata": {},
   "outputs": [
    {
     "name": "stdout",
     "output_type": "stream",
     "text": [
      "Training Data: (15000, 28, 28)\tTraining tagets: (15000,)\n",
      "Validation Data: (1000, 28, 28)\tValidation tagets: (1000,)\n",
      "Testing Data: (2724, 28, 28)\tTesting tagets:(2724,)\n"
     ]
    }
   ],
   "source": [
    "trainData, validData, testData, trainTarget, validTarget, testTarget = loadData()\n",
    "print(f\"Training Data: {trainData.shape}\\tTraining tagets: {trainTarget.shape}\")\n",
    "print(f\"Validation Data: {validData.shape}\\tValidation tagets: {validTarget.shape}\")\n",
    "print(f\"Testing Data: {testData.shape}\\tTesting tagets:{testTarget.shape}\")"
   ]
  },
  {
   "cell_type": "code",
   "execution_count": 6,
   "metadata": {},
   "outputs": [],
   "source": [
    "def plot(image, target, ax=None):\n",
    "    ax = plt.gca() if ax == None else ax\n",
    "    ax.imshow(image, cmap=plt.cm.gray)\n",
    "    target_names = ['A', 'B', 'C', 'D', 'E', 'F', 'G', 'H', 'I', 'J']\n",
    "    ax.set_title(target_names[target])\n",
    "    # targets interger encoded from 0 to 9 corresponding to 'A' to 'J', respectively"
   ]
  },
  {
   "cell_type": "code",
   "execution_count": 7,
   "metadata": {},
   "outputs": [
    {
     "data": {
      "image/png": "[encoded data removed]",
      "text/plain": [
       "<Figure size 1152x360 with 10 Axes>"
      ]
     },
     "metadata": {
      "needs_background": "light"
     },
     "output_type": "display_data"
    }
   ],
   "source": [
    "fig, axis = plt.subplots(2, 5, figsize=(16, 5))\n",
    "for ax in axis.reshape(-1):\n",
    "    r = np.random.randint(trainData.shape[0])\n",
    "    plot(trainData[r], trainTarget[r], ax=ax)\n",
    "plt.show()"
   ]
  },
  {
   "cell_type": "markdown",
   "metadata": {},
   "source": [
    "\\newpage"
   ]
  },
  {
   "cell_type": "markdown",
   "metadata": {},
   "source": [
    "### 0.2 Useful Functions {-}\n",
    "\n",
    "Some useful functions that will be used throughout the assignment such as getting random weights, getting the accuracy of a batch, making the loss and accuracy plots look nice, and global variables used throughout the code"
   ]
  },
  {
   "cell_type": "code",
   "execution_count": 8,
   "metadata": {},
   "outputs": [],
   "source": [
    "# given by the assignment\n",
    "def convertOneHot(trainTarget, validTarget, testTarget):\n",
    "    newtrain = np.zeros((trainTarget.shape[0], 10))\n",
    "    newvalid = np.zeros((validTarget.shape[0], 10))\n",
    "    newtest = np.zeros((testTarget.shape[0], 10))\n",
    "    for item in range(0, trainTarget.shape[0]):\n",
    "        newtrain[item][trainTarget[item]] = 1\n",
    "    for item in range(0, validTarget.shape[0]):\n",
    "        newvalid[item][validTarget[item]] = 1\n",
    "    for item in range(0, testTarget.shape[0]):\n",
    "        newtest[item][testTarget[item]] = 1\n",
    "    return newtrain, newvalid, newtest"
   ]
  },
  {
   "cell_type": "code",
   "execution_count": 24,
   "metadata": {},
   "outputs": [],
   "source": [
    "def accuracy(y_pred, y):\n",
    "    if y_pred.shape != y.shape:\n",
    "        raise ValueError(f\"prediction dimension {y_pred.shape} and label dimensions {y.shape} don't match\")\n",
    "    return np.sum(y_pred.argmax(axis=1) == y.argmax(axis=1)) / y.shape[0]"
   ]
  },
  {
   "cell_type": "code",
   "execution_count": 48,
   "metadata": {},
   "outputs": [],
   "source": [
    "def plot_loss(x, train_loss=None, valid_loss=None, test_loss=None, title=None, ax=None):\n",
    "    ax = plt.gca() if ax == None else ax\n",
    "    if train_loss != None:\n",
    "        ax.plot(x, train_loss, label=\"Training Loss\")\n",
    "    if valid_loss != None:\n",
    "        ax.plot(x, valid_loss, label=\"Validation Loss\")\n",
    "    if test_loss != None:\n",
    "        ax.plot(x, test_loss, label=\"Testing Loss\")\n",
    "    \n",
    "    ax.set_title(\"Loss\" if title == None else title)\n",
    "    \n",
    "    ax.set_xlabel(\"Iterations\")\n",
    "    ax.set_xlim(left=0)\n",
    "    ax.set_ylabel(\"Loss\")\n",
    "    ax.set_ylim(bottom=0)\n",
    "    ax.legend(loc=\"upper right\")\n",
    "\n",
    "def plot_accuracy(x, train_accuracy=None, valid_accuracy=None, test_accuracy=None, title=None, ax=None):\n",
    "    ax = plt.gca() if ax == None else ax\n",
    "    if train_accuracy != None:\n",
    "        ax.plot(x, train_accuracy, label=\"Training Accuracy\")\n",
    "    if valid_accuracy != None:\n",
    "        ax.plot(x, valid_accuracy, label=\"Validation Accuracy\")\n",
    "    if test_accuracy != None:\n",
    "        ax.plot(x, test_accuracy, label=\"Testing Accuracy\")\n",
    "    \n",
    "    ax.set_title(\"Accuracy\" if title == None else title)\n",
    "\n",
    "    ax.set_xlabel(\"Iterations\")\n",
    "    ax.set_xlim(left=0)\n",
    "    ax.set_ylabel(\"Accuracy\")\n",
    "    ax.set_yticks(np.arange(0, 1.1, step=0.1))\n",
    "    ax.grid(linestyle='-', axis='y')\n",
    "    ax.legend(loc=\"lower right\")\n",
    "    \n",
    "\n",
    "def display_statistics(train_loss=None, train_acc=None, valid_loss=None, valid_acc=None, \n",
    "                       test_loss=None, test_acc=None):\n",
    "    \n",
    "    tl = \"-\" if train_loss is None else round(train_loss[-1], 4)\n",
    "    ta = \"-\" if train_acc is None else round(train_acc[-1]*100, 2)\n",
    "    vl = \"-\\t\" if valid_loss is None else round(valid_loss[-1], 4)\n",
    "    va = \"-\" if valid_acc is None else round(valid_acc[-1]*100, 2)\n",
    "    sl = \"-\\t\\t\" if test_loss is None else round(test_loss[-1], 4)\n",
    "    sa = \"-\" if test_acc is None else round(test_acc[-1]*100, 2)\n",
    "    \n",
    "    print(f\"Training loss: {tl}{'':.20s}\\t\\tTraining acc: {ta}{'%' if ta != '-' else ''}\")\n",
    "    print(f\"Validation loss: {vl}{'':.20s}\\tValidation acc: {va}{'%' if va != '-' else ''}\")\n",
    "    print(f\"Testing loss: {sl}{'':.20s}\\tTesting acc: {sa}{'%' if sa != '-' else ''}\")\n",
    "    \n",
    "    fig, ax = plt.subplots(1, 2, figsize=(18, 6))\n",
    "    plot_loss(np.arange(0, len(train_loss), 1), train_loss, valid_loss, test_loss, ax=ax[0])\n",
    "    plot_accuracy(np.arange(0, len(train_loss), 1), train_acc, valid_acc, test_acc, ax=ax[1])\n",
    "    plt.show()\n",
    "    plt.close()"
   ]
  },
  {
   "cell_type": "code",
   "execution_count": 49,
   "metadata": {},
   "outputs": [],
   "source": [
    "TINY = 1e-20\n",
    "VTDatasets = {\"validData\" : validData, \"validTarget\" : validTarget,\n",
    "              \"testData\" : testData, \"testTarget\" : testTarget}\n",
    "\n",
    "N = trainData.shape[0]\n",
    "d = trainData.shape[1] * trainData.shape[2]\n",
    "K = 10"
   ]
  },
  {
   "cell_type": "markdown",
   "metadata": {},
   "source": [
    "\\newpage"
   ]
  },
  {
   "cell_type": "markdown",
   "metadata": {},
   "source": [
    "# 1 Neural Networks using Numpy {-}\n",
    "### 1.1 Helper Functions {-}"
   ]
  },
  {
   "cell_type": "code",
   "execution_count": 13,
   "metadata": {},
   "outputs": [],
   "source": [
    "def relu(x):\n",
    "    return np.maximum(0, x)\n",
    "\n",
    "def softmax(x):\n",
    "    return np.exp(x) / np.exp(x).sum()\n",
    "\n",
    "def softmax_batch(X):\n",
    "    return np.exp(X) / np.exp(X).sum(axis=1, keepdims=True)"
   ]
  },
  {
   "cell_type": "code",
   "execution_count": 14,
   "metadata": {},
   "outputs": [],
   "source": [
    "def computeLayer(X, W, b):\n",
    "    # W might need to get transposed depending on how we define it\n",
    "    return X.dot(W) + b"
   ]
  },
  {
   "cell_type": "code",
   "execution_count": 51,
   "metadata": {},
   "outputs": [],
   "source": [
    "# target is one-hot encoded\n",
    "def CE(target, prediction):\n",
    "    return -(target * np.log(prediction+TINY)).sum(axis=1).mean()\n",
    "\n",
    "# target is one-hot encoded\n",
    "def gradCE(target, predication):\n",
    "    return predication - target"
   ]
  },
  {
   "cell_type": "markdown",
   "metadata": {},
   "source": [
    "### 1.2 Backpropagation Derivation {-} "
   ]
  },
  {
   "cell_type": "markdown",
   "metadata": {},
   "source": [
    "#### Derivative of Softmax\n",
    "\n",
    "$p_i = \\texttt{softmax}(\\textbf{o})_i = \\frac{e^{o_i}}{\\sum_{k=1}^K e^{o_k}}$\n",
    "\n",
    "$\\quad \\quad \\quad \\text{if  } i \\neq j$\n",
    "$$\\frac{\\partial p_j}{\\partial o_i} = \\frac{0 \\cdot \\sum_{k=1}^K e^{o_k} - e^{o_i} \\cdot e^{o_j}}{(\\sum_{k=1}^K e^{o_k})^2} = \\boxed{- p_i \\cdot p_j}$$\n",
    "\n",
    "$\\quad \\quad \\quad \\text{if  } i = j$\n",
    "$$\\frac{\\partial p_j}{\\partial o_i} = \\frac{e^{o_i} \\cdot \\sum_{k=1}^K e^{o_k} - e^{o_i} \\cdot e^{o_j}}{(\\sum_{k=1}^K e^{o_k})^2} = \\boxed{(1 - p_j) \\cdot p_i}$$"
   ]
  },
  {
   "cell_type": "markdown",
   "metadata": {},
   "source": [
    "#### Derivative of Softmax + Cross Entropy Loss\n",
    "\n",
    "$$L_{CE}(\\textbf{y}, \\textbf{p}) = -\\sum_{k=1}^{K} y_k \\log{p_k}$$\n",
    "\n",
    "$$ \\frac{\\partial L_{CE}}{\\partial o_i} =  -\\sum_{k=1}^{K} \\frac{y_k}{p_k} \\cdot \\frac{\\partial p_k}{\\partial o_i} = -y_i(1 - p_i) - \\sum_{k \\neq i} \\frac{y_k}{p_k} \\cdot (-p_k p_i) = -y_i + y_ip_i + \\sum_{k \\neq i} y_k p_i = -y_i + p_i \\cdot \\sum_{k=1}^K y_k = p_i - y_i$$\n",
    "\n",
    "In Vector Form: $\\boxed{\\frac{\\partial L_{CE}}{\\partial \\textbf{o}} = \\textbf{p} - \\textbf{y}}$"
   ]
  },
  {
   "cell_type": "markdown",
   "metadata": {},
   "source": [
    "#### Remaining Backpropogation\n",
    "\n",
    "$\\textbf{o} = W_o \\textbf{g} + \\textbf{b}_o$\n",
    "\n",
    "$$\\frac{\\partial L}{\\partial W_o} = \\frac{\\partial L}{\\partial \\textbf{o}} \\cdot (\\frac{\\partial \\textbf{o}}{\\partial W_o})^T = \\frac{\\partial L}{\\partial \\textbf{o}} \\cdot \\textbf{g}^T$$\n",
    "\n",
    "$$\\frac{\\partial L}{\\partial \\textbf{b}_o} = \\frac{\\partial L}{\\partial \\textbf{o}} \\cdot (\\frac{\\partial \\textbf{o}}{\\partial \\textbf{b}_o})^T = \\frac{\\partial L}{\\partial \\textbf{o}}$$\n",
    "\n",
    "$g_i = \\texttt{ReLU}(h_i) = \\texttt{max}(h_i, 0)$\n",
    "\n",
    "$$\\frac{\\partial L}{\\partial h_i} = \\frac{\\partial L}{\\partial g_i} \\cdot \\frac{\\partial g_i}{\\partial h_i} = \\frac{\\partial L}{\\partial g_i} \\cdot \\begin{cases} 1 &\\text{if } h_1 > 0 \\\\ 0 &\\text{if } h_i < 0 \\end{cases}$$\n",
    "\n",
    "$\\textbf{h} = W_h \\textbf{x} + \\textbf{b}_h$\n",
    "\n",
    "$$\\frac{\\partial L}{\\partial W_h} = \\frac{\\partial L}{\\partial \\textbf{h}} \\cdot (\\frac{\\partial \\textbf{h}}{\\partial W_h})^T = \\frac{\\partial L}{\\partial \\textbf{h}} \\cdot \\textbf{x}^T$$\n",
    "\n",
    "$$\\frac{\\partial L}{\\partial \\textbf{b}_h} = \\frac{\\partial L}{\\partial \\textbf{h}} \\cdot (\\frac{\\partial \\textbf{h}}{\\partial \\textbf{b}_h})^T = \\frac{\\partial L}{\\partial \\textbf{h}}$$"
   ]
  },
  {
   "cell_type": "markdown",
   "metadata": {},
   "source": [
    "### 1.3 Learning {-}"
   ]
  },
  {
   "cell_type": "code",
   "execution_count": 57,
   "metadata": {},
   "outputs": [
    {
     "name": "stdout",
     "output_type": "stream",
     "text": [
      "epoch 1\n",
      "epoch 2\tloss: 41.3744\tacc: 0.0824\n",
      "epoch 3\tloss: 41.4467\tacc: 0.1005\n",
      "epoch 4\tloss: 41.4466\tacc: 0.1005\n",
      "epoch 5\tloss: 41.4466\tacc: 0.1005\n",
      "epoch 6\tloss: 41.4466\tacc: 0.1005\n",
      "epoch 7\tloss: 41.4466\tacc: 0.1005\n",
      "epoch 8\tloss: 41.4466\tacc: 0.1005\n",
      "epoch 9\tloss: 41.4466\tacc: 0.1005\n",
      "epoch 10\tloss: 41.4466\tacc: 0.1005\n",
      "Training loss: 41.4466\t\tTraining acc: 10.05%\n",
      "Validation loss: -\t\tValidation acc: -\n",
      "Testing loss: -\t\t\tTesting acc: -\n"
     ]
    },
    {
     "data": {
      "image/png": "[encoded data removed]",
      "text/plain": [
       "<Figure size 1296x432 with 2 Axes>"
      ]
     },
     "metadata": {
      "needs_background": "light"
     },
     "output_type": "display_data"
    }
   ],
   "source": [
    "class mini_NN(object):\n",
    "\n",
    "    \"\"\" \n",
    "    input:  x\n",
    "    hidden: h = W_h * x + b_h\n",
    "            g = ReLU(h)\n",
    "    output: o = W_o * g + b_o\n",
    "            p = softmax(o)\n",
    "    \"\"\"\n",
    "\n",
    "    def __init__(self, D, F, K):\n",
    "        self.D = D\n",
    "        self.F = F\n",
    "        self.K = K\n",
    "\n",
    "    def init_weights(self):\n",
    "        # getting random parameters using Xaiver initialization scheme\n",
    "        self.W_h = np.random.normal(0, np.sqrt(2.0/(self.D+self.F)), (self.D, self.F))\n",
    "        self.b_h = np.random.normal(0, np.sqrt(2.0/(self.D+self.F)), self.F) \n",
    "        self.W_o = np.random.normal(0, np.sqrt(2.0/(self.F+self.K)), (self.F, self.K))\n",
    "        self.b_o = np.random.normal(0, np.sqrt(2.0/(self.F+self.K)), self.K)\n",
    "    \n",
    "    def feedforward(self, X):\n",
    "        # python can dynamically create attributes\n",
    "        self.H = computeLayer(X, self.W_h, self.b_h)\n",
    "        self.G = relu(self.H)\n",
    "        self.O = computeLayer(self.G, self.W_o, self.b_o)\n",
    "        self.P = softmax_batch(self.O)\n",
    "        return self.P\n",
    "    \n",
    "    def backpropagation(self, X, y):\n",
    "        \n",
    "        # This function assumes that feedforward was called before, \n",
    "        # which instantiates the needed activations\n",
    "        \n",
    "        # output layer activations\n",
    "        dL_do = gradCE(y, self.O)\n",
    "\n",
    "        # output layer parameters\n",
    "        dL_dWo = self.G.T @ dL_do\n",
    "        dL_dbo = dL_do\n",
    "\n",
    "        # hidden layer activations\n",
    "        dL_dg = dL_do @ self.W_o.T\n",
    "        dL_dh = ((dL_dg > 0) * 1).astype(np.float64)\n",
    "\n",
    "        # hidden layer parameters\n",
    "        dL_dWh = X.T @ dL_dh\n",
    "        dL_dbh = dL_dh\n",
    "        \n",
    "        return dL_dWo.mean(axis=0), dL_dbo.mean(axis=0), dL_dWh.mean(axis=0), dL_dbh.mean(axis=0)\n",
    "\n",
    "    def train(self, X, y, epochs=200, gamma=0.99, alpha=1e-5, F=1000,\n",
    "             validData=None, validTarget=None, testData=None, testTarget=None):\n",
    "        # initializations\n",
    "        self.F = F\n",
    "        self.init_weights()\n",
    "        \n",
    "        train_loss, train_acc = [], []\n",
    "        valid_loss, valid_acc = [], []\n",
    "        test_loss, test_acc = [], []\n",
    "        \n",
    "        v_Wo = v_bo = v_Wh = v_bh = 0\n",
    "        \n",
    "        for e in range(epochs):\n",
    "            if e > 0:\n",
    "                print(f\"epoch {e+1}\\tloss: {train_loss[-1]:.4f}\\tacc: {train_acc[-1]:.4f}\")\n",
    "            else:\n",
    "                print(\"epoch\", e+1)\n",
    "            \n",
    "            p = self.feedforward(X)\n",
    "            train_loss.append( CE(p, y) )\n",
    "            train_acc.append( accuracy(p, y) )\n",
    "            \n",
    "            dL_dWo, dL_dbo, dL_dWh, dL_dbh = self.backpropagation(X, y)\n",
    "            \n",
    "            v_Wo = gamma * v_Wo + alpha * dL_dWo\n",
    "            self.W_o -= v_Wo\n",
    "            \n",
    "            v_bo = gamma * v_bo + alpha * dL_dbo\n",
    "            self.b_o -= v_bo\n",
    "            \n",
    "            v_Wh = gamma * v_Wh + alpha * dL_dWh\n",
    "            self.W_h -= v_Wh\n",
    "            \n",
    "            v_bh = gamma * v_bh + alpha * dL_dbh\n",
    "            self.b_h -= v_bh\n",
    "        \n",
    "        statistics = (train_loss, train_acc)\n",
    "        if not validData is None and not validTarget is None:\n",
    "            statistics += (valid_loss, valid_acc, )\n",
    "        if not testData is None and not testTarget is None:\n",
    "            statistics += (test_loss, test_acc,)\n",
    "        return statistics\n",
    "\n",
    "X = trainData.reshape(N, d)\n",
    "newtrain, newvalid, newtest = convertOneHot(trainTarget, validTarget, testTarget)\n",
    "\n",
    "model = mini_NN(d, 100, K)\n",
    "statistics = model.train(X, newtrain, epochs=10)\n",
    "display_statistics(*statistics)"
   ]
  },
  {
   "cell_type": "markdown",
   "metadata": {},
   "source": [
    "### 1.4 Hyperparameter Investigation {-}"
   ]
  },
  {
   "cell_type": "code",
   "execution_count": null,
   "metadata": {},
   "outputs": [],
   "source": []
  },
  {
   "cell_type": "markdown",
   "metadata": {},
   "source": [
    "\\newpage"
   ]
  },
  {
   "cell_type": "markdown",
   "metadata": {},
   "source": [
    "# 2 Neural Networks in Tensorflow {-}\n",
    "### 2.1 Model implementation {-}"
   ]
  },
  {
   "cell_type": "code",
   "execution_count": 19,
   "metadata": {},
   "outputs": [],
   "source": [
    "# load data\n",
    "trainData, validData, testData, trainTarget, validTarget, testTarget = loadData()\n",
    "trainData = trainData.reshape(15000,28,28,1)\n",
    "# one-hot encode\n",
    "train_labels, valid_labels, test_labels = convertOneHot(trainTarget, validTarget, testTarget)\n",
    "\n",
    "# training params\n",
    "epochs = 50\n",
    "learning_rate = 0.0001\n",
    "batch_size = 32\n",
    "\n",
    "# create model\n",
    "model = models.Sequential()\n",
    "model.add(layers.InputLayer(input_shape=(28, 28,1)))    # input layer\n",
    "model.add(layers.Conv2D(                                                        # conv layer\n",
    "        filters=32,\n",
    "        strides=(1,1),\n",
    "        kernel_size=[3, 3],\n",
    "        padding=\"same\",\n",
    "        activation='relu',\n",
    "        kernel_initializer=tf.contrib.layers.xavier_initializer(uniform=False)))\n",
    "model.add(layers.BatchNormalization())                                          # batch norm\n",
    "model.add(layers.MaxPooling2D((2, 2)))                                          # max pooling\n",
    "model.add(layers.Flatten())                                                     # flatten\n",
    "model.add(layers.Dense(784, activation='relu'))                                 # fully-connected 784 w/ ReLu\n",
    "model.add(layers.Dense(10))                                                     # fully-connected 10\n",
    "model.add(layers.Softmax())                                                     # softmax output\n",
    "\n",
    "# print model summary\n",
    "# model.summary()\n",
    "\n",
    "# compile model w/ Adam optimizer + cross entropy loss\n",
    "model.compile(optimizer=tf.keras.optimizers.Adam(lr=learning_rate),\n",
    "              loss=tf.keras.losses.CategoricalCrossentropy(from_logits=True),\n",
    "              metrics=['accuracy'])\n",
    "\n",
    "# train\n",
    "history = model.fit(trainData, train_labels, epochs=epochs, batch_size=batch_size)\n",
    "\n",
    "# plot accuracy per epoch\n",
    "# plt.plot(history.history['accuracy'], label='accuracy')\n",
    "# plt.plot(history.history['val_accuracy'], label = 'val_accuracy')\n",
    "# plt.xlabel('Epoch')\n",
    "# plt.ylabel('Accuracy')\n",
    "# plt.ylim([0.5, 1])\n",
    "# plt.legend(loc='lower right')\n",
    "\n",
    "# test_loss, test_acc = model.evaluate(test_images,  test_labels, verbose=2)"
   ]
  },
  {
   "cell_type": "markdown",
   "metadata": {},
   "source": [
    "### 2.2 Model Training {-}"
   ]
  },
  {
   "cell_type": "code",
   "execution_count": null,
   "metadata": {},
   "outputs": [],
   "source": []
  },
  {
   "cell_type": "markdown",
   "metadata": {},
   "source": [
    "### 2.3 Hyperparameter Investigation {-}"
   ]
  },
  {
   "cell_type": "code",
   "execution_count": null,
   "metadata": {},
   "outputs": [],
   "source": []
  },
  {
   "cell_type": "code",
   "execution_count": null,
   "metadata": {},
   "outputs": [],
   "source": []
  }
 ],
 "metadata": {
  "kernelspec": {
   "display_name": "Python 3",
   "language": "python",
   "name": "python3"
  },
  "language_info": {
   "codemirror_mode": {
    "name": "ipython",
    "version": 3
   },
   "file_extension": ".py",
   "mimetype": "text/x-python",
   "name": "python",
   "nbconvert_exporter": "python",
   "pygments_lexer": "ipython3",
   "version": "3.7.3"
  }
 },
 "nbformat": 4,
 "nbformat_minor": 2
}
