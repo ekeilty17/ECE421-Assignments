{
 "cells": [
  {
   "cell_type": "markdown",
   "metadata": {
    "colab_type": "text",
    "id": "e8grvLzosmSI"
   },
   "source": [
    "\\newpage"
   ]
  },
  {
   "cell_type": "markdown",
   "metadata": {
    "colab_type": "text",
    "id": "mae1NLFCsmSa"
   },
   "source": [
    "# 0 Setup {-}"
   ]
  },
  {
   "cell_type": "code",
   "execution_count": 109,
   "metadata": {
    "colab": {
     "base_uri": "https://localhost:8080/",
     "height": 102
    },
    "colab_type": "code",
    "id": "fKYte0AwsmSq",
    "outputId": "907afef2-adfb-4dbf-9675-ceddb3aae92a"
   },
   "outputs": [],
   "source": [
    "try:\n",
    "    import google.colab\n",
    "    IN_COLAB = True\n",
    "except:\n",
    "    IN_COLAB = False\n",
    "\n",
    "if IN_COLAB:\n",
    "    %tensorflow_version 1.13\n",
    "else:\n",
    "    assert tf.__version__ == \"1.13.1\"\n",
    "\n",
    "# ignore all future warnings\n",
    "from warnings import simplefilter\n",
    "simplefilter(action='ignore', category=FutureWarning)"
   ]
  },
  {
   "cell_type": "code",
   "execution_count": 110,
   "metadata": {
    "colab": {},
    "colab_type": "code",
    "id": "bTICRe_QsmTe"
   },
   "outputs": [],
   "source": [
    "# imports\n",
    "import tensorflow as tf\n",
    "import numpy as np\n",
    "import matplotlib.pyplot as plt\n",
    "from tensorflow.keras import layers, models"
   ]
  },
  {
   "cell_type": "code",
   "execution_count": 111,
   "metadata": {
    "colab": {
     "base_uri": "https://localhost:8080/",
     "height": 34
    },
    "colab_type": "code",
    "id": "vYedbadRsmT0",
    "outputId": "1d885ea3-ac9d-483a-a2bb-94c979652205"
   },
   "outputs": [
    {
     "name": "stdout",
     "output_type": "stream",
     "text": [
      "1.13.1\n"
     ]
    }
   ],
   "source": [
    "print(tf.__version__)"
   ]
  },
  {
   "cell_type": "code",
   "execution_count": 112,
   "metadata": {
    "colab": {
     "base_uri": "https://localhost:8080/",
     "height": 181
    },
    "colab_type": "code",
    "id": "1MRJFEhHsmUJ",
    "outputId": "e4abbe05-b933-4433-f921-ecf7f2b7a9b6"
   },
   "outputs": [],
   "source": [
    "# ignore tensorflow depreciation warnings\n",
    "import tensorflow.python.util.deprecation as deprecation\n",
    "deprecation._PRINT_DEPRECATION_WARNINGS = False"
   ]
  },
  {
   "cell_type": "markdown",
   "metadata": {
    "colab_type": "text",
    "id": "xfmOfJwRsmUi"
   },
   "source": [
    "### 0.1 Visualizing the Dataset {-}"
   ]
  },
  {
   "cell_type": "code",
   "execution_count": 0,
   "metadata": {
    "colab": {},
    "colab_type": "code",
    "id": "uGUfH4HCsmUj"
   },
   "outputs": [],
   "source": [
    "# given by the assignment\n",
    "def loadData():\n",
    "    with np.load(\"notMNIST.npz\") as data:\n",
    "        Data, Target = data [\"images\"], data[\"labels\"]\n",
    "        np.random.seed(521)\n",
    "        randIndx = np.arange(len(Data))\n",
    "        np.random.shuffle(randIndx)\n",
    "        Data = Data[randIndx]/255.\n",
    "        Target = Target[randIndx]\n",
    "        trainData, trainTarget = Data[:15000], Target[:15000]\n",
    "        validData, validTarget = Data[15000:16000], Target[15000:16000]\n",
    "        testData, testTarget = Data[16000:], Target[16000:]\n",
    "    return trainData, validData, testData, trainTarget, validTarget, testTarget"
   ]
  },
  {
   "cell_type": "markdown",
   "metadata": {
    "colab_type": "text",
    "id": "u-FP2WmKsmUr"
   },
   "source": [
    "\\newpage"
   ]
  },
  {
   "cell_type": "code",
   "execution_count": 7,
   "metadata": {
    "colab": {
     "base_uri": "https://localhost:8080/",
     "height": 68
    },
    "colab_type": "code",
    "id": "sqXNLSxesmUt",
    "outputId": "20dfcba7-8f8d-4c5c-ca16-43f108179c97"
   },
   "outputs": [
    {
     "name": "stdout",
     "output_type": "stream",
     "text": [
      "Training Data: (15000, 28, 28)\tTraining tagets: (15000,)\n",
      "Validation Data: (1000, 28, 28)\tValidation tagets: (1000,)\n",
      "Testing Data: (2724, 28, 28)\tTesting tagets:(2724,)\n"
     ]
    }
   ],
   "source": [
    "trainData, validData, testData, trainTarget, validTarget, testTarget = loadData()\n",
    "print(f\"Training Data: {trainData.shape}\\tTraining tagets: {trainTarget.shape}\")\n",
    "print(f\"Validation Data: {validData.shape}\\tValidation tagets: {validTarget.shape}\")\n",
    "print(f\"Testing Data: {testData.shape}\\tTesting tagets:{testTarget.shape}\")"
   ]
  },
  {
   "cell_type": "code",
   "execution_count": 0,
   "metadata": {
    "colab": {},
    "colab_type": "code",
    "id": "7jucjS5asmU4"
   },
   "outputs": [],
   "source": [
    "def plot(image, target, ax=None):\n",
    "    ax = plt.gca() if ax == None else ax\n",
    "    ax.imshow(image, cmap=plt.cm.gray)\n",
    "    target_names = ['A', 'B', 'C', 'D', 'E', 'F', 'G', 'H', 'I', 'J']\n",
    "    ax.set_title(target_names[target])\n",
    "    # targets interger encoded from 0 to 9 corresponding to 'A' to 'J', respectively"
   ]
  },
  {
   "cell_type": "code",
   "execution_count": 9,
   "metadata": {
    "colab": {
     "base_uri": "https://localhost:8080/",
     "height": 396
    },
    "colab_type": "code",
    "id": "xjp0OnvVsmVf",
    "outputId": "4e3ec1d3-f910-4848-d221-8a15f1f366b4"
   },
   "outputs": [
    {
     "data": {
      "image/png": "[encoded data removed]",
      "text/plain": [
       "<Figure size 1152x360 with 10 Axes>"
      ]
     },
     "metadata": {
      "tags": []
     },
     "output_type": "display_data"
    }
   ],
   "source": [
    "fig, axis = plt.subplots(2, 5, figsize=(16, 5))\n",
    "for ax in axis.reshape(-1):\n",
    "    r = np.random.randint(trainData.shape[0])\n",
    "    plot(trainData[r], trainTarget[r], ax=ax)\n",
    "plt.show()"
   ]
  },
  {
   "cell_type": "markdown",
   "metadata": {
    "colab_type": "text",
    "id": "BmFy3s4VsmVj"
   },
   "source": [
    "\\newpage"
   ]
  },
  {
   "cell_type": "markdown",
   "metadata": {
    "colab_type": "text",
    "id": "FBu2xF18smVk"
   },
   "source": [
    "### 0.2 Useful Functions {-}\n",
    "\n",
    "Some useful functions that will be used throughout the assignment such as getting random weights, getting the accuracy of a batch, making the loss and accuracy plots look nice, and global variables used throughout the code"
   ]
  },
  {
   "cell_type": "code",
   "execution_count": 0,
   "metadata": {
    "colab": {},
    "colab_type": "code",
    "id": "yMWn3b13smVl"
   },
   "outputs": [],
   "source": [
    "# given by the assignment\n",
    "def convertOneHot(trainTarget, validTarget, testTarget):\n",
    "    newtrain = np.zeros((trainTarget.shape[0], 10))\n",
    "    newvalid = np.zeros((validTarget.shape[0], 10))\n",
    "    newtest = np.zeros((testTarget.shape[0], 10))\n",
    "    for item in range(0, trainTarget.shape[0]):\n",
    "        newtrain[item][trainTarget[item]] = 1\n",
    "    for item in range(0, validTarget.shape[0]):\n",
    "        newvalid[item][validTarget[item]] = 1\n",
    "    for item in range(0, testTarget.shape[0]):\n",
    "        newtest[item][testTarget[item]] = 1\n",
    "    return newtrain, newvalid, newtest"
   ]
  },
  {
   "cell_type": "code",
   "execution_count": 0,
   "metadata": {
    "colab": {},
    "colab_type": "code",
    "id": "28F3a7ILsmVq"
   },
   "outputs": [],
   "source": [
    "def accuracy(y_pred, y):\n",
    "    if y_pred.shape != y.shape:\n",
    "        raise ValueError(f\"prediction dimension {y_pred.shape} and label dimensions {y.shape} don't match\")\n",
    "    return np.sum(y_pred.argmax(axis=1) == y.argmax(axis=1)) / y.shape[0]"
   ]
  },
  {
   "cell_type": "code",
   "execution_count": 0,
   "metadata": {
    "colab": {},
    "colab_type": "code",
    "id": "ashJmn_csmVv"
   },
   "outputs": [],
   "source": [
    "def plot_loss(x, train_loss=None, valid_loss=None, test_loss=None, title=None, ax=None):\n",
    "    ax = plt.gca() if ax == None else ax\n",
    "    if train_loss != None:\n",
    "        ax.plot(x, train_loss, label=\"Training Loss\")\n",
    "    if valid_loss != None:\n",
    "        ax.plot(x, valid_loss, label=\"Validation Loss\")\n",
    "    if test_loss != None:\n",
    "        ax.plot(x, test_loss, label=\"Testing Loss\")\n",
    "    \n",
    "    ax.set_title(\"Loss\" if title == None else title)\n",
    "    \n",
    "    ax.set_xlabel(\"Iterations\")\n",
    "    ax.set_xlim(left=0)\n",
    "    ax.set_ylabel(\"Loss\")\n",
    "    ax.set_ylim(bottom=0)\n",
    "    ax.legend(loc=\"upper right\")\n",
    "\n",
    "def plot_accuracy(x, train_accuracy=None, valid_accuracy=None, test_accuracy=None, title=None, ax=None):\n",
    "    ax = plt.gca() if ax == None else ax\n",
    "    if train_accuracy != None:\n",
    "        ax.plot(x, train_accuracy, label=\"Training Accuracy\")\n",
    "    if valid_accuracy != None:\n",
    "        ax.plot(x, valid_accuracy, label=\"Validation Accuracy\")\n",
    "    if test_accuracy != None:\n",
    "        ax.plot(x, test_accuracy, label=\"Testing Accuracy\")\n",
    "    \n",
    "    ax.set_title(\"Accuracy\" if title == None else title)\n",
    "\n",
    "    ax.set_xlabel(\"Iterations\")\n",
    "    ax.set_xlim(left=0)\n",
    "    ax.set_ylabel(\"Accuracy\")\n",
    "    ax.set_yticks(np.arange(0, 1.1, step=0.1))\n",
    "    ax.grid(linestyle='-', axis='y')\n",
    "    ax.legend(loc=\"lower right\")\n",
    "    \n",
    "\n",
    "def display_statistics(train_loss=None, train_acc=None, valid_loss=None, valid_acc=None, \n",
    "                       test_loss=None, test_acc=None, num=True, plot=True):\n",
    "    \n",
    "    tl = \"-\" if train_loss is None else round(train_loss[-1], 4)\n",
    "    ta = \"-\" if train_acc is None else round(train_acc[-1]*100, 2)\n",
    "    vl = \"-\\t\" if valid_loss is None else round(valid_loss[-1], 4)\n",
    "    va = \"-\" if valid_acc is None else round(valid_acc[-1]*100, 2)\n",
    "    sl = \"-\\t\\t\" if test_loss is None else round(test_loss[-1], 4)\n",
    "    sa = \"-\" if test_acc is None else round(test_acc[-1]*100, 2)\n",
    "    \n",
    "    print(f\"Training loss: {tl}{'':.20s}\\t\\tTraining acc: {ta}{'%' if ta != '-' else ''}\")\n",
    "    print(f\"Validation loss: {vl}{'':.20s}\\tValidation acc: {va}{'%' if va != '-' else ''}\")\n",
    "    print(f\"Testing loss: {sl}{'':.20s}\\tTesting acc: {sa}{'%' if sa != '-' else ''}\")\n",
    "    \n",
    "    fig, ax = plt.subplots(1, 2, figsize=(18, 6))\n",
    "    plot_loss(np.arange(0, len(train_loss), 1), train_loss, valid_loss, test_loss, ax=ax[0])\n",
    "    plot_accuracy(np.arange(0, len(train_loss), 1), train_acc, valid_acc, test_acc, ax=ax[1])\n",
    "    plt.show()\n",
    "    plt.close()"
   ]
  },
  {
   "cell_type": "code",
   "execution_count": 0,
   "metadata": {
    "colab": {},
    "colab_type": "code",
    "id": "PoI4MFNWsmV-"
   },
   "outputs": [],
   "source": [
    "TINY = 1e-20\n",
    "VTDatasets = {\"validData\" : validData, \"validTarget\" : validTarget,\n",
    "              \"testData\" : testData, \"testTarget\" : testTarget}\n",
    "\n",
    "N = trainData.shape[0]\n",
    "d = trainData.shape[1] * trainData.shape[2]\n",
    "K = 10"
   ]
  },
  {
   "cell_type": "markdown",
   "metadata": {
    "colab_type": "raw",
    "id": "zfAzE4fbsmWG"
   },
   "source": [
    "\\newpage"
   ]
  },
  {
   "cell_type": "markdown",
   "metadata": {
    "colab_type": "text",
    "id": "A8Ynq1N7smWI"
   },
   "source": [
    "# 1 Neural Networks using Numpy {-}\n",
    "### 1.1 Helper Functions {-}"
   ]
  },
  {
   "cell_type": "code",
   "execution_count": 0,
   "metadata": {
    "colab": {},
    "colab_type": "code",
    "id": "_PafMbposmWM"
   },
   "outputs": [],
   "source": [
    "def relu(x):\n",
    "    return np.maximum(0, x)\n",
    "\n",
    "def softmax(x):\n",
    "    return np.exp(x) / np.exp(x).sum()\n",
    "\n",
    "def softmax_batch(X):\n",
    "    return np.exp(X) / np.exp(X).sum(axis=1, keepdims=True)"
   ]
  },
  {
   "cell_type": "code",
   "execution_count": 0,
   "metadata": {
    "colab": {},
    "colab_type": "code",
    "id": "0cvsJxhUsmWf"
   },
   "outputs": [],
   "source": [
    "def computeLayer(X, W, b):\n",
    "    # W might need to get transposed depending on how we define it\n",
    "    return X.dot(W) + b"
   ]
  },
  {
   "cell_type": "code",
   "execution_count": 0,
   "metadata": {
    "colab": {},
    "colab_type": "code",
    "id": "GlfSsDjYsmWi"
   },
   "outputs": [],
   "source": [
    "# target is one-hot encoded\n",
    "def CE(target, prediction):\n",
    "    return -(target * np.log(prediction+TINY)).sum(axis=1).mean()\n",
    "\n",
    "# target is one-hot encoded\n",
    "def gradCE(target, predication):\n",
    "    return predication - target"
   ]
  },
  {
   "cell_type": "markdown",
   "metadata": {
    "colab_type": "text",
    "id": "g_E8SCY9smZK"
   },
   "source": [
    "### 1.2 Backpropagation Derivation {-} "
   ]
  },
  {
   "cell_type": "markdown",
   "metadata": {
    "colab_type": "text",
    "id": "naXnc058smZL"
   },
   "source": [
    "#### Derivative of Softmax\n",
    "\n",
    "$p_i = \\texttt{softmax}(\\textbf{o})_i = \\frac{e^{o_i}}{\\sum_{k=1}^K e^{o_k}}$\n",
    "\n",
    "$\\quad \\quad \\quad \\text{if  } i \\neq j$\n",
    "$$\\frac{\\partial p_j}{\\partial o_i} = \\frac{0 \\cdot \\sum_{k=1}^K e^{o_k} - e^{o_i} \\cdot e^{o_j}}{(\\sum_{k=1}^K e^{o_k})^2} = \\boxed{- p_i \\cdot p_j}$$\n",
    "\n",
    "$\\quad \\quad \\quad \\text{if  } i = j$\n",
    "$$\\frac{\\partial p_j}{\\partial o_i} = \\frac{e^{o_i} \\cdot \\sum_{k=1}^K e^{o_k} - e^{o_i} \\cdot e^{o_j}}{(\\sum_{k=1}^K e^{o_k})^2} = \\boxed{(1 - p_j) \\cdot p_i}$$"
   ]
  },
  {
   "cell_type": "markdown",
   "metadata": {
    "colab_type": "text",
    "id": "cMd3CO4AsmZM"
   },
   "source": [
    "#### Derivative of Softmax + Cross Entropy Loss\n",
    "\n",
    "$L_{CE}(\\textbf{y}, \\textbf{p}) = -\\sum_{k=1}^{K} y_k \\log{p_k}$\n",
    "\n",
    "$$ \\frac{\\partial L_{CE}}{\\partial o_i} =  -\\sum_{k=1}^{K} \\frac{y_k}{p_k} \\cdot \\frac{\\partial p_k}{\\partial o_i} = -y_i(1 - p_i) - \\sum_{k \\neq i} \\frac{y_k}{p_k} \\cdot (-p_k p_i) = -y_i + y_ip_i + \\sum_{k \\neq i} y_k p_i = -y_i + p_i \\cdot \\sum_{k=1}^K y_k = p_i - y_i$$\n",
    "\n",
    "In Vector Form: $\\boxed{\\frac{\\partial L_{CE}}{\\partial \\textbf{o}} = \\textbf{p} - \\textbf{y}}$"
   ]
  },
  {
   "cell_type": "markdown",
   "metadata": {
    "colab_type": "text",
    "id": "iTa10muVsmZN"
   },
   "source": [
    "#### Remaining Backpropogation\n",
    "\n",
    "$\\textbf{o} = W_o \\textbf{g} + \\textbf{b}_o$\n",
    "\n",
    "$$\\frac{\\partial L}{\\partial W_o} = \\frac{\\partial L}{\\partial \\textbf{o}} \\cdot (\\frac{\\partial \\textbf{o}}{\\partial W_o})^T = \\frac{\\partial L}{\\partial \\textbf{o}} \\cdot \\textbf{g}^T$$\n",
    "\n",
    "$$\\frac{\\partial L}{\\partial \\textbf{b}_o} = \\frac{\\partial L}{\\partial \\textbf{o}} \\cdot (\\frac{\\partial \\textbf{o}}{\\partial \\textbf{b}_o})^T = \\frac{\\partial L}{\\partial \\textbf{o}}$$\n",
    "\n",
    "$g_i = \\texttt{ReLU}(h_i) = \\texttt{max}(h_i, 0)$\n",
    "\n",
    "$$\\frac{\\partial L}{\\partial h_i} = \\frac{\\partial L}{\\partial g_i} \\cdot \\frac{\\partial g_i}{\\partial h_i} = \\frac{\\partial L}{\\partial g_i} \\cdot \\begin{cases} 1 &\\text{if } h_1 > 0 \\\\ 0 &\\text{if } h_i < 0 \\end{cases}$$\n",
    "\n",
    "$\\textbf{h} = W_h \\textbf{x} + \\textbf{b}_h$\n",
    "\n",
    "$$\\frac{\\partial L}{\\partial W_h} = \\frac{\\partial L}{\\partial \\textbf{h}} \\cdot (\\frac{\\partial \\textbf{h}}{\\partial W_h})^T = \\frac{\\partial L}{\\partial \\textbf{h}} \\cdot \\textbf{x}^T$$\n",
    "\n",
    "$$\\frac{\\partial L}{\\partial \\textbf{b}_h} = \\frac{\\partial L}{\\partial \\textbf{h}} \\cdot (\\frac{\\partial \\textbf{h}}{\\partial \\textbf{b}_h})^T = \\frac{\\partial L}{\\partial \\textbf{h}}$$"
   ]
  },
  {
   "cell_type": "markdown",
   "metadata": {
    "colab_type": "text",
    "id": "5UgNSpAHsmZO"
   },
   "source": [
    "### 1.3 Learning {-}"
   ]
  },
  {
   "cell_type": "code",
   "execution_count": 34,
   "metadata": {
    "colab": {
     "base_uri": "https://localhost:8080/",
     "height": 579
    },
    "colab_type": "code",
    "id": "H9Ndq6QSsmZP",
    "outputId": "f8d55c52-11f4-4226-e9f2-8e1cde459941"
   },
   "outputs": [
    {
     "name": "stdout",
     "output_type": "stream",
     "text": [
      "[[0. 0. 0. ... 0. 0. 0.]\n",
      " [0. 0. 0. ... 0. 0. 1.]\n",
      " [0. 0. 0. ... 0. 0. 1.]\n",
      " ...\n",
      " [0. 0. 1. ... 0. 0. 0.]\n",
      " [1. 0. 0. ... 0. 0. 0.]\n",
      " [0. 0. 0. ... 0. 0. 1.]]\n",
      "epoch: 1\n",
      "epoch: 2\tloss: 41.4529\tacc: 0.1061\n",
      "epoch: 3\tloss: 41.4513\tacc: 0.1061\n",
      "epoch: 4\tloss: 41.4483\tacc: 0.1067\n",
      "epoch: 5\tloss: 41.4438\tacc: 0.1071\n",
      "epoch: 6\tloss: 41.4378\tacc: 0.1069\n"
     ]
    },
    {
     "ename": "KeyboardInterrupt",
     "evalue": "ignored",
     "output_type": "error",
     "traceback": [
      "\u001b[0;31m---------------------------------------------------------------------------\u001b[0m",
      "\u001b[0;31mKeyboardInterrupt\u001b[0m                         Traceback (most recent call last)",
      "\u001b[0;32m<ipython-input-34-9610f37bb46a>\u001b[0m in \u001b[0;36m<module>\u001b[0;34m()\u001b[0m\n\u001b[1;32m     99\u001b[0m \u001b[0;34m\u001b[0m\u001b[0m\n\u001b[1;32m    100\u001b[0m \u001b[0mmodel\u001b[0m \u001b[0;34m=\u001b[0m \u001b[0mmini_NN\u001b[0m\u001b[0;34m(\u001b[0m\u001b[0md\u001b[0m\u001b[0;34m,\u001b[0m \u001b[0;36m100\u001b[0m\u001b[0;34m,\u001b[0m \u001b[0mK\u001b[0m\u001b[0;34m)\u001b[0m\u001b[0;34m\u001b[0m\u001b[0;34m\u001b[0m\u001b[0m\n\u001b[0;32m--> 101\u001b[0;31m \u001b[0mstatistics\u001b[0m \u001b[0;34m=\u001b[0m \u001b[0mmodel\u001b[0m\u001b[0;34m.\u001b[0m\u001b[0mtrain\u001b[0m\u001b[0;34m(\u001b[0m\u001b[0mX\u001b[0m\u001b[0;34m,\u001b[0m \u001b[0mnewtrain\u001b[0m\u001b[0;34m,\u001b[0m \u001b[0mepochs\u001b[0m\u001b[0;34m=\u001b[0m\u001b[0;36m200\u001b[0m\u001b[0;34m)\u001b[0m\u001b[0;34m\u001b[0m\u001b[0;34m\u001b[0m\u001b[0m\n\u001b[0m\u001b[1;32m    102\u001b[0m \u001b[0mdisplay_statistics\u001b[0m\u001b[0;34m(\u001b[0m\u001b[0;34m*\u001b[0m\u001b[0mstatistics\u001b[0m\u001b[0;34m)\u001b[0m\u001b[0;34m\u001b[0m\u001b[0;34m\u001b[0m\u001b[0m\n",
      "\u001b[0;32m<ipython-input-34-9610f37bb46a>\u001b[0m in \u001b[0;36mtrain\u001b[0;34m(self, X, y, epochs, gamma, alpha, F, validData, validTarget, testData, testTarget)\u001b[0m\n\u001b[1;32m     73\u001b[0m             \u001b[0mtrain_acc\u001b[0m\u001b[0;34m.\u001b[0m\u001b[0mappend\u001b[0m\u001b[0;34m(\u001b[0m \u001b[0maccuracy\u001b[0m\u001b[0;34m(\u001b[0m\u001b[0mp\u001b[0m\u001b[0;34m,\u001b[0m \u001b[0my\u001b[0m\u001b[0;34m)\u001b[0m \u001b[0;34m)\u001b[0m\u001b[0;34m\u001b[0m\u001b[0;34m\u001b[0m\u001b[0m\n\u001b[1;32m     74\u001b[0m \u001b[0;34m\u001b[0m\u001b[0m\n\u001b[0;32m---> 75\u001b[0;31m             \u001b[0mdL_dWo\u001b[0m\u001b[0;34m,\u001b[0m \u001b[0mdL_dbo\u001b[0m\u001b[0;34m,\u001b[0m \u001b[0mdL_dWh\u001b[0m\u001b[0;34m,\u001b[0m \u001b[0mdL_dbh\u001b[0m \u001b[0;34m=\u001b[0m \u001b[0mself\u001b[0m\u001b[0;34m.\u001b[0m\u001b[0mbackpropagation\u001b[0m\u001b[0;34m(\u001b[0m\u001b[0mX\u001b[0m\u001b[0;34m,\u001b[0m \u001b[0my\u001b[0m\u001b[0;34m)\u001b[0m\u001b[0;34m\u001b[0m\u001b[0;34m\u001b[0m\u001b[0m\n\u001b[0m\u001b[1;32m     76\u001b[0m \u001b[0;34m\u001b[0m\u001b[0m\n\u001b[1;32m     77\u001b[0m             \u001b[0mv_Wo\u001b[0m \u001b[0;34m=\u001b[0m \u001b[0mgamma\u001b[0m \u001b[0;34m*\u001b[0m \u001b[0mv_Wo\u001b[0m \u001b[0;34m+\u001b[0m \u001b[0malpha\u001b[0m \u001b[0;34m*\u001b[0m \u001b[0mdL_dWo\u001b[0m\u001b[0;34m\u001b[0m\u001b[0;34m\u001b[0m\u001b[0m\n",
      "\u001b[0;32m<ipython-input-34-9610f37bb46a>\u001b[0m in \u001b[0;36mbackpropagation\u001b[0;34m(self, X, y)\u001b[0m\n\u001b[1;32m     46\u001b[0m \u001b[0;34m\u001b[0m\u001b[0m\n\u001b[1;32m     47\u001b[0m         \u001b[0;31m# hidden layer parameters\u001b[0m\u001b[0;34m\u001b[0m\u001b[0;34m\u001b[0m\u001b[0;34m\u001b[0m\u001b[0m\n\u001b[0;32m---> 48\u001b[0;31m         \u001b[0mdL_dWh\u001b[0m \u001b[0;34m=\u001b[0m \u001b[0mX\u001b[0m\u001b[0;34m.\u001b[0m\u001b[0mT\u001b[0m \u001b[0;34m@\u001b[0m \u001b[0mdL_dh\u001b[0m\u001b[0;34m\u001b[0m\u001b[0;34m\u001b[0m\u001b[0m\n\u001b[0m\u001b[1;32m     49\u001b[0m         \u001b[0mdL_dbh\u001b[0m \u001b[0;34m=\u001b[0m \u001b[0mdL_dh\u001b[0m\u001b[0;34m\u001b[0m\u001b[0;34m\u001b[0m\u001b[0m\n\u001b[1;32m     50\u001b[0m \u001b[0;34m\u001b[0m\u001b[0m\n",
      "\u001b[0;31mKeyboardInterrupt\u001b[0m: "
     ]
    }
   ],
   "source": [
    "class mini_NN(object):\n",
    "\n",
    "    \"\"\" \n",
    "    input:  x\n",
    "    hidden: h = W_h * x + b_h\n",
    "            g = ReLU(h)\n",
    "    output: o = W_o * g + b_o\n",
    "            p = softmax(o)\n",
    "    \"\"\"\n",
    "\n",
    "    def __init__(self, D, F, K):\n",
    "        self.D = D\n",
    "        self.F = F\n",
    "        self.K = K\n",
    "\n",
    "    def init_weights(self):\n",
    "        # getting random parameters using Xaiver initialization scheme\n",
    "        self.W_h = np.random.normal(0, np.sqrt(2.0/(self.D+self.F)), (self.D, self.F))\n",
    "        self.b_h = np.random.normal(0, np.sqrt(2.0/(self.D+self.F)), self.F) \n",
    "        self.W_o = np.random.normal(0, np.sqrt(2.0/(self.F+self.K)), (self.F, self.K))\n",
    "        self.b_o = np.random.normal(0, np.sqrt(2.0/(self.F+self.K)), self.K)\n",
    "    \n",
    "    def feedforward(self, X):\n",
    "        # python can dynamically create attributes\n",
    "        self.H = computeLayer(X, self.W_h, self.b_h)\n",
    "        self.G = relu(self.H)\n",
    "        self.O = computeLayer(self.G, self.W_o, self.b_o)\n",
    "        self.P = softmax_batch(self.O)\n",
    "        return self.P\n",
    "    \n",
    "    def backpropagation(self, X, y):\n",
    "        \n",
    "        # This function assumes that feedforward was called before, \n",
    "        # which instantiates the needed activations\n",
    "        \n",
    "        # output layer activations\n",
    "        dL_do = gradCE(y, self.P)\n",
    "\n",
    "        # output layer parameters\n",
    "        dL_dWo = self.G.T @ dL_do\n",
    "        dL_dbo = dL_do\n",
    "\n",
    "        # hidden layer activations\n",
    "        dL_dg = dL_do @ self.W_o.T\n",
    "        dL_dh = ((dL_dg > 0) * 1).astype(np.float64)\n",
    "\n",
    "        # hidden layer parameters\n",
    "        dL_dWh = X.T @ dL_dh\n",
    "        dL_dbh = dL_dh\n",
    "        \n",
    "        return dL_dWo/X.shape[0] , dL_dbo.mean(axis=0), dL_dWh/X.shape[0], dL_dbh.mean(axis=0)\n",
    "\n",
    "    def train(self, X, y, epochs=200, gamma=0.99, alpha=1e-5, F=1000,\n",
    "             validData=None, validTarget=None, testData=None, testTarget=None):\n",
    "        # initializations\n",
    "        self.F = F\n",
    "        self.init_weights()\n",
    "        \n",
    "        train_loss, train_acc = [], []\n",
    "        valid_loss, valid_acc = [], []\n",
    "        test_loss, test_acc = [], []\n",
    "        \n",
    "        v_Wo, v_bo, v_Wh, v_bh = 0, 0, 0, 0\n",
    "        \n",
    "        for e in range(epochs):\n",
    "            if e > 0:\n",
    "                print(f\"epoch: {e+1}\\tloss: {train_loss[-1]:.4f}\\tacc: {train_acc[-1]:.4f}\")\n",
    "            else:\n",
    "                print(\"epoch:\", e+1)\n",
    "            \n",
    "            p = self.feedforward(X)\n",
    "            train_loss.append( CE(p, y) )\n",
    "            train_acc.append( accuracy(p, y) )\n",
    "            \n",
    "            dL_dWo, dL_dbo, dL_dWh, dL_dbh = self.backpropagation(X, y)\n",
    "            \n",
    "            v_Wo = gamma * v_Wo + alpha * dL_dWo\n",
    "            self.W_o -= v_Wo\n",
    "            \n",
    "            v_bo = gamma * v_bo + alpha * dL_dbo\n",
    "            self.b_o -= v_bo\n",
    "            \n",
    "            v_Wh = gamma * v_Wh + alpha * dL_dWh\n",
    "            self.W_h -= v_Wh\n",
    "            \n",
    "            v_bh = gamma * v_bh + alpha * dL_dbh\n",
    "            self.b_h -= v_bh\n",
    "        \n",
    "        statistics = (train_loss, train_acc)\n",
    "        if not validData is None and not validTarget is None:\n",
    "            statistics += (valid_loss, valid_acc, )\n",
    "        if not testData is None and not testTarget is None:\n",
    "            statistics += (test_loss, test_acc,)\n",
    "        return statistics\n",
    "\n",
    "X = trainData.reshape(N, d)\n",
    "newtrain, newvalid, newtest = convertOneHot(trainTarget, validTarget, testTarget)\n",
    "print(newtrain)\n",
    "\n",
    "model = mini_NN(d, 100, K)\n",
    "statistics = model.train(X, newtrain, epochs=200)\n",
    "display_statistics(*statistics)"
   ]
  },
  {
   "cell_type": "markdown",
   "metadata": {
    "colab_type": "text",
    "id": "x-ZQgwu8smZd"
   },
   "source": [
    "### 1.4 Hyperparameter Investigation {-}"
   ]
  },
  {
   "cell_type": "code",
   "execution_count": 0,
   "metadata": {
    "colab": {},
    "colab_type": "code",
    "id": "vpEQhw_6smZd"
   },
   "outputs": [],
   "source": []
  },
  {
   "cell_type": "markdown",
   "metadata": {
    "colab_type": "text",
    "id": "fT29MJIQsmZg"
   },
   "source": [
    "\\newpage"
   ]
  },
  {
   "cell_type": "markdown",
   "metadata": {
    "colab_type": "text",
    "id": "rnMRDewwsmZi"
   },
   "source": [
    "# 2 Neural Networks in Tensorflow {-}\n",
    "### 2.1 Model implementation {-}"
   ]
  },
  {
   "cell_type": "code",
   "execution_count": 14,
   "metadata": {
    "colab": {
     "base_uri": "https://localhost:8080/",
     "height": 244
    },
    "colab_type": "code",
    "id": "mDBcLMJOsmZk",
    "outputId": "abec68e3-0537-4c12-878c-24508d2a6c6b"
   },
   "outputs": [
    {
     "name": "stdout",
     "output_type": "stream",
     "text": [
      "WARNING:tensorflow:\n",
      "The TensorFlow contrib module will not be included in TensorFlow 2.0.\n",
      "For more information, please see:\n",
      "  * https://github.com/tensorflow/community/blob/master/rfcs/20180907-contrib-sunset.md\n",
      "  * https://github.com/tensorflow/addons\n",
      "  * https://github.com/tensorflow/io (for I/O related ops)\n",
      "If you depend on functionality not listed there, please file an issue.\n",
      "\n",
      "WARNING:tensorflow:From /usr/local/lib/python3.6/dist-packages/tensorflow_core/python/ops/resource_variable_ops.py:1630: calling BaseResourceVariable.__init__ (from tensorflow.python.ops.resource_variable_ops) with constraint is deprecated and will be removed in a future version.\n",
      "Instructions for updating:\n",
      "If using Keras pass *_constraint arguments to layers.\n"
     ]
    }
   ],
   "source": [
    "# load + reshape data\n",
    "trainData, validData, testData, trainTarget, validTarget, testTarget = loadData()\n",
    "trainData = trainData.reshape(15000,28,28,1)\n",
    "validData = validData.reshape(1000,28,28,1)\n",
    "testData = testData.reshape(2724,28,28,1)\n",
    "# one-hot encode\n",
    "train_labels, valid_labels, test_labels = convertOneHot(trainTarget, validTarget, testTarget)\n",
    "\n",
    "# training params\n",
    "learning_rate = 0.0001\n",
    "epochs = 50\n",
    "batch_size = 32\n",
    "\n",
    "# create model\n",
    "model = models.Sequential()\n",
    "model.add(layers.InputLayer(input_shape=(28, 28,1)))    # input layer\n",
    "model.add(layers.Conv2D(                                                        # conv layer\n",
    "        filters=32,\n",
    "        strides=(1,1),\n",
    "        kernel_size=[3, 3],\n",
    "        padding=\"same\",\n",
    "        activation='relu',\n",
    "        kernel_initializer=tf.contrib.layers.xavier_initializer(uniform=False)))\n",
    "model.add(layers.BatchNormalization())                                          # batch norm\n",
    "model.add(layers.MaxPooling2D((2, 2)))                                          # max pooling\n",
    "model.add(layers.Flatten())                                                     # flatten\n",
    "model.add(layers.Dense(784, activation='relu'))                                 # fully-connected 784 w/ ReLu\n",
    "model.add(layers.Dense(10))                                                     # fully-connected 10\n",
    "model.add(layers.Softmax())                                                     # softmax output\n",
    "\n",
    "# print model summary\n",
    "# model.summary()\n",
    "\n",
    "# compile model w/ Adam optimizer + cross entropy loss\n",
    "model.compile(optimizer=tf.keras.optimizers.Adam(lr=learning_rate),\n",
    "              loss=tf.keras.losses.CategoricalCrossentropy(from_logits=True),\n",
    "              metrics=['accuracy'])\n"
   ]
  },
  {
   "cell_type": "markdown",
   "metadata": {
    "colab_type": "text",
    "id": "BGUTpe5YsmZ2"
   },
   "source": [
    "### 2.2 Model Training {-}"
   ]
  },
  {
   "cell_type": "code",
   "execution_count": 15,
   "metadata": {
    "colab": {
     "base_uri": "https://localhost:8080/",
     "height": 475
    },
    "colab_type": "code",
    "id": "VfNPq4zLsmZ5",
    "outputId": "31232291-de1f-429c-a345-2d2ad65cf1c1"
   },
   "outputs": [
    {
     "name": "stdout",
     "output_type": "stream",
     "text": [
      "Training loss: 1.4814\t\tTraining acc: 97.97%\n",
      "Validation loss: 1.5199\tValidation acc: 94.1%\n",
      "Testing loss: 1.5274\tTesting acc: 93.28%\n"
     ]
    },
    {
     "data": {
      "image/png": "[encoded data removed]",
      "text/plain": [
       "<Figure size 1296x432 with 2 Axes>"
      ]
     },
     "metadata": {
      "tags": []
     },
     "output_type": "display_data"
    }
   ],
   "source": [
    "# callback to test after each epoch\n",
    "class TestCallback(tf.keras.callbacks.Callback):\n",
    "    def __init__(self, test_data):\n",
    "        self.test_data = test_data\n",
    "        self.test_acc = []\n",
    "        self.test_loss = []\n",
    "\n",
    "    def on_epoch_end(self, epoch, logs=None):\n",
    "        # perform a test per epoch\n",
    "        x, y = self.test_data\n",
    "        loss, acc = self.model.evaluate(x, y, verbose=0, batch_size=32)\n",
    "        self.test_loss.append(loss)\n",
    "        self.test_acc.append(acc)\n",
    "        # append to returned dictionary\n",
    "        logs[\"test_loss\"] = self.test_loss\n",
    "        logs[\"test_acc\"] = self.test_acc\n",
    "\n",
    "\n",
    "# train\n",
    "history = model.fit(trainData, train_labels, \n",
    "                    validation_data = (validData, valid_labels),\n",
    "                    epochs=epochs, \n",
    "                    batch_size=batch_size,\n",
    "                    callbacks=[TestCallback((testData, test_labels))],\n",
    "                    verbose=0,  # 0 = silent, 1 = per epoch \n",
    "                    shuffle=True)\n",
    "\n",
    "# print(history.history)\n",
    "\n",
    "# plot accuracy + loss\n",
    "train_acc = history.history[\"acc\"]\n",
    "val_acc = history.history[\"val_acc\"]\n",
    "test_acc = history.history[\"test_acc\"][0]\n",
    "train_loss = history.history[\"loss\"]\n",
    "val_loss = history.history[\"val_loss\"]\n",
    "test_loss = history.history[\"test_loss\"][0]\n",
    "\n",
    "statistics = (train_loss, train_acc, valid_loss, valid_acc, test_loss, test_acc)\n",
    "display_statistics(*statistics)"
   ]
  },
  {
   "cell_type": "markdown",
   "metadata": {
    "colab_type": "text",
    "id": "mhSEXOxSsmZ8"
   },
   "source": [
    "### 2.3 Hyperparameter Investigation {-}"
   ]
  },
  {
   "cell_type": "code",
   "execution_count": 16,
   "metadata": {
    "colab": {
     "base_uri": "https://localhost:8080/",
     "height": 323
    },
    "colab_type": "code",
    "id": "WgIYCgEvsmbz",
    "outputId": "212c6da3-01bd-4e2c-90fa-9f1b7ec5a804"
   },
   "outputs": [
    {
     "name": "stdout",
     "output_type": "stream",
     "text": [
      "\n",
      "L2 Normalization with 0.01\n",
      "\n",
      "Training loss: 1.5333\t\tTraining acc: 97.11%\n",
      "Validation loss: 1.5669\t\tValidation acc: 93.7%\n",
      "Testing loss: 1.5711\t\tTesting acc: 93.14%\n",
      "\n",
      "L2 Normalization with 0.1\n",
      "\n",
      "Training loss: 1.6085\t\tTraining acc: 92.58%\n",
      "Validation loss: 1.6073\t\tValidation acc: 92.9%\n",
      "Testing loss: 1.6118\t\tTesting acc: 92.11%\n",
      "\n",
      "L2 Normalization with 0.5\n",
      "\n",
      "Training loss: 1.6735\t\tTraining acc: 90.23%\n",
      "Validation loss: 1.669\t\tValidation acc: 89.5%\n",
      "Testing loss: 1.6639\t\tTesting acc: 90.79%\n"
     ]
    }
   ],
   "source": [
    "# 2.3.1: L2 Regularization\n",
    "\n",
    "# training params\n",
    "learning_rate = 0.0001\n",
    "epochs = 50\n",
    "batch_size = 32\n",
    "\n",
    "# test all weight decays [0.01, 0.1, 0.5]\n",
    "for scale in [0.01, 0.1, 0.5]:\n",
    "    print(\"\\nL2 Normalization with {}\\n\".format(scale))\n",
    "\n",
    "    # create model\n",
    "    model = models.Sequential()\n",
    "    model.add(layers.InputLayer(input_shape=(28, 28,1)))    # input layer\n",
    "    model.add(layers.Conv2D(                                                        # conv layer\n",
    "          filters=32,\n",
    "          strides=(1,1),\n",
    "          kernel_size=[3, 3],\n",
    "          padding=\"same\",\n",
    "          activation='relu',\n",
    "          kernel_initializer=tf.contrib.layers.xavier_initializer(uniform=False)))\n",
    "    model.add(layers.BatchNormalization())                                          # batch norm\n",
    "    model.add(layers.MaxPooling2D((2, 2)))                                          # max pooling\n",
    "    model.add(layers.Flatten())                                                     # flatten\n",
    "    model.add(layers.Dense(784, \n",
    "                        activation='relu',\n",
    "                        kernel_regularizer=tf.contrib.layers.l2_regularizer(scale=scale)))                                 # fully-connected 784 w/ ReLu\n",
    "    model.add(layers.Dense(10))                                                     # fully-connected 10\n",
    "    model.add(layers.Softmax())                                                     # softmax output\n",
    "\n",
    "    # compile model w/ Adam optimizer + cross entropy loss\n",
    "    model.compile(optimizer=tf.keras.optimizers.Adam(lr=learning_rate),\n",
    "                loss=tf.keras.losses.CategoricalCrossentropy(from_logits=True),\n",
    "                metrics=['accuracy'])\n",
    "\n",
    "    # train\n",
    "    history_1 = model.fit(trainData, train_labels, \n",
    "                      validation_data = (validData, valid_labels),\n",
    "                      epochs=epochs, \n",
    "                      batch_size=batch_size,\n",
    "                      callbacks=[TestCallback((testData, test_labels))],\n",
    "                      verbose=0,  # 0 = silent, 1 = per epoch \n",
    "                      shuffle=True)\n",
    "    # display stats\n",
    "    train_acc = history_1.history[\"acc\"]\n",
    "    val_acc = history_1.history[\"val_acc\"]\n",
    "    test_acc = history_1.history[\"test_acc\"][0]\n",
    "    train_loss = history_1.history[\"loss\"]\n",
    "    val_loss = history_1.history[\"val_loss\"]\n",
    "    test_loss = history_1.history[\"test_loss\"][0]\n",
    "\n",
    "    statistics = (train_loss, train_acc, valid_loss, valid_acc, test_loss, test_acc)\n",
    "    display_statistics(*statistics)"
   ]
  },
  {
   "cell_type": "code",
   "execution_count": 19,
   "metadata": {
    "colab": {
     "base_uri": "https://localhost:8080/",
     "height": 323
    },
    "colab_type": "code",
    "id": "3i01JSdGsmb9",
    "outputId": "fb2aaa6e-c3c6-4f30-b126-217d33ddee68"
   },
   "outputs": [
    {
     "name": "stdout",
     "output_type": "stream",
     "text": [
      "\n",
      "Dropout with probability 0.1\n",
      "\n",
      "Training loss: 1.4825\t\tTraining acc: 97.86%\n",
      "Validation loss: 1.5235\t\tValidation acc: 93.7%\n",
      "Testing loss: 1.529\t\tTesting acc: 93.14%\n",
      "\n",
      "Dropout with probability 0.25\n",
      "\n",
      "Training loss: 1.479\t\tTraining acc: 98.21%\n",
      "Validation loss: 1.524\t\tValidation acc: 93.6%\n",
      "Testing loss: 1.5286\t\tTesting acc: 93.14%\n",
      "\n",
      "Dropout with probability 0.5\n",
      "\n",
      "Training loss: 1.4801\t\tTraining acc: 98.13%\n",
      "Validation loss: 1.5189\t\tValidation acc: 94.3%\n",
      "Testing loss: 1.5255\t\tTesting acc: 93.54%\n"
     ]
    }
   ],
   "source": [
    "# 2.3.2: Dropout\n",
    "\n",
    "# training params\n",
    "learning_rate = 0.0001\n",
    "epochs = 50\n",
    "batch_size = 32\n",
    "\n",
    "# for rate in [0.9, 0.75, 0.5]:\n",
    "for rate in [0.1, 0.25, 0.5]:\n",
    "    print(\"\\nDropout with probability {}\\n\".format(rate))\n",
    "\n",
    "    # create model\n",
    "    model = models.Sequential()\n",
    "    model.add(layers.InputLayer(input_shape=(28, 28,1)))    # input layer\n",
    "    model.add(layers.Conv2D(                                                        # conv layer\n",
    "          filters=32,\n",
    "          strides=(1,1),\n",
    "          kernel_size=[3, 3],\n",
    "          padding=\"same\",\n",
    "          activation='relu',\n",
    "          kernel_initializer=tf.contrib.layers.xavier_initializer(uniform=False)))\n",
    "    model.add(layers.BatchNormalization())                                          # batch norm\n",
    "    model.add(layers.MaxPooling2D((2, 2)))                                          # max pooling\n",
    "    model.add(layers.Flatten())                                                     # flatten\n",
    "    model.add(layers.Dense(784))                                                    # fully-connected 784 w/ ReLu\n",
    "    model.add(layers.Dropout(rate=rate))                                            # dropout\n",
    "    model.add(layers.ReLU())                                                         # Relu activation\n",
    "    model.add(layers.Dense(10))                                                     # fully-connected 10\n",
    "    model.add(layers.Softmax())                                                     # softmax output\n",
    "\n",
    "    # compile model w/ Adam optimizer + cross entropy loss\n",
    "    model.compile(optimizer=tf.keras.optimizers.Adam(lr=learning_rate),\n",
    "                loss=tf.keras.losses.CategoricalCrossentropy(from_logits=True),\n",
    "                metrics=['accuracy'])\n",
    "\n",
    "    # train\n",
    "    history_2 = model.fit(trainData, train_labels, \n",
    "                      validation_data = (validData, valid_labels),\n",
    "                      epochs=epochs, \n",
    "                      batch_size=batch_size,\n",
    "                      callbacks=[TestCallback((testData, test_labels))],\n",
    "                      verbose=0,  # 0 = silent, 1 = per epoch \n",
    "                      shuffle=True)\n",
    "    # display stats\n",
    "    train_acc = history_2.history[\"acc\"]\n",
    "    val_acc = history_2.history[\"val_acc\"]\n",
    "    test_acc = history_2.history[\"test_acc\"][0]\n",
    "    train_loss = history_2.history[\"loss\"]\n",
    "    val_loss = history_2.history[\"val_loss\"]\n",
    "    test_loss = history_2.history[\"test_loss\"][0]\n",
    "\n",
    "    statistics = (train_loss, train_acc, valid_loss, valid_acc, test_loss, test_acc)\n",
    "    display_statistics(*statistics)"
   ]
  },
  {
   "cell_type": "code",
   "execution_count": 0,
   "metadata": {
    "colab": {},
    "colab_type": "code",
    "id": "-Lwx5MI9SN7X"
   },
   "outputs": [],
   "source": []
  }
 ],
 "metadata": {
  "accelerator": "GPU",
  "colab": {
   "collapsed_sections": [],
   "name": "A2 WriteUp.ipynb",
   "provenance": []
  },
  "kernelspec": {
   "display_name": "Python 3",
   "language": "python",
   "name": "python3"
  },
  "language_info": {
   "codemirror_mode": {
    "name": "ipython",
    "version": 3
   },
   "file_extension": ".py",
   "mimetype": "text/x-python",
   "name": "python",
   "nbconvert_exporter": "python",
   "pygments_lexer": "ipython3",
   "version": "3.7.3"
  }
 },
 "nbformat": 4,
 "nbformat_minor": 1
}
