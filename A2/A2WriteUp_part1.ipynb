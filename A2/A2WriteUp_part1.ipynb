{
 "cells": [
  {
   "cell_type": "markdown",
   "metadata": {
    "colab_type": "text",
    "id": "e8grvLzosmSI"
   },
   "source": [
    "\\newpage"
   ]
  },
  {
   "cell_type": "markdown",
   "metadata": {
    "colab_type": "text",
    "id": "mae1NLFCsmSa"
   },
   "source": [
    "# 0 Setup {-}"
   ]
  },
  {
   "cell_type": "code",
   "execution_count": 1,
   "metadata": {},
   "outputs": [],
   "source": [
    "# ignore all future warnings\n",
    "from warnings import simplefilter\n",
    "simplefilter(action='ignore', category=FutureWarning)"
   ]
  },
  {
   "cell_type": "code",
   "execution_count": 2,
   "metadata": {
    "colab": {
     "base_uri": "https://localhost:8080/",
     "height": 102
    },
    "colab_type": "code",
    "id": "fKYte0AwsmSq",
    "outputId": "907afef2-adfb-4dbf-9675-ceddb3aae92a"
   },
   "outputs": [],
   "source": [
    "# importing tensorflow\n",
    "try:\n",
    "    import google.colab\n",
    "    import tensorflow as tf\n",
    "    %tensorflow_version 1.13\n",
    "except:\n",
    "    import tensorflow as tf\n",
    "    assert tf.__version__ == \"1.13.1\"\n",
    "    \n",
    "    # ignore tensorflow depreciation warnings\n",
    "    import tensorflow.python.util.deprecation as deprecation\n",
    "    deprecation._PRINT_DEPRECATION_WARNINGS = False"
   ]
  },
  {
   "cell_type": "code",
   "execution_count": 3,
   "metadata": {
    "colab": {},
    "colab_type": "code",
    "id": "bTICRe_QsmTe"
   },
   "outputs": [],
   "source": [
    "# imports\n",
    "import numpy as np\n",
    "import matplotlib.pyplot as plt\n",
    "from tensorflow.keras import layers, models"
   ]
  },
  {
   "cell_type": "markdown",
   "metadata": {
    "colab_type": "text",
    "id": "xfmOfJwRsmUi"
   },
   "source": [
    "## 0.1 Visualizing the Dataset {-}"
   ]
  },
  {
   "cell_type": "code",
   "execution_count": 4,
   "metadata": {
    "colab": {},
    "colab_type": "code",
    "id": "uGUfH4HCsmUj"
   },
   "outputs": [],
   "source": [
    "# given by the assignment\n",
    "def loadData():\n",
    "    with np.load(\"notMNIST.npz\") as data:\n",
    "        Data, Target = data [\"images\"], data[\"labels\"]\n",
    "        np.random.seed(521)\n",
    "        randIndx = np.arange(len(Data))\n",
    "        np.random.shuffle(randIndx)\n",
    "        Data = Data[randIndx]/255.\n",
    "        Target = Target[randIndx]\n",
    "        trainData, trainTarget = Data[:15000], Target[:15000]\n",
    "        validData, validTarget = Data[15000:16000], Target[15000:16000]\n",
    "        testData, testTarget = Data[16000:], Target[16000:]\n",
    "    return trainData, validData, testData, trainTarget, validTarget, testTarget"
   ]
  },
  {
   "cell_type": "markdown",
   "metadata": {
    "colab_type": "text",
    "id": "u-FP2WmKsmUr"
   },
   "source": [
    "\\newpage"
   ]
  },
  {
   "cell_type": "code",
   "execution_count": 5,
   "metadata": {
    "colab": {
     "base_uri": "https://localhost:8080/",
     "height": 68
    },
    "colab_type": "code",
    "id": "sqXNLSxesmUt",
    "outputId": "20dfcba7-8f8d-4c5c-ca16-43f108179c97"
   },
   "outputs": [
    {
     "name": "stdout",
     "output_type": "stream",
     "text": [
      "Training Data: (15000, 28, 28)\tTraining tagets: (15000,)\n",
      "Validation Data: (1000, 28, 28)\tValidation tagets: (1000,)\n",
      "Testing Data: (2724, 28, 28)\tTesting tagets:(2724,)\n"
     ]
    }
   ],
   "source": [
    "trainData, validData, testData, trainTarget, validTarget, testTarget = loadData()\n",
    "print(f\"Training Data: {trainData.shape}\\tTraining tagets: {trainTarget.shape}\")\n",
    "print(f\"Validation Data: {validData.shape}\\tValidation tagets: {validTarget.shape}\")\n",
    "print(f\"Testing Data: {testData.shape}\\tTesting tagets:{testTarget.shape}\")"
   ]
  },
  {
   "cell_type": "code",
   "execution_count": 6,
   "metadata": {
    "colab": {},
    "colab_type": "code",
    "id": "7jucjS5asmU4"
   },
   "outputs": [],
   "source": [
    "def plot(image, target, ax=None):\n",
    "    ax = plt.gca() if ax == None else ax\n",
    "    ax.imshow(image, cmap=plt.cm.gray)\n",
    "    target_names = ['A', 'B', 'C', 'D', 'E', 'F', 'G', 'H', 'I', 'J']\n",
    "    ax.set_title(target_names[target])\n",
    "    # targets interger encoded from 0 to 9 corresponding to 'A' to 'J', respectively"
   ]
  },
  {
   "cell_type": "code",
   "execution_count": 7,
   "metadata": {
    "colab": {
     "base_uri": "https://localhost:8080/",
     "height": 396
    },
    "colab_type": "code",
    "id": "xjp0OnvVsmVf",
    "outputId": "4e3ec1d3-f910-4848-d221-8a15f1f366b4"
   },
   "outputs": [
    {
     "data": {
      "image/png": "[encoded data removed]",
      "text/plain": [
       "<Figure size 1152x360 with 10 Axes>"
      ]
     },
     "metadata": {
      "needs_background": "light"
     },
     "output_type": "display_data"
    }
   ],
   "source": [
    "fig, axis = plt.subplots(2, 5, figsize=(16, 5))\n",
    "for ax in axis.reshape(-1):\n",
    "    r = np.random.randint(trainData.shape[0])\n",
    "    plot(trainData[r], trainTarget[r], ax=ax)\n",
    "plt.show()"
   ]
  },
  {
   "cell_type": "markdown",
   "metadata": {
    "colab_type": "text",
    "id": "BmFy3s4VsmVj"
   },
   "source": [
    "\\newpage"
   ]
  },
  {
   "cell_type": "markdown",
   "metadata": {
    "colab_type": "text",
    "id": "FBu2xF18smVk"
   },
   "source": [
    "## 0.2 Useful Functions {-}\n",
    "\n",
    "Some useful functions that will be used throughout the assignment such as getting random weights, getting the accuracy of a batch, making the loss and accuracy plots look nice, and global variables used throughout the code"
   ]
  },
  {
   "cell_type": "code",
   "execution_count": 8,
   "metadata": {
    "colab": {},
    "colab_type": "code",
    "id": "yMWn3b13smVl"
   },
   "outputs": [],
   "source": [
    "# given by the assignment\n",
    "def convertOneHot(trainTarget, validTarget, testTarget):\n",
    "    newtrain = np.zeros((trainTarget.shape[0], 10))\n",
    "    newvalid = np.zeros((validTarget.shape[0], 10))\n",
    "    newtest = np.zeros((testTarget.shape[0], 10))\n",
    "    for item in range(0, trainTarget.shape[0]):\n",
    "        newtrain[item][trainTarget[item]] = 1\n",
    "    for item in range(0, validTarget.shape[0]):\n",
    "        newvalid[item][validTarget[item]] = 1\n",
    "    for item in range(0, testTarget.shape[0]):\n",
    "        newtest[item][testTarget[item]] = 1\n",
    "    return newtrain, newvalid, newtest"
   ]
  },
  {
   "cell_type": "code",
   "execution_count": 9,
   "metadata": {
    "colab": {},
    "colab_type": "code",
    "id": "28F3a7ILsmVq"
   },
   "outputs": [],
   "source": [
    "def accuracy(y_pred, y):\n",
    "    if y_pred.shape != y.shape:\n",
    "        raise ValueError(f\"prediction dimension {y_pred.shape} and label dimensions {y.shape} don't match\")\n",
    "    return np.sum(y_pred.argmax(axis=1) == y.argmax(axis=1)) / y.shape[0]"
   ]
  },
  {
   "cell_type": "code",
   "execution_count": 10,
   "metadata": {
    "colab": {},
    "colab_type": "code",
    "id": "ashJmn_csmVv"
   },
   "outputs": [],
   "source": [
    "def plot_loss(x, train_loss=None, valid_loss=None, test_loss=None, title=None, ax=None):\n",
    "    ax = plt.gca() if ax == None else ax\n",
    "    if train_loss != None:\n",
    "        ax.plot(x, train_loss, label=\"Training Loss\")\n",
    "    if valid_loss != None:\n",
    "        ax.plot(x, valid_loss, label=\"Validation Loss\")\n",
    "    if test_loss != None:\n",
    "        ax.plot(x, test_loss, label=\"Testing Loss\")\n",
    "    \n",
    "    ax.set_title(\"Loss\" if title == None else title)\n",
    "    \n",
    "    ax.set_xlabel(\"Iterations\")\n",
    "    ax.set_xlim(left=0)\n",
    "    ax.set_ylabel(\"Loss\")\n",
    "    ax.set_ylim(bottom=0)\n",
    "    ax.legend(loc=\"upper right\")\n",
    "\n",
    "def plot_accuracy(x, train_accuracy=None, valid_accuracy=None, test_accuracy=None, title=None, ax=None):\n",
    "    ax = plt.gca() if ax == None else ax\n",
    "    if train_accuracy != None:\n",
    "        ax.plot(x, train_accuracy, label=\"Training Accuracy\")\n",
    "    if valid_accuracy != None:\n",
    "        ax.plot(x, valid_accuracy, label=\"Validation Accuracy\")\n",
    "    if test_accuracy != None:\n",
    "        ax.plot(x, test_accuracy, label=\"Testing Accuracy\")\n",
    "    \n",
    "    ax.set_title(\"Accuracy\" if title == None else title)\n",
    "\n",
    "    ax.set_xlabel(\"Iterations\")\n",
    "    ax.set_xlim(left=0)\n",
    "    ax.set_ylabel(\"Accuracy\")\n",
    "    ax.set_yticks(np.arange(0, 1.1, step=0.1))\n",
    "    ax.grid(linestyle='-', axis='y')\n",
    "    ax.legend(loc=\"lower right\")\n",
    "    \n",
    "\n",
    "def display_statistics(train_loss=None, train_acc=None, valid_loss=None, valid_acc=None, \n",
    "                       test_loss=None, test_acc=None, num=True, plot=True):\n",
    "    \n",
    "    tl = \"-\" if train_loss is None else round(train_loss[-1], 4)\n",
    "    ta = \"-\" if train_acc is None else round(train_acc[-1]*100, 2)\n",
    "    vl = \"-\\t\" if valid_loss is None else round(valid_loss[-1], 4)\n",
    "    va = \"-\" if valid_acc is None else round(valid_acc[-1]*100, 2)\n",
    "    sl = \"-\\t\\t\" if test_loss is None else round(test_loss[-1], 4)\n",
    "    sa = \"-\" if test_acc is None else round(test_acc[-1]*100, 2)\n",
    "    \n",
    "    if num:\n",
    "        print(f\"Training loss: {tl}{'':.20s}\\t\\tTraining acc: {ta}{'%' if ta != '-' else ''}\")\n",
    "        print(f\"Validation loss: {vl}{'':.20s}\\t\\tValidation acc: {va}{'%' if va != '-' else ''}\")\n",
    "        print(f\"Testing loss: {sl}{'':.20s}\\t\\tTesting acc: {sa}{'%' if sa != '-' else ''}\")\n",
    "    \n",
    "    if plot:\n",
    "        fig, ax = plt.subplots(1, 2, figsize=(18, 6))\n",
    "        plot_loss(np.arange(0, len(train_loss), 1), train_loss, valid_loss, test_loss, ax=ax[0])\n",
    "        plot_accuracy(np.arange(0, len(train_loss), 1), train_acc, valid_acc, test_acc, ax=ax[1])\n",
    "        plt.show()\n",
    "        plt.close()"
   ]
  },
  {
   "cell_type": "code",
   "execution_count": 11,
   "metadata": {
    "colab": {},
    "colab_type": "code",
    "id": "PoI4MFNWsmV-"
   },
   "outputs": [],
   "source": [
    "TINY = 1e-20\n",
    "newtrain, newvalid, newtest = convertOneHot(trainTarget, validTarget, testTarget)\n",
    "VTDatasets = {\"validData\" : validData.reshape(validData.shape[0], -1), \"validTarget\" : newvalid,\n",
    "              \"testData\" : testData.reshape(testData.shape[0], -1), \"testTarget\" : newtest}\n",
    "\n",
    "N = trainData.shape[0]\n",
    "d = trainData.shape[1] * trainData.shape[2]\n",
    "K = 10"
   ]
  },
  {
   "cell_type": "markdown",
   "metadata": {
    "colab_type": "raw",
    "id": "zfAzE4fbsmWG"
   },
   "source": [
    "\\newpage"
   ]
  },
  {
   "cell_type": "markdown",
   "metadata": {
    "colab_type": "text",
    "id": "A8Ynq1N7smWI"
   },
   "source": [
    "# 1 Neural Networks using Numpy {-}\n",
    "## 1.1 Helper Functions {-}"
   ]
  },
  {
   "cell_type": "code",
   "execution_count": 12,
   "metadata": {
    "colab": {},
    "colab_type": "code",
    "id": "_PafMbposmWM"
   },
   "outputs": [],
   "source": [
    "def relu(x):\n",
    "    return np.maximum(0, x)\n",
    "\n",
    "# applies softmax to a single vector\n",
    "def softmax(x):\n",
    "    return np.exp(x) / np.exp(x).sum()\n",
    "\n",
    "# applies softmax to a batch\n",
    "# (more efficient than having a loop and calling the above function)\n",
    "def softmax_batch(X):\n",
    "    return np.exp(X) / np.exp(X).sum(axis=1, keepdims=True)"
   ]
  },
  {
   "cell_type": "code",
   "execution_count": 13,
   "metadata": {
    "colab": {},
    "colab_type": "code",
    "id": "0cvsJxhUsmWf"
   },
   "outputs": [],
   "source": [
    "def computeLayer(X, W, b):\n",
    "    return X @ W.T + b"
   ]
  },
  {
   "cell_type": "code",
   "execution_count": 14,
   "metadata": {
    "colab": {},
    "colab_type": "code",
    "id": "GlfSsDjYsmWi"
   },
   "outputs": [],
   "source": [
    "# note: target is one-hot encoded\n",
    "def averageCE(target, prediction):\n",
    "    return -(target * np.log(prediction+TINY)).sum(axis=1).mean()\n",
    "\n",
    "def gradCE(target, predication):\n",
    "    return predication - target"
   ]
  },
  {
   "cell_type": "markdown",
   "metadata": {},
   "source": [
    "\\newpage"
   ]
  },
  {
   "cell_type": "markdown",
   "metadata": {
    "colab_type": "text",
    "id": "g_E8SCY9smZK"
   },
   "source": [
    "## 1.2 Backpropagation Derivation {-} \n",
    "The code application of the following derivation is given in the next section."
   ]
  },
  {
   "cell_type": "markdown",
   "metadata": {
    "colab_type": "text",
    "id": "naXnc058smZL"
   },
   "source": [
    "#### Derivative of Softmax\n",
    "$\\,$\n",
    "\n",
    "$p_i = \\texttt{softmax}(\\textbf{o})_i = \\frac{e^{o_i}}{\\sum_{k=1}^K e^{o_k}}$\n",
    "\n",
    "$\\quad \\quad \\quad \\text{if  } i \\neq j$\n",
    "$$\\frac{\\partial p_j}{\\partial o_i} = \\frac{0 \\cdot \\sum_{k=1}^K e^{o_k} - e^{o_i} \\cdot e^{o_j}}{\\left(\\sum_{k=1}^K e^{o_k}\\right)^2} = \\boxed{- p_i \\cdot p_j}$$\n",
    "\n",
    "$\\quad \\quad \\quad \\text{if  } i = j$\n",
    "$$\\frac{\\partial p_j}{\\partial o_i} = \\frac{e^{o_i} \\cdot \\sum_{k=1}^K e^{o_k} - e^{o_i} \\cdot e^{o_j}}{\\left(\\sum_{k=1}^K e^{o_k}\\right)^2} = \\boxed{(1 - p_j) \\cdot p_i}$$"
   ]
  },
  {
   "cell_type": "markdown",
   "metadata": {
    "colab_type": "text",
    "id": "cMd3CO4AsmZM"
   },
   "source": [
    "#### Derivative of Softmax + Cross Entropy Loss\n",
    "$\\,$\n",
    "\n",
    "$L_{CE}(\\textbf{y}, \\textbf{p}) = -\\sum_{k=1}^{K} y_k \\log{p_k}$\n",
    "\n",
    "$$ \\frac{\\partial L_{CE}}{\\partial o_i} =  -\\sum_{k=1}^{K} \\frac{y_k}{p_k} \\cdot \\frac{\\partial p_k}{\\partial o_i} = -y_i(1 - p_i) - \\sum_{k \\neq i} \\frac{y_k}{p_k} \\cdot (-p_k p_i) = -y_i + y_ip_i + \\sum_{k \\neq i} y_k p_i = -y_i + p_i \\cdot \\sum_{k=1}^K y_k = p_i - y_i$$\n",
    "\n",
    "In Vector Form: $\\boxed{\\frac{\\partial L_{CE}}{\\partial \\textbf{o}} = \\textbf{p} - \\textbf{y}}$"
   ]
  },
  {
   "cell_type": "markdown",
   "metadata": {
    "colab_type": "text",
    "id": "iTa10muVsmZN"
   },
   "source": [
    "#### Remaining Backpropogation\n",
    "$\\,$\n",
    "\n",
    "$\\textbf{o} = W_o \\textbf{g} + \\textbf{b}_o$\n",
    "\n",
    "$$\\frac{\\partial L}{\\partial W_o} = \\frac{\\partial L}{\\partial \\textbf{o}} \\cdot \\left(\\frac{\\partial \\textbf{o}}{\\partial W_o}\\right)^T = \\frac{\\partial L}{\\partial \\textbf{o}} \\cdot \\textbf{g}^T      \\qquad \\qquad      \\frac{\\partial L}{\\partial \\textbf{b}_o} = \\frac{\\partial L}{\\partial \\textbf{o}} \\cdot \\left(\\frac{\\partial \\textbf{o}}{\\partial \\textbf{b}_o}\\right)^T = \\frac{\\partial L}{\\partial \\textbf{o}}$$\n",
    "\n",
    "$g_i = \\texttt{ReLU}(h_i) = \\texttt{max}(h_i, 0)$\n",
    "\n",
    "$$\\frac{\\partial L}{\\partial h_i} = \\frac{\\partial L}{\\partial g_i} \\cdot \\frac{\\partial g_i}{\\partial h_i} = \\begin{cases} \\frac{\\partial L}{\\partial g_i} &\\text{if } h_i > 0 \\\\ 0 &\\text{if } h_i < 0 \\end{cases}$$\n",
    "\n",
    "$\\textbf{h} = W_h \\textbf{x} + \\textbf{b}_h$\n",
    "\n",
    "$$\\frac{\\partial L}{\\partial W_h} = \\frac{\\partial L}{\\partial \\textbf{h}} \\cdot \\left(\\frac{\\partial \\textbf{h}}{\\partial W_h}\\right)^T = \\frac{\\partial L}{\\partial \\textbf{h}} \\cdot \\textbf{x}^T       \\qquad \\qquad      \\frac{\\partial L}{\\partial \\textbf{b}_h} = \\frac{\\partial L}{\\partial \\textbf{h}} \\cdot \\left(\\frac{\\partial \\textbf{h}}{\\partial \\textbf{b}_h}\\right)^T = \\frac{\\partial L}{\\partial \\textbf{h}}$$"
   ]
  },
  {
   "cell_type": "markdown",
   "metadata": {},
   "source": [
    "\\newpage"
   ]
  },
  {
   "cell_type": "markdown",
   "metadata": {
    "colab_type": "text",
    "id": "5UgNSpAHsmZO"
   },
   "source": [
    "## 1.3 Learning {-}"
   ]
  },
  {
   "cell_type": "code",
   "execution_count": 16,
   "metadata": {
    "colab": {
     "base_uri": "https://localhost:8080/",
     "height": 579
    },
    "colab_type": "code",
    "id": "H9Ndq6QSsmZP",
    "outputId": "f8d55c52-11f4-4226-e9f2-8e1cde459941"
   },
   "outputs": [],
   "source": [
    "class mini_NN(object):\n",
    "\n",
    "    \"\"\" \n",
    "    Network Structure:\n",
    "        input:  x\n",
    "        hidden: h = W_h * x + b_h\n",
    "                g = ReLU(h)\n",
    "        output: o = W_o * g + b_o\n",
    "                p = softmax(o)\n",
    "    \"\"\"\n",
    "\n",
    "    def __init__(self, D, F, K):\n",
    "        # D, F, and K are the number of neurons in the input, hidden, and output layers\n",
    "        self.D, self.F, self.K = D, F, K\n",
    "        self.init_weights()\n",
    "\n",
    "    def init_weights(self):\n",
    "        # getting random parameters using Xaiver initialization scheme\n",
    "        self.W_h = np.random.normal(0, np.sqrt(2.0/(self.D+self.F)), (self.F, self.D))\n",
    "        self.b_h = np.random.normal(0, np.sqrt(2.0/(self.D+self.F)), self.F) \n",
    "        self.W_o = np.random.normal(0, np.sqrt(2.0/(self.F+self.K)), (self.K, self.F))\n",
    "        self.b_o = np.random.normal(0, np.sqrt(2.0/(self.F+self.K)), self.K)\n",
    "    \n",
    "    def feedforward(self, X):\n",
    "        # python can dynamically create attributes\n",
    "        self.H = computeLayer(X, self.W_h, self.b_h)\n",
    "        self.G = relu(self.H)\n",
    "        self.O = computeLayer(self.G, self.W_o, self.b_o)\n",
    "        self.P = softmax_batch(self.O)\n",
    "        return self.P\n",
    "    \n",
    "    def backpropagation(self, X, y):\n",
    "\n",
    "        # This function assumes that feedforward was called before, \n",
    "        # which instantiates the needed activations\n",
    "        \n",
    "        # output layer activations\n",
    "        dL_do = gradCE(y, self.P)\n",
    "\n",
    "        # output layer parameters\n",
    "        dL_dWo = dL_do.T @ self.G\n",
    "        dL_dbo = dL_do\n",
    "\n",
    "        # hidden layer activations\n",
    "        dL_dg = dL_do @ self.W_o \n",
    "        dL_dh = dL_dg.copy()\n",
    "        dL_dh[self.H <= 0] = 0\n",
    "\n",
    "        # hidden layer parameters\n",
    "        dL_dWh = dL_dh.T @ X\n",
    "        dL_dbh = dL_dh\n",
    "        \n",
    "        return dL_dWo , dL_dbo.sum(axis=0), dL_dWh, dL_dbh.sum(axis=0)\n",
    "\n",
    "    def train(self, X, y, epochs=200, gamma=0.99, alpha=1e-5, F=None,\n",
    "              validData=None, validTarget=None, testData=None, testTarget=None):\n",
    "        # initializations\n",
    "        self.F = self.F if F is None else F\n",
    "        self.init_weights()\n",
    "        \n",
    "        train_loss, train_acc = [], []\n",
    "        valid_loss, valid_acc = [], []\n",
    "        test_loss, test_acc = [], []\n",
    "        \n",
    "        v_Wo, v_Wh = 0, 0\n",
    "        \n",
    "        for e in range(epochs):\n",
    "            # getting predictions\n",
    "            p = self.feedforward(X)\n",
    "            train_loss.append( averageCE(p, y) )\n",
    "            train_acc.append( accuracy(p, y) )\n",
    "            \n",
    "            # getting gradients\n",
    "            dL_dWo, dL_dbo, dL_dWh, dL_dbh = self.backpropagation(X, y)\n",
    "            \n",
    "            # updating parameters\n",
    "            v_Wo = gamma * v_Wo + alpha * dL_dWo\n",
    "            self.W_o -= v_Wo\n",
    "            \n",
    "            self.b_o -= alpha * dL_dbo\n",
    "            \n",
    "            v_Wh = gamma * v_Wh + alpha * dL_dWh\n",
    "            self.W_h -= v_Wh\n",
    "            \n",
    "            self.b_h -= alpha * dL_dbh\n",
    "            \n",
    "            # calculating statistics\n",
    "            if not validData is None and not validTarget is None:\n",
    "                p = self.feedforward(validData)\n",
    "                valid_loss.append(averageCE(p, validTarget))\n",
    "                valid_acc.append(accuracy(p, validTarget))\n",
    "            if not testData is None and not testTarget is None:\n",
    "                p = self.feedforward(testData)\n",
    "                test_loss.append(averageCE(p, testTarget))\n",
    "                test_acc.append(accuracy(p, testTarget))\n",
    "        \n",
    "        statistics = (train_loss, train_acc)\n",
    "        if not validData is None and not validTarget is None:\n",
    "            statistics += (valid_loss, valid_acc, )\n",
    "        if not testData is None and not testTarget is None:\n",
    "            statistics += (test_loss, test_acc,)\n",
    "        return statistics"
   ]
  },
  {
   "cell_type": "code",
   "execution_count": 17,
   "metadata": {},
   "outputs": [
    {
     "name": "stdout",
     "output_type": "stream",
     "text": [
      "Training loss: 0.2957\t\tTraining acc: 99.73%\n",
      "Validation loss: 3.6131\tValidation acc: 92.6%\n",
      "Testing loss: 3.9853\tTesting acc: 91.74%\n"
     ]
    },
    {
     "data": {
      "image/png": "[encoded data removed]",
      "text/plain": [
       "<Figure size 1296x432 with 2 Axes>"
      ]
     },
     "metadata": {
      "needs_background": "light"
     },
     "output_type": "display_data"
    },
    {
     "name": "stdout",
     "output_type": "stream",
     "text": [
      "Time is 372.057715177536.\n"
     ]
    }
   ],
   "source": [
    "# For investigation, analyze how long each hyperparameter set takes to train\n",
    "import time\n",
    "\n",
    "X, y = trainData.reshape(N, d), newtrain\n",
    "F = 1000  # hidden unit size\n",
    "model = mini_NN(d, F, K)\n",
    "\n",
    "start = time.time()\n",
    "statistics = model.train(X, y, epochs=200, gamma=0.99, alpha=1e-5, **VTDatasets)\n",
    "end = time.time()\n",
    "\n",
    "display_statistics(*statistics)\n",
    "print(f\"Time is {end - start}.\")"
   ]
  },
  {
   "cell_type": "markdown",
   "metadata": {},
   "source": [
    "## 1.4 Hyperparameter Investigation {-}\n",
    "The following hyperparameter search was done on google colab using code similar to the snippet above, but with the corresponding hyperparameters changed."
   ]
  },
  {
   "cell_type": "markdown",
   "metadata": {},
   "source": [
    "### 1.4.1 Number of Hidden Units {-}\n",
    "\n",
    "$\\textbf{Number of hidden units: 100}$\n",
    "\n",
    "|Statistic | Value | | Statistic | Value |\n",
    "|:---|---:|---|:---|---:|\n",
    "| Training loss:| 4.6824\t|\t|Training acc:|92.31%|\n",
    "| Validation loss:| 5.5578\t |   |Validation acc:|89.8%|\n",
    "| Testing loss:| 5.7423\t |  |Testing acc:|89.46%|\n",
    "| Training Time(s):| 42.705"
   ]
  },
  {
   "cell_type": "markdown",
   "metadata": {},
   "source": [
    "**Comments**: Accuracy seems to have converged by 50 iterations. Training this network with 100 hidden units was the fastest of the three. This is likely because there were very few parameters to optimize."
   ]
  },
  {
   "cell_type": "markdown",
   "metadata": {},
   "source": [
    "$\\textbf{Number of hidden units: 500}$\n",
    "\n",
    "Statistic | Value | | Statistic | Value \n",
    ":---|---:|---|:---|---:\n",
    "Training loss: |0.7009\t|\t|Training acc: |99.36%\n",
    "Validation loss: |3.894\t  |  |Validation acc: |91.9%\n",
    "Testing loss: |4.1808\t  |  |Testing acc: |91.19%\n",
    "Training Time(s): |176.361"
   ]
  },
  {
   "cell_type": "markdown",
   "metadata": {},
   "source": [
    "**Comments**: Accuracy seems to have converged by 50 iterations. Training this network with 500 hidden units was slower than with 100 units, but the validation/testing accuracies showed slight improvement. Further, Training loss and training accuracy near perfection. Since this trend is not matched by validation/testing accuracies, we see that the network is overfitting as it is learning the training examples too well."
   ]
  },
  {
   "cell_type": "markdown",
   "metadata": {},
   "source": [
    "$\\textbf{Number of hidden units: 2000}$\n",
    "\n",
    "Statistic | Value | | Statistic | Value \n",
    ":---|---:|---|:---|---:\n",
    "Training loss: |0.2303\t||\tTraining acc: |99.82%\n",
    "Validation loss:| 3.3766||\t    Validation acc: |93.0%\n",
    "Testing loss: |3.8814\t ||   Testing acc: |91.85%\n",
    "Training Time(s): |645.494"
   ]
  },
  {
   "cell_type": "markdown",
   "metadata": {},
   "source": [
    "**Comments**: Accuracy seems to have convered by 50 iterations. Training this network with 2000 hidden units was considerably slower than both other networks, depite nearly identical validation/testing accuracies. Training loss and training accuracy are essentially perfect by the end of 200 epochs. Since this trend is not matched by validation/testing accuracies, we see that the network is overfitting considerably. It has essentially memorized the training examples, but can not generalize as well (beyond the performance attained by smaller networks) to validation/testing data.\n",
    "\n",
    "**General comments**: Also, the small bump and incresae in loss before once again decreasing suggest that the parameters went through a local minimum before converging. Momentum likely helped it converge faster as it doesn't appear to have gotten stuck in the local min. The smaller networks trained considerably faster, but had lower accuracy (even though the difference was very small). The larger networks clearly overfit the training data; this indicates that they are too complex for their classification tasks and/or the input data should be improved.\n",
    "\n",
    "### 1.4.2 Early Stopping {-}\n",
    "From the plots, we observe that training should have stopped at an early stopping point of 50 iterations. Beyond this point, there is very little improvement in either validation/testing losses or accuracies."
   ]
  },
  {
   "cell_type": "markdown",
   "metadata": {},
   "source": [
    "\\newpage"
   ]
  }
 ],
 "metadata": {
  "accelerator": "GPU",
  "colab": {
   "collapsed_sections": [],
   "name": "A2 WriteUp.ipynb",
   "provenance": []
  },
  "kernelspec": {
   "display_name": "Python 3",
   "language": "python",
   "name": "python3"
  },
  "language_info": {
   "codemirror_mode": {
    "name": "ipython",
    "version": 3
   },
   "file_extension": ".py",
   "mimetype": "text/x-python",
   "name": "python",
   "nbconvert_exporter": "python",
   "pygments_lexer": "ipython3",
   "version": "3.7.3"
  }
 },
 "nbformat": 4,
 "nbformat_minor": 1
}
